{
 "cells": [
  {
   "cell_type": "code",
   "execution_count": 1,
   "metadata": {
    "colab": {
     "base_uri": "https://localhost:8080/",
     "height": 35
    },
    "colab_type": "code",
    "id": "tiEV3cHhSQ5u",
    "outputId": "a30a42d0-7c46-44a1-8afe-a0656f6cf1ca"
   },
   "outputs": [
    {
     "name": "stderr",
     "output_type": "stream",
     "text": [
      "Using TensorFlow backend.\n"
     ]
    }
   ],
   "source": [
    "import numpy as np\n",
    "import tensorflow as tf\n",
    "import os\n",
    "import glob\n",
    "import cv2\n",
    "import random\n",
    "import matplotlib.pyplot as plt\n",
    "from imgaug import augmenters as iaa\n",
    "from sklearn.model_selection import StratifiedKFold\n",
    "from keras.models import Sequential\n",
    "from keras.optimizers import RMSprop\n",
    "from keras.layers import Conv2D, MaxPooling2D\n",
    "from keras.layers import Activation, Dropout, Flatten, Dense\n",
    "from sklearn.utils import shuffle\n",
    "from sklearn.model_selection import train_test_split\n",
    "from keras import optimizers\n",
    "from keras.utils import to_categorical, plot_model\n",
    "from keras.layers import Dense, Input, Conv2D, Flatten, MaxPooling2D, Activation\n",
    "from keras.models import Model, Sequential\n",
    "from keras.layers import Activation, Dropout, Flatten, Dense\n",
    "from keras.callbacks import ModelCheckpoint\n",
    "from keras.optimizers import Adam\n",
    "from keras.applications.vgg16 import VGG16\n",
    "from keras.models import load_model\n",
    "from keras.utils import np_utils\n",
    "from keras import backend as K\n",
    "\n",
    "np.random.seed(1)"
   ]
  },
  {
   "cell_type": "code",
   "execution_count": 2,
   "metadata": {},
   "outputs": [],
   "source": [
    "def check_units(y_true, y_pred):\n",
    "    if y_pred.shape[1] != 1:\n",
    "        y_pred = y_pred[:,1:2]\n",
    "        y_true = y_true[:,1:2]\n",
    "    return y_true, y_pred\n",
    "\n",
    "def precision(y_true, y_pred):\n",
    "    y_true, y_pred = check_units(y_true, y_pred)\n",
    "    true_positives = K.sum(K.round(K.clip(y_true * y_pred, 0, 1)))\n",
    "    predicted_positives = K.sum(K.round(K.clip(y_pred, 0, 1)))\n",
    "    precision = true_positives / (predicted_positives + K.epsilon())\n",
    "    return precision\n",
    "\n",
    "def recall(y_true, y_pred):\n",
    "    y_true, y_pred = check_units(y_true, y_pred)\n",
    "    true_positives = K.sum(K.round(K.clip(y_true * y_pred, 0, 1)))\n",
    "    possible_positives = K.sum(K.round(K.clip(y_true, 0, 1)))\n",
    "    recall = true_positives / (possible_positives + K.epsilon())\n",
    "    return recall\n",
    "\n",
    "def f1(y_true, y_pred):\n",
    "    def recall(y_true, y_pred):\n",
    "        true_positives = K.sum(K.round(K.clip(y_true * y_pred, 0, 1)))\n",
    "        possible_positives = K.sum(K.round(K.clip(y_true, 0, 1)))\n",
    "        recall = true_positives / (possible_positives + K.epsilon())\n",
    "        return recall\n",
    "\n",
    "    def precision(y_true, y_pred):\n",
    "        true_positives = K.sum(K.round(K.clip(y_true * y_pred, 0, 1)))\n",
    "        predicted_positives = K.sum(K.round(K.clip(y_pred, 0, 1)))\n",
    "        precision = true_positives / (predicted_positives + K.epsilon())\n",
    "        return precision\n",
    "    y_true, y_pred = check_units(y_true, y_pred)\n",
    "    precision = precision(y_true, y_pred)\n",
    "    recall = recall(y_true, y_pred)\n",
    "    return 2*((precision*recall)/(precision+recall+K.epsilon()))\n",
    "\n",
    "def matthews_correlation(y_true, y_pred):\n",
    "    y_true, y_pred = check_units(y_true, y_pred)\n",
    "    y_pred_pos = K.round(K.clip(y_pred, 0, 1))\n",
    "    y_pred_neg = 1 - y_pred_pos\n",
    "\n",
    "    y_pos = K.round(K.clip(y_true, 0, 1))\n",
    "    y_neg = 1 - y_pos\n",
    "\n",
    "    tp = K.sum(y_pos * y_pred_pos)\n",
    "    tn = K.sum(y_neg * y_pred_neg)\n",
    "\n",
    "    fp = K.sum(y_neg * y_pred_pos)\n",
    "    fn = K.sum(y_pos * y_pred_neg)\n",
    "\n",
    "    numerator = (tp * tn - fp * fn)\n",
    "    denominator = K.sqrt((tp + fp) * (tp + fn) * (tn + fp) * (tn + fn))\n",
    "\n",
    "    return numerator / (denominator + K.epsilon())\n",
    "\n",
    "def auc(y_true, y_pred):\n",
    "    auc = tf.metrics.auc(y_true, y_pred)[1]\n",
    "    K.get_session().run(tf.local_variables_initializer())\n",
    "    return auc"
   ]
  },
  {
   "cell_type": "code",
   "execution_count": 3,
   "metadata": {
    "colab": {
     "base_uri": "https://localhost:8080/",
     "height": 35
    },
    "colab_type": "code",
    "id": "7YEH44-4pjyZ",
    "outputId": "303cf008-a5fd-48f0-97c7-576aedd6c15f"
   },
   "outputs": [
    {
     "data": {
      "text/plain": [
       "((22046, 200, 200, 3), (22046, 2))"
      ]
     },
     "execution_count": 3,
     "metadata": {},
     "output_type": "execute_result"
    }
   ],
   "source": [
    "x_train = np.load(\"datasets/norm/x_train_norm_200.npy\")\n",
    "y_train = np.load(\"datasets/norm/y_train_norm_200.npy\")\n",
    "x_train.shape, y_train.shape"
   ]
  },
  {
   "cell_type": "code",
   "execution_count": 4,
   "metadata": {
    "colab": {
     "base_uri": "https://localhost:8080/",
     "height": 35
    },
    "colab_type": "code",
    "id": "gKzI376uppjH",
    "outputId": "0ea13cd2-6c80-4a75-8804-d5a91c5e029f"
   },
   "outputs": [
    {
     "data": {
      "text/plain": [
       "((2756, 200, 200, 3), (2756, 2))"
      ]
     },
     "execution_count": 4,
     "metadata": {},
     "output_type": "execute_result"
    }
   ],
   "source": [
    "x_val = np.load(\"datasets/norm/x_val_norm_200.npy\")\n",
    "y_val = np.load(\"datasets/norm/y_val_norm_200.npy\")\n",
    "x_val.shape, y_val.shape"
   ]
  },
  {
   "cell_type": "code",
   "execution_count": 5,
   "metadata": {
    "colab": {
     "base_uri": "https://localhost:8080/",
     "height": 35
    },
    "colab_type": "code",
    "id": "z1oTbkw2p2tt",
    "outputId": "2dd7ca94-eee5-4fd7-cf8a-9c6c69f23a9e"
   },
   "outputs": [
    {
     "data": {
      "text/plain": [
       "((2756, 200, 200, 3), (2756, 2))"
      ]
     },
     "execution_count": 5,
     "metadata": {},
     "output_type": "execute_result"
    }
   ],
   "source": [
    "x_test = np.load(\"datasets/norm/x_test_norm_200.npy\")\n",
    "y_test = np.load(\"datasets/norm/y_test_norm_200.npy\")\n",
    "x_test.shape, y_test.shape"
   ]
  },
  {
   "cell_type": "code",
   "execution_count": 6,
   "metadata": {
    "colab": {
     "base_uri": "https://localhost:8080/",
     "height": 35
    },
    "colab_type": "code",
    "id": "_dzt_Lr-KB8u",
    "outputId": "947f9528-20fc-45ae-d11b-9aceba8e4b66"
   },
   "outputs": [
    {
     "data": {
      "text/plain": [
       "(200, 200, 3)"
      ]
     },
     "execution_count": 6,
     "metadata": {},
     "output_type": "execute_result"
    }
   ],
   "source": [
    "img = x_train[50]\n",
    "img.shape"
   ]
  },
  {
   "cell_type": "code",
   "execution_count": 11,
   "metadata": {},
   "outputs": [
    {
     "data": {
      "text/plain": [
       "array([[[0.76862746, 0.6039216 , 0.6431373 ],\n",
       "        [0.76862746, 0.6039216 , 0.6431373 ],\n",
       "        [0.76862746, 0.6039216 , 0.6431373 ],\n",
       "        ...,\n",
       "        [0.78039217, 0.62352943, 0.654902  ],\n",
       "        [0.78431374, 0.627451  , 0.65882355],\n",
       "        [0.78431374, 0.627451  , 0.65882355]],\n",
       "\n",
       "       [[0.76862746, 0.6039216 , 0.6431373 ],\n",
       "        [0.76862746, 0.6039216 , 0.6431373 ],\n",
       "        [0.76862746, 0.6039216 , 0.6431373 ],\n",
       "        ...,\n",
       "        [0.78431374, 0.627451  , 0.65882355],\n",
       "        [0.78431374, 0.627451  , 0.65882355],\n",
       "        [0.78431374, 0.627451  , 0.65882355]],\n",
       "\n",
       "       [[0.76862746, 0.6039216 , 0.6431373 ],\n",
       "        [0.76862746, 0.6039216 , 0.6431373 ],\n",
       "        [0.76862746, 0.6039216 , 0.6431373 ],\n",
       "        ...,\n",
       "        [0.78431374, 0.627451  , 0.654902  ],\n",
       "        [0.78431374, 0.627451  , 0.65882355],\n",
       "        [0.78431374, 0.627451  , 0.65882355]],\n",
       "\n",
       "       ...,\n",
       "\n",
       "       [[0.8039216 , 0.6431373 , 0.65882355],\n",
       "        [0.8117647 , 0.6509804 , 0.6666667 ],\n",
       "        [0.8156863 , 0.654902  , 0.67058825],\n",
       "        ...,\n",
       "        [0.8392157 , 0.68235296, 0.68235296],\n",
       "        [0.84313726, 0.6862745 , 0.6862745 ],\n",
       "        [0.84705883, 0.6901961 , 0.6862745 ]],\n",
       "\n",
       "       [[0.8039216 , 0.6431373 , 0.65882355],\n",
       "        [0.8039216 , 0.6431373 , 0.65882355],\n",
       "        [0.80784315, 0.64705884, 0.6627451 ],\n",
       "        ...,\n",
       "        [0.8352941 , 0.6784314 , 0.6784314 ],\n",
       "        [0.84313726, 0.6862745 , 0.6862745 ],\n",
       "        [0.84313726, 0.6862745 , 0.6862745 ]],\n",
       "\n",
       "       [[0.8039216 , 0.6431373 , 0.65882355],\n",
       "        [0.8039216 , 0.6431373 , 0.65882355],\n",
       "        [0.80784315, 0.64705884, 0.6627451 ],\n",
       "        ...,\n",
       "        [0.8352941 , 0.6784314 , 0.6784314 ],\n",
       "        [0.84313726, 0.6862745 , 0.6862745 ],\n",
       "        [0.84313726, 0.6862745 , 0.6862745 ]]], dtype=float32)"
      ]
     },
     "execution_count": 11,
     "metadata": {},
     "output_type": "execute_result"
    }
   ],
   "source": [
    "img[50:100, 60:80]"
   ]
  },
  {
   "cell_type": "code",
   "execution_count": 7,
   "metadata": {
    "colab": {
     "base_uri": "https://localhost:8080/",
     "height": 54
    },
    "colab_type": "code",
    "id": "PHebp2hWcRKp",
    "outputId": "7406e8bd-8795-4630-9aa3-4b3f64c9e920"
   },
   "outputs": [
    {
     "name": "stdout",
     "output_type": "stream",
     "text": [
      "(22046, 200, 200, 3) (22046, 2)\n",
      "(2756, 200, 200, 3) (2756, 200, 200, 3) (2756, 2) (2756, 2)\n"
     ]
    }
   ],
   "source": [
    "print(x_train.shape, y_train.shape)\n",
    "print(x_val.shape, x_test.shape, y_val.shape, y_test.shape)"
   ]
  },
  {
   "cell_type": "code",
   "execution_count": 8,
   "metadata": {
    "colab": {
     "base_uri": "https://localhost:8080/",
     "height": 35
    },
    "colab_type": "code",
    "id": "gHYInTAGqb11",
    "outputId": "7ecf0995-0938-4adb-9331-3448fb1163ef"
   },
   "outputs": [
    {
     "data": {
      "text/plain": [
       "200"
      ]
     },
     "execution_count": 8,
     "metadata": {},
     "output_type": "execute_result"
    }
   ],
   "source": [
    "IMAGE_SIZE = x_train.shape[1]\n",
    "IMAGE_SIZE"
   ]
  },
  {
   "cell_type": "code",
   "execution_count": 9,
   "metadata": {
    "colab": {
     "base_uri": "https://localhost:8080/",
     "height": 1146
    },
    "colab_type": "code",
    "id": "gTiAb2ucfhF8",
    "outputId": "a850ce62-2fe5-4189-e3b4-0ad6b1022ce3"
   },
   "outputs": [
    {
     "name": "stdout",
     "output_type": "stream",
     "text": [
      "_________________________________________________________________\n",
      "Layer (type)                 Output Shape              Param #   \n",
      "=================================================================\n",
      "input_1 (InputLayer)         (None, 200, 200, 3)       0         \n",
      "_________________________________________________________________\n",
      "block1_conv1 (Conv2D)        (None, 200, 200, 64)      1792      \n",
      "_________________________________________________________________\n",
      "block1_conv2 (Conv2D)        (None, 200, 200, 64)      36928     \n",
      "_________________________________________________________________\n",
      "block1_pool (MaxPooling2D)   (None, 100, 100, 64)      0         \n",
      "_________________________________________________________________\n",
      "block2_conv1 (Conv2D)        (None, 100, 100, 128)     73856     \n",
      "_________________________________________________________________\n",
      "block2_conv2 (Conv2D)        (None, 100, 100, 128)     147584    \n",
      "_________________________________________________________________\n",
      "block2_pool (MaxPooling2D)   (None, 50, 50, 128)       0         \n",
      "_________________________________________________________________\n",
      "block3_conv1 (Conv2D)        (None, 50, 50, 256)       295168    \n",
      "_________________________________________________________________\n",
      "block3_conv2 (Conv2D)        (None, 50, 50, 256)       590080    \n",
      "_________________________________________________________________\n",
      "block3_conv3 (Conv2D)        (None, 50, 50, 256)       590080    \n",
      "_________________________________________________________________\n",
      "block3_pool (MaxPooling2D)   (None, 25, 25, 256)       0         \n",
      "_________________________________________________________________\n",
      "block4_conv1 (Conv2D)        (None, 25, 25, 512)       1180160   \n",
      "_________________________________________________________________\n",
      "block4_conv2 (Conv2D)        (None, 25, 25, 512)       2359808   \n",
      "_________________________________________________________________\n",
      "block4_conv3 (Conv2D)        (None, 25, 25, 512)       2359808   \n",
      "_________________________________________________________________\n",
      "block4_pool (MaxPooling2D)   (None, 12, 12, 512)       0         \n",
      "_________________________________________________________________\n",
      "block5_conv1 (Conv2D)        (None, 12, 12, 512)       2359808   \n",
      "_________________________________________________________________\n",
      "block5_conv2 (Conv2D)        (None, 12, 12, 512)       2359808   \n",
      "_________________________________________________________________\n",
      "block5_conv3 (Conv2D)        (None, 12, 12, 512)       2359808   \n",
      "_________________________________________________________________\n",
      "block5_pool (MaxPooling2D)   (None, 6, 6, 512)         0         \n",
      "_________________________________________________________________\n",
      "global_average_pooling2d_1 ( (None, 512)               0         \n",
      "_________________________________________________________________\n",
      "dense_1 (Dense)              (None, 1024)              525312    \n",
      "_________________________________________________________________\n",
      "dropout_1 (Dropout)          (None, 1024)              0         \n",
      "_________________________________________________________________\n",
      "dense_2 (Dense)              (None, 2)                 2050      \n",
      "=================================================================\n",
      "Total params: 15,242,050\n",
      "Trainable params: 10,522,434\n",
      "Non-trainable params: 4,719,616\n",
      "_________________________________________________________________\n"
     ]
    }
   ],
   "source": [
    "def get_model_exp2_b():\n",
    "    base_model = VGG16(weights='imagenet',include_top=False,pooling='avg',input_shape=(IMAGE_SIZE, IMAGE_SIZE, 3))\n",
    "    base_model.trainable = False\n",
    "    X = base_model.output\n",
    "    X.trainable = False\n",
    "    \n",
    "    X = Dense(1024, activation='relu')(X)\n",
    "    X = Dropout(0.5)(X)\n",
    "    predictions = Dense(2, activation='softmax', trainable=True)(X)\n",
    "    \n",
    "    for layer in base_model.layers[-4:]:\n",
    "        layer.trainable=False\n",
    "    \n",
    "    model = Model(inputs=base_model.input, outputs=predictions)\n",
    "    model.compile(optimizer='adadelta', loss='binary_crossentropy', metrics=['accuracy', precision, recall, f1, matthews_correlation, auc])\n",
    "    return model\n",
    "\n",
    "model = None\n",
    "model=get_model_exp2_b()\n",
    "model.summary()"
   ]
  },
  {
   "cell_type": "code",
   "execution_count": 12,
   "metadata": {
    "colab": {
     "base_uri": "https://localhost:8080/",
     "height": 35
    },
    "colab_type": "code",
    "id": "4ZqXHwe37gRF",
    "outputId": "fc7e5da8-d90e-4859-ab09-8faaea7590b1"
   },
   "outputs": [
    {
     "name": "stdout",
     "output_type": "stream",
     "text": [
      "(22046, 200, 200, 3) (22046, 2) (2756, 200, 200, 3) (2756, 2) (2756, 200, 200, 3) (2756, 2)\n"
     ]
    }
   ],
   "source": [
    "# check input\n",
    "print(x_train.shape, y_train.shape, x_val.shape, y_val.shape, x_test.shape, y_test.shape)"
   ]
  },
  {
   "cell_type": "code",
   "execution_count": 13,
   "metadata": {
    "colab": {
     "base_uri": "https://localhost:8080/",
     "height": 2580
    },
    "colab_type": "code",
    "id": "y4ikeUhUgKp0",
    "outputId": "92627d04-8168-48f3-c240-b465e8693a86"
   },
   "outputs": [
    {
     "name": "stdout",
     "output_type": "stream",
     "text": [
      "Train on 22046 samples, validate on 2756 samples\n",
      "Epoch 1/50\n",
      "22046/22046 [==============================] - 341s 15ms/step - loss: 0.2447 - acc: 0.8965 - precision: 0.9131 - recall: 0.8850 - f1: 0.8952 - matthews_correlation: 0.7967 - auc: 0.8694 - val_loss: 0.1367 - val_acc: 0.9572 - val_precision: 0.9675 - val_recall: 0.9453 - val_f1: 0.9558 - val_matthews_correlation: 0.9140 - val_auc: 0.9653\n",
      "Epoch 2/50\n",
      "22046/22046 [==============================] - 331s 15ms/step - loss: 0.1406 - acc: 0.9555 - precision: 0.9670 - recall: 0.9435 - f1: 0.9543 - matthews_correlation: 0.9114 - auc: 0.9732 - val_loss: 0.1297 - val_acc: 0.9557 - val_precision: 0.9735 - val_recall: 0.9371 - val_f1: 0.9544 - val_matthews_correlation: 0.9117 - val_auc: 0.9774\n",
      "Epoch 3/50\n",
      "22046/22046 [==============================] - 332s 15ms/step - loss: 0.1252 - acc: 0.9585 - precision: 0.9701 - recall: 0.9462 - f1: 0.9573 - matthews_correlation: 0.9173 - auc: 0.9798 - val_loss: 0.1190 - val_acc: 0.9583 - val_precision: 0.9753 - val_recall: 0.9395 - val_f1: 0.9566 - val_matthews_correlation: 0.9168 - val_auc: 0.9818\n",
      "Epoch 4/50\n",
      "22046/22046 [==============================] - 333s 15ms/step - loss: 0.1183 - acc: 0.9609 - precision: 0.9717 - recall: 0.9501 - f1: 0.9602 - matthews_correlation: 0.9222 - auc: 0.9831 - val_loss: 0.1668 - val_acc: 0.9416 - val_precision: 0.9884 - val_recall: 0.8931 - val_f1: 0.9376 - val_matthews_correlation: 0.8870 - val_auc: 0.9840\n",
      "Epoch 5/50\n",
      "22046/22046 [==============================] - 332s 15ms/step - loss: 0.1106 - acc: 0.9633 - precision: 0.9737 - recall: 0.9526 - f1: 0.9623 - matthews_correlation: 0.9269 - auc: 0.9847 - val_loss: 0.1105 - val_acc: 0.9615 - val_precision: 0.9669 - val_recall: 0.9548 - val_f1: 0.9603 - val_matthews_correlation: 0.9228 - val_auc: 0.9855\n",
      "Epoch 6/50\n",
      "22046/22046 [==============================] - 330s 15ms/step - loss: 0.1072 - acc: 0.9637 - precision: 0.9733 - recall: 0.9538 - f1: 0.9628 - matthews_correlation: 0.9276 - auc: 0.9862 - val_loss: 0.1103 - val_acc: 0.9590 - val_precision: 0.9837 - val_recall: 0.9337 - val_f1: 0.9574 - val_matthews_correlation: 0.9191 - val_auc: 0.9867\n",
      "Epoch 7/50\n",
      "22046/22046 [==============================] - 328s 15ms/step - loss: 0.1019 - acc: 0.9660 - precision: 0.9764 - recall: 0.9554 - f1: 0.9652 - matthews_correlation: 0.9320 - auc: 0.9872 - val_loss: 0.1110 - val_acc: 0.9612 - val_precision: 0.9796 - val_recall: 0.9419 - val_f1: 0.9599 - val_matthews_correlation: 0.9227 - val_auc: 0.9877\n",
      "Epoch 8/50\n",
      "22046/22046 [==============================] - 331s 15ms/step - loss: 0.1000 - acc: 0.9650 - precision: 0.9763 - recall: 0.9538 - f1: 0.9643 - matthews_correlation: 0.9304 - auc: 0.9881 - val_loss: 0.1151 - val_acc: 0.9601 - val_precision: 0.9824 - val_recall: 0.9373 - val_f1: 0.9589 - val_matthews_correlation: 0.9209 - val_auc: 0.9884\n",
      "Epoch 9/50\n",
      "22046/22046 [==============================] - 331s 15ms/step - loss: 0.0957 - acc: 0.9665 - precision: 0.9761 - recall: 0.9567 - f1: 0.9658 - matthews_correlation: 0.9331 - auc: 0.9887 - val_loss: 0.1070 - val_acc: 0.9597 - val_precision: 0.9815 - val_recall: 0.9370 - val_f1: 0.9580 - val_matthews_correlation: 0.9206 - val_auc: 0.9890\n",
      "Epoch 10/50\n",
      "22046/22046 [==============================] - 329s 15ms/step - loss: 0.0921 - acc: 0.9677 - precision: 0.9779 - recall: 0.9572 - f1: 0.9670 - matthews_correlation: 0.9356 - auc: 0.9893 - val_loss: 0.1158 - val_acc: 0.9630 - val_precision: 0.9619 - val_recall: 0.9634 - val_f1: 0.9619 - val_matthews_correlation: 0.9261 - val_auc: 0.9896\n",
      "Epoch 11/50\n",
      "22046/22046 [==============================] - 330s 15ms/step - loss: 0.0889 - acc: 0.9693 - precision: 0.9790 - recall: 0.9591 - f1: 0.9684 - matthews_correlation: 0.9388 - auc: 0.9898 - val_loss: 0.1030 - val_acc: 0.9634 - val_precision: 0.9729 - val_recall: 0.9526 - val_f1: 0.9621 - val_matthews_correlation: 0.9268 - val_auc: 0.9900\n",
      "Epoch 12/50\n",
      "22046/22046 [==============================] - 329s 15ms/step - loss: 0.0870 - acc: 0.9706 - precision: 0.9801 - recall: 0.9609 - f1: 0.9699 - matthews_correlation: 0.9413 - auc: 0.9902 - val_loss: 0.1000 - val_acc: 0.9648 - val_precision: 0.9686 - val_recall: 0.9604 - val_f1: 0.9640 - val_matthews_correlation: 0.9295 - val_auc: 0.9905\n",
      "Epoch 13/50\n",
      "22046/22046 [==============================] - 329s 15ms/step - loss: 0.0844 - acc: 0.9699 - precision: 0.9794 - recall: 0.9603 - f1: 0.9692 - matthews_correlation: 0.9399 - auc: 0.9907 - val_loss: 0.1019 - val_acc: 0.9630 - val_precision: 0.9773 - val_recall: 0.9474 - val_f1: 0.9616 - val_matthews_correlation: 0.9263 - val_auc: 0.9908\n",
      "Epoch 14/50\n",
      "22046/22046 [==============================] - 329s 15ms/step - loss: 0.0814 - acc: 0.9710 - precision: 0.9804 - recall: 0.9620 - f1: 0.9705 - matthews_correlation: 0.9425 - auc: 0.9910 - val_loss: 0.0964 - val_acc: 0.9644 - val_precision: 0.9797 - val_recall: 0.9489 - val_f1: 0.9635 - val_matthews_correlation: 0.9292 - val_auc: 0.9912\n",
      "Epoch 15/50\n",
      "22046/22046 [==============================] - 329s 15ms/step - loss: 0.0794 - acc: 0.9731 - precision: 0.9815 - recall: 0.9648 - f1: 0.9726 - matthews_correlation: 0.9466 - auc: 0.9914 - val_loss: 0.1049 - val_acc: 0.9608 - val_precision: 0.9867 - val_recall: 0.9344 - val_f1: 0.9593 - val_matthews_correlation: 0.9228 - val_auc: 0.9915\n",
      "Epoch 16/50\n",
      "22046/22046 [==============================] - 329s 15ms/step - loss: 0.0771 - acc: 0.9728 - precision: 0.9813 - recall: 0.9642 - f1: 0.9721 - matthews_correlation: 0.9460 - auc: 0.9917 - val_loss: 0.1117 - val_acc: 0.9601 - val_precision: 0.9465 - val_recall: 0.9743 - val_f1: 0.9594 - val_matthews_correlation: 0.9209 - val_auc: 0.9918\n",
      "Epoch 17/50\n",
      "22046/22046 [==============================] - 328s 15ms/step - loss: 0.0755 - acc: 0.9736 - precision: 0.9817 - recall: 0.9654 - f1: 0.9730 - matthews_correlation: 0.9476 - auc: 0.9919 - val_loss: 0.1150 - val_acc: 0.9568 - val_precision: 0.9868 - val_recall: 0.9261 - val_f1: 0.9549 - val_matthews_correlation: 0.9152 - val_auc: 0.9920\n",
      "Epoch 18/50\n",
      "22046/22046 [==============================] - 329s 15ms/step - loss: 0.0710 - acc: 0.9744 - precision: 0.9828 - recall: 0.9665 - f1: 0.9742 - matthews_correlation: 0.9489 - auc: 0.9922 - val_loss: 0.1003 - val_acc: 0.9644 - val_precision: 0.9837 - val_recall: 0.9447 - val_f1: 0.9633 - val_matthews_correlation: 0.9297 - val_auc: 0.9923\n",
      "Epoch 19/50\n",
      "22046/22046 [==============================] - 329s 15ms/step - loss: 0.0681 - acc: 0.9758 - precision: 0.9838 - recall: 0.9677 - f1: 0.9752 - matthews_correlation: 0.9519 - auc: 0.9924 - val_loss: 0.0942 - val_acc: 0.9681 - val_precision: 0.9697 - val_recall: 0.9656 - val_f1: 0.9672 - val_matthews_correlation: 0.9361 - val_auc: 0.9925\n",
      "Epoch 20/50\n",
      "22046/22046 [==============================] - 329s 15ms/step - loss: 0.0671 - acc: 0.9767 - precision: 0.9852 - recall: 0.9683 - f1: 0.9762 - matthews_correlation: 0.9537 - auc: 0.9927 - val_loss: 0.1018 - val_acc: 0.9659 - val_precision: 0.9576 - val_recall: 0.9731 - val_f1: 0.9647 - val_matthews_correlation: 0.9321 - val_auc: 0.9928\n",
      "Epoch 21/50\n",
      "22046/22046 [==============================] - 330s 15ms/step - loss: 0.0640 - acc: 0.9775 - precision: 0.9855 - recall: 0.9697 - f1: 0.9771 - matthews_correlation: 0.9554 - auc: 0.9929 - val_loss: 0.0942 - val_acc: 0.9659 - val_precision: 0.9724 - val_recall: 0.9590 - val_f1: 0.9651 - val_matthews_correlation: 0.9318 - val_auc: 0.9930\n",
      "Epoch 22/50\n",
      "22046/22046 [==============================] - 329s 15ms/step - loss: 0.0619 - acc: 0.9787 - precision: 0.9864 - recall: 0.9715 - f1: 0.9785 - matthews_correlation: 0.9576 - auc: 0.9931 - val_loss: 0.1097 - val_acc: 0.9608 - val_precision: 0.9815 - val_recall: 0.9388 - val_f1: 0.9591 - val_matthews_correlation: 0.9222 - val_auc: 0.9932\n",
      "Epoch 23/50\n",
      "22046/22046 [==============================] - 329s 15ms/step - loss: 0.0595 - acc: 0.9790 - precision: 0.9866 - recall: 0.9717 - f1: 0.9786 - matthews_correlation: 0.9583 - auc: 0.9933 - val_loss: 0.0954 - val_acc: 0.9652 - val_precision: 0.9794 - val_recall: 0.9501 - val_f1: 0.9639 - val_matthews_correlation: 0.9308 - val_auc: 0.9934\n",
      "Epoch 24/50\n"
     ]
    },
    {
     "name": "stdout",
     "output_type": "stream",
     "text": [
      "22046/22046 [==============================] - 329s 15ms/step - loss: 0.0564 - acc: 0.9802 - precision: 0.9878 - recall: 0.9725 - f1: 0.9798 - matthews_correlation: 0.9606 - auc: 0.9935 - val_loss: 0.1080 - val_acc: 0.9681 - val_precision: 0.9688 - val_recall: 0.9667 - val_f1: 0.9672 - val_matthews_correlation: 0.9362 - val_auc: 0.9936\n",
      "Epoch 25/50\n",
      "22046/22046 [==============================] - 329s 15ms/step - loss: 0.0545 - acc: 0.9810 - precision: 0.9887 - recall: 0.9740 - f1: 0.9809 - matthews_correlation: 0.9624 - auc: 0.9937 - val_loss: 0.1071 - val_acc: 0.9648 - val_precision: 0.9838 - val_recall: 0.9456 - val_f1: 0.9638 - val_matthews_correlation: 0.9303 - val_auc: 0.9938\n",
      "Epoch 26/50\n",
      "22046/22046 [==============================] - 329s 15ms/step - loss: 0.0524 - acc: 0.9814 - precision: 0.9883 - recall: 0.9745 - f1: 0.9810 - matthews_correlation: 0.9630 - auc: 0.9939 - val_loss: 0.1106 - val_acc: 0.9626 - val_precision: 0.9886 - val_recall: 0.9362 - val_f1: 0.9611 - val_matthews_correlation: 0.9265 - val_auc: 0.9939\n",
      "Epoch 27/50\n",
      "22046/22046 [==============================] - 331s 15ms/step - loss: 0.0501 - acc: 0.9830 - precision: 0.9897 - recall: 0.9762 - f1: 0.9826 - matthews_correlation: 0.9660 - auc: 0.9940 - val_loss: 0.1070 - val_acc: 0.9641 - val_precision: 0.9641 - val_recall: 0.9631 - val_f1: 0.9631 - val_matthews_correlation: 0.9282 - val_auc: 0.9941\n",
      "Epoch 28/50\n",
      "22046/22046 [==============================] - 330s 15ms/step - loss: 0.0478 - acc: 0.9834 - precision: 0.9895 - recall: 0.9773 - f1: 0.9831 - matthews_correlation: 0.9669 - auc: 0.9942 - val_loss: 0.1033 - val_acc: 0.9648 - val_precision: 0.9688 - val_recall: 0.9605 - val_f1: 0.9639 - val_matthews_correlation: 0.9300 - val_auc: 0.9943\n",
      "Epoch 29/50\n",
      "22046/22046 [==============================] - 330s 15ms/step - loss: 0.0457 - acc: 0.9838 - precision: 0.9898 - recall: 0.9778 - f1: 0.9834 - matthews_correlation: 0.9678 - auc: 0.9943 - val_loss: 0.1421 - val_acc: 0.9554 - val_precision: 0.9880 - val_recall: 0.9222 - val_f1: 0.9532 - val_matthews_correlation: 0.9130 - val_auc: 0.9944\n",
      "Epoch 30/50\n",
      "22046/22046 [==============================] - 330s 15ms/step - loss: 0.0421 - acc: 0.9853 - precision: 0.9916 - recall: 0.9789 - f1: 0.9850 - matthews_correlation: 0.9707 - auc: 0.9945 - val_loss: 0.1127 - val_acc: 0.9684 - val_precision: 0.9738 - val_recall: 0.9626 - val_f1: 0.9677 - val_matthews_correlation: 0.9370 - val_auc: 0.9945\n",
      "Epoch 31/50\n",
      "22046/22046 [==============================] - 330s 15ms/step - loss: 0.0422 - acc: 0.9857 - precision: 0.9911 - recall: 0.9805 - f1: 0.9855 - matthews_correlation: 0.9716 - auc: 0.9946 - val_loss: 0.1343 - val_acc: 0.9597 - val_precision: 0.9406 - val_recall: 0.9788 - val_f1: 0.9586 - val_matthews_correlation: 0.9206 - val_auc: 0.9947\n",
      "Epoch 32/50\n",
      "22046/22046 [==============================] - 329s 15ms/step - loss: 0.0400 - acc: 0.9868 - precision: 0.9919 - recall: 0.9817 - f1: 0.9865 - matthews_correlation: 0.9738 - auc: 0.9947 - val_loss: 0.1174 - val_acc: 0.9604 - val_precision: 0.9836 - val_recall: 0.9361 - val_f1: 0.9587 - val_matthews_correlation: 0.9218 - val_auc: 0.9948\n",
      "Epoch 33/50\n",
      "22046/22046 [==============================] - 329s 15ms/step - loss: 0.0377 - acc: 0.9869 - precision: 0.9921 - recall: 0.9815 - f1: 0.9865 - matthews_correlation: 0.9739 - auc: 0.9949 - val_loss: 0.1110 - val_acc: 0.9630 - val_precision: 0.9537 - val_recall: 0.9712 - val_f1: 0.9618 - val_matthews_correlation: 0.9262 - val_auc: 0.9949\n",
      "Epoch 34/50\n",
      "22046/22046 [==============================] - 331s 15ms/step - loss: 0.0352 - acc: 0.9886 - precision: 0.9938 - recall: 0.9836 - f1: 0.9884 - matthews_correlation: 0.9773 - auc: 0.9950 - val_loss: 0.1357 - val_acc: 0.9568 - val_precision: 0.9394 - val_recall: 0.9751 - val_f1: 0.9563 - val_matthews_correlation: 0.9144 - val_auc: 0.9951\n",
      "Epoch 35/50\n",
      "22046/22046 [==============================] - 330s 15ms/step - loss: 0.0335 - acc: 0.9887 - precision: 0.9938 - recall: 0.9838 - f1: 0.9886 - matthews_correlation: 0.9775 - auc: 0.9951 - val_loss: 0.1227 - val_acc: 0.9666 - val_precision: 0.9824 - val_recall: 0.9502 - val_f1: 0.9656 - val_matthews_correlation: 0.9336 - val_auc: 0.9952\n",
      "Epoch 36/50\n",
      "22046/22046 [==============================] - 330s 15ms/step - loss: 0.0321 - acc: 0.9897 - precision: 0.9946 - recall: 0.9854 - f1: 0.9898 - matthews_correlation: 0.9796 - auc: 0.9952 - val_loss: 0.1120 - val_acc: 0.9673 - val_precision: 0.9707 - val_recall: 0.9626 - val_f1: 0.9662 - val_matthews_correlation: 0.9346 - val_auc: 0.9953\n",
      "Epoch 37/50\n",
      "22046/22046 [==============================] - 329s 15ms/step - loss: 0.0295 - acc: 0.9904 - precision: 0.9948 - recall: 0.9859 - f1: 0.9901 - matthews_correlation: 0.9810 - auc: 0.9953 - val_loss: 0.1621 - val_acc: 0.9528 - val_precision: 0.9896 - val_recall: 0.9153 - val_f1: 0.9503 - val_matthews_correlation: 0.9080 - val_auc: 0.9954\n",
      "Epoch 38/50\n",
      "22046/22046 [==============================] - 330s 15ms/step - loss: 0.0269 - acc: 0.9912 - precision: 0.9956 - recall: 0.9869 - f1: 0.9910 - matthews_correlation: 0.9825 - auc: 0.9954 - val_loss: 0.1322 - val_acc: 0.9648 - val_precision: 0.9805 - val_recall: 0.9482 - val_f1: 0.9635 - val_matthews_correlation: 0.9301 - val_auc: 0.9955\n",
      "Epoch 39/50\n",
      "22046/22046 [==============================] - 329s 15ms/step - loss: 0.0271 - acc: 0.9912 - precision: 0.9956 - recall: 0.9872 - f1: 0.9912 - matthews_correlation: 0.9825 - auc: 0.9955 - val_loss: 0.1450 - val_acc: 0.9597 - val_precision: 0.9890 - val_recall: 0.9311 - val_f1: 0.9585 - val_matthews_correlation: 0.9215 - val_auc: 0.9956\n",
      "Epoch 40/50\n",
      "22046/22046 [==============================] - 329s 15ms/step - loss: 0.0249 - acc: 0.9917 - precision: 0.9954 - recall: 0.9881 - f1: 0.9915 - matthews_correlation: 0.9834 - auc: 0.9956 - val_loss: 0.1189 - val_acc: 0.9655 - val_precision: 0.9769 - val_recall: 0.9532 - val_f1: 0.9644 - val_matthews_correlation: 0.9312 - val_auc: 0.9957\n",
      "Epoch 41/50\n",
      "22046/22046 [==============================] - 329s 15ms/step - loss: 0.0238 - acc: 0.9926 - precision: 0.9960 - recall: 0.9891 - f1: 0.9924 - matthews_correlation: 0.9853 - auc: 0.9957 - val_loss: 0.1332 - val_acc: 0.9659 - val_precision: 0.9790 - val_recall: 0.9518 - val_f1: 0.9648 - val_matthews_correlation: 0.9319 - val_auc: 0.9958\n",
      "Epoch 42/50\n",
      "22046/22046 [==============================] - 328s 15ms/step - loss: 0.0222 - acc: 0.9930 - precision: 0.9961 - recall: 0.9901 - f1: 0.9930 - matthews_correlation: 0.9860 - auc: 0.9958 - val_loss: 0.1310 - val_acc: 0.9666 - val_precision: 0.9737 - val_recall: 0.9589 - val_f1: 0.9658 - val_matthews_correlation: 0.9331 - val_auc: 0.9958\n",
      "Epoch 43/50\n",
      "22046/22046 [==============================] - 329s 15ms/step - loss: 0.0201 - acc: 0.9942 - precision: 0.9975 - recall: 0.9912 - f1: 0.9942 - matthews_correlation: 0.9885 - auc: 0.9959 - val_loss: 0.1431 - val_acc: 0.9663 - val_precision: 0.9763 - val_recall: 0.9555 - val_f1: 0.9654 - val_matthews_correlation: 0.9326 - val_auc: 0.9959\n",
      "Epoch 44/50\n",
      "22046/22046 [==============================] - 329s 15ms/step - loss: 0.0203 - acc: 0.9936 - precision: 0.9963 - recall: 0.9909 - f1: 0.9935 - matthews_correlation: 0.9873 - auc: 0.9960 - val_loss: 0.1199 - val_acc: 0.9670 - val_precision: 0.9781 - val_recall: 0.9556 - val_f1: 0.9662 - val_matthews_correlation: 0.9343 - val_auc: 0.9960\n",
      "Epoch 45/50\n",
      "22046/22046 [==============================] - 329s 15ms/step - loss: 0.0186 - acc: 0.9945 - precision: 0.9974 - recall: 0.9915 - f1: 0.9943 - matthews_correlation: 0.9889 - auc: 0.9961 - val_loss: 0.1495 - val_acc: 0.9601 - val_precision: 0.9851 - val_recall: 0.9347 - val_f1: 0.9587 - val_matthews_correlation: 0.9215 - val_auc: 0.9961\n",
      "Epoch 46/50\n",
      "22046/22046 [==============================] - 328s 15ms/step - loss: 0.0179 - acc: 0.9940 - precision: 0.9965 - recall: 0.9914 - f1: 0.9938 - matthews_correlation: 0.9881 - auc: 0.9961 - val_loss: 0.1417 - val_acc: 0.9666 - val_precision: 0.9650 - val_recall: 0.9680 - val_f1: 0.9660 - val_matthews_correlation: 0.9332 - val_auc: 0.9962\n",
      "Epoch 47/50\n"
     ]
    },
    {
     "name": "stdout",
     "output_type": "stream",
     "text": [
      "22046/22046 [==============================] - 329s 15ms/step - loss: 0.0162 - acc: 0.9947 - precision: 0.9978 - recall: 0.9916 - f1: 0.9946 - matthews_correlation: 0.9895 - auc: 0.9962 - val_loss: 0.1355 - val_acc: 0.9655 - val_precision: 0.9749 - val_recall: 0.9550 - val_f1: 0.9643 - val_matthews_correlation: 0.9311 - val_auc: 0.9962\n",
      "Epoch 48/50\n",
      "22046/22046 [==============================] - 328s 15ms/step - loss: 0.0148 - acc: 0.9954 - precision: 0.9979 - recall: 0.9931 - f1: 0.9954 - matthews_correlation: 0.9909 - auc: 0.9963 - val_loss: 0.1330 - val_acc: 0.9673 - val_precision: 0.9753 - val_recall: 0.9588 - val_f1: 0.9665 - val_matthews_correlation: 0.9348 - val_auc: 0.9963\n",
      "Epoch 49/50\n",
      "22046/22046 [==============================] - 329s 15ms/step - loss: 0.0141 - acc: 0.9955 - precision: 0.9975 - recall: 0.9934 - f1: 0.9954 - matthews_correlation: 0.9910 - auc: 0.9964 - val_loss: 0.1459 - val_acc: 0.9655 - val_precision: 0.9661 - val_recall: 0.9647 - val_f1: 0.9650 - val_matthews_correlation: 0.9310 - val_auc: 0.9964\n",
      "Epoch 50/50\n",
      "22046/22046 [==============================] - 328s 15ms/step - loss: 0.0147 - acc: 0.9951 - precision: 0.9977 - recall: 0.9927 - f1: 0.9951 - matthews_correlation: 0.9903 - auc: 0.9964 - val_loss: 0.1439 - val_acc: 0.9637 - val_precision: 0.9784 - val_recall: 0.9475 - val_f1: 0.9622 - val_matthews_correlation: 0.9276 - val_auc: 0.9964\n"
     ]
    }
   ],
   "source": [
    "model=get_model_exp2_b()\n",
    "path_model='vgg_exp2_norm.h5'  \n",
    "\n",
    "# set the learning rate\n",
    "K.set_value(model.optimizer.lr, 0.01) \n",
    "\n",
    "h=model.fit(x=x_train,     \n",
    "            y=y_train, \n",
    "            batch_size=64, \n",
    "            epochs=50, \n",
    "            verbose=1, \n",
    "            validation_data=(x_val,y_val),\n",
    "            shuffle=True,\n",
    "            )"
   ]
  },
  {
   "cell_type": "code",
   "execution_count": 14,
   "metadata": {},
   "outputs": [],
   "source": [
    "model.save(path_model)"
   ]
  },
  {
   "cell_type": "code",
   "execution_count": 16,
   "metadata": {
    "colab": {},
    "colab_type": "code",
    "id": "w2qN7ElfhH0y"
   },
   "outputs": [],
   "source": [
    " def plot_loss_accu(history):\n",
    "    loss = history.history['loss']\n",
    "    val_loss = history.history['val_loss']\n",
    "    epochs = range(len(loss))\n",
    "    plt.plot(epochs, loss, 'g')\n",
    "    plt.plot(epochs, val_loss, 'y')\n",
    "    plt.title('Loss')\n",
    "    plt.legend(['train', 'val'], loc='upper right')\n",
    "    plt.grid(True)\n",
    "    plt.savefig('exp_2_loss.jpg', dpi=300)\n",
    "    plt.show()\n",
    "    \n",
    "def plot_loss(history):\n",
    "    loss = history.history['acc']\n",
    "    val_loss = history.history['val_acc']\n",
    "    epochs = range(len(loss))\n",
    "    plt.plot(epochs, loss, 'r')\n",
    "    plt.plot(epochs, val_loss, 'b')\n",
    "    plt.title('Accuracy')\n",
    "    plt.legend(['train', 'val'], loc='lower right')\n",
    "    plt.grid(True)\n",
    "    plt.savefig('exp_2_acc.jpg', dpi=300)\n",
    "    plt.show()"
   ]
  },
  {
   "cell_type": "code",
   "execution_count": 17,
   "metadata": {
    "colab": {
     "base_uri": "https://localhost:8080/",
     "height": 708
    },
    "colab_type": "code",
    "id": "obPywb3KhH6n",
    "outputId": "dcc8048b-e748-4737-fd73-749443a19292"
   },
   "outputs": [
    {
     "data": {
      "image/png": "[encoded data removed]",
      "text/plain": [
       "<Figure size 432x288 with 1 Axes>"
      ]
     },
     "metadata": {
      "needs_background": "light"
     },
     "output_type": "display_data"
    },
    {
     "data": {
      "image/png": "[encoded data removed]",
      "text/plain": [
       "<Figure size 432x288 with 1 Axes>"
      ]
     },
     "metadata": {
      "needs_background": "light"
     },
     "output_type": "display_data"
    },
    {
     "name": "stdout",
     "output_type": "stream",
     "text": [
      "Done!\n"
     ]
    }
   ],
   "source": [
    "plot_loss_accu(model.history)\n",
    "plot_loss(model.history)\n",
    "print(\"Done!\")"
   ]
  },
  {
   "cell_type": "code",
   "execution_count": 18,
   "metadata": {
    "colab": {
     "base_uri": "https://localhost:8080/",
     "height": 70
    },
    "colab_type": "code",
    "id": "n6z-ycnmqUbv",
    "outputId": "59ebf6b0-54f6-4013-ff85-d30f936d822b"
   },
   "outputs": [
    {
     "name": "stdout",
     "output_type": "stream",
     "text": [
      "2756/2756 [==============================] - 16s 6ms/step\n",
      "Test loss: 0.10664670450408205\n",
      "Test accuracy: 0.9738751814223512\n"
     ]
    }
   ],
   "source": [
    "score = model.evaluate(x_test, y_test, verbose=1)\n",
    "print('Test loss:', score[0])\n",
    "print('Test accuracy:', score[1])"
   ]
  },
  {
   "cell_type": "code",
   "execution_count": 19,
   "metadata": {
    "colab": {},
    "colab_type": "code",
    "id": "S79QTd_svvU-"
   },
   "outputs": [],
   "source": [
    "y_pred = model.predict(x_test)\n",
    "# get labels from predictions\n",
    "pred_labels = np.array([np.argmax(pred) for pred in y_pred])\n",
    "\n",
    "#convert ground truths to column values\n",
    "y_test = np.argmax(y_test, axis=1)\n",
    "accuracy = np.mean((y_test==pred_labels))\n"
   ]
  },
  {
   "cell_type": "code",
   "execution_count": 20,
   "metadata": {
    "colab": {
     "base_uri": "https://localhost:8080/",
     "height": 34
    },
    "colab_type": "code",
    "id": "zuf1y-PSv9Na",
    "outputId": "ab03ea07-8b0f-4d26-b196-7ebd82a5f1c7"
   },
   "outputs": [
    {
     "data": {
      "text/plain": [
       "0.9738751814223512"
      ]
     },
     "execution_count": 20,
     "metadata": {},
     "output_type": "execute_result"
    }
   ],
   "source": [
    "accuracy"
   ]
  },
  {
   "cell_type": "code",
   "execution_count": 21,
   "metadata": {
    "colab": {},
    "colab_type": "code",
    "id": "GaMhno3vrbry"
   },
   "outputs": [],
   "source": [
    "np.save(\"y_pred_vgg_exp2_norm.npy\", y_pred)"
   ]
  },
  {
   "cell_type": "code",
   "execution_count": 0,
   "metadata": {
    "colab": {},
    "colab_type": "code",
    "id": "WNtFKE4ihjzq"
   },
   "outputs": [],
   "source": []
  }
 ],
 "metadata": {
  "accelerator": "GPU",
  "colab": {
   "collapsed_sections": [],
   "name": "vgg-2b.ipynb",
   "provenance": [],
   "version": "0.3.2"
  },
  "kernelspec": {
   "display_name": "Python 3",
   "language": "python",
   "name": "python3"
  },
  "language_info": {
   "codemirror_mode": {
    "name": "ipython",
    "version": 3
   },
   "file_extension": ".py",
   "mimetype": "text/x-python",
   "name": "python",
   "nbconvert_exporter": "python",
   "pygments_lexer": "ipython3",
   "version": "3.6.7"
  }
 },
 "nbformat": 4,
 "nbformat_minor": 1
}
