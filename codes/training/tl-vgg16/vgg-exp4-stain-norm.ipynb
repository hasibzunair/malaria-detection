{
 "cells": [
  {
   "cell_type": "code",
   "execution_count": 1,
   "metadata": {
    "colab": {
     "base_uri": "https://localhost:8080/",
     "height": 35
    },
    "colab_type": "code",
    "id": "tiEV3cHhSQ5u",
    "outputId": "a30a42d0-7c46-44a1-8afe-a0656f6cf1ca"
   },
   "outputs": [
    {
     "name": "stderr",
     "output_type": "stream",
     "text": [
      "Using TensorFlow backend.\n"
     ]
    }
   ],
   "source": [
    "import numpy as np\n",
    "import tensorflow as tf\n",
    "import os\n",
    "import glob\n",
    "import cv2\n",
    "import random\n",
    "import matplotlib.pyplot as plt\n",
    "from imgaug import augmenters as iaa\n",
    "from sklearn.model_selection import StratifiedKFold\n",
    "from keras.models import Sequential\n",
    "from keras.optimizers import RMSprop\n",
    "from keras.layers import Conv2D, MaxPooling2D\n",
    "from keras.layers import Activation, Dropout, Flatten, Dense\n",
    "from sklearn.utils import shuffle\n",
    "from sklearn.model_selection import train_test_split\n",
    "from keras import optimizers\n",
    "from keras.utils import to_categorical, plot_model\n",
    "from keras.layers import Dense, Input, Conv2D, Flatten, MaxPooling2D, Activation\n",
    "from keras.models import Model, Sequential\n",
    "from keras.layers import Activation, Dropout, Flatten, Dense\n",
    "from keras.callbacks import ModelCheckpoint\n",
    "from keras.optimizers import Adam\n",
    "from keras.applications.vgg16 import VGG16\n",
    "from keras.models import load_model\n",
    "from keras.utils import np_utils\n",
    "from keras import backend as K\n",
    "\n",
    "np.random.seed(1)"
   ]
  },
  {
   "cell_type": "code",
   "execution_count": 2,
   "metadata": {},
   "outputs": [],
   "source": [
    "def check_units(y_true, y_pred):\n",
    "    if y_pred.shape[1] != 1:\n",
    "        y_pred = y_pred[:,1:2]\n",
    "        y_true = y_true[:,1:2]\n",
    "    return y_true, y_pred\n",
    "\n",
    "def precision(y_true, y_pred):\n",
    "    y_true, y_pred = check_units(y_true, y_pred)\n",
    "    true_positives = K.sum(K.round(K.clip(y_true * y_pred, 0, 1)))\n",
    "    predicted_positives = K.sum(K.round(K.clip(y_pred, 0, 1)))\n",
    "    precision = true_positives / (predicted_positives + K.epsilon())\n",
    "    return precision\n",
    "\n",
    "def recall(y_true, y_pred):\n",
    "    y_true, y_pred = check_units(y_true, y_pred)\n",
    "    true_positives = K.sum(K.round(K.clip(y_true * y_pred, 0, 1)))\n",
    "    possible_positives = K.sum(K.round(K.clip(y_true, 0, 1)))\n",
    "    recall = true_positives / (possible_positives + K.epsilon())\n",
    "    return recall\n",
    "\n",
    "def f1(y_true, y_pred):\n",
    "    def recall(y_true, y_pred):\n",
    "        true_positives = K.sum(K.round(K.clip(y_true * y_pred, 0, 1)))\n",
    "        possible_positives = K.sum(K.round(K.clip(y_true, 0, 1)))\n",
    "        recall = true_positives / (possible_positives + K.epsilon())\n",
    "        return recall\n",
    "\n",
    "    def precision(y_true, y_pred):\n",
    "        true_positives = K.sum(K.round(K.clip(y_true * y_pred, 0, 1)))\n",
    "        predicted_positives = K.sum(K.round(K.clip(y_pred, 0, 1)))\n",
    "        precision = true_positives / (predicted_positives + K.epsilon())\n",
    "        return precision\n",
    "    y_true, y_pred = check_units(y_true, y_pred)\n",
    "    precision = precision(y_true, y_pred)\n",
    "    recall = recall(y_true, y_pred)\n",
    "    return 2*((precision*recall)/(precision+recall+K.epsilon()))\n",
    "\n",
    "def matthews_correlation(y_true, y_pred):\n",
    "    y_true, y_pred = check_units(y_true, y_pred)\n",
    "    y_pred_pos = K.round(K.clip(y_pred, 0, 1))\n",
    "    y_pred_neg = 1 - y_pred_pos\n",
    "\n",
    "    y_pos = K.round(K.clip(y_true, 0, 1))\n",
    "    y_neg = 1 - y_pos\n",
    "\n",
    "    tp = K.sum(y_pos * y_pred_pos)\n",
    "    tn = K.sum(y_neg * y_pred_neg)\n",
    "\n",
    "    fp = K.sum(y_neg * y_pred_pos)\n",
    "    fn = K.sum(y_pos * y_pred_neg)\n",
    "\n",
    "    numerator = (tp * tn - fp * fn)\n",
    "    denominator = K.sqrt((tp + fp) * (tp + fn) * (tn + fp) * (tn + fn))\n",
    "\n",
    "    return numerator / (denominator + K.epsilon())\n",
    "\n",
    "def auc(y_true, y_pred):\n",
    "    auc = tf.metrics.auc(y_true, y_pred)[1]\n",
    "    K.get_session().run(tf.local_variables_initializer())\n",
    "    return auc"
   ]
  },
  {
   "cell_type": "code",
   "execution_count": 3,
   "metadata": {
    "colab": {
     "base_uri": "https://localhost:8080/",
     "height": 35
    },
    "colab_type": "code",
    "id": "7YEH44-4pjyZ",
    "outputId": "303cf008-a5fd-48f0-97c7-576aedd6c15f"
   },
   "outputs": [
    {
     "data": {
      "text/plain": [
       "((22046, 200, 200, 3), (22046, 2))"
      ]
     },
     "execution_count": 3,
     "metadata": {},
     "output_type": "execute_result"
    }
   ],
   "source": [
    "x_train = np.load(\"datasets/stain_normalized/x_train_stain_200.npy\")\n",
    "y_train = np.load(\"datasets/stain_normalized/y_train_stain_200.npy\")\n",
    "x_train.shape, y_train.shape"
   ]
  },
  {
   "cell_type": "code",
   "execution_count": 4,
   "metadata": {
    "colab": {
     "base_uri": "https://localhost:8080/",
     "height": 35
    },
    "colab_type": "code",
    "id": "gKzI376uppjH",
    "outputId": "0ea13cd2-6c80-4a75-8804-d5a91c5e029f"
   },
   "outputs": [
    {
     "data": {
      "text/plain": [
       "((2756, 200, 200, 3), (2756, 2))"
      ]
     },
     "execution_count": 4,
     "metadata": {},
     "output_type": "execute_result"
    }
   ],
   "source": [
    "x_val = np.load(\"datasets/stain_normalized/x_val_stain_200.npy\")\n",
    "y_val = np.load(\"datasets/stain_normalized/y_val_stain_200.npy\")\n",
    "x_val.shape, y_val.shape"
   ]
  },
  {
   "cell_type": "code",
   "execution_count": 5,
   "metadata": {
    "colab": {
     "base_uri": "https://localhost:8080/",
     "height": 35
    },
    "colab_type": "code",
    "id": "z1oTbkw2p2tt",
    "outputId": "2dd7ca94-eee5-4fd7-cf8a-9c6c69f23a9e"
   },
   "outputs": [
    {
     "data": {
      "text/plain": [
       "((2756, 200, 200, 3), (2756, 2))"
      ]
     },
     "execution_count": 5,
     "metadata": {},
     "output_type": "execute_result"
    }
   ],
   "source": [
    "x_test = np.load(\"datasets/stain_normalized/x_test_stain_200.npy\")\n",
    "y_test = np.load(\"datasets/stain_normalized/y_test_stain_200.npy\")\n",
    "x_test.shape, y_test.shape"
   ]
  },
  {
   "cell_type": "code",
   "execution_count": 6,
   "metadata": {
    "colab": {
     "base_uri": "https://localhost:8080/",
     "height": 35
    },
    "colab_type": "code",
    "id": "_dzt_Lr-KB8u",
    "outputId": "947f9528-20fc-45ae-d11b-9aceba8e4b66"
   },
   "outputs": [
    {
     "data": {
      "text/plain": [
       "(200, 200, 3)"
      ]
     },
     "execution_count": 6,
     "metadata": {},
     "output_type": "execute_result"
    }
   ],
   "source": [
    "img = x_train[50]\n",
    "img.shape"
   ]
  },
  {
   "cell_type": "code",
   "execution_count": 7,
   "metadata": {},
   "outputs": [],
   "source": [
    "#img[50:100, 60:80]"
   ]
  },
  {
   "cell_type": "code",
   "execution_count": 8,
   "metadata": {},
   "outputs": [
    {
     "data": {
      "text/plain": [
       "<matplotlib.image.AxesImage at 0x21b9e1e85f8>"
      ]
     },
     "execution_count": 8,
     "metadata": {},
     "output_type": "execute_result"
    },
    {
     "data": {
      "image/png": "[encoded data removed]",
      "text/plain": [
       "<Figure size 432x288 with 1 Axes>"
      ]
     },
     "metadata": {
      "needs_background": "light"
     },
     "output_type": "display_data"
    }
   ],
   "source": [
    "plt.imshow(x_train[20000])"
   ]
  },
  {
   "cell_type": "code",
   "execution_count": 9,
   "metadata": {
    "colab": {
     "base_uri": "https://localhost:8080/",
     "height": 54
    },
    "colab_type": "code",
    "id": "PHebp2hWcRKp",
    "outputId": "7406e8bd-8795-4630-9aa3-4b3f64c9e920"
   },
   "outputs": [
    {
     "name": "stdout",
     "output_type": "stream",
     "text": [
      "(22046, 200, 200, 3) (22046, 2)\n",
      "(2756, 200, 200, 3) (2756, 200, 200, 3) (2756, 2) (2756, 2)\n"
     ]
    }
   ],
   "source": [
    "print(x_train.shape, y_train.shape)\n",
    "print(x_val.shape, x_test.shape, y_val.shape, y_test.shape)"
   ]
  },
  {
   "cell_type": "code",
   "execution_count": 10,
   "metadata": {
    "colab": {
     "base_uri": "https://localhost:8080/",
     "height": 35
    },
    "colab_type": "code",
    "id": "gHYInTAGqb11",
    "outputId": "7ecf0995-0938-4adb-9331-3448fb1163ef"
   },
   "outputs": [
    {
     "data": {
      "text/plain": [
       "200"
      ]
     },
     "execution_count": 10,
     "metadata": {},
     "output_type": "execute_result"
    }
   ],
   "source": [
    "IMAGE_SIZE = x_train.shape[1]\n",
    "IMAGE_SIZE"
   ]
  },
  {
   "cell_type": "code",
   "execution_count": 11,
   "metadata": {
    "colab": {
     "base_uri": "https://localhost:8080/",
     "height": 1146
    },
    "colab_type": "code",
    "id": "gTiAb2ucfhF8",
    "outputId": "a850ce62-2fe5-4189-e3b4-0ad6b1022ce3"
   },
   "outputs": [
    {
     "name": "stdout",
     "output_type": "stream",
     "text": [
      "_________________________________________________________________\n",
      "Layer (type)                 Output Shape              Param #   \n",
      "=================================================================\n",
      "input_1 (InputLayer)         (None, 200, 200, 3)       0         \n",
      "_________________________________________________________________\n",
      "block1_conv1 (Conv2D)        (None, 200, 200, 64)      1792      \n",
      "_________________________________________________________________\n",
      "block1_conv2 (Conv2D)        (None, 200, 200, 64)      36928     \n",
      "_________________________________________________________________\n",
      "block1_pool (MaxPooling2D)   (None, 100, 100, 64)      0         \n",
      "_________________________________________________________________\n",
      "block2_conv1 (Conv2D)        (None, 100, 100, 128)     73856     \n",
      "_________________________________________________________________\n",
      "block2_conv2 (Conv2D)        (None, 100, 100, 128)     147584    \n",
      "_________________________________________________________________\n",
      "block2_pool (MaxPooling2D)   (None, 50, 50, 128)       0         \n",
      "_________________________________________________________________\n",
      "block3_conv1 (Conv2D)        (None, 50, 50, 256)       295168    \n",
      "_________________________________________________________________\n",
      "block3_conv2 (Conv2D)        (None, 50, 50, 256)       590080    \n",
      "_________________________________________________________________\n",
      "block3_conv3 (Conv2D)        (None, 50, 50, 256)       590080    \n",
      "_________________________________________________________________\n",
      "block3_pool (MaxPooling2D)   (None, 25, 25, 256)       0         \n",
      "_________________________________________________________________\n",
      "block4_conv1 (Conv2D)        (None, 25, 25, 512)       1180160   \n",
      "_________________________________________________________________\n",
      "block4_conv2 (Conv2D)        (None, 25, 25, 512)       2359808   \n",
      "_________________________________________________________________\n",
      "block4_conv3 (Conv2D)        (None, 25, 25, 512)       2359808   \n",
      "_________________________________________________________________\n",
      "block4_pool (MaxPooling2D)   (None, 12, 12, 512)       0         \n",
      "_________________________________________________________________\n",
      "block5_conv1 (Conv2D)        (None, 12, 12, 512)       2359808   \n",
      "_________________________________________________________________\n",
      "block5_conv2 (Conv2D)        (None, 12, 12, 512)       2359808   \n",
      "_________________________________________________________________\n",
      "block5_conv3 (Conv2D)        (None, 12, 12, 512)       2359808   \n",
      "_________________________________________________________________\n",
      "block5_pool (MaxPooling2D)   (None, 6, 6, 512)         0         \n",
      "_________________________________________________________________\n",
      "global_average_pooling2d_1 ( (None, 512)               0         \n",
      "_________________________________________________________________\n",
      "dense_1 (Dense)              (None, 1024)              525312    \n",
      "_________________________________________________________________\n",
      "dropout_1 (Dropout)          (None, 1024)              0         \n",
      "_________________________________________________________________\n",
      "dense_2 (Dense)              (None, 2)                 2050      \n",
      "=================================================================\n",
      "Total params: 15,242,050\n",
      "Trainable params: 10,522,434\n",
      "Non-trainable params: 4,719,616\n",
      "_________________________________________________________________\n"
     ]
    }
   ],
   "source": [
    "def get_model_exp2_b():\n",
    "    base_model = VGG16(weights='imagenet',include_top=False,pooling='avg',input_shape=(IMAGE_SIZE, IMAGE_SIZE, 3))\n",
    "    base_model.trainable = False\n",
    "    X = base_model.output\n",
    "    X.trainable = False\n",
    "    \n",
    "    X = Dense(1024, activation='relu')(X)\n",
    "    X = Dropout(0.5)(X)\n",
    "    predictions = Dense(2, activation='softmax', trainable=True)(X)\n",
    "    \n",
    "    for layer in base_model.layers[-4:]:\n",
    "        layer.trainable=False\n",
    "    \n",
    "    model = Model(inputs=base_model.input, outputs=predictions)\n",
    "    model.compile(optimizer='adadelta', loss='binary_crossentropy', metrics=['accuracy', precision, recall, f1, matthews_correlation, auc])\n",
    "    return model\n",
    "\n",
    "model = None\n",
    "model=get_model_exp2_b()\n",
    "model.summary()"
   ]
  },
  {
   "cell_type": "code",
   "execution_count": 12,
   "metadata": {
    "colab": {
     "base_uri": "https://localhost:8080/",
     "height": 35
    },
    "colab_type": "code",
    "id": "4ZqXHwe37gRF",
    "outputId": "fc7e5da8-d90e-4859-ab09-8faaea7590b1"
   },
   "outputs": [
    {
     "name": "stdout",
     "output_type": "stream",
     "text": [
      "(22046, 200, 200, 3) (22046, 2) (2756, 200, 200, 3) (2756, 2) (2756, 200, 200, 3) (2756, 2)\n"
     ]
    }
   ],
   "source": [
    "# check input\n",
    "print(x_train.shape, y_train.shape, x_val.shape, y_val.shape, x_test.shape, y_test.shape)"
   ]
  },
  {
   "cell_type": "code",
   "execution_count": 13,
   "metadata": {
    "colab": {
     "base_uri": "https://localhost:8080/",
     "height": 2580
    },
    "colab_type": "code",
    "id": "y4ikeUhUgKp0",
    "outputId": "92627d04-8168-48f3-c240-b465e8693a86"
   },
   "outputs": [
    {
     "name": "stdout",
     "output_type": "stream",
     "text": [
      "Train on 22046 samples, validate on 2756 samples\n",
      "Epoch 1/50\n",
      "22046/22046 [==============================] - 340s 15ms/step - loss: 0.2130 - acc: 0.9323 - precision: 0.9453 - recall: 0.9204 - f1: 0.9313 - matthews_correlation: 0.8655 - auc: 0.9364 - val_loss: 0.1456 - val_acc: 0.9521 - val_precision: 0.9618 - val_recall: 0.9405 - val_f1: 0.9505 - val_matthews_correlation: 0.9038 - val_auc: 0.9728\n",
      "Epoch 2/50\n",
      "22046/22046 [==============================] - 330s 15ms/step - loss: 0.1344 - acc: 0.9573 - precision: 0.9716 - recall: 0.9423 - f1: 0.9561 - matthews_correlation: 0.9149 - auc: 0.9780 - val_loss: 0.1281 - val_acc: 0.9579 - val_precision: 0.9726 - val_recall: 0.9416 - val_f1: 0.9563 - val_matthews_correlation: 0.9158 - val_auc: 0.9806\n",
      "Epoch 3/50\n",
      "22046/22046 [==============================] - 330s 15ms/step - loss: 0.1131 - acc: 0.9617 - precision: 0.9746 - recall: 0.9481 - f1: 0.9605 - matthews_correlation: 0.9238 - auc: 0.9827 - val_loss: 0.1187 - val_acc: 0.9604 - val_precision: 0.9836 - val_recall: 0.9356 - val_f1: 0.9585 - val_matthews_correlation: 0.9216 - val_auc: 0.9843\n",
      "Epoch 4/50\n",
      "22046/22046 [==============================] - 330s 15ms/step - loss: 0.1033 - acc: 0.9636 - precision: 0.9771 - recall: 0.9496 - f1: 0.9626 - matthews_correlation: 0.9276 - auc: 0.9856 - val_loss: 0.1159 - val_acc: 0.9637 - val_precision: 0.9777 - val_recall: 0.9480 - val_f1: 0.9622 - val_matthews_correlation: 0.9274 - val_auc: 0.9866\n",
      "Epoch 5/50\n",
      "22046/22046 [==============================] - 332s 15ms/step - loss: 0.0936 - acc: 0.9663 - precision: 0.9789 - recall: 0.9536 - f1: 0.9655 - matthews_correlation: 0.9330 - auc: 0.9874 - val_loss: 0.1061 - val_acc: 0.9648 - val_precision: 0.9798 - val_recall: 0.9477 - val_f1: 0.9631 - val_matthews_correlation: 0.9295 - val_auc: 0.9881\n",
      "Epoch 6/50\n",
      "22046/22046 [==============================] - 333s 15ms/step - loss: 0.0841 - acc: 0.9696 - precision: 0.9813 - recall: 0.9579 - f1: 0.9690 - matthews_correlation: 0.9394 - auc: 0.9888 - val_loss: 0.1071 - val_acc: 0.9652 - val_precision: 0.9838 - val_recall: 0.9448 - val_f1: 0.9635 - val_matthews_correlation: 0.9306 - val_auc: 0.9894\n",
      "Epoch 7/50\n",
      "22046/22046 [==============================] - 331s 15ms/step - loss: 0.0767 - acc: 0.9726 - precision: 0.9843 - recall: 0.9612 - f1: 0.9722 - matthews_correlation: 0.9455 - auc: 0.9899 - val_loss: 0.1103 - val_acc: 0.9648 - val_precision: 0.9728 - val_recall: 0.9549 - val_f1: 0.9634 - val_matthews_correlation: 0.9292 - val_auc: 0.9904\n",
      "Epoch 8/50\n",
      "22046/22046 [==============================] - 333s 15ms/step - loss: 0.0683 - acc: 0.9756 - precision: 0.9853 - recall: 0.9660 - f1: 0.9752 - matthews_correlation: 0.9514 - auc: 0.9909 - val_loss: 0.1235 - val_acc: 0.9619 - val_precision: 0.9858 - val_recall: 0.9359 - val_f1: 0.9596 - val_matthews_correlation: 0.9247 - val_auc: 0.9912\n",
      "Epoch 9/50\n",
      "22046/22046 [==============================] - 331s 15ms/step - loss: 0.0629 - acc: 0.9770 - precision: 0.9872 - recall: 0.9670 - f1: 0.9766 - matthews_correlation: 0.9543 - auc: 0.9916 - val_loss: 0.1048 - val_acc: 0.9673 - val_precision: 0.9779 - val_recall: 0.9553 - val_f1: 0.9662 - val_matthews_correlation: 0.9344 - val_auc: 0.9919\n",
      "Epoch 10/50\n",
      "22046/22046 [==============================] - 332s 15ms/step - loss: 0.0569 - acc: 0.9791 - precision: 0.9881 - recall: 0.9703 - f1: 0.9787 - matthews_correlation: 0.9586 - auc: 0.9923 - val_loss: 0.1115 - val_acc: 0.9684 - val_precision: 0.9789 - val_recall: 0.9565 - val_f1: 0.9671 - val_matthews_correlation: 0.9367 - val_auc: 0.9925\n",
      "Epoch 11/50\n",
      "22046/22046 [==============================] - 330s 15ms/step - loss: 0.0504 - acc: 0.9821 - precision: 0.9908 - recall: 0.9732 - f1: 0.9816 - matthews_correlation: 0.9644 - auc: 0.9928 - val_loss: 0.1069 - val_acc: 0.9666 - val_precision: 0.9762 - val_recall: 0.9564 - val_f1: 0.9657 - val_matthews_correlation: 0.9333 - val_auc: 0.9931\n",
      "Epoch 12/50\n",
      "22046/22046 [==============================] - 328s 15ms/step - loss: 0.0447 - acc: 0.9846 - precision: 0.9930 - recall: 0.9761 - f1: 0.9842 - matthews_correlation: 0.9694 - auc: 0.9933 - val_loss: 0.1269 - val_acc: 0.9663 - val_precision: 0.9700 - val_recall: 0.9617 - val_f1: 0.9653 - val_matthews_correlation: 0.9323 - val_auc: 0.9936\n",
      "Epoch 13/50\n",
      "22046/22046 [==============================] - 329s 15ms/step - loss: 0.0398 - acc: 0.9857 - precision: 0.9927 - recall: 0.9784 - f1: 0.9853 - matthews_correlation: 0.9713 - auc: 0.9938 - val_loss: 0.1332 - val_acc: 0.9641 - val_precision: 0.9671 - val_recall: 0.9598 - val_f1: 0.9630 - val_matthews_correlation: 0.9280 - val_auc: 0.9940\n",
      "Epoch 14/50\n",
      "22046/22046 [==============================] - 328s 15ms/step - loss: 0.0363 - acc: 0.9878 - precision: 0.9945 - recall: 0.9811 - f1: 0.9875 - matthews_correlation: 0.9757 - auc: 0.9942 - val_loss: 0.1290 - val_acc: 0.9681 - val_precision: 0.9773 - val_recall: 0.9574 - val_f1: 0.9668 - val_matthews_correlation: 0.9361 - val_auc: 0.9943\n",
      "Epoch 15/50\n",
      "22046/22046 [==============================] - 328s 15ms/step - loss: 0.0312 - acc: 0.9892 - precision: 0.9954 - recall: 0.9829 - f1: 0.9889 - matthews_correlation: 0.9785 - auc: 0.9945 - val_loss: 0.1424 - val_acc: 0.9659 - val_precision: 0.9651 - val_recall: 0.9666 - val_f1: 0.9654 - val_matthews_correlation: 0.9316 - val_auc: 0.9947\n",
      "Epoch 16/50\n",
      "22046/22046 [==============================] - 327s 15ms/step - loss: 0.0265 - acc: 0.9904 - precision: 0.9950 - recall: 0.9860 - f1: 0.9903 - matthews_correlation: 0.9809 - auc: 0.9948 - val_loss: 0.1319 - val_acc: 0.9666 - val_precision: 0.9654 - val_recall: 0.9664 - val_f1: 0.9653 - val_matthews_correlation: 0.9332 - val_auc: 0.9950\n",
      "Epoch 17/50\n",
      "22046/22046 [==============================] - 328s 15ms/step - loss: 0.0236 - acc: 0.9923 - precision: 0.9971 - recall: 0.9876 - f1: 0.9922 - matthews_correlation: 0.9846 - auc: 0.9951 - val_loss: 0.1480 - val_acc: 0.9655 - val_precision: 0.9777 - val_recall: 0.9524 - val_f1: 0.9644 - val_matthews_correlation: 0.9311 - val_auc: 0.9952\n",
      "Epoch 18/50\n",
      "22046/22046 [==============================] - 327s 15ms/step - loss: 0.0202 - acc: 0.9935 - precision: 0.9976 - recall: 0.9896 - f1: 0.9934 - matthews_correlation: 0.9870 - auc: 0.9954 - val_loss: 0.1414 - val_acc: 0.9655 - val_precision: 0.9724 - val_recall: 0.9575 - val_f1: 0.9643 - val_matthews_correlation: 0.9311 - val_auc: 0.9955\n",
      "Epoch 19/50\n",
      "22046/22046 [==============================] - 328s 15ms/step - loss: 0.0168 - acc: 0.9941 - precision: 0.9977 - recall: 0.9904 - f1: 0.9939 - matthews_correlation: 0.9883 - auc: 0.9956 - val_loss: 0.1573 - val_acc: 0.9652 - val_precision: 0.9716 - val_recall: 0.9571 - val_f1: 0.9637 - val_matthews_correlation: 0.9304 - val_auc: 0.9957\n",
      "Epoch 20/50\n",
      "22046/22046 [==============================] - 327s 15ms/step - loss: 0.0146 - acc: 0.9953 - precision: 0.9979 - recall: 0.9927 - f1: 0.9952 - matthews_correlation: 0.9907 - auc: 0.9958 - val_loss: 0.1597 - val_acc: 0.9575 - val_precision: 0.9420 - val_recall: 0.9740 - val_f1: 0.9571 - val_matthews_correlation: 0.9155 - val_auc: 0.9959\n",
      "Epoch 21/50\n",
      "22046/22046 [==============================] - 328s 15ms/step - loss: 0.0129 - acc: 0.9952 - precision: 0.9979 - recall: 0.9924 - f1: 0.9951 - matthews_correlation: 0.9905 - auc: 0.9960 - val_loss: 0.1524 - val_acc: 0.9644 - val_precision: 0.9612 - val_recall: 0.9671 - val_f1: 0.9636 - val_matthews_correlation: 0.9287 - val_auc: 0.9961\n",
      "Epoch 22/50\n",
      "22046/22046 [==============================] - 328s 15ms/step - loss: 0.0107 - acc: 0.9965 - precision: 0.9987 - recall: 0.9944 - f1: 0.9965 - matthews_correlation: 0.9930 - auc: 0.9962 - val_loss: 0.1883 - val_acc: 0.9648 - val_precision: 0.9660 - val_recall: 0.9628 - val_f1: 0.9639 - val_matthews_correlation: 0.9296 - val_auc: 0.9963\n",
      "Epoch 23/50\n",
      "22046/22046 [==============================] - 328s 15ms/step - loss: 0.0091 - acc: 0.9970 - precision: 0.9985 - recall: 0.9954 - f1: 0.9969 - matthews_correlation: 0.9939 - auc: 0.9963 - val_loss: 0.1982 - val_acc: 0.9630 - val_precision: 0.9591 - val_recall: 0.9665 - val_f1: 0.9622 - val_matthews_correlation: 0.9260 - val_auc: 0.9964\n",
      "Epoch 24/50\n"
     ]
    },
    {
     "name": "stdout",
     "output_type": "stream",
     "text": [
      "22046/22046 [==============================] - 328s 15ms/step - loss: 0.0075 - acc: 0.9978 - precision: 0.9994 - recall: 0.9962 - f1: 0.9978 - matthews_correlation: 0.9956 - auc: 0.9965 - val_loss: 0.1950 - val_acc: 0.9652 - val_precision: 0.9649 - val_recall: 0.9649 - val_f1: 0.9643 - val_matthews_correlation: 0.9305 - val_auc: 0.9965\n",
      "Epoch 25/50\n",
      "22046/22046 [==============================] - 328s 15ms/step - loss: 0.0061 - acc: 0.9979 - precision: 0.9986 - recall: 0.9974 - f1: 0.9980 - matthews_correlation: 0.9958 - auc: 0.9966 - val_loss: 0.1890 - val_acc: 0.9673 - val_precision: 0.9773 - val_recall: 0.9561 - val_f1: 0.9662 - val_matthews_correlation: 0.9345 - val_auc: 0.9967\n",
      "Epoch 26/50\n",
      "22046/22046 [==============================] - 327s 15ms/step - loss: 0.0058 - acc: 0.9985 - precision: 0.9991 - recall: 0.9979 - f1: 0.9985 - matthews_correlation: 0.9969 - auc: 0.9967 - val_loss: 0.2051 - val_acc: 0.9644 - val_precision: 0.9680 - val_recall: 0.9599 - val_f1: 0.9634 - val_matthews_correlation: 0.9288 - val_auc: 0.9968\n",
      "Epoch 27/50\n",
      "22046/22046 [==============================] - 328s 15ms/step - loss: 0.0043 - acc: 0.9986 - precision: 0.9992 - recall: 0.9981 - f1: 0.9986 - matthews_correlation: 0.9972 - auc: 0.9968 - val_loss: 0.2080 - val_acc: 0.9659 - val_precision: 0.9711 - val_recall: 0.9600 - val_f1: 0.9649 - val_matthews_correlation: 0.9320 - val_auc: 0.9969\n",
      "Epoch 28/50\n",
      "22046/22046 [==============================] - 327s 15ms/step - loss: 0.0036 - acc: 0.9990 - precision: 0.9992 - recall: 0.9988 - f1: 0.9990 - matthews_correlation: 0.9980 - auc: 0.9969 - val_loss: 0.2057 - val_acc: 0.9681 - val_precision: 0.9732 - val_recall: 0.9622 - val_f1: 0.9672 - val_matthews_correlation: 0.9361 - val_auc: 0.9969\n",
      "Epoch 29/50\n",
      "22046/22046 [==============================] - 327s 15ms/step - loss: 0.0036 - acc: 0.9990 - precision: 0.9995 - recall: 0.9984 - f1: 0.9990 - matthews_correlation: 0.9980 - auc: 0.9970 - val_loss: 0.2210 - val_acc: 0.9692 - val_precision: 0.9742 - val_recall: 0.9635 - val_f1: 0.9684 - val_matthews_correlation: 0.9381 - val_auc: 0.9970\n",
      "Epoch 30/50\n",
      "22046/22046 [==============================] - 326s 15ms/step - loss: 0.0023 - acc: 0.9994 - precision: 0.9997 - recall: 0.9990 - f1: 0.9994 - matthews_correlation: 0.9987 - auc: 0.9971 - val_loss: 0.2341 - val_acc: 0.9659 - val_precision: 0.9646 - val_recall: 0.9664 - val_f1: 0.9650 - val_matthews_correlation: 0.9319 - val_auc: 0.9971\n",
      "Epoch 31/50\n",
      "22046/22046 [==============================] - 326s 15ms/step - loss: 0.0029 - acc: 0.9992 - precision: 0.9992 - recall: 0.9992 - f1: 0.9992 - matthews_correlation: 0.9984 - auc: 0.9971 - val_loss: 0.2051 - val_acc: 0.9673 - val_precision: 0.9696 - val_recall: 0.9640 - val_f1: 0.9663 - val_matthews_correlation: 0.9347 - val_auc: 0.9971\n",
      "Epoch 32/50\n",
      "22046/22046 [==============================] - 326s 15ms/step - loss: 0.0030 - acc: 0.9990 - precision: 0.9994 - recall: 0.9986 - f1: 0.9990 - matthews_correlation: 0.9980 - auc: 0.9972 - val_loss: 0.2161 - val_acc: 0.9670 - val_precision: 0.9695 - val_recall: 0.9636 - val_f1: 0.9660 - val_matthews_correlation: 0.9339 - val_auc: 0.9972\n",
      "Epoch 33/50\n",
      "22046/22046 [==============================] - 326s 15ms/step - loss: 0.0013 - acc: 0.9997 - precision: 0.9999 - recall: 0.9996 - f1: 0.9997 - matthews_correlation: 0.9995 - auc: 0.9972 - val_loss: 0.2574 - val_acc: 0.9630 - val_precision: 0.9588 - val_recall: 0.9663 - val_f1: 0.9621 - val_matthews_correlation: 0.9259 - val_auc: 0.9972\n",
      "Epoch 34/50\n",
      "22046/22046 [==============================] - 326s 15ms/step - loss: 0.0019 - acc: 0.9995 - precision: 0.9997 - recall: 0.9993 - f1: 0.9995 - matthews_correlation: 0.9990 - auc: 0.9973 - val_loss: 0.2437 - val_acc: 0.9637 - val_precision: 0.9610 - val_recall: 0.9656 - val_f1: 0.9628 - val_matthews_correlation: 0.9273 - val_auc: 0.9973\n",
      "Epoch 35/50\n",
      "22046/22046 [==============================] - 327s 15ms/step - loss: 0.0015 - acc: 0.9996 - precision: 0.9998 - recall: 0.9994 - f1: 0.9996 - matthews_correlation: 0.9992 - auc: 0.9973 - val_loss: 0.2431 - val_acc: 0.9666 - val_precision: 0.9719 - val_recall: 0.9609 - val_f1: 0.9659 - val_matthews_correlation: 0.9332 - val_auc: 0.9973\n",
      "Epoch 36/50\n",
      "22046/22046 [==============================] - 327s 15ms/step - loss: 0.0017 - acc: 0.9995 - precision: 0.9996 - recall: 0.9995 - f1: 0.9996 - matthews_correlation: 0.9991 - auc: 0.9973 - val_loss: 0.2441 - val_acc: 0.9655 - val_precision: 0.9676 - val_recall: 0.9622 - val_f1: 0.9644 - val_matthews_correlation: 0.9311 - val_auc: 0.9974\n",
      "Epoch 37/50\n",
      "22046/22046 [==============================] - 327s 15ms/step - loss: 9.8370e-04 - acc: 0.9999 - precision: 0.9998 - recall: 0.9999 - f1: 0.9998 - matthews_correlation: 0.9997 - auc: 0.9974 - val_loss: 0.2516 - val_acc: 0.9655 - val_precision: 0.9669 - val_recall: 0.9636 - val_f1: 0.9647 - val_matthews_correlation: 0.9311 - val_auc: 0.9974\n",
      "Epoch 38/50\n",
      "22046/22046 [==============================] - 326s 15ms/step - loss: 5.6887e-04 - acc: 1.0000 - precision: 0.9999 - recall: 1.0000 - f1: 1.0000 - matthews_correlation: 0.9999 - auc: 0.9974 - val_loss: 0.2562 - val_acc: 0.9637 - val_precision: 0.9615 - val_recall: 0.9652 - val_f1: 0.9628 - val_matthews_correlation: 0.9274 - val_auc: 0.9974\n",
      "Epoch 39/50\n",
      "22046/22046 [==============================] - 328s 15ms/step - loss: 8.1622e-04 - acc: 0.9998 - precision: 1.0000 - recall: 0.9995 - f1: 0.9998 - matthews_correlation: 0.9995 - auc: 0.9974 - val_loss: 0.2423 - val_acc: 0.9666 - val_precision: 0.9683 - val_recall: 0.9640 - val_f1: 0.9657 - val_matthews_correlation: 0.9333 - val_auc: 0.9975\n",
      "Epoch 40/50\n",
      "22046/22046 [==============================] - 326s 15ms/step - loss: 3.5431e-04 - acc: 0.9999 - precision: 0.9999 - recall: 0.9999 - f1: 0.9999 - matthews_correlation: 0.9998 - auc: 0.9975 - val_loss: 0.3024 - val_acc: 0.9623 - val_precision: 0.9821 - val_recall: 0.9417 - val_f1: 0.9610 - val_matthews_correlation: 0.9253 - val_auc: 0.9975\n",
      "Epoch 41/50\n",
      "22046/22046 [==============================] - 325s 15ms/step - loss: 0.0011 - acc: 0.9997 - precision: 0.9998 - recall: 0.9996 - f1: 0.9997 - matthews_correlation: 0.9995 - auc: 0.9975 - val_loss: 0.2661 - val_acc: 0.9655 - val_precision: 0.9671 - val_recall: 0.9629 - val_f1: 0.9646 - val_matthews_correlation: 0.9309 - val_auc: 0.9975\n",
      "Epoch 42/50\n",
      "22046/22046 [==============================] - 326s 15ms/step - loss: 3.6885e-04 - acc: 1.0000 - precision: 1.0000 - recall: 1.0000 - f1: 1.0000 - matthews_correlation: 1.0000 - auc: 0.9975 - val_loss: 0.2658 - val_acc: 0.9663 - val_precision: 0.9652 - val_recall: 0.9663 - val_f1: 0.9653 - val_matthews_correlation: 0.9325 - val_auc: 0.9975\n",
      "Epoch 43/50\n",
      "22046/22046 [==============================] - 326s 15ms/step - loss: 5.5291e-04 - acc: 0.9999 - precision: 0.9998 - recall: 0.9999 - f1: 0.9999 - matthews_correlation: 0.9997 - auc: 0.9975 - val_loss: 0.2743 - val_acc: 0.9673 - val_precision: 0.9721 - val_recall: 0.9620 - val_f1: 0.9665 - val_matthews_correlation: 0.9348 - val_auc: 0.9975\n",
      "Epoch 44/50\n",
      "22046/22046 [==============================] - 328s 15ms/step - loss: 4.5545e-04 - acc: 0.9999 - precision: 1.0000 - recall: 0.9998 - f1: 0.9999 - matthews_correlation: 0.9998 - auc: 0.9975 - val_loss: 0.2708 - val_acc: 0.9641 - val_precision: 0.9560 - val_recall: 0.9724 - val_f1: 0.9635 - val_matthews_correlation: 0.9286 - val_auc: 0.9975\n",
      "Epoch 45/50\n",
      "22046/22046 [==============================] - 327s 15ms/step - loss: 8.7007e-04 - acc: 0.9999 - precision: 0.9998 - recall: 0.9999 - f1: 0.9999 - matthews_correlation: 0.9997 - auc: 0.9975 - val_loss: 0.2645 - val_acc: 0.9652 - val_precision: 0.9696 - val_recall: 0.9602 - val_f1: 0.9644 - val_matthews_correlation: 0.9304 - val_auc: 0.9976\n",
      "Epoch 46/50\n",
      "22046/22046 [==============================] - 327s 15ms/step - loss: 3.1490e-04 - acc: 0.9999 - precision: 0.9999 - recall: 0.9999 - f1: 0.9999 - matthews_correlation: 0.9998 - auc: 0.9976 - val_loss: 0.2803 - val_acc: 0.9644 - val_precision: 0.9661 - val_recall: 0.9621 - val_f1: 0.9635 - val_matthews_correlation: 0.9291 - val_auc: 0.9976\n",
      "Epoch 47/50\n"
     ]
    },
    {
     "name": "stdout",
     "output_type": "stream",
     "text": [
      "22046/22046 [==============================] - 327s 15ms/step - loss: 3.8462e-04 - acc: 0.9999 - precision: 0.9999 - recall: 0.9999 - f1: 0.9999 - matthews_correlation: 0.9998 - auc: 0.9976 - val_loss: 0.2653 - val_acc: 0.9644 - val_precision: 0.9655 - val_recall: 0.9628 - val_f1: 0.9636 - val_matthews_correlation: 0.9288 - val_auc: 0.9976\n",
      "Epoch 48/50\n",
      "22046/22046 [==============================] - 326s 15ms/step - loss: 1.3497e-04 - acc: 1.0000 - precision: 1.0000 - recall: 1.0000 - f1: 1.0000 - matthews_correlation: 1.0000 - auc: 0.9976 - val_loss: 0.2762 - val_acc: 0.9630 - val_precision: 0.9600 - val_recall: 0.9649 - val_f1: 0.9619 - val_matthews_correlation: 0.9259 - val_auc: 0.9976\n",
      "Epoch 49/50\n",
      "22046/22046 [==============================] - 326s 15ms/step - loss: 2.5005e-04 - acc: 1.0000 - precision: 0.9999 - recall: 1.0000 - f1: 1.0000 - matthews_correlation: 0.9999 - auc: 0.9976 - val_loss: 0.2953 - val_acc: 0.9634 - val_precision: 0.9560 - val_recall: 0.9699 - val_f1: 0.9623 - val_matthews_correlation: 0.9269 - val_auc: 0.9976\n",
      "Epoch 50/50\n",
      "22046/22046 [==============================] - 326s 15ms/step - loss: 1.9071e-04 - acc: 1.0000 - precision: 1.0000 - recall: 0.9999 - f1: 1.0000 - matthews_correlation: 0.9999 - auc: 0.9976 - val_loss: 0.2846 - val_acc: 0.9641 - val_precision: 0.9607 - val_recall: 0.9666 - val_f1: 0.9631 - val_matthews_correlation: 0.9283 - val_auc: 0.9976\n"
     ]
    }
   ],
   "source": [
    "model=get_model_exp2_b()\n",
    "path_model='vgg_exp4_stain.h5'  \n",
    "\n",
    "# set the learning rate\n",
    "K.set_value(model.optimizer.lr, 0.01) \n",
    "\n",
    "h=model.fit(x=x_train,     \n",
    "            y=y_train, \n",
    "            batch_size=64, \n",
    "            epochs=50, \n",
    "            verbose=1, \n",
    "            validation_data=(x_val,y_val),\n",
    "            shuffle=True,\n",
    "            )"
   ]
  },
  {
   "cell_type": "code",
   "execution_count": 14,
   "metadata": {},
   "outputs": [],
   "source": [
    "model.save(path_model)"
   ]
  },
  {
   "cell_type": "code",
   "execution_count": 15,
   "metadata": {
    "colab": {},
    "colab_type": "code",
    "id": "w2qN7ElfhH0y"
   },
   "outputs": [],
   "source": [
    " def plot_loss_accu(history):\n",
    "    loss = history.history['loss']\n",
    "    val_loss = history.history['val_loss']\n",
    "    epochs = range(len(loss))\n",
    "    plt.plot(epochs, loss, 'g')\n",
    "    plt.plot(epochs, val_loss, 'y')\n",
    "    plt.title('Loss')\n",
    "    plt.legend(['train', 'val'], loc='upper right')\n",
    "    plt.grid(True)\n",
    "    plt.savefig('exp4_loss.jpg', dpi=300)\n",
    "    plt.show()\n",
    "    \n",
    "def plot_loss(history):\n",
    "    loss = history.history['acc']\n",
    "    val_loss = history.history['val_acc']\n",
    "    epochs = range(len(loss))\n",
    "    plt.plot(epochs, loss, 'r')\n",
    "    plt.plot(epochs, val_loss, 'b')\n",
    "    plt.title('Accuracy')\n",
    "    plt.legend(['train', 'val'], loc='lower right')\n",
    "    plt.grid(True)\n",
    "    plt.savefig('exp4_acc.jpg', dpi=300)\n",
    "    plt.show()"
   ]
  },
  {
   "cell_type": "code",
   "execution_count": 16,
   "metadata": {
    "colab": {
     "base_uri": "https://localhost:8080/",
     "height": 708
    },
    "colab_type": "code",
    "id": "obPywb3KhH6n",
    "outputId": "dcc8048b-e748-4737-fd73-749443a19292"
   },
   "outputs": [
    {
     "data": {
      "image/png": "[encoded data removed]",
      "text/plain": [
       "<Figure size 432x288 with 1 Axes>"
      ]
     },
     "metadata": {
      "needs_background": "light"
     },
     "output_type": "display_data"
    },
    {
     "data": {
      "image/png": "[encoded data removed]",
      "text/plain": [
       "<Figure size 432x288 with 1 Axes>"
      ]
     },
     "metadata": {
      "needs_background": "light"
     },
     "output_type": "display_data"
    },
    {
     "name": "stdout",
     "output_type": "stream",
     "text": [
      "Done!\n"
     ]
    }
   ],
   "source": [
    "plot_loss_accu(model.history)\n",
    "plot_loss(model.history)\n",
    "print(\"Done!\")"
   ]
  },
  {
   "cell_type": "code",
   "execution_count": 17,
   "metadata": {
    "colab": {
     "base_uri": "https://localhost:8080/",
     "height": 70
    },
    "colab_type": "code",
    "id": "n6z-ycnmqUbv",
    "outputId": "59ebf6b0-54f6-4013-ff85-d30f936d822b"
   },
   "outputs": [
    {
     "name": "stdout",
     "output_type": "stream",
     "text": [
      "2756/2756 [==============================] - 16s 6ms/step\n",
      "Test loss: 0.24923282898100338\n",
      "Test accuracy: 0.9698838896952104\n"
     ]
    }
   ],
   "source": [
    "score = model.evaluate(x_test, y_test, verbose=1)\n",
    "print('Test loss:', score[0])\n",
    "print('Test accuracy:', score[1])"
   ]
  },
  {
   "cell_type": "code",
   "execution_count": 18,
   "metadata": {
    "colab": {},
    "colab_type": "code",
    "id": "S79QTd_svvU-"
   },
   "outputs": [],
   "source": [
    "y_pred = model.predict(x_test)\n",
    "# get labels from predictions\n",
    "pred_labels = np.array([np.argmax(pred) for pred in y_pred])\n",
    "\n",
    "#convert ground truths to column values\n",
    "y_test = np.argmax(y_test, axis=1)\n",
    "accuracy = np.mean((y_test==pred_labels))\n"
   ]
  },
  {
   "cell_type": "code",
   "execution_count": 19,
   "metadata": {},
   "outputs": [
    {
     "data": {
      "text/plain": [
       "(2756, 2)"
      ]
     },
     "execution_count": 19,
     "metadata": {},
     "output_type": "execute_result"
    }
   ],
   "source": [
    "y_pred.shape"
   ]
  },
  {
   "cell_type": "code",
   "execution_count": 20,
   "metadata": {
    "colab": {
     "base_uri": "https://localhost:8080/",
     "height": 34
    },
    "colab_type": "code",
    "id": "zuf1y-PSv9Na",
    "outputId": "ab03ea07-8b0f-4d26-b196-7ebd82a5f1c7"
   },
   "outputs": [
    {
     "data": {
      "text/plain": [
       "0.9698838896952104"
      ]
     },
     "execution_count": 20,
     "metadata": {},
     "output_type": "execute_result"
    }
   ],
   "source": [
    "accuracy"
   ]
  },
  {
   "cell_type": "code",
   "execution_count": 21,
   "metadata": {
    "colab": {},
    "colab_type": "code",
    "id": "GaMhno3vrbry"
   },
   "outputs": [],
   "source": [
    "np.save(\"y_pred_vgg_exp4_stain.npy\", y_pred)"
   ]
  },
  {
   "cell_type": "code",
   "execution_count": null,
   "metadata": {
    "colab": {},
    "colab_type": "code",
    "id": "WNtFKE4ihjzq"
   },
   "outputs": [],
   "source": []
  }
 ],
 "metadata": {
  "accelerator": "GPU",
  "colab": {
   "collapsed_sections": [],
   "name": "vgg-2b.ipynb",
   "provenance": [],
   "version": "0.3.2"
  },
  "kernelspec": {
   "display_name": "Python 3",
   "language": "python",
   "name": "python3"
  },
  "language_info": {
   "codemirror_mode": {
    "name": "ipython",
    "version": 3
   },
   "file_extension": ".py",
   "mimetype": "text/x-python",
   "name": "python",
   "nbconvert_exporter": "python",
   "pygments_lexer": "ipython3",
   "version": "3.6.7"
  }
 },
 "nbformat": 4,
 "nbformat_minor": 1
}
