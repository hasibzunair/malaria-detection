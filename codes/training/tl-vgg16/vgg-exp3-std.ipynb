{
 "cells": [
  {
   "cell_type": "code",
   "execution_count": 1,
   "metadata": {
    "colab": {
     "base_uri": "https://localhost:8080/",
     "height": 35
    },
    "colab_type": "code",
    "id": "tiEV3cHhSQ5u",
    "outputId": "a30a42d0-7c46-44a1-8afe-a0656f6cf1ca"
   },
   "outputs": [
    {
     "name": "stderr",
     "output_type": "stream",
     "text": [
      "Using TensorFlow backend.\n"
     ]
    }
   ],
   "source": [
    "import numpy as np\n",
    "import tensorflow as tf\n",
    "import os\n",
    "import glob\n",
    "import cv2\n",
    "import random\n",
    "import matplotlib.pyplot as plt\n",
    "from imgaug import augmenters as iaa\n",
    "from sklearn.model_selection import StratifiedKFold\n",
    "from keras.models import Sequential\n",
    "from keras.optimizers import RMSprop\n",
    "from keras.layers import Conv2D, MaxPooling2D\n",
    "from keras.layers import Activation, Dropout, Flatten, Dense\n",
    "from sklearn.utils import shuffle\n",
    "from sklearn.model_selection import train_test_split\n",
    "from keras import optimizers\n",
    "from keras.utils import to_categorical, plot_model\n",
    "from keras.layers import Dense, Input, Conv2D, Flatten, MaxPooling2D, Activation\n",
    "from keras.models import Model, Sequential\n",
    "from keras.layers import Activation, Dropout, Flatten, Dense\n",
    "from keras.callbacks import ModelCheckpoint\n",
    "from keras.optimizers import Adam\n",
    "from keras.applications.vgg16 import VGG16\n",
    "from keras.models import load_model\n",
    "from keras.utils import np_utils\n",
    "from keras import backend as K\n",
    "\n",
    "np.random.seed(1)"
   ]
  },
  {
   "cell_type": "code",
   "execution_count": 2,
   "metadata": {},
   "outputs": [],
   "source": [
    "def check_units(y_true, y_pred):\n",
    "    if y_pred.shape[1] != 1:\n",
    "        y_pred = y_pred[:,1:2]\n",
    "        y_true = y_true[:,1:2]\n",
    "    return y_true, y_pred\n",
    "\n",
    "def precision(y_true, y_pred):\n",
    "    y_true, y_pred = check_units(y_true, y_pred)\n",
    "    true_positives = K.sum(K.round(K.clip(y_true * y_pred, 0, 1)))\n",
    "    predicted_positives = K.sum(K.round(K.clip(y_pred, 0, 1)))\n",
    "    precision = true_positives / (predicted_positives + K.epsilon())\n",
    "    return precision\n",
    "\n",
    "def recall(y_true, y_pred):\n",
    "    y_true, y_pred = check_units(y_true, y_pred)\n",
    "    true_positives = K.sum(K.round(K.clip(y_true * y_pred, 0, 1)))\n",
    "    possible_positives = K.sum(K.round(K.clip(y_true, 0, 1)))\n",
    "    recall = true_positives / (possible_positives + K.epsilon())\n",
    "    return recall\n",
    "\n",
    "def f1(y_true, y_pred):\n",
    "    def recall(y_true, y_pred):\n",
    "        true_positives = K.sum(K.round(K.clip(y_true * y_pred, 0, 1)))\n",
    "        possible_positives = K.sum(K.round(K.clip(y_true, 0, 1)))\n",
    "        recall = true_positives / (possible_positives + K.epsilon())\n",
    "        return recall\n",
    "\n",
    "    def precision(y_true, y_pred):\n",
    "        true_positives = K.sum(K.round(K.clip(y_true * y_pred, 0, 1)))\n",
    "        predicted_positives = K.sum(K.round(K.clip(y_pred, 0, 1)))\n",
    "        precision = true_positives / (predicted_positives + K.epsilon())\n",
    "        return precision\n",
    "    y_true, y_pred = check_units(y_true, y_pred)\n",
    "    precision = precision(y_true, y_pred)\n",
    "    recall = recall(y_true, y_pred)\n",
    "    return 2*((precision*recall)/(precision+recall+K.epsilon()))\n",
    "\n",
    "def matthews_correlation(y_true, y_pred):\n",
    "    y_true, y_pred = check_units(y_true, y_pred)\n",
    "    y_pred_pos = K.round(K.clip(y_pred, 0, 1))\n",
    "    y_pred_neg = 1 - y_pred_pos\n",
    "\n",
    "    y_pos = K.round(K.clip(y_true, 0, 1))\n",
    "    y_neg = 1 - y_pos\n",
    "\n",
    "    tp = K.sum(y_pos * y_pred_pos)\n",
    "    tn = K.sum(y_neg * y_pred_neg)\n",
    "\n",
    "    fp = K.sum(y_neg * y_pred_pos)\n",
    "    fn = K.sum(y_pos * y_pred_neg)\n",
    "\n",
    "    numerator = (tp * tn - fp * fn)\n",
    "    denominator = K.sqrt((tp + fp) * (tp + fn) * (tn + fp) * (tn + fn))\n",
    "\n",
    "    return numerator / (denominator + K.epsilon())\n",
    "\n",
    "def auc(y_true, y_pred):\n",
    "    auc = tf.metrics.auc(y_true, y_pred)[1]\n",
    "    K.get_session().run(tf.local_variables_initializer())\n",
    "    return auc"
   ]
  },
  {
   "cell_type": "code",
   "execution_count": 4,
   "metadata": {
    "colab": {
     "base_uri": "https://localhost:8080/",
     "height": 35
    },
    "colab_type": "code",
    "id": "7YEH44-4pjyZ",
    "outputId": "303cf008-a5fd-48f0-97c7-576aedd6c15f"
   },
   "outputs": [
    {
     "data": {
      "text/plain": [
       "((22046, 200, 200, 3), (22046, 2))"
      ]
     },
     "execution_count": 4,
     "metadata": {},
     "output_type": "execute_result"
    }
   ],
   "source": [
    "x_train = np.load(\"datasets/std/x_train_std_200.npy\")\n",
    "y_train = np.load(\"datasets/std/y_train_std_200.npy\")\n",
    "x_train.shape, y_train.shape"
   ]
  },
  {
   "cell_type": "code",
   "execution_count": 5,
   "metadata": {
    "colab": {
     "base_uri": "https://localhost:8080/",
     "height": 35
    },
    "colab_type": "code",
    "id": "gKzI376uppjH",
    "outputId": "0ea13cd2-6c80-4a75-8804-d5a91c5e029f"
   },
   "outputs": [
    {
     "data": {
      "text/plain": [
       "((2756, 200, 200, 3), (2756, 2))"
      ]
     },
     "execution_count": 5,
     "metadata": {},
     "output_type": "execute_result"
    }
   ],
   "source": [
    "x_val = np.load(\"datasets/std/x_val_std_200.npy\")\n",
    "y_val = np.load(\"datasets/std/y_val_std_200.npy\")\n",
    "x_val.shape, y_val.shape"
   ]
  },
  {
   "cell_type": "code",
   "execution_count": 6,
   "metadata": {
    "colab": {
     "base_uri": "https://localhost:8080/",
     "height": 35
    },
    "colab_type": "code",
    "id": "z1oTbkw2p2tt",
    "outputId": "2dd7ca94-eee5-4fd7-cf8a-9c6c69f23a9e"
   },
   "outputs": [
    {
     "data": {
      "text/plain": [
       "((2756, 200, 200, 3), (2756, 2))"
      ]
     },
     "execution_count": 6,
     "metadata": {},
     "output_type": "execute_result"
    }
   ],
   "source": [
    "x_test = np.load(\"datasets/std/x_test_std_200.npy\")\n",
    "y_test = np.load(\"datasets/std/y_test_std_200.npy\")\n",
    "x_test.shape, y_test.shape"
   ]
  },
  {
   "cell_type": "code",
   "execution_count": 7,
   "metadata": {
    "colab": {
     "base_uri": "https://localhost:8080/",
     "height": 35
    },
    "colab_type": "code",
    "id": "_dzt_Lr-KB8u",
    "outputId": "947f9528-20fc-45ae-d11b-9aceba8e4b66"
   },
   "outputs": [
    {
     "data": {
      "text/plain": [
       "(200, 200, 3)"
      ]
     },
     "execution_count": 7,
     "metadata": {},
     "output_type": "execute_result"
    }
   ],
   "source": [
    "img = x_train[50]\n",
    "img.shape"
   ]
  },
  {
   "cell_type": "code",
   "execution_count": 8,
   "metadata": {},
   "outputs": [
    {
     "data": {
      "text/plain": [
       "array([[[0.83447025, 0.3045966 , 0.430757  ],\n",
       "        [0.83447025, 0.3045966 , 0.430757  ],\n",
       "        [0.83447025, 0.3045966 , 0.430757  ],\n",
       "        ...,\n",
       "        [0.87231837, 0.3676768 , 0.46860511],\n",
       "        [0.88493441, 0.38029284, 0.48122115],\n",
       "        [0.88493441, 0.38029284, 0.48122115]],\n",
       "\n",
       "       [[0.83447025, 0.3045966 , 0.430757  ],\n",
       "        [0.83447025, 0.3045966 , 0.430757  ],\n",
       "        [0.83447025, 0.3045966 , 0.430757  ],\n",
       "        ...,\n",
       "        [0.88493441, 0.38029284, 0.48122115],\n",
       "        [0.88493441, 0.38029284, 0.48122115],\n",
       "        [0.88493441, 0.38029284, 0.48122115]],\n",
       "\n",
       "       [[0.83447025, 0.3045966 , 0.430757  ],\n",
       "        [0.83447025, 0.3045966 , 0.430757  ],\n",
       "        [0.83447025, 0.3045966 , 0.430757  ],\n",
       "        ...,\n",
       "        [0.88493441, 0.38029284, 0.46860511],\n",
       "        [0.88493441, 0.38029284, 0.48122115],\n",
       "        [0.88493441, 0.38029284, 0.48122115]],\n",
       "\n",
       "       ...,\n",
       "\n",
       "       [[0.94801461, 0.430757  , 0.48122115],\n",
       "        [0.97324668, 0.45598908, 0.50645323],\n",
       "        [0.98586272, 0.46860511, 0.51906927],\n",
       "        ...,\n",
       "        [1.06155896, 0.55691739, 0.55691739],\n",
       "        [1.074175  , 0.56953343, 0.56953343],\n",
       "        [1.08679104, 0.58214947, 0.56953343]],\n",
       "\n",
       "       [[0.94801461, 0.430757  , 0.48122115],\n",
       "        [0.94801461, 0.430757  , 0.48122115],\n",
       "        [0.96063064, 0.44337304, 0.49383719],\n",
       "        ...,\n",
       "        [1.04894292, 0.54430135, 0.54430135],\n",
       "        [1.074175  , 0.56953343, 0.56953343],\n",
       "        [1.074175  , 0.56953343, 0.56953343]],\n",
       "\n",
       "       [[0.94801461, 0.430757  , 0.48122115],\n",
       "        [0.94801461, 0.430757  , 0.48122115],\n",
       "        [0.96063064, 0.44337304, 0.49383719],\n",
       "        ...,\n",
       "        [1.04894292, 0.54430135, 0.54430135],\n",
       "        [1.074175  , 0.56953343, 0.56953343],\n",
       "        [1.074175  , 0.56953343, 0.56953343]]])"
      ]
     },
     "execution_count": 8,
     "metadata": {},
     "output_type": "execute_result"
    }
   ],
   "source": [
    "img[50:100, 60:80]"
   ]
  },
  {
   "cell_type": "code",
   "execution_count": 9,
   "metadata": {
    "colab": {
     "base_uri": "https://localhost:8080/",
     "height": 54
    },
    "colab_type": "code",
    "id": "PHebp2hWcRKp",
    "outputId": "7406e8bd-8795-4630-9aa3-4b3f64c9e920"
   },
   "outputs": [
    {
     "name": "stdout",
     "output_type": "stream",
     "text": [
      "(22046, 200, 200, 3) (22046, 2)\n",
      "(2756, 200, 200, 3) (2756, 200, 200, 3) (2756, 2) (2756, 2)\n"
     ]
    }
   ],
   "source": [
    "print(x_train.shape, y_train.shape)\n",
    "print(x_val.shape, x_test.shape, y_val.shape, y_test.shape)"
   ]
  },
  {
   "cell_type": "code",
   "execution_count": 10,
   "metadata": {
    "colab": {
     "base_uri": "https://localhost:8080/",
     "height": 35
    },
    "colab_type": "code",
    "id": "gHYInTAGqb11",
    "outputId": "7ecf0995-0938-4adb-9331-3448fb1163ef"
   },
   "outputs": [
    {
     "data": {
      "text/plain": [
       "200"
      ]
     },
     "execution_count": 10,
     "metadata": {},
     "output_type": "execute_result"
    }
   ],
   "source": [
    "IMAGE_SIZE = x_train.shape[1]\n",
    "IMAGE_SIZE"
   ]
  },
  {
   "cell_type": "code",
   "execution_count": 11,
   "metadata": {
    "colab": {
     "base_uri": "https://localhost:8080/",
     "height": 1146
    },
    "colab_type": "code",
    "id": "gTiAb2ucfhF8",
    "outputId": "a850ce62-2fe5-4189-e3b4-0ad6b1022ce3"
   },
   "outputs": [
    {
     "name": "stdout",
     "output_type": "stream",
     "text": [
      "_________________________________________________________________\n",
      "Layer (type)                 Output Shape              Param #   \n",
      "=================================================================\n",
      "input_1 (InputLayer)         (None, 200, 200, 3)       0         \n",
      "_________________________________________________________________\n",
      "block1_conv1 (Conv2D)        (None, 200, 200, 64)      1792      \n",
      "_________________________________________________________________\n",
      "block1_conv2 (Conv2D)        (None, 200, 200, 64)      36928     \n",
      "_________________________________________________________________\n",
      "block1_pool (MaxPooling2D)   (None, 100, 100, 64)      0         \n",
      "_________________________________________________________________\n",
      "block2_conv1 (Conv2D)        (None, 100, 100, 128)     73856     \n",
      "_________________________________________________________________\n",
      "block2_conv2 (Conv2D)        (None, 100, 100, 128)     147584    \n",
      "_________________________________________________________________\n",
      "block2_pool (MaxPooling2D)   (None, 50, 50, 128)       0         \n",
      "_________________________________________________________________\n",
      "block3_conv1 (Conv2D)        (None, 50, 50, 256)       295168    \n",
      "_________________________________________________________________\n",
      "block3_conv2 (Conv2D)        (None, 50, 50, 256)       590080    \n",
      "_________________________________________________________________\n",
      "block3_conv3 (Conv2D)        (None, 50, 50, 256)       590080    \n",
      "_________________________________________________________________\n",
      "block3_pool (MaxPooling2D)   (None, 25, 25, 256)       0         \n",
      "_________________________________________________________________\n",
      "block4_conv1 (Conv2D)        (None, 25, 25, 512)       1180160   \n",
      "_________________________________________________________________\n",
      "block4_conv2 (Conv2D)        (None, 25, 25, 512)       2359808   \n",
      "_________________________________________________________________\n",
      "block4_conv3 (Conv2D)        (None, 25, 25, 512)       2359808   \n",
      "_________________________________________________________________\n",
      "block4_pool (MaxPooling2D)   (None, 12, 12, 512)       0         \n",
      "_________________________________________________________________\n",
      "block5_conv1 (Conv2D)        (None, 12, 12, 512)       2359808   \n",
      "_________________________________________________________________\n",
      "block5_conv2 (Conv2D)        (None, 12, 12, 512)       2359808   \n",
      "_________________________________________________________________\n",
      "block5_conv3 (Conv2D)        (None, 12, 12, 512)       2359808   \n",
      "_________________________________________________________________\n",
      "block5_pool (MaxPooling2D)   (None, 6, 6, 512)         0         \n",
      "_________________________________________________________________\n",
      "global_average_pooling2d_1 ( (None, 512)               0         \n",
      "_________________________________________________________________\n",
      "dense_1 (Dense)              (None, 1024)              525312    \n",
      "_________________________________________________________________\n",
      "dropout_1 (Dropout)          (None, 1024)              0         \n",
      "_________________________________________________________________\n",
      "dense_2 (Dense)              (None, 2)                 2050      \n",
      "=================================================================\n",
      "Total params: 15,242,050\n",
      "Trainable params: 10,522,434\n",
      "Non-trainable params: 4,719,616\n",
      "_________________________________________________________________\n"
     ]
    }
   ],
   "source": [
    "def get_model_exp2_b():\n",
    "    base_model = VGG16(weights='imagenet',include_top=False,pooling='avg',input_shape=(IMAGE_SIZE, IMAGE_SIZE, 3))\n",
    "    base_model.trainable = False\n",
    "    X = base_model.output\n",
    "    X.trainable = False\n",
    "    \n",
    "    X = Dense(1024, activation='relu')(X)\n",
    "    X = Dropout(0.5)(X)\n",
    "    predictions = Dense(2, activation='softmax', trainable=True)(X)\n",
    "    \n",
    "    for layer in base_model.layers[-4:]:\n",
    "        layer.trainable=False\n",
    "    \n",
    "    model = Model(inputs=base_model.input, outputs=predictions)\n",
    "    model.compile(optimizer='adadelta', loss='binary_crossentropy', metrics=['accuracy', precision, recall, f1, matthews_correlation, auc])\n",
    "    return model\n",
    "\n",
    "model = None\n",
    "model=get_model_exp2_b()\n",
    "model.summary()"
   ]
  },
  {
   "cell_type": "code",
   "execution_count": 13,
   "metadata": {
    "colab": {
     "base_uri": "https://localhost:8080/",
     "height": 35
    },
    "colab_type": "code",
    "id": "4ZqXHwe37gRF",
    "outputId": "fc7e5da8-d90e-4859-ab09-8faaea7590b1"
   },
   "outputs": [
    {
     "name": "stdout",
     "output_type": "stream",
     "text": [
      "(22046, 200, 200, 3) (22046, 2) (2756, 200, 200, 3) (2756, 2) (2756, 200, 200, 3) (2756, 2)\n"
     ]
    }
   ],
   "source": [
    "# check input\n",
    "print(x_train.shape, y_train.shape, x_val.shape, y_val.shape, x_test.shape, y_test.shape)"
   ]
  },
  {
   "cell_type": "code",
   "execution_count": 14,
   "metadata": {
    "colab": {
     "base_uri": "https://localhost:8080/",
     "height": 2580
    },
    "colab_type": "code",
    "id": "y4ikeUhUgKp0",
    "outputId": "92627d04-8168-48f3-c240-b465e8693a86"
   },
   "outputs": [
    {
     "name": "stdout",
     "output_type": "stream",
     "text": [
      "Train on 22046 samples, validate on 2756 samples\n",
      "Epoch 1/50\n",
      "22046/22046 [==============================] - 351s 16ms/step - loss: 0.2060 - acc: 0.9200 - precision: 0.9326 - recall: 0.9096 - f1: 0.9191 - matthews_correlation: 0.8415 - auc: 0.9094 - val_loss: 0.1309 - val_acc: 0.9557 - val_precision: 0.9615 - val_recall: 0.9481 - val_f1: 0.9540 - val_matthews_correlation: 0.9114 - val_auc: 0.9744\n",
      "Epoch 2/50\n",
      "22046/22046 [==============================] - 341s 15ms/step - loss: 0.1297 - acc: 0.9584 - precision: 0.9691 - recall: 0.9472 - f1: 0.9573 - matthews_correlation: 0.9170 - auc: 0.9794 - val_loss: 0.1303 - val_acc: 0.9575 - val_precision: 0.9815 - val_recall: 0.9328 - val_f1: 0.9558 - val_matthews_correlation: 0.9162 - val_auc: 0.9820\n",
      "Epoch 3/50\n",
      "22046/22046 [==============================] - 341s 15ms/step - loss: 0.1155 - acc: 0.9604 - precision: 0.9713 - recall: 0.9489 - f1: 0.9593 - matthews_correlation: 0.9210 - auc: 0.9837 - val_loss: 0.1132 - val_acc: 0.9612 - val_precision: 0.9736 - val_recall: 0.9467 - val_f1: 0.9595 - val_matthews_correlation: 0.9223 - val_auc: 0.9852\n",
      "Epoch 4/50\n",
      "22046/22046 [==============================] - 341s 15ms/step - loss: 0.1090 - acc: 0.9631 - precision: 0.9738 - recall: 0.9521 - f1: 0.9623 - matthews_correlation: 0.9264 - auc: 0.9862 - val_loss: 0.1548 - val_acc: 0.9448 - val_precision: 0.9883 - val_recall: 0.9003 - val_f1: 0.9415 - val_matthews_correlation: 0.8933 - val_auc: 0.9869\n",
      "Epoch 5/50\n",
      "22046/22046 [==============================] - 341s 15ms/step - loss: 0.1025 - acc: 0.9657 - precision: 0.9758 - recall: 0.9555 - f1: 0.9649 - matthews_correlation: 0.9318 - auc: 0.9875 - val_loss: 0.1041 - val_acc: 0.9619 - val_precision: 0.9746 - val_recall: 0.9477 - val_f1: 0.9605 - val_matthews_correlation: 0.9239 - val_auc: 0.9881\n",
      "Epoch 6/50\n",
      "22046/22046 [==============================] - 339s 15ms/step - loss: 0.0994 - acc: 0.9650 - precision: 0.9748 - recall: 0.9552 - f1: 0.9644 - matthews_correlation: 0.9301 - auc: 0.9886 - val_loss: 0.1079 - val_acc: 0.9604 - val_precision: 0.9808 - val_recall: 0.9391 - val_f1: 0.9589 - val_matthews_correlation: 0.9215 - val_auc: 0.9890\n",
      "Epoch 7/50\n",
      "22046/22046 [==============================] - 340s 15ms/step - loss: 0.0932 - acc: 0.9679 - precision: 0.9785 - recall: 0.9574 - f1: 0.9672 - matthews_correlation: 0.9361 - auc: 0.9894 - val_loss: 0.1048 - val_acc: 0.9623 - val_precision: 0.9801 - val_recall: 0.9435 - val_f1: 0.9610 - val_matthews_correlation: 0.9249 - val_auc: 0.9898\n",
      "Epoch 8/50\n",
      "22046/22046 [==============================] - 341s 15ms/step - loss: 0.0899 - acc: 0.9682 - precision: 0.9776 - recall: 0.9588 - f1: 0.9676 - matthews_correlation: 0.9366 - auc: 0.9901 - val_loss: 0.1159 - val_acc: 0.9583 - val_precision: 0.9822 - val_recall: 0.9335 - val_f1: 0.9566 - val_matthews_correlation: 0.9176 - val_auc: 0.9904\n",
      "Epoch 9/50\n",
      "22046/22046 [==============================] - 340s 15ms/step - loss: 0.0858 - acc: 0.9698 - precision: 0.9789 - recall: 0.9603 - f1: 0.9690 - matthews_correlation: 0.9398 - auc: 0.9907 - val_loss: 0.1014 - val_acc: 0.9612 - val_precision: 0.9792 - val_recall: 0.9421 - val_f1: 0.9596 - val_matthews_correlation: 0.9231 - val_auc: 0.9909\n",
      "Epoch 10/50\n",
      "22046/22046 [==============================] - 340s 15ms/step - loss: 0.0821 - acc: 0.9703 - precision: 0.9792 - recall: 0.9613 - f1: 0.9697 - matthews_correlation: 0.9409 - auc: 0.9912 - val_loss: 0.1142 - val_acc: 0.9623 - val_precision: 0.9584 - val_recall: 0.9655 - val_f1: 0.9611 - val_matthews_correlation: 0.9249 - val_auc: 0.9914\n",
      "Epoch 11/50\n",
      "22046/22046 [==============================] - 340s 15ms/step - loss: 0.0784 - acc: 0.9726 - precision: 0.9818 - recall: 0.9630 - f1: 0.9718 - matthews_correlation: 0.9455 - auc: 0.9916 - val_loss: 0.0981 - val_acc: 0.9644 - val_precision: 0.9716 - val_recall: 0.9564 - val_f1: 0.9634 - val_matthews_correlation: 0.9290 - val_auc: 0.9918\n",
      "Epoch 12/50\n",
      "22046/22046 [==============================] - 340s 15ms/step - loss: 0.0759 - acc: 0.9744 - precision: 0.9832 - recall: 0.9651 - f1: 0.9736 - matthews_correlation: 0.9489 - auc: 0.9920 - val_loss: 0.0982 - val_acc: 0.9655 - val_precision: 0.9660 - val_recall: 0.9634 - val_f1: 0.9642 - val_matthews_correlation: 0.9310 - val_auc: 0.9921\n",
      "Epoch 13/50\n",
      "22046/22046 [==============================] - 340s 15ms/step - loss: 0.0720 - acc: 0.9743 - precision: 0.9823 - recall: 0.9663 - f1: 0.9737 - matthews_correlation: 0.9487 - auc: 0.9923 - val_loss: 0.0971 - val_acc: 0.9648 - val_precision: 0.9770 - val_recall: 0.9512 - val_f1: 0.9633 - val_matthews_correlation: 0.9300 - val_auc: 0.9925\n",
      "Epoch 14/50\n",
      "22046/22046 [==============================] - 340s 15ms/step - loss: 0.0685 - acc: 0.9761 - precision: 0.9842 - recall: 0.9681 - f1: 0.9756 - matthews_correlation: 0.9524 - auc: 0.9927 - val_loss: 0.0933 - val_acc: 0.9648 - val_precision: 0.9756 - val_recall: 0.9528 - val_f1: 0.9635 - val_matthews_correlation: 0.9298 - val_auc: 0.9928\n",
      "Epoch 15/50\n",
      "22046/22046 [==============================] - 339s 15ms/step - loss: 0.0671 - acc: 0.9772 - precision: 0.9849 - recall: 0.9698 - f1: 0.9769 - matthews_correlation: 0.9548 - auc: 0.9930 - val_loss: 0.1001 - val_acc: 0.9623 - val_precision: 0.9859 - val_recall: 0.9377 - val_f1: 0.9606 - val_matthews_correlation: 0.9256 - val_auc: 0.9931\n",
      "Epoch 16/50\n",
      "22046/22046 [==============================] - 341s 15ms/step - loss: 0.0626 - acc: 0.9789 - precision: 0.9861 - recall: 0.9716 - f1: 0.9784 - matthews_correlation: 0.9579 - auc: 0.9933 - val_loss: 0.1022 - val_acc: 0.9634 - val_precision: 0.9537 - val_recall: 0.9723 - val_f1: 0.9624 - val_matthews_correlation: 0.9270 - val_auc: 0.9934\n",
      "Epoch 17/50\n",
      "22046/22046 [==============================] - 340s 15ms/step - loss: 0.0610 - acc: 0.9794 - precision: 0.9863 - recall: 0.9722 - f1: 0.9788 - matthews_correlation: 0.9590 - auc: 0.9935 - val_loss: 0.1105 - val_acc: 0.9615 - val_precision: 0.9846 - val_recall: 0.9378 - val_f1: 0.9601 - val_matthews_correlation: 0.9240 - val_auc: 0.9936\n",
      "Epoch 18/50\n",
      "22046/22046 [==============================] - 340s 15ms/step - loss: 0.0568 - acc: 0.9807 - precision: 0.9886 - recall: 0.9732 - f1: 0.9805 - matthews_correlation: 0.9615 - auc: 0.9937 - val_loss: 0.0934 - val_acc: 0.9670 - val_precision: 0.9768 - val_recall: 0.9561 - val_f1: 0.9657 - val_matthews_correlation: 0.9343 - val_auc: 0.9938\n",
      "Epoch 19/50\n",
      "22046/22046 [==============================] - 339s 15ms/step - loss: 0.0528 - acc: 0.9814 - precision: 0.9881 - recall: 0.9748 - f1: 0.9810 - matthews_correlation: 0.9630 - auc: 0.9940 - val_loss: 0.0968 - val_acc: 0.9666 - val_precision: 0.9762 - val_recall: 0.9554 - val_f1: 0.9651 - val_matthews_correlation: 0.9333 - val_auc: 0.9941\n",
      "Epoch 20/50\n",
      "22046/22046 [==============================] - 339s 15ms/step - loss: 0.0512 - acc: 0.9827 - precision: 0.9898 - recall: 0.9759 - f1: 0.9825 - matthews_correlation: 0.9656 - auc: 0.9942 - val_loss: 0.1084 - val_acc: 0.9641 - val_precision: 0.9502 - val_recall: 0.9774 - val_f1: 0.9630 - val_matthews_correlation: 0.9287 - val_auc: 0.9943\n",
      "Epoch 21/50\n",
      "22046/22046 [==============================] - 339s 15ms/step - loss: 0.0470 - acc: 0.9842 - precision: 0.9908 - recall: 0.9779 - f1: 0.9840 - matthews_correlation: 0.9686 - auc: 0.9944 - val_loss: 0.0922 - val_acc: 0.9677 - val_precision: 0.9794 - val_recall: 0.9552 - val_f1: 0.9667 - val_matthews_correlation: 0.9356 - val_auc: 0.9945\n",
      "Epoch 22/50\n",
      "22046/22046 [==============================] - 340s 15ms/step - loss: 0.0457 - acc: 0.9839 - precision: 0.9895 - recall: 0.9787 - f1: 0.9838 - matthews_correlation: 0.9681 - auc: 0.9946 - val_loss: 0.1220 - val_acc: 0.9579 - val_precision: 0.9840 - val_recall: 0.9304 - val_f1: 0.9556 - val_matthews_correlation: 0.9174 - val_auc: 0.9947\n",
      "Epoch 23/50\n",
      "22046/22046 [==============================] - 338s 15ms/step - loss: 0.0423 - acc: 0.9853 - precision: 0.9912 - recall: 0.9796 - f1: 0.9851 - matthews_correlation: 0.9708 - auc: 0.9948 - val_loss: 0.1011 - val_acc: 0.9688 - val_precision: 0.9664 - val_recall: 0.9702 - val_f1: 0.9678 - val_matthews_correlation: 0.9376 - val_auc: 0.9949\n",
      "Epoch 24/50\n"
     ]
    },
    {
     "name": "stdout",
     "output_type": "stream",
     "text": [
      "22046/22046 [==============================] - 339s 15ms/step - loss: 0.0393 - acc: 0.9855 - precision: 0.9915 - recall: 0.9795 - f1: 0.9852 - matthews_correlation: 0.9711 - auc: 0.9950 - val_loss: 0.1097 - val_acc: 0.9681 - val_precision: 0.9643 - val_recall: 0.9710 - val_f1: 0.9671 - val_matthews_correlation: 0.9362 - val_auc: 0.9950\n",
      "Epoch 25/50\n",
      "22046/22046 [==============================] - 338s 15ms/step - loss: 0.0378 - acc: 0.9873 - precision: 0.9928 - recall: 0.9822 - f1: 0.9872 - matthews_correlation: 0.9749 - auc: 0.9951 - val_loss: 0.1030 - val_acc: 0.9677 - val_precision: 0.9827 - val_recall: 0.9522 - val_f1: 0.9666 - val_matthews_correlation: 0.9361 - val_auc: 0.9952\n",
      "Epoch 26/50\n",
      "22046/22046 [==============================] - 339s 15ms/step - loss: 0.0347 - acc: 0.9882 - precision: 0.9936 - recall: 0.9830 - f1: 0.9880 - matthews_correlation: 0.9765 - auc: 0.9953 - val_loss: 0.1019 - val_acc: 0.9677 - val_precision: 0.9784 - val_recall: 0.9564 - val_f1: 0.9666 - val_matthews_correlation: 0.9361 - val_auc: 0.9954\n",
      "Epoch 27/50\n",
      "22046/22046 [==============================] - 339s 15ms/step - loss: 0.0323 - acc: 0.9894 - precision: 0.9944 - recall: 0.9841 - f1: 0.9891 - matthews_correlation: 0.9788 - auc: 0.9954 - val_loss: 0.1137 - val_acc: 0.9663 - val_precision: 0.9649 - val_recall: 0.9672 - val_f1: 0.9654 - val_matthews_correlation: 0.9328 - val_auc: 0.9955\n",
      "Epoch 28/50\n",
      "22046/22046 [==============================] - 339s 15ms/step - loss: 0.0304 - acc: 0.9900 - precision: 0.9945 - recall: 0.9854 - f1: 0.9897 - matthews_correlation: 0.9800 - auc: 0.9956 - val_loss: 0.1112 - val_acc: 0.9688 - val_precision: 0.9699 - val_recall: 0.9675 - val_f1: 0.9682 - val_matthews_correlation: 0.9378 - val_auc: 0.9956\n",
      "Epoch 29/50\n",
      "22046/22046 [==============================] - 339s 15ms/step - loss: 0.0283 - acc: 0.9907 - precision: 0.9955 - recall: 0.9858 - f1: 0.9905 - matthews_correlation: 0.9814 - auc: 0.9957 - val_loss: 0.1646 - val_acc: 0.9546 - val_precision: 0.9905 - val_recall: 0.9187 - val_f1: 0.9526 - val_matthews_correlation: 0.9118 - val_auc: 0.9958\n",
      "Epoch 30/50\n",
      "22046/22046 [==============================] - 340s 15ms/step - loss: 0.0256 - acc: 0.9912 - precision: 0.9956 - recall: 0.9868 - f1: 0.9910 - matthews_correlation: 0.9825 - auc: 0.9958 - val_loss: 0.1250 - val_acc: 0.9681 - val_precision: 0.9785 - val_recall: 0.9567 - val_f1: 0.9669 - val_matthews_correlation: 0.9365 - val_auc: 0.9959\n",
      "Epoch 31/50\n",
      "22046/22046 [==============================] - 339s 15ms/step - loss: 0.0247 - acc: 0.9917 - precision: 0.9952 - recall: 0.9882 - f1: 0.9915 - matthews_correlation: 0.9834 - auc: 0.9959 - val_loss: 0.1561 - val_acc: 0.9579 - val_precision: 0.9379 - val_recall: 0.9794 - val_f1: 0.9575 - val_matthews_correlation: 0.9171 - val_auc: 0.9960\n",
      "Epoch 32/50\n",
      "22046/22046 [==============================] - 338s 15ms/step - loss: 0.0239 - acc: 0.9920 - precision: 0.9956 - recall: 0.9883 - f1: 0.9918 - matthews_correlation: 0.9840 - auc: 0.9960 - val_loss: 0.1173 - val_acc: 0.9706 - val_precision: 0.9791 - val_recall: 0.9612 - val_f1: 0.9696 - val_matthews_correlation: 0.9414 - val_auc: 0.9961\n",
      "Epoch 33/50\n",
      "22046/22046 [==============================] - 339s 15ms/step - loss: 0.0219 - acc: 0.9931 - precision: 0.9967 - recall: 0.9895 - f1: 0.9929 - matthews_correlation: 0.9863 - auc: 0.9961 - val_loss: 0.1330 - val_acc: 0.9655 - val_precision: 0.9551 - val_recall: 0.9763 - val_f1: 0.9650 - val_matthews_correlation: 0.9314 - val_auc: 0.9962\n",
      "Epoch 34/50\n",
      "22046/22046 [==============================] - 340s 15ms/step - loss: 0.0192 - acc: 0.9942 - precision: 0.9971 - recall: 0.9915 - f1: 0.9942 - matthews_correlation: 0.9884 - auc: 0.9962 - val_loss: 0.1384 - val_acc: 0.9663 - val_precision: 0.9570 - val_recall: 0.9755 - val_f1: 0.9657 - val_matthews_correlation: 0.9327 - val_auc: 0.9963\n",
      "Epoch 35/50\n",
      "22046/22046 [==============================] - 339s 15ms/step - loss: 0.0179 - acc: 0.9940 - precision: 0.9967 - recall: 0.9914 - f1: 0.9939 - matthews_correlation: 0.9880 - auc: 0.9963 - val_loss: 0.1364 - val_acc: 0.9684 - val_precision: 0.9733 - val_recall: 0.9631 - val_f1: 0.9676 - val_matthews_correlation: 0.9372 - val_auc: 0.9964\n",
      "Epoch 36/50\n",
      "22046/22046 [==============================] - 339s 15ms/step - loss: 0.0168 - acc: 0.9943 - precision: 0.9969 - recall: 0.9920 - f1: 0.9943 - matthews_correlation: 0.9886 - auc: 0.9964 - val_loss: 0.1407 - val_acc: 0.9666 - val_precision: 0.9611 - val_recall: 0.9719 - val_f1: 0.9660 - val_matthews_correlation: 0.9333 - val_auc: 0.9965\n",
      "Epoch 37/50\n",
      "22046/22046 [==============================] - 339s 15ms/step - loss: 0.0146 - acc: 0.9949 - precision: 0.9978 - recall: 0.9920 - f1: 0.9948 - matthews_correlation: 0.9899 - auc: 0.9965 - val_loss: 0.1532 - val_acc: 0.9666 - val_precision: 0.9771 - val_recall: 0.9557 - val_f1: 0.9657 - val_matthews_correlation: 0.9335 - val_auc: 0.9966\n",
      "Epoch 38/50\n",
      "22046/22046 [==============================] - 340s 15ms/step - loss: 0.0134 - acc: 0.9959 - precision: 0.9980 - recall: 0.9938 - f1: 0.9958 - matthews_correlation: 0.9919 - auc: 0.9966 - val_loss: 0.1495 - val_acc: 0.9699 - val_precision: 0.9765 - val_recall: 0.9630 - val_f1: 0.9693 - val_matthews_correlation: 0.9399 - val_auc: 0.9966\n",
      "Epoch 39/50\n",
      "22046/22046 [==============================] - 339s 15ms/step - loss: 0.0129 - acc: 0.9956 - precision: 0.9978 - recall: 0.9938 - f1: 0.9957 - matthews_correlation: 0.9912 - auc: 0.9967 - val_loss: 0.1352 - val_acc: 0.9692 - val_precision: 0.9737 - val_recall: 0.9647 - val_f1: 0.9686 - val_matthews_correlation: 0.9386 - val_auc: 0.9967\n",
      "Epoch 40/50\n",
      "22046/22046 [==============================] - 339s 15ms/step - loss: 0.0117 - acc: 0.9964 - precision: 0.9981 - recall: 0.9947 - f1: 0.9963 - matthews_correlation: 0.9928 - auc: 0.9967 - val_loss: 0.1465 - val_acc: 0.9673 - val_precision: 0.9741 - val_recall: 0.9602 - val_f1: 0.9666 - val_matthews_correlation: 0.9349 - val_auc: 0.9968\n",
      "Epoch 41/50\n",
      "22046/22046 [==============================] - 339s 15ms/step - loss: 0.0119 - acc: 0.9956 - precision: 0.9975 - recall: 0.9938 - f1: 0.9956 - matthews_correlation: 0.9912 - auc: 0.9968 - val_loss: 0.1561 - val_acc: 0.9684 - val_precision: 0.9736 - val_recall: 0.9624 - val_f1: 0.9675 - val_matthews_correlation: 0.9370 - val_auc: 0.9968\n",
      "Epoch 42/50\n",
      "22046/22046 [==============================] - 339s 15ms/step - loss: 0.0096 - acc: 0.9975 - precision: 0.9990 - recall: 0.9960 - f1: 0.9974 - matthews_correlation: 0.9949 - auc: 0.9969 - val_loss: 0.1672 - val_acc: 0.9692 - val_precision: 0.9709 - val_recall: 0.9675 - val_f1: 0.9686 - val_matthews_correlation: 0.9385 - val_auc: 0.9969\n",
      "Epoch 43/50\n",
      "22046/22046 [==============================] - 339s 15ms/step - loss: 0.0089 - acc: 0.9971 - precision: 0.9986 - recall: 0.9957 - f1: 0.9971 - matthews_correlation: 0.9943 - auc: 0.9969 - val_loss: 0.1649 - val_acc: 0.9677 - val_precision: 0.9726 - val_recall: 0.9631 - val_f1: 0.9673 - val_matthews_correlation: 0.9356 - val_auc: 0.9969\n",
      "Epoch 44/50\n",
      "22046/22046 [==============================] - 338s 15ms/step - loss: 0.0085 - acc: 0.9973 - precision: 0.9984 - recall: 0.9963 - f1: 0.9973 - matthews_correlation: 0.9946 - auc: 0.9970 - val_loss: 0.1453 - val_acc: 0.9677 - val_precision: 0.9688 - val_recall: 0.9661 - val_f1: 0.9669 - val_matthews_correlation: 0.9355 - val_auc: 0.9970\n",
      "Epoch 45/50\n",
      "22046/22046 [==============================] - 339s 15ms/step - loss: 0.0073 - acc: 0.9976 - precision: 0.9990 - recall: 0.9963 - f1: 0.9976 - matthews_correlation: 0.9953 - auc: 0.9970 - val_loss: 0.1504 - val_acc: 0.9692 - val_precision: 0.9734 - val_recall: 0.9646 - val_f1: 0.9685 - val_matthews_correlation: 0.9385 - val_auc: 0.9971\n",
      "Epoch 46/50\n",
      "22046/22046 [==============================] - 339s 15ms/step - loss: 0.0067 - acc: 0.9979 - precision: 0.9988 - recall: 0.9968 - f1: 0.9978 - matthews_correlation: 0.9958 - auc: 0.9971 - val_loss: 0.1735 - val_acc: 0.9663 - val_precision: 0.9776 - val_recall: 0.9535 - val_f1: 0.9649 - val_matthews_correlation: 0.9325 - val_auc: 0.9971\n",
      "Epoch 47/50\n"
     ]
    },
    {
     "name": "stdout",
     "output_type": "stream",
     "text": [
      "22046/22046 [==============================] - 339s 15ms/step - loss: 0.0068 - acc: 0.9980 - precision: 0.9992 - recall: 0.9968 - f1: 0.9980 - matthews_correlation: 0.9959 - auc: 0.9971 - val_loss: 0.1791 - val_acc: 0.9673 - val_precision: 0.9708 - val_recall: 0.9638 - val_f1: 0.9667 - val_matthews_correlation: 0.9348 - val_auc: 0.9972\n",
      "Epoch 48/50\n",
      "22046/22046 [==============================] - 339s 15ms/step - loss: 0.0060 - acc: 0.9983 - precision: 0.9989 - recall: 0.9978 - f1: 0.9983 - matthews_correlation: 0.9966 - auc: 0.9972 - val_loss: 0.1838 - val_acc: 0.9673 - val_precision: 0.9671 - val_recall: 0.9675 - val_f1: 0.9667 - val_matthews_correlation: 0.9348 - val_auc: 0.9972\n",
      "Epoch 49/50\n",
      "22046/22046 [==============================] - 339s 15ms/step - loss: 0.0046 - acc: 0.9988 - precision: 0.9994 - recall: 0.9981 - f1: 0.9987 - matthews_correlation: 0.9976 - auc: 0.9972 - val_loss: 0.1874 - val_acc: 0.9681 - val_precision: 0.9688 - val_recall: 0.9675 - val_f1: 0.9675 - val_matthews_correlation: 0.9364 - val_auc: 0.9972\n",
      "Epoch 50/50\n",
      "22046/22046 [==============================] - 339s 15ms/step - loss: 0.0056 - acc: 0.9980 - precision: 0.9988 - recall: 0.9973 - f1: 0.9980 - matthews_correlation: 0.9960 - auc: 0.9973 - val_loss: 0.1958 - val_acc: 0.9663 - val_precision: 0.9606 - val_recall: 0.9721 - val_f1: 0.9658 - val_matthews_correlation: 0.9326 - val_auc: 0.9973\n"
     ]
    }
   ],
   "source": [
    "model=get_model_exp2_b()\n",
    "path_model='vgg_exp3_std.h5'  \n",
    "\n",
    "# set the learning rate\n",
    "K.set_value(model.optimizer.lr, 0.01) \n",
    "\n",
    "h=model.fit(x=x_train,     \n",
    "            y=y_train, \n",
    "            batch_size=64, \n",
    "            epochs=50, \n",
    "            verbose=1, \n",
    "            validation_data=(x_val,y_val),\n",
    "            shuffle=True,\n",
    "            )"
   ]
  },
  {
   "cell_type": "code",
   "execution_count": 15,
   "metadata": {},
   "outputs": [],
   "source": [
    "model.save(path_model)"
   ]
  },
  {
   "cell_type": "code",
   "execution_count": 16,
   "metadata": {
    "colab": {},
    "colab_type": "code",
    "id": "w2qN7ElfhH0y"
   },
   "outputs": [],
   "source": [
    " def plot_loss_accu(history):\n",
    "    loss = history.history['loss']\n",
    "    val_loss = history.history['val_loss']\n",
    "    epochs = range(len(loss))\n",
    "    plt.plot(epochs, loss, 'g')\n",
    "    plt.plot(epochs, val_loss, 'y')\n",
    "    plt.title('Loss')\n",
    "    plt.legend(['train', 'val'], loc='upper right')\n",
    "    plt.grid(True)\n",
    "    plt.savefig('exp_3_loss.jpg', dpi=300)\n",
    "    plt.show()\n",
    "    \n",
    "def plot_loss(history):\n",
    "    loss = history.history['acc']\n",
    "    val_loss = history.history['val_acc']\n",
    "    epochs = range(len(loss))\n",
    "    plt.plot(epochs, loss, 'r')\n",
    "    plt.plot(epochs, val_loss, 'b')\n",
    "    plt.title('Accuracy')\n",
    "    plt.legend(['train', 'val'], loc='lower right')\n",
    "    plt.grid(True)\n",
    "    plt.savefig('exp_3_acc.jpg', dpi=300)\n",
    "    plt.show()"
   ]
  },
  {
   "cell_type": "code",
   "execution_count": 17,
   "metadata": {
    "colab": {
     "base_uri": "https://localhost:8080/",
     "height": 708
    },
    "colab_type": "code",
    "id": "obPywb3KhH6n",
    "outputId": "dcc8048b-e748-4737-fd73-749443a19292"
   },
   "outputs": [
    {
     "data": {
      "image/png": "[encoded data removed]",
      "text/plain": [
       "<Figure size 432x288 with 1 Axes>"
      ]
     },
     "metadata": {
      "needs_background": "light"
     },
     "output_type": "display_data"
    },
    {
     "data": {
      "image/png": "[encoded data removed]",
      "text/plain": [
       "<Figure size 432x288 with 1 Axes>"
      ]
     },
     "metadata": {
      "needs_background": "light"
     },
     "output_type": "display_data"
    },
    {
     "name": "stdout",
     "output_type": "stream",
     "text": [
      "Done!\n"
     ]
    }
   ],
   "source": [
    "plot_loss_accu(model.history)\n",
    "plot_loss(model.history)\n",
    "print(\"Done!\")"
   ]
  },
  {
   "cell_type": "code",
   "execution_count": 18,
   "metadata": {
    "colab": {
     "base_uri": "https://localhost:8080/",
     "height": 70
    },
    "colab_type": "code",
    "id": "n6z-ycnmqUbv",
    "outputId": "59ebf6b0-54f6-4013-ff85-d30f936d822b"
   },
   "outputs": [
    {
     "name": "stdout",
     "output_type": "stream",
     "text": [
      "2756/2756 [==============================] - 18s 6ms/step\n",
      "Test loss: 0.14545018536878923\n",
      "Test accuracy: 0.9702467343976778\n"
     ]
    }
   ],
   "source": [
    "score = model.evaluate(x_test, y_test, verbose=1)\n",
    "print('Test loss:', score[0])\n",
    "print('Test accuracy:', score[1])"
   ]
  },
  {
   "cell_type": "code",
   "execution_count": 19,
   "metadata": {
    "colab": {},
    "colab_type": "code",
    "id": "S79QTd_svvU-"
   },
   "outputs": [],
   "source": [
    "y_pred = model.predict(x_test)\n",
    "# get labels from predictions\n",
    "pred_labels = np.array([np.argmax(pred) for pred in y_pred])\n",
    "\n",
    "#convert ground truths to column values\n",
    "y_test = np.argmax(y_test, axis=1)\n",
    "accuracy = np.mean((y_test==pred_labels))\n"
   ]
  },
  {
   "cell_type": "code",
   "execution_count": 20,
   "metadata": {
    "colab": {
     "base_uri": "https://localhost:8080/",
     "height": 34
    },
    "colab_type": "code",
    "id": "zuf1y-PSv9Na",
    "outputId": "ab03ea07-8b0f-4d26-b196-7ebd82a5f1c7"
   },
   "outputs": [
    {
     "data": {
      "text/plain": [
       "0.9702467343976778"
      ]
     },
     "execution_count": 20,
     "metadata": {},
     "output_type": "execute_result"
    }
   ],
   "source": [
    "accuracy"
   ]
  },
  {
   "cell_type": "code",
   "execution_count": 21,
   "metadata": {
    "colab": {},
    "colab_type": "code",
    "id": "GaMhno3vrbry"
   },
   "outputs": [],
   "source": [
    "np.save(\"y_pred_vgg_exp3_std.npy\", y_pred)"
   ]
  },
  {
   "cell_type": "code",
   "execution_count": 0,
   "metadata": {
    "colab": {},
    "colab_type": "code",
    "id": "WNtFKE4ihjzq"
   },
   "outputs": [],
   "source": []
  }
 ],
 "metadata": {
  "accelerator": "GPU",
  "colab": {
   "collapsed_sections": [],
   "name": "vgg-2b.ipynb",
   "provenance": [],
   "version": "0.3.2"
  },
  "kernelspec": {
   "display_name": "Python 3",
   "language": "python",
   "name": "python3"
  },
  "language_info": {
   "codemirror_mode": {
    "name": "ipython",
    "version": 3
   },
   "file_extension": ".py",
   "mimetype": "text/x-python",
   "name": "python",
   "nbconvert_exporter": "python",
   "pygments_lexer": "ipython3",
   "version": "3.6.7"
  }
 },
 "nbformat": 4,
 "nbformat_minor": 1
}
