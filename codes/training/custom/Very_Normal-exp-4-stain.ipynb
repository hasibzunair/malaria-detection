{
 "cells": [
  {
   "cell_type": "code",
   "execution_count": 1,
   "metadata": {},
   "outputs": [
    {
     "name": "stderr",
     "output_type": "stream",
     "text": [
      "Using TensorFlow backend.\n"
     ]
    }
   ],
   "source": [
    "%matplotlib inline\n",
    "import matplotlib.pyplot as plt\n",
    "import matplotlib.image as mpimg\n",
    "from keras.preprocessing.image import ImageDataGenerator\n",
    "from keras.models import Sequential\n",
    "from keras.optimizers import RMSprop\n",
    "from keras.layers import Conv2D, MaxPooling2D\n",
    "from keras.layers import Activation, Dropout, Flatten, Dense\n",
    "from keras.callbacks import CSVLogger\n",
    "#from livelossplot import PlotLossesKeras\n",
    "import os\n",
    "import numpy as np\n",
    "#from imgaug import augmenters as iaa\n",
    "import cv2\n",
    "import tensorflow as tf"
   ]
  },
  {
   "cell_type": "code",
   "execution_count": 2,
   "metadata": {},
   "outputs": [],
   "source": [
    "def check_units(y_true, y_pred):\n",
    "    if y_pred.shape[1] != 1:\n",
    "        y_pred = y_pred[:,1:2]\n",
    "        y_true = y_true[:,1:2]\n",
    "    return y_true, y_pred\n",
    "\n",
    "def precision(y_true, y_pred):\n",
    "    y_true, y_pred = check_units(y_true, y_pred)\n",
    "    true_positives = K.sum(K.round(K.clip(y_true * y_pred, 0, 1)))\n",
    "    predicted_positives = K.sum(K.round(K.clip(y_pred, 0, 1)))\n",
    "    precision = true_positives / (predicted_positives + K.epsilon())\n",
    "    return precision\n",
    "\n",
    "def recall(y_true, y_pred):\n",
    "    y_true, y_pred = check_units(y_true, y_pred)\n",
    "    true_positives = K.sum(K.round(K.clip(y_true * y_pred, 0, 1)))\n",
    "    possible_positives = K.sum(K.round(K.clip(y_true, 0, 1)))\n",
    "    recall = true_positives / (possible_positives + K.epsilon())\n",
    "    return recall\n",
    "\n",
    "def f1(y_true, y_pred):\n",
    "    def recall(y_true, y_pred):\n",
    "        true_positives = K.sum(K.round(K.clip(y_true * y_pred, 0, 1)))\n",
    "        possible_positives = K.sum(K.round(K.clip(y_true, 0, 1)))\n",
    "        recall = true_positives / (possible_positives + K.epsilon())\n",
    "        return recall\n",
    "\n",
    "    def precision(y_true, y_pred):\n",
    "        true_positives = K.sum(K.round(K.clip(y_true * y_pred, 0, 1)))\n",
    "        predicted_positives = K.sum(K.round(K.clip(y_pred, 0, 1)))\n",
    "        precision = true_positives / (predicted_positives + K.epsilon())\n",
    "        return precision\n",
    "    y_true, y_pred = check_units(y_true, y_pred)\n",
    "    precision = precision(y_true, y_pred)\n",
    "    recall = recall(y_true, y_pred)\n",
    "    return 2*((precision*recall)/(precision+recall+K.epsilon()))\n",
    "\n",
    "def matthews_correlation(y_true, y_pred):\n",
    "    y_true, y_pred = check_units(y_true, y_pred)\n",
    "    y_pred_pos = K.round(K.clip(y_pred, 0, 1))\n",
    "    y_pred_neg = 1 - y_pred_pos\n",
    "\n",
    "    y_pos = K.round(K.clip(y_true, 0, 1))\n",
    "    y_neg = 1 - y_pos\n",
    "\n",
    "    tp = K.sum(y_pos * y_pred_pos)\n",
    "    tn = K.sum(y_neg * y_pred_neg)\n",
    "\n",
    "    fp = K.sum(y_neg * y_pred_pos)\n",
    "    fn = K.sum(y_pos * y_pred_neg)\n",
    "\n",
    "    numerator = (tp * tn - fp * fn)\n",
    "    denominator = K.sqrt((tp + fp) * (tp + fn) * (tn + fp) * (tn + fn))\n",
    "\n",
    "    return numerator / (denominator + K.epsilon())\n",
    "\n",
    "def auc(y_true, y_pred):\n",
    "    auc = tf.metrics.auc(y_true, y_pred)[1]\n",
    "    K.get_session().run(tf.local_variables_initializer())\n",
    "    return auc"
   ]
  },
  {
   "cell_type": "code",
   "execution_count": 3,
   "metadata": {},
   "outputs": [
    {
     "name": "stdout",
     "output_type": "stream",
     "text": [
      "[name: \"/device:CPU:0\"\n",
      "device_type: \"CPU\"\n",
      "memory_limit: 268435456\n",
      "locality {\n",
      "}\n",
      "incarnation: 7724363998635683928\n",
      ", name: \"/device:GPU:0\"\n",
      "device_type: \"GPU\"\n",
      "memory_limit: 4950209331\n",
      "locality {\n",
      "  bus_id: 1\n",
      "  links {\n",
      "  }\n",
      "}\n",
      "incarnation: 13937011224037643914\n",
      "physical_device_desc: \"device: 0, name: GeForce GTX 1060 6GB, pci bus id: 0000:01:00.0, compute capability: 6.1\"\n",
      "]\n"
     ]
    }
   ],
   "source": [
    "from tensorflow.python.client import device_lib\n",
    "print(device_lib.list_local_devices())"
   ]
  },
  {
   "cell_type": "code",
   "execution_count": 4,
   "metadata": {},
   "outputs": [
    {
     "data": {
      "text/plain": [
       "['/job:localhost/replica:0/task:0/device:GPU:0']"
      ]
     },
     "execution_count": 4,
     "metadata": {},
     "output_type": "execute_result"
    }
   ],
   "source": [
    "from keras import backend as K\n",
    "K.tensorflow_backend._get_available_gpus()"
   ]
  },
  {
   "cell_type": "code",
   "execution_count": 5,
   "metadata": {},
   "outputs": [
    {
     "data": {
      "text/plain": [
       "((22046, 200, 200, 3), (22046, 2))"
      ]
     },
     "execution_count": 5,
     "metadata": {},
     "output_type": "execute_result"
    }
   ],
   "source": [
    "x_train = np.load(\"datasets/stain_normalized/x_train_stain_200.npy\")\n",
    "y_train = np.load(\"datasets/stain_normalized/y_train_stain_200.npy\")\n",
    "x_train.shape, y_train.shape"
   ]
  },
  {
   "cell_type": "code",
   "execution_count": 6,
   "metadata": {},
   "outputs": [
    {
     "data": {
      "text/plain": [
       "((2756, 200, 200, 3), (2756, 2))"
      ]
     },
     "execution_count": 6,
     "metadata": {},
     "output_type": "execute_result"
    }
   ],
   "source": [
    "x_val = np.load(\"datasets/stain_normalized/x_val_stain_200.npy\")\n",
    "y_val = np.load(\"datasets/stain_normalized/y_val_stain_200.npy\")\n",
    "x_val.shape, y_val.shape"
   ]
  },
  {
   "cell_type": "code",
   "execution_count": 7,
   "metadata": {},
   "outputs": [
    {
     "data": {
      "text/plain": [
       "((2756, 200, 200, 3), (2756, 2))"
      ]
     },
     "execution_count": 7,
     "metadata": {},
     "output_type": "execute_result"
    }
   ],
   "source": [
    "x_test = np.load(\"datasets/stain_normalized/x_test_stain_200.npy\")\n",
    "y_test = np.load(\"datasets/stain_normalized/y_test_stain_200.npy\")\n",
    "x_test.shape, y_test.shape"
   ]
  },
  {
   "cell_type": "code",
   "execution_count": 8,
   "metadata": {},
   "outputs": [
    {
     "name": "stdout",
     "output_type": "stream",
     "text": [
      "(22046, 200, 200, 3) (22046, 2)\n",
      "(2756, 200, 200, 3) (2756, 200, 200, 3) (2756, 2) (2756, 2)\n"
     ]
    }
   ],
   "source": [
    "print(x_train.shape, y_train.shape)\n",
    "print(x_val.shape, x_test.shape, y_val.shape, y_test.shape)"
   ]
  },
  {
   "cell_type": "code",
   "execution_count": 9,
   "metadata": {},
   "outputs": [],
   "source": [
    "IMAGE_SIZE = 200\n",
    "IMAGE_WIDTH, IMAGE_HEIGHT = IMAGE_SIZE, IMAGE_SIZE\n",
    "EPOCHS = 30\n",
    "BATCH_SIZE = 64\n",
    "TEST_SIZE = 30"
   ]
  },
  {
   "cell_type": "code",
   "execution_count": 10,
   "metadata": {},
   "outputs": [],
   "source": [
    "TRAINING_LOGS_FILE = \"training_logs.csv\"\n",
    "TEST_LOGS_FILE = \"test_logs.csv\"\n",
    "MODEL_SUMMARY_FILE = \"model_summary.txt\"\n",
    "TEST_FILE = \"test_file.txt\"\n",
    "MODEL_FILE = \"very-normal-200-exp1.h5\""
   ]
  },
  {
   "cell_type": "code",
   "execution_count": 11,
   "metadata": {},
   "outputs": [],
   "source": [
    "input_shape = (200, 200, 3)"
   ]
  },
  {
   "cell_type": "code",
   "execution_count": 12,
   "metadata": {},
   "outputs": [
    {
     "data": {
      "text/plain": [
       "(200, 200, 3)"
      ]
     },
     "execution_count": 12,
     "metadata": {},
     "output_type": "execute_result"
    }
   ],
   "source": [
    "input_shape"
   ]
  },
  {
   "cell_type": "code",
   "execution_count": 13,
   "metadata": {},
   "outputs": [],
   "source": [
    "model = None\n",
    "model = Sequential()"
   ]
  },
  {
   "cell_type": "code",
   "execution_count": 14,
   "metadata": {},
   "outputs": [
    {
     "name": "stdout",
     "output_type": "stream",
     "text": [
      "_________________________________________________________________\n",
      "Layer (type)                 Output Shape              Param #   \n",
      "=================================================================\n",
      "conv2d_1 (Conv2D)            (None, 200, 200, 32)      896       \n",
      "_________________________________________________________________\n",
      "conv2d_2 (Conv2D)            (None, 200, 200, 32)      9248      \n",
      "_________________________________________________________________\n",
      "max_pooling2d_1 (MaxPooling2 (None, 100, 100, 32)      0         \n",
      "_________________________________________________________________\n",
      "conv2d_3 (Conv2D)            (None, 100, 100, 64)      18496     \n",
      "_________________________________________________________________\n",
      "conv2d_4 (Conv2D)            (None, 100, 100, 64)      36928     \n",
      "_________________________________________________________________\n",
      "max_pooling2d_2 (MaxPooling2 (None, 50, 50, 64)        0         \n",
      "_________________________________________________________________\n",
      "conv2d_5 (Conv2D)            (None, 50, 50, 128)       73856     \n",
      "_________________________________________________________________\n",
      "conv2d_6 (Conv2D)            (None, 50, 50, 128)       147584    \n",
      "_________________________________________________________________\n",
      "max_pooling2d_3 (MaxPooling2 (None, 25, 25, 128)       0         \n",
      "_________________________________________________________________\n",
      "conv2d_7 (Conv2D)            (None, 25, 25, 256)       295168    \n",
      "_________________________________________________________________\n",
      "conv2d_8 (Conv2D)            (None, 25, 25, 256)       590080    \n",
      "_________________________________________________________________\n",
      "max_pooling2d_4 (MaxPooling2 (None, 12, 12, 256)       0         \n",
      "_________________________________________________________________\n",
      "flatten_1 (Flatten)          (None, 36864)             0         \n",
      "_________________________________________________________________\n",
      "dense_1 (Dense)              (None, 256)               9437440   \n",
      "_________________________________________________________________\n",
      "dropout_1 (Dropout)          (None, 256)               0         \n",
      "_________________________________________________________________\n",
      "dense_2 (Dense)              (None, 256)               65792     \n",
      "_________________________________________________________________\n",
      "dropout_2 (Dropout)          (None, 256)               0         \n",
      "_________________________________________________________________\n",
      "dense_3 (Dense)              (None, 2)                 514       \n",
      "_________________________________________________________________\n",
      "activation_1 (Activation)    (None, 2)                 0         \n",
      "=================================================================\n",
      "Total params: 10,676,002\n",
      "Trainable params: 10,676,002\n",
      "Non-trainable params: 0\n",
      "_________________________________________________________________\n"
     ]
    }
   ],
   "source": [
    "model.add(Conv2D(32, (3, 3), padding='same', input_shape=input_shape, activation='relu'))\n",
    "model.add(Conv2D(32, (3, 3), padding='same', activation='relu'))\n",
    "model.add(MaxPooling2D(pool_size=(2, 2)))\n",
    "\n",
    "model.add(Conv2D(64, (3, 3), padding='same', activation='relu'))\n",
    "model.add(Conv2D(64, (3, 3), padding='same', activation='relu'))\n",
    "model.add(MaxPooling2D(pool_size=(2, 2)))\n",
    "\n",
    "model.add(Conv2D(128, (3, 3), padding='same', activation='relu'))\n",
    "model.add(Conv2D(128, (3, 3), padding='same', activation='relu'))\n",
    "model.add(MaxPooling2D(pool_size=(2, 2)))\n",
    "\n",
    "model.add(Conv2D(256, (3, 3), padding='same', activation='relu'))\n",
    "model.add(Conv2D(256, (3, 3), padding='same', activation='relu'))\n",
    "model.add(MaxPooling2D(pool_size=(2, 2)))\n",
    "\n",
    "model.add(Flatten())\n",
    "model.add(Dense(256, activation='relu'))\n",
    "model.add(Dropout(0.5))\n",
    "\n",
    "model.add(Dense(256, activation='relu'))\n",
    "model.add(Dropout(0.5))\n",
    "\n",
    "model.add(Dense(2))\n",
    "model.add(Activation('softmax'))\n",
    "    \n",
    "model.compile(loss='binary_crossentropy',\n",
    "            optimizer=\"adadelta\",\n",
    "            metrics=['accuracy', precision, recall, f1, matthews_correlation, auc])\n",
    "\n",
    "model.summary()"
   ]
  },
  {
   "cell_type": "code",
   "execution_count": 15,
   "metadata": {},
   "outputs": [
    {
     "name": "stdout",
     "output_type": "stream",
     "text": [
      "Train on 22046 samples, validate on 2756 samples\n",
      "Epoch 1/30\n",
      "22046/22046 [==============================] - 130s 6ms/step - loss: 0.5469 - acc: 0.7936 - precision: 0.8300 - recall: 0.7398 - f1: 0.7528 - matthews_correlation: 0.5978 - auc: 0.7181 - val_loss: 0.1758 - val_acc: 0.9470 - val_precision: 0.9709 - val_recall: 0.9181 - val_f1: 0.9422 - val_matthews_correlation: 0.8931 - val_auc: 0.8870.7271 - recall: 0.6165 - f1: 0.6192 - matthe - ETA: 54s - loss: 0.7392 - acc: 0.7060 - precision: 0.745 - ETA: 15s - loss: 0.5933 - acc: 0.7738 - precision: 0.8116 - recall: 0.7163 - f1: 0.7281 - matthews_correlation - ETA: 11s - lo\n",
      "Epoch 2/30\n",
      "22046/22046 [==============================] - 125s 6ms/step - loss: 0.1975 - acc: 0.9395 - precision: 0.9561 - recall: 0.9230 - f1: 0.9363 - matthews_correlation: 0.8809 - auc: 0.9233 - val_loss: 0.1557 - val_acc: 0.9532 - val_precision: 0.9678 - val_recall: 0.9326 - val_f1: 0.9485 - val_matthews_correlation: 0.9047 - val_auc: 0.9417\n",
      "Epoch 3/30\n",
      "22046/22046 [==============================] - 125s 6ms/step - loss: 0.1691 - acc: 0.9486 - precision: 0.9612 - recall: 0.9353 - f1: 0.9459 - matthews_correlation: 0.8981 - auc: 0.9511 - val_loss: 0.1882 - val_acc: 0.9448 - val_precision: 0.9647 - val_recall: 0.9191 - val_f1: 0.9395 - val_matthews_correlation: 0.8877 - val_auc: 0.9571\n",
      "Epoch 4/30\n",
      "22046/22046 [==============================] - 126s 6ms/step - loss: 0.1599 - acc: 0.9501 - precision: 0.9629 - recall: 0.9374 - f1: 0.9479 - matthews_correlation: 0.9010 - auc: 0.9611 - val_loss: 0.1489 - val_acc: 0.9521 - val_precision: 0.9666 - val_recall: 0.9314 - val_f1: 0.9468 - val_matthews_correlation: 0.9026 - val_auc: 0.96436 - f1: 0.9477 - matthews_correlatio\n",
      "Epoch 5/30\n",
      "22046/22046 [==============================] - 126s 6ms/step - loss: 0.1537 - acc: 0.9513 - precision: 0.9627 - recall: 0.9384 - f1: 0.9484 - matthews_correlation: 0.9026 - auc: 0.9667 - val_loss: 0.1537 - val_acc: 0.9478 - val_precision: 0.9612 - val_recall: 0.9281 - val_f1: 0.9427 - val_matthews_correlation: 0.8935 - val_auc: 0.9686\n",
      "Epoch 6/30\n",
      "22046/22046 [==============================] - 126s 6ms/step - loss: 0.1451 - acc: 0.9536 - precision: 0.9643 - recall: 0.9431 - f1: 0.9519 - matthews_correlation: 0.9076 - auc: 0.9704 - val_loss: 0.1481 - val_acc: 0.9510 - val_precision: 0.9583 - val_recall: 0.9379 - val_f1: 0.9465 - val_matthews_correlation: 0.9000 - val_auc: 0.9718ecision: 0.9652 - recall: 0.9429 - f1: 0.9523 - matthews - ETA: 44s - loss: 0.1455 - acc: 0.9526 - precision: 0. - ETA: 30s - loss: 0.1467 - acc: 0.9526 - precision: 0.9639 - recall: 0.9408 - f1: 0.9505 - matthews_correlation: 0. - ETA: 27s - loss: 0.1464 - acc: 0.9527 - p - ETA: 11s - loss: 0.1443 - acc: 0.9541 - prec - ETA: 3s - loss: 0.1448 - acc: 0.9539 - precision: 0.9646 - recall: 0.9436 - f1: 0.9523 - matthe\n",
      "Epoch 7/30\n",
      "22046/22046 [==============================] - 126s 6ms/step - loss: 0.1360 - acc: 0.9572 - precision: 0.9687 - recall: 0.9449 - f1: 0.9550 - matthews_correlation: 0.9150 - auc: 0.9731 - val_loss: 0.1665 - val_acc: 0.9470 - val_precision: 0.9801 - val_recall: 0.9096 - val_f1: 0.9413 - val_matthews_correlation: 0.8937 - val_auc: 0.9742\n",
      "Epoch 8/30\n",
      "22046/22046 [==============================] - 125s 6ms/step - loss: 0.1357 - acc: 0.9572 - precision: 0.9689 - recall: 0.9459 - f1: 0.9557 - matthews_correlation: 0.9150 - auc: 0.9751 - val_loss: 0.1644 - val_acc: 0.9481 - val_precision: 0.9498 - val_recall: 0.9415 - val_f1: 0.9440 - val_matthews_correlation: 0.8945 - val_auc: 0.9758 0.1359 - acc: 0.9570 - precision: 0.9683 - recall: 0.9464 - f1: 0.9556 - matthews_correlation: 0.9145 - auc:  - ETA: 11s - loss: 0.1357 - acc: 0.9571 - precision: 0.9685 - recall: 0.9464 - f1: 0.9557 - matthews_correlation: 0.9147 - auc: - ETA: 10s - loss: 0.1358 - acc: 0.9570 - precision: 0.9685 - recall: 0.9461 - f1: 0 - ETA: 5s - loss: 0.1354 - acc: 0.9572 - precision: 0.9688 - recall: 0.9461 - f1: - ETA: 1s - loss: 0.1356 - acc: 0.9572 - precision: 0.9688 - recall: 0.9459 - f1: 0.9556 - matthews_correlation: 0.91\n",
      "Epoch 9/30\n",
      "22046/22046 [==============================] - 126s 6ms/step - loss: 0.1234 - acc: 0.9600 - precision: 0.9712 - recall: 0.9494 - f1: 0.9588 - matthews_correlation: 0.9204 - auc: 0.9767 - val_loss: 0.1442 - val_acc: 0.9514 - val_precision: 0.9625 - val_recall: 0.9355 - val_f1: 0.9472 - val_matthews_correlation: 0.9013 - val_auc: 0.9774ETA: 12s - loss: 0.1230 - acc: 0.9599 - precision: 0.9713 - recall: 0.949 - ETA: 5s - loss: 0.1225 - acc: 0.9600 - precision: 0.9713 - reca\n",
      "Epoch 10/30\n",
      "22046/22046 [==============================] - 125s 6ms/step - loss: 0.1163 - acc: 0.9626 - precision: 0.9741 - recall: 0.9517 - f1: 0.9614 - matthews_correlation: 0.9258 - auc: 0.9782 - val_loss: 0.1642 - val_acc: 0.9539 - val_precision: 0.9681 - val_recall: 0.9347 - val_f1: 0.9491 - val_matthews_correlation: 0.9071 - val_auc: 0.97882 - recall: 0.9517 - f1: 0.9610 - matthews_correlation: - ETA: 23s - loss: 0.1156 - acc: 0.9627 - precision: 0.9732 - recall: 0.9524 - f1: 0.9614 - matthews_correlation: 0.9259 - au - ETA: 21s - loss: 0.1157 - acc: 0.9627 - precision: 0.9733 - recall: 0.9523 - f1: 0.9614 - ma - ETA: 14s - loss: 0.1143 - acc: 0.9630 - precision: 0.9736 - recall: 0.9528 - ETA: 7s - loss: 0.1169 - acc: 0.9623 - precisio\n",
      "Epoch 11/30\n",
      "22046/22046 [==============================] - 302s 14ms/step - loss: 0.1056 - acc: 0.9661 - precision: 0.9766 - recall: 0.9543 - f1: 0.9640 - matthews_correlation: 0.9322 - auc: 0.9795 - val_loss: 0.1881 - val_acc: 0.9438 - val_precision: 0.9685 - val_recall: 0.9098 - val_f1: 0.9366 - val_matthews_correlation: 0.8863 - val_auc: 0.9801\n",
      "Epoch 12/30\n",
      "22046/22046 [==============================] - 1107s 50ms/step - loss: 0.0987 - acc: 0.9678 - precision: 0.9793 - recall: 0.9557 - f1: 0.9662 - matthews_correlation: 0.9359 - auc: 0.9806 - val_loss: 0.1834 - val_acc: 0.9496 - val_precision: 0.9490 - val_recall: 0.9451 - val_f1: 0.9455 - val_matthews_correlation: 0.8968 - val_auc: 0.9812\n",
      "Epoch 13/30\n",
      "22046/22046 [==============================] - 1097s 50ms/step - loss: 0.0873 - acc: 0.9717 - precision: 0.9820 - recall: 0.9617 - f1: 0.9707 - matthews_correlation: 0.9438 - auc: 0.9818 - val_loss: 0.1587 - val_acc: 0.9514 - val_precision: 0.9580 - val_recall: 0.9393 - val_f1: 0.9470 - val_matthews_correlation: 0.9007 - val_auc: 0.9823\n",
      "Epoch 14/30\n",
      "22046/22046 [==============================] - 1102s 50ms/step - loss: 0.0773 - acc: 0.9751 - precision: 0.9836 - recall: 0.9664 - f1: 0.9740 - matthews_correlation: 0.9505 - auc: 0.9828 - val_loss: 0.1706 - val_acc: 0.9510 - val_precision: 0.9831 - val_recall: 0.9138 - val_f1: 0.9455 - val_matthews_correlation: 0.9024 - val_auc: 0.9833\n",
      "Epoch 15/30\n",
      "22046/22046 [==============================] - 1099s 50ms/step - loss: 0.0703 - acc: 0.9783 - precision: 0.9872 - recall: 0.9691 - f1: 0.9773 - matthews_correlation: 0.9568 - auc: 0.9839 - val_loss: 0.1962 - val_acc: 0.9517 - val_precision: 0.9582 - val_recall: 0.9376 - val_f1: 0.9462 - val_matthews_correlation: 0.9018 - val_auc: 0.9843\n",
      "Epoch 16/30\n",
      "22046/22046 [==============================] - 1104s 50ms/step - loss: 0.0579 - acc: 0.9826 - precision: 0.9908 - recall: 0.9748 - f1: 0.9822 - matthews_correlation: 0.9653 - auc: 0.9847 - val_loss: 0.2309 - val_acc: 0.9448 - val_precision: 0.9483 - val_recall: 0.9370 - val_f1: 0.9410 - val_matthews_correlation: 0.8881 - val_auc: 0.9852\n",
      "Epoch 17/30\n",
      "22046/22046 [==============================] - 1109s 50ms/step - loss: 0.0550 - acc: 0.9831 - precision: 0.9892 - recall: 0.9769 - f1: 0.9824 - matthews_correlation: 0.9663 - auc: 0.9856 - val_loss: 0.2663 - val_acc: 0.9510 - val_precision: 0.9608 - val_recall: 0.9372 - val_f1: 0.9472 - val_matthews_correlation: 0.9006 - val_auc: 0.9859\n",
      "Epoch 18/30\n",
      "22046/22046 [==============================] - 1069s 49ms/step - loss: 0.0458 - acc: 0.9861 - precision: 0.9909 - recall: 0.9812 - f1: 0.9854 - matthews_correlation: 0.9725 - auc: 0.9863 - val_loss: 0.2513 - val_acc: 0.9543 - val_precision: 0.9695 - val_recall: 0.9333 - val_f1: 0.9495 - val_matthews_correlation: 0.9070 - val_auc: 0.9867\n",
      "Epoch 19/30\n"
     ]
    },
    {
     "name": "stdout",
     "output_type": "stream",
     "text": [
      "22046/22046 [==============================] - 1061s 48ms/step - loss: 0.0401 - acc: 0.9883 - precision: 0.9932 - recall: 0.9836 - f1: 0.9880 - matthews_correlation: 0.9768 - auc: 0.9870 - val_loss: 0.2457 - val_acc: 0.9525 - val_precision: 0.9704 - val_recall: 0.9306 - val_f1: 0.9484 - val_matthews_correlation: 0.9034 - val_auc: 0.9873\n",
      "Epoch 20/30\n",
      "22046/22046 [==============================] - 1062s 48ms/step - loss: 0.0431 - acc: 0.9882 - precision: 0.9930 - recall: 0.9833 - f1: 0.9877 - matthews_correlation: 0.9765 - auc: 0.9876 - val_loss: 0.2621 - val_acc: 0.9496 - val_precision: 0.9680 - val_recall: 0.9269 - val_f1: 0.9451 - val_matthews_correlation: 0.8980 - val_auc: 0.9879\n",
      "Epoch 21/30\n",
      "22046/22046 [==============================] - 1061s 48ms/step - loss: 0.0340 - acc: 0.9906 - precision: 0.9945 - recall: 0.9869 - f1: 0.9903 - matthews_correlation: 0.9813 - auc: 0.9882 - val_loss: 0.3395 - val_acc: 0.9470 - val_precision: 0.9436 - val_recall: 0.9452 - val_f1: 0.9426 - val_matthews_correlation: 0.8926 - val_auc: 0.9884\n",
      "Epoch 22/30\n",
      "22046/22046 [==============================] - 1058s 48ms/step - loss: 0.0314 - acc: 0.9918 - precision: 0.9955 - recall: 0.9884 - f1: 0.9917 - matthews_correlation: 0.9837 - auc: 0.9887 - val_loss: 0.3783 - val_acc: 0.9503 - val_precision: 0.9530 - val_recall: 0.9433 - val_f1: 0.9465 - val_matthews_correlation: 0.8983 - val_auc: 0.9889\n",
      "Epoch 23/30\n",
      "22046/22046 [==============================] - 1065s 48ms/step - loss: 0.0336 - acc: 0.9909 - precision: 0.9941 - recall: 0.9874 - f1: 0.9904 - matthews_correlation: 0.9819 - auc: 0.9891 - val_loss: 0.3252 - val_acc: 0.9496 - val_precision: 0.9699 - val_recall: 0.9243 - val_f1: 0.9447 - val_matthews_correlation: 0.8983 - val_auc: 0.9893\n",
      "Epoch 24/30\n",
      "22046/22046 [==============================] - 1115s 51ms/step - loss: 0.0317 - acc: 0.9921 - precision: 0.9956 - recall: 0.9888 - f1: 0.9919 - matthews_correlation: 0.9843 - auc: 0.9895 - val_loss: 0.4101 - val_acc: 0.9525 - val_precision: 0.9568 - val_recall: 0.9450 - val_f1: 0.9491 - val_matthews_correlation: 0.9040 - val_auc: 0.9897\n",
      "Epoch 25/30\n",
      "22046/22046 [==============================] - 1499s 68ms/step - loss: 0.0369 - acc: 0.9917 - precision: 0.9949 - recall: 0.9880 - f1: 0.9912 - matthews_correlation: 0.9833 - auc: 0.9898 - val_loss: 0.4036 - val_acc: 0.9478 - val_precision: 0.9525 - val_recall: 0.9368 - val_f1: 0.9430 - val_matthews_correlation: 0.8942 - val_auc: 0.9899\n",
      "Epoch 26/30\n",
      "22046/22046 [==============================] - 596s 27ms/step - loss: 0.0318 - acc: 0.9928 - precision: 0.9954 - recall: 0.9900 - f1: 0.9924 - matthews_correlation: 0.9855 - auc: 0.9901 - val_loss: 0.3758 - val_acc: 0.9514 - val_precision: 0.9754 - val_recall: 0.9239 - val_f1: 0.9470 - val_matthews_correlation: 0.9030 - val_auc: 0.9902\n",
      "Epoch 27/30\n",
      "22046/22046 [==============================] - 125s 6ms/step - loss: 0.0241 - acc: 0.9938 - precision: 0.9963 - recall: 0.9913 - f1: 0.9936 - matthews_correlation: 0.9876 - auc: 0.9904 - val_loss: 0.3829 - val_acc: 0.9507 - val_precision: 0.9580 - val_recall: 0.9397 - val_f1: 0.9473 - val_matthews_correlation: 0.8998 - val_auc: 0.9905\n",
      "Epoch 28/30\n",
      "22046/22046 [==============================] - 125s 6ms/step - loss: 0.0281 - acc: 0.9933 - precision: 0.9954 - recall: 0.9914 - f1: 0.9932 - matthews_correlation: 0.9867 - auc: 0.9907 - val_loss: 0.4325 - val_acc: 0.9459 - val_precision: 0.9459 - val_recall: 0.9419 - val_f1: 0.9424 - val_matthews_correlation: 0.8903 - val_auc: 0.9908\n",
      "Epoch 29/30\n",
      "22046/22046 [==============================] - 125s 6ms/step - loss: 0.0269 - acc: 0.9934 - precision: 0.9956 - recall: 0.9913 - f1: 0.9933 - matthews_correlation: 0.9869 - auc: 0.9909 - val_loss: 0.4189 - val_acc: 0.9499 - val_precision: 0.9487 - val_recall: 0.9476 - val_f1: 0.9466 - val_matthews_correlation: 0.8982 - val_auc: 0.9910\n",
      "Epoch 30/30\n",
      "22046/22046 [==============================] - 125s 6ms/step - loss: 0.0249 - acc: 0.9945 - precision: 0.9961 - recall: 0.9924 - f1: 0.9941 - matthews_correlation: 0.9889 - auc: 0.9911 - val_loss: 0.4872 - val_acc: 0.9438 - val_precision: 0.9446 - val_recall: 0.9374 - val_f1: 0.9395 - val_matthews_correlation: 0.8853 - val_auc: 0.9912\n"
     ]
    },
    {
     "data": {
      "text/plain": [
       "<keras.callbacks.History at 0x1d1ace06eb8>"
      ]
     },
     "execution_count": 15,
     "metadata": {},
     "output_type": "execute_result"
    }
   ],
   "source": [
    "model.fit(x=x_train, y=y_train, validation_data = (x_val,y_val), epochs=EPOCHS, verbose=1)"
   ]
  },
  {
   "cell_type": "code",
   "execution_count": 16,
   "metadata": {},
   "outputs": [],
   "source": [
    "model.save(\"very-normal-exp4-stain.h5\")"
   ]
  },
  {
   "cell_type": "code",
   "execution_count": 17,
   "metadata": {},
   "outputs": [],
   "source": [
    " def plot_loss_accu(history):\n",
    "    loss = history.history['loss']\n",
    "    val_loss = history.history['val_loss']\n",
    "    epochs = range(len(loss))\n",
    "    plt.plot(epochs, loss, 'g')\n",
    "    plt.plot(epochs, val_loss, 'y')\n",
    "    plt.title('Loss')\n",
    "    plt.legend(['train', 'val'], loc='upper right')\n",
    "    plt.grid(True)\n",
    "    plt.savefig('very_normal_exp4_stain_loss.jpg', dpi=300)\n",
    "    plt.show()\n",
    "    \n",
    "def plot_loss(history):\n",
    "    loss = history.history['acc']\n",
    "    val_loss = history.history['val_acc']\n",
    "    epochs = range(len(loss))\n",
    "    plt.plot(epochs, loss, 'r')\n",
    "    plt.plot(epochs, val_loss, 'b')\n",
    "    plt.title('Accuracy')\n",
    "    plt.legend(['train', 'val'], loc='lower right')\n",
    "    plt.grid(True)\n",
    "    plt.savefig('very_normal_exp4_stain_acc.jpg', dpi=300)\n",
    "    plt.show()"
   ]
  },
  {
   "cell_type": "code",
   "execution_count": 18,
   "metadata": {},
   "outputs": [
    {
     "data": {
      "image/png": "[encoded data removed]",
      "text/plain": [
       "<Figure size 432x288 with 1 Axes>"
      ]
     },
     "metadata": {
      "needs_background": "light"
     },
     "output_type": "display_data"
    },
    {
     "data": {
      "image/png": "[encoded data removed]",
      "text/plain": [
       "<Figure size 432x288 with 1 Axes>"
      ]
     },
     "metadata": {
      "needs_background": "light"
     },
     "output_type": "display_data"
    },
    {
     "name": "stdout",
     "output_type": "stream",
     "text": [
      "Done!\n"
     ]
    }
   ],
   "source": [
    "plot_loss_accu(model.history)\n",
    "plot_loss(model.history)\n",
    "print(\"Done!\")"
   ]
  },
  {
   "cell_type": "code",
   "execution_count": 19,
   "metadata": {},
   "outputs": [
    {
     "name": "stdout",
     "output_type": "stream",
     "text": [
      "2756/2756 [==============================] - 6s 2ms/step\n",
      "Test loss: 0.42060137987051066\n",
      "Test accuracy: 0.95355587808418\n"
     ]
    }
   ],
   "source": [
    "score = model.evaluate(x_test, y_test, verbose=1)\n",
    "print('Test loss:', score[0])\n",
    "print('Test accuracy:', score[1])"
   ]
  },
  {
   "cell_type": "code",
   "execution_count": 20,
   "metadata": {},
   "outputs": [],
   "source": [
    "y_pred = model.predict(x_test)\n",
    "# get labels from predictions\n",
    "pred_labels = np.array([np.argmax(pred) for pred in y_pred])\n",
    "\n",
    "#convert ground truths to column values\n",
    "y_test = np.argmax(y_test, axis=1)\n",
    "accuracy = np.mean((y_test==pred_labels))\n"
   ]
  },
  {
   "cell_type": "code",
   "execution_count": 21,
   "metadata": {},
   "outputs": [
    {
     "data": {
      "text/plain": [
       "(2756, 2)"
      ]
     },
     "execution_count": 21,
     "metadata": {},
     "output_type": "execute_result"
    }
   ],
   "source": [
    "y_pred.shape"
   ]
  },
  {
   "cell_type": "code",
   "execution_count": 22,
   "metadata": {},
   "outputs": [
    {
     "data": {
      "text/plain": [
       "0.95355587808418"
      ]
     },
     "execution_count": 22,
     "metadata": {},
     "output_type": "execute_result"
    }
   ],
   "source": [
    "accuracy"
   ]
  },
  {
   "cell_type": "code",
   "execution_count": 23,
   "metadata": {},
   "outputs": [],
   "source": [
    "np.save(\"y_pred_verynormal_exp4_stain.npy\", y_pred)"
   ]
  },
  {
   "cell_type": "code",
   "execution_count": null,
   "metadata": {},
   "outputs": [],
   "source": []
  }
 ],
 "metadata": {
  "kernelspec": {
   "display_name": "Python 3",
   "language": "python",
   "name": "python3"
  },
  "language_info": {
   "codemirror_mode": {
    "name": "ipython",
    "version": 3
   },
   "file_extension": ".py",
   "mimetype": "text/x-python",
   "name": "python",
   "nbconvert_exporter": "python",
   "pygments_lexer": "ipython3",
   "version": "3.6.7"
  }
 },
 "nbformat": 4,
 "nbformat_minor": 2
}
