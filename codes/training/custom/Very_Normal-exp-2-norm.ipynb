{
 "cells": [
  {
   "cell_type": "code",
   "execution_count": 1,
   "metadata": {},
   "outputs": [
    {
     "name": "stderr",
     "output_type": "stream",
     "text": [
      "Using TensorFlow backend.\n"
     ]
    }
   ],
   "source": [
    "%matplotlib inline\n",
    "import matplotlib.pyplot as plt\n",
    "import matplotlib.image as mpimg\n",
    "from keras.preprocessing.image import ImageDataGenerator\n",
    "from keras.models import Sequential\n",
    "from keras.optimizers import RMSprop\n",
    "from keras.layers import Conv2D, MaxPooling2D\n",
    "from keras.layers import Activation, Dropout, Flatten, Dense\n",
    "from keras.callbacks import CSVLogger\n",
    "#from livelossplot import PlotLossesKeras\n",
    "import os\n",
    "import numpy as np\n",
    "#from imgaug import augmenters as iaa\n",
    "import cv2\n",
    "import tensorflow as tf"
   ]
  },
  {
   "cell_type": "code",
   "execution_count": 2,
   "metadata": {},
   "outputs": [],
   "source": [
    "def check_units(y_true, y_pred):\n",
    "    if y_pred.shape[1] != 1:\n",
    "        y_pred = y_pred[:,1:2]\n",
    "        y_true = y_true[:,1:2]\n",
    "    return y_true, y_pred\n",
    "\n",
    "def precision(y_true, y_pred):\n",
    "    y_true, y_pred = check_units(y_true, y_pred)\n",
    "    true_positives = K.sum(K.round(K.clip(y_true * y_pred, 0, 1)))\n",
    "    predicted_positives = K.sum(K.round(K.clip(y_pred, 0, 1)))\n",
    "    precision = true_positives / (predicted_positives + K.epsilon())\n",
    "    return precision\n",
    "\n",
    "def recall(y_true, y_pred):\n",
    "    y_true, y_pred = check_units(y_true, y_pred)\n",
    "    true_positives = K.sum(K.round(K.clip(y_true * y_pred, 0, 1)))\n",
    "    possible_positives = K.sum(K.round(K.clip(y_true, 0, 1)))\n",
    "    recall = true_positives / (possible_positives + K.epsilon())\n",
    "    return recall\n",
    "\n",
    "def f1(y_true, y_pred):\n",
    "    def recall(y_true, y_pred):\n",
    "        true_positives = K.sum(K.round(K.clip(y_true * y_pred, 0, 1)))\n",
    "        possible_positives = K.sum(K.round(K.clip(y_true, 0, 1)))\n",
    "        recall = true_positives / (possible_positives + K.epsilon())\n",
    "        return recall\n",
    "\n",
    "    def precision(y_true, y_pred):\n",
    "        true_positives = K.sum(K.round(K.clip(y_true * y_pred, 0, 1)))\n",
    "        predicted_positives = K.sum(K.round(K.clip(y_pred, 0, 1)))\n",
    "        precision = true_positives / (predicted_positives + K.epsilon())\n",
    "        return precision\n",
    "    y_true, y_pred = check_units(y_true, y_pred)\n",
    "    precision = precision(y_true, y_pred)\n",
    "    recall = recall(y_true, y_pred)\n",
    "    return 2*((precision*recall)/(precision+recall+K.epsilon()))\n",
    "\n",
    "def matthews_correlation(y_true, y_pred):\n",
    "    y_true, y_pred = check_units(y_true, y_pred)\n",
    "    y_pred_pos = K.round(K.clip(y_pred, 0, 1))\n",
    "    y_pred_neg = 1 - y_pred_pos\n",
    "\n",
    "    y_pos = K.round(K.clip(y_true, 0, 1))\n",
    "    y_neg = 1 - y_pos\n",
    "\n",
    "    tp = K.sum(y_pos * y_pred_pos)\n",
    "    tn = K.sum(y_neg * y_pred_neg)\n",
    "\n",
    "    fp = K.sum(y_neg * y_pred_pos)\n",
    "    fn = K.sum(y_pos * y_pred_neg)\n",
    "\n",
    "    numerator = (tp * tn - fp * fn)\n",
    "    denominator = K.sqrt((tp + fp) * (tp + fn) * (tn + fp) * (tn + fn))\n",
    "\n",
    "    return numerator / (denominator + K.epsilon())\n",
    "\n",
    "def auc(y_true, y_pred):\n",
    "    auc = tf.metrics.auc(y_true, y_pred)[1]\n",
    "    K.get_session().run(tf.local_variables_initializer())\n",
    "    return auc"
   ]
  },
  {
   "cell_type": "code",
   "execution_count": 3,
   "metadata": {},
   "outputs": [
    {
     "name": "stdout",
     "output_type": "stream",
     "text": [
      "[name: \"/device:CPU:0\"\n",
      "device_type: \"CPU\"\n",
      "memory_limit: 268435456\n",
      "locality {\n",
      "}\n",
      "incarnation: 6487624621059714067\n",
      ", name: \"/device:GPU:0\"\n",
      "device_type: \"GPU\"\n",
      "memory_limit: 4950209331\n",
      "locality {\n",
      "  bus_id: 1\n",
      "  links {\n",
      "  }\n",
      "}\n",
      "incarnation: 14655543199640424894\n",
      "physical_device_desc: \"device: 0, name: GeForce GTX 1060 6GB, pci bus id: 0000:01:00.0, compute capability: 6.1\"\n",
      "]\n"
     ]
    }
   ],
   "source": [
    "from tensorflow.python.client import device_lib\n",
    "print(device_lib.list_local_devices())"
   ]
  },
  {
   "cell_type": "code",
   "execution_count": 4,
   "metadata": {},
   "outputs": [
    {
     "data": {
      "text/plain": [
       "['/job:localhost/replica:0/task:0/device:GPU:0']"
      ]
     },
     "execution_count": 4,
     "metadata": {},
     "output_type": "execute_result"
    }
   ],
   "source": [
    "from keras import backend as K\n",
    "K.tensorflow_backend._get_available_gpus()"
   ]
  },
  {
   "cell_type": "code",
   "execution_count": 5,
   "metadata": {},
   "outputs": [
    {
     "data": {
      "text/plain": [
       "((22046, 200, 200, 3), (22046, 2))"
      ]
     },
     "execution_count": 5,
     "metadata": {},
     "output_type": "execute_result"
    }
   ],
   "source": [
    "x_train = np.load(\"datasets/norm/x_train_norm_200.npy\")\n",
    "y_train = np.load(\"datasets/norm/y_train_norm_200.npy\")\n",
    "x_train.shape, y_train.shape"
   ]
  },
  {
   "cell_type": "code",
   "execution_count": 6,
   "metadata": {},
   "outputs": [
    {
     "data": {
      "text/plain": [
       "((2756, 200, 200, 3), (2756, 2))"
      ]
     },
     "execution_count": 6,
     "metadata": {},
     "output_type": "execute_result"
    }
   ],
   "source": [
    "x_val = np.load(\"datasets/norm/x_val_norm_200.npy\")\n",
    "y_val = np.load(\"datasets/norm/y_val_norm_200.npy\")\n",
    "x_val.shape, y_val.shape"
   ]
  },
  {
   "cell_type": "code",
   "execution_count": 7,
   "metadata": {},
   "outputs": [
    {
     "data": {
      "text/plain": [
       "((2756, 200, 200, 3), (2756, 2))"
      ]
     },
     "execution_count": 7,
     "metadata": {},
     "output_type": "execute_result"
    }
   ],
   "source": [
    "x_test = np.load(\"datasets/norm/x_test_norm_200.npy\")\n",
    "y_test = np.load(\"datasets/norm/y_test_norm_200.npy\")\n",
    "x_test.shape, y_test.shape"
   ]
  },
  {
   "cell_type": "code",
   "execution_count": 8,
   "metadata": {},
   "outputs": [
    {
     "name": "stdout",
     "output_type": "stream",
     "text": [
      "(22046, 200, 200, 3) (22046, 2)\n",
      "(2756, 200, 200, 3) (2756, 200, 200, 3) (2756, 2) (2756, 2)\n"
     ]
    }
   ],
   "source": [
    "print(x_train.shape, y_train.shape)\n",
    "print(x_val.shape, x_test.shape, y_val.shape, y_test.shape)"
   ]
  },
  {
   "cell_type": "code",
   "execution_count": 9,
   "metadata": {},
   "outputs": [],
   "source": [
    "IMAGE_SIZE = 200\n",
    "IMAGE_WIDTH, IMAGE_HEIGHT = IMAGE_SIZE, IMAGE_SIZE\n",
    "EPOCHS = 30\n",
    "BATCH_SIZE = 64\n",
    "TEST_SIZE = 30"
   ]
  },
  {
   "cell_type": "code",
   "execution_count": 10,
   "metadata": {},
   "outputs": [],
   "source": [
    "TRAINING_LOGS_FILE = \"training_logs.csv\"\n",
    "TEST_LOGS_FILE = \"test_logs.csv\"\n",
    "MODEL_SUMMARY_FILE = \"model_summary.txt\"\n",
    "TEST_FILE = \"test_file.txt\"\n",
    "MODEL_FILE = \"very-normal-200-exp1.h5\""
   ]
  },
  {
   "cell_type": "code",
   "execution_count": 11,
   "metadata": {},
   "outputs": [],
   "source": [
    "input_shape = (200, 200, 3)"
   ]
  },
  {
   "cell_type": "code",
   "execution_count": 12,
   "metadata": {},
   "outputs": [
    {
     "data": {
      "text/plain": [
       "(200, 200, 3)"
      ]
     },
     "execution_count": 12,
     "metadata": {},
     "output_type": "execute_result"
    }
   ],
   "source": [
    "input_shape"
   ]
  },
  {
   "cell_type": "code",
   "execution_count": 13,
   "metadata": {},
   "outputs": [],
   "source": [
    "model = None\n",
    "model = Sequential()"
   ]
  },
  {
   "cell_type": "code",
   "execution_count": 14,
   "metadata": {},
   "outputs": [
    {
     "name": "stdout",
     "output_type": "stream",
     "text": [
      "_________________________________________________________________\n",
      "Layer (type)                 Output Shape              Param #   \n",
      "=================================================================\n",
      "conv2d_1 (Conv2D)            (None, 200, 200, 32)      896       \n",
      "_________________________________________________________________\n",
      "conv2d_2 (Conv2D)            (None, 200, 200, 32)      9248      \n",
      "_________________________________________________________________\n",
      "max_pooling2d_1 (MaxPooling2 (None, 100, 100, 32)      0         \n",
      "_________________________________________________________________\n",
      "conv2d_3 (Conv2D)            (None, 100, 100, 64)      18496     \n",
      "_________________________________________________________________\n",
      "conv2d_4 (Conv2D)            (None, 100, 100, 64)      36928     \n",
      "_________________________________________________________________\n",
      "max_pooling2d_2 (MaxPooling2 (None, 50, 50, 64)        0         \n",
      "_________________________________________________________________\n",
      "conv2d_5 (Conv2D)            (None, 50, 50, 128)       73856     \n",
      "_________________________________________________________________\n",
      "conv2d_6 (Conv2D)            (None, 50, 50, 128)       147584    \n",
      "_________________________________________________________________\n",
      "max_pooling2d_3 (MaxPooling2 (None, 25, 25, 128)       0         \n",
      "_________________________________________________________________\n",
      "conv2d_7 (Conv2D)            (None, 25, 25, 256)       295168    \n",
      "_________________________________________________________________\n",
      "conv2d_8 (Conv2D)            (None, 25, 25, 256)       590080    \n",
      "_________________________________________________________________\n",
      "max_pooling2d_4 (MaxPooling2 (None, 12, 12, 256)       0         \n",
      "_________________________________________________________________\n",
      "flatten_1 (Flatten)          (None, 36864)             0         \n",
      "_________________________________________________________________\n",
      "dense_1 (Dense)              (None, 256)               9437440   \n",
      "_________________________________________________________________\n",
      "dropout_1 (Dropout)          (None, 256)               0         \n",
      "_________________________________________________________________\n",
      "dense_2 (Dense)              (None, 256)               65792     \n",
      "_________________________________________________________________\n",
      "dropout_2 (Dropout)          (None, 256)               0         \n",
      "_________________________________________________________________\n",
      "dense_3 (Dense)              (None, 2)                 514       \n",
      "_________________________________________________________________\n",
      "activation_1 (Activation)    (None, 2)                 0         \n",
      "=================================================================\n",
      "Total params: 10,676,002\n",
      "Trainable params: 10,676,002\n",
      "Non-trainable params: 0\n",
      "_________________________________________________________________\n"
     ]
    }
   ],
   "source": [
    "model.add(Conv2D(32, (3, 3), padding='same', input_shape=input_shape, activation='relu'))\n",
    "model.add(Conv2D(32, (3, 3), padding='same', activation='relu'))\n",
    "model.add(MaxPooling2D(pool_size=(2, 2)))\n",
    "\n",
    "model.add(Conv2D(64, (3, 3), padding='same', activation='relu'))\n",
    "model.add(Conv2D(64, (3, 3), padding='same', activation='relu'))\n",
    "model.add(MaxPooling2D(pool_size=(2, 2)))\n",
    "\n",
    "model.add(Conv2D(128, (3, 3), padding='same', activation='relu'))\n",
    "model.add(Conv2D(128, (3, 3), padding='same', activation='relu'))\n",
    "model.add(MaxPooling2D(pool_size=(2, 2)))\n",
    "\n",
    "model.add(Conv2D(256, (3, 3), padding='same', activation='relu'))\n",
    "model.add(Conv2D(256, (3, 3), padding='same', activation='relu'))\n",
    "model.add(MaxPooling2D(pool_size=(2, 2)))\n",
    "\n",
    "model.add(Flatten())\n",
    "model.add(Dense(256, activation='relu'))\n",
    "model.add(Dropout(0.5))\n",
    "\n",
    "model.add(Dense(256, activation='relu'))\n",
    "model.add(Dropout(0.5))\n",
    "\n",
    "model.add(Dense(2))\n",
    "model.add(Activation('softmax'))\n",
    "    \n",
    "model.compile(loss='binary_crossentropy',\n",
    "            optimizer=\"adadelta\",\n",
    "            metrics=['accuracy', precision, recall, f1, matthews_correlation, auc])\n",
    "\n",
    "model.summary()"
   ]
  },
  {
   "cell_type": "code",
   "execution_count": 15,
   "metadata": {},
   "outputs": [
    {
     "name": "stdout",
     "output_type": "stream",
     "text": [
      "Train on 22046 samples, validate on 2756 samples\n",
      "Epoch 1/30\n",
      "22046/22046 [==============================] - 130s 6ms/step - loss: 0.6939 - acc: 0.5055 - precision: 0.4518 - recall: 0.5397 - f1: 0.4355 - matthews_correlation: 0.0110 - auc: 0.5040 - val_loss: 0.6929 - val_acc: 0.4971 - val_precision: 0.4971 - val_recall: 1.0000 - val_f1: 0.6580 - val_matthews_correlation: 0.0000e+00 - val_auc: 0.5064\n",
      "Epoch 2/30\n",
      "22046/22046 [==============================] - 126s 6ms/step - loss: 0.4359 - acc: 0.7693 - precision: 0.7870 - recall: 0.7748 - f1: 0.7487 - matthews_correlation: 0.5464 - auc: 0.5834 - val_loss: 0.1517 - val_acc: 0.9481 - val_precision: 0.9378 - val_recall: 0.9575 - val_f1: 0.9462 - val_matthews_correlation: 0.8945 - val_auc: 0.73100.6597 - acc: 0.6047 - precision: 0.6224 - recall: 0.6304 - f1: 0.5665 - matthews - ETA: 53s - loss: 0.6283 - acc: 0.6300 - precision: 0.6508 - recall: 0.6486 - f1: 0.5941 - matthews_correl - ETA: 48s - loss: 0.6003 - acc: 0.6510 - precision: 0.6703 - recall: 0.6686 - f1: 0.6174 - matthews_correlation: 0.3136 -  - ETA: 46s - loss: 0.5897 - acc: 0.6586 - precision: 0.6775 - recall: 0.6756 - f1: 0.6258 - matthews_correlatio - ETA: 42s - loss: 0.5707 - acc: 0.6728 - prec - ETA: 6s - loss: 0.4512 - acc: 0.7584 - precision: 0.7761 - recall: 0.7650 - ETA: 1s - loss: 0.4397 - acc: 0.7667 - precision: 0.7844 - recall: 0.7724 - f1: 0.7457 - matthews_correlation: \n",
      "Epoch 3/30\n",
      "22046/22046 [==============================] - 126s 6ms/step - loss: 0.1639 - acc: 0.9505 - precision: 0.9616 - recall: 0.9387 - f1: 0.9479 - matthews_correlation: 0.9017 - auc: 0.8105 - val_loss: 0.1300 - val_acc: 0.9601 - val_precision: 0.9670 - val_recall: 0.9499 - val_f1: 0.9572 - val_matthews_correlation: 0.9187 - val_auc: 0.861481 - matthews_corr - ETA: 27s - loss: 0.1660 - acc: 0.9504 - precision: 0.9620 - rec - ETA: 15s - loss: - ETA: 2s - loss: 0.1642 - acc: 0.9504 - precision: 0.9616 - recall: 0.9385 - f1: 0.9477 - matthews_cor\n",
      "Epoch 4/30\n",
      "22046/22046 [==============================] - 126s 6ms/step - loss: 0.1490 - acc: 0.9542 - precision: 0.9622 - recall: 0.9453 - f1: 0.9521 - matthews_correlation: 0.9083 - auc: 0.8894 - val_loss: 0.1385 - val_acc: 0.9575 - val_precision: 0.9841 - val_recall: 0.9307 - val_f1: 0.9549 - val_matthews_correlation: 0.9162 - val_auc: 0.909795 - acc: 0.9539 - precision: 0.9617 - recall: 0.9450 - f1: 0.9516 - matthews_correlation: 0.9077  - ETA: 33s - loss: 0.1502 - acc - ETA: 15s - loss: 0.1508 - acc: 0.9535 - precision: 0.9 - ETA: 5s - loss: 0.1493 - acc: 0.9542 - precision: 0.9623 - recall:  - ETA: 0s - loss: 0.1491 - acc: 0.9542 - precision: 0.9622 - recall: 0.9452 - f1: 0.9520 - matthews_correlation: 0.9082 - auc: 0.88\n",
      "Epoch 5/30\n",
      "22046/22046 [==============================] - 126s 6ms/step - loss: 0.1397 - acc: 0.9559 - precision: 0.9656 - recall: 0.9464 - f1: 0.9541 - matthews_correlation: 0.9126 - auc: 0.9228 - val_loss: 0.1338 - val_acc: 0.9579 - val_precision: 0.9736 - val_recall: 0.9398 - val_f1: 0.9551 - val_matthews_correlation: 0.9151 - val_auc: 0.9334\n",
      "Epoch 6/30\n",
      "22046/22046 [==============================] - 126s 6ms/step - loss: 0.1281 - acc: 0.9596 - precision: 0.9693 - recall: 0.9493 - f1: 0.9578 - matthews_correlation: 0.9199 - auc: 0.9410 - val_loss: 0.1238 - val_acc: 0.9608 - val_precision: 0.9757 - val_recall: 0.9436 - val_f1: 0.9580 - val_matthews_correlation: 0.9212 - val_auc: 0.9473\n",
      "Epoch 7/30\n",
      "22046/22046 [==============================] - 126s 6ms/step - loss: 0.1249 - acc: 0.9608 - precision: 0.9719 - recall: 0.9501 - f1: 0.9595 - matthews_correlation: 0.9220 - auc: 0.9522 - val_loss: 0.1211 - val_acc: 0.9619 - val_precision: 0.9637 - val_recall: 0.9580 - val_f1: 0.9597 - val_matthews_correlation: 0.9222 - val_auc: 0.9563cision: 0.9719 - recall: 0.9499 - f1:\n",
      "Epoch 8/30\n",
      "22046/22046 [==============================] - 126s 6ms/step - loss: 0.1176 - acc: 0.9633 - precision: 0.9749 - recall: 0.9520 - f1: 0.9620 - matthews_correlation: 0.9271 - auc: 0.9596 - val_loss: 0.1297 - val_acc: 0.9597 - val_precision: 0.9738 - val_recall: 0.9432 - val_f1: 0.9570 - val_matthews_correlation: 0.9183 - val_auc: 0.9625\n",
      "Epoch 9/30\n",
      "22046/22046 [==============================] - 126s 6ms/step - loss: 0.1119 - acc: 0.9651 - precision: 0.9751 - recall: 0.9558 - f1: 0.9641 - matthews_correlation: 0.9308 - auc: 0.9649 - val_loss: 0.1217 - val_acc: 0.9623 - val_precision: 0.9703 - val_recall: 0.9515 - val_f1: 0.9595 - val_matthews_correlation: 0.9233 - val_auc: 0.9671recall: 0.9561 - f1: 0.9641 - matthe\n",
      "Epoch 10/30\n",
      "22046/22046 [==============================] - 126s 6ms/step - loss: 0.1056 - acc: 0.9658 - precision: 0.9749 - recall: 0.9573 - f1: 0.9648 - matthews_correlation: 0.9320 - auc: 0.9689 - val_loss: 0.1281 - val_acc: 0.9583 - val_precision: 0.9774 - val_recall: 0.9372 - val_f1: 0.9555 - val_matthews_correlation: 0.9161 - val_auc: 0.9706\n",
      "Epoch 11/30\n",
      "22046/22046 [==============================] - 126s 6ms/step - loss: 0.1011 - acc: 0.9679 - precision: 0.9778 - recall: 0.9583 - f1: 0.9669 - matthews_correlation: 0.9359 - auc: 0.9721 - val_loss: 0.1240 - val_acc: 0.9594 - val_precision: 0.9760 - val_recall: 0.9403 - val_f1: 0.9564 - val_matthews_correlation: 0.9180 - val_auc: 0.9734\n",
      "Epoch 12/30\n",
      "22046/22046 [==============================] - 126s 6ms/step - loss: 0.0942 - acc: 0.9698 - precision: 0.9788 - recall: 0.9610 - f1: 0.9688 - matthews_correlation: 0.9399 - auc: 0.9746 - val_loss: 0.1530 - val_acc: 0.9594 - val_precision: 0.9816 - val_recall: 0.9349 - val_f1: 0.9564 - val_matthews_correlation: 0.9181 - val_auc: 0.9757\n",
      "Epoch 13/30\n",
      "22046/22046 [==============================] - 126s 6ms/step - loss: 0.0861 - acc: 0.9724 - precision: 0.9814 - recall: 0.9638 - f1: 0.9714 - matthews_correlation: 0.9453 - auc: 0.9767 - val_loss: 0.1313 - val_acc: 0.9604 - val_precision: 0.9729 - val_recall: 0.9457 - val_f1: 0.9579 - val_matthews_correlation: 0.9199 - val_auc: 0.9776\n",
      "Epoch 14/30\n",
      "22046/22046 [==============================] - 126s 6ms/step - loss: 0.0808 - acc: 0.9743 - precision: 0.9825 - recall: 0.9663 - f1: 0.9734 - matthews_correlation: 0.9487 - auc: 0.9785 - val_loss: 0.1417 - val_acc: 0.9612 - val_precision: 0.9654 - val_recall: 0.9552 - val_f1: 0.9589 - val_matthews_correlation: 0.9211 - val_auc: 0.9793\n",
      "Epoch 15/30\n",
      "22046/22046 [==============================] - 126s 6ms/step - loss: 0.0701 - acc: 0.9785 - precision: 0.9864 - recall: 0.9695 - f1: 0.9771 - matthews_correlation: 0.9571 - auc: 0.9801 - val_loss: 0.1574 - val_acc: 0.9568 - val_precision: 0.9640 - val_recall: 0.9476 - val_f1: 0.9543 - val_matthews_correlation: 0.9122 - val_auc: 0.9808\n",
      "Epoch 16/30\n",
      "22046/22046 [==============================] - 126s 6ms/step - loss: 0.0606 - acc: 0.9800 - precision: 0.9869 - recall: 0.9736 - f1: 0.9796 - matthews_correlation: 0.9601 - auc: 0.9815 - val_loss: 0.1668 - val_acc: 0.9575 - val_precision: 0.9649 - val_recall: 0.9478 - val_f1: 0.9547 - val_matthews_correlation: 0.9140 - val_auc: 0.9821\n",
      "Epoch 17/30\n",
      "22046/22046 [==============================] - 126s 6ms/step - loss: 0.0533 - acc: 0.9831 - precision: 0.9894 - recall: 0.9776 - f1: 0.9828 - matthews_correlation: 0.9664 - auc: 0.9828 - val_loss: 0.2435 - val_acc: 0.9394 - val_precision: 0.9808 - val_recall: 0.8960 - val_f1: 0.9344 - val_matthews_correlation: 0.8804 - val_auc: 0.9833\n",
      "Epoch 18/30\n",
      "22046/22046 [==============================] - 126s 6ms/step - loss: 0.0471 - acc: 0.9848 - precision: 0.9905 - recall: 0.9794 - f1: 0.9844 - matthews_correlation: 0.9699 - auc: 0.9838 - val_loss: 0.1965 - val_acc: 0.9546 - val_precision: 0.9499 - val_recall: 0.9586 - val_f1: 0.9526 - val_matthews_correlation: 0.9080 - val_auc: 0.9843.9797 - f1:\n",
      "Epoch 19/30\n",
      "22046/22046 [==============================] - 126s 6ms/step - loss: 0.0399 - acc: 0.9877 - precision: 0.9917 - recall: 0.9836 - f1: 0.9872 - matthews_correlation: 0.9755 - auc: 0.9848 - val_loss: 0.2020 - val_acc: 0.9565 - val_precision: 0.9726 - val_recall: 0.9378 - val_f1: 0.9535 - val_matthews_correlation: 0.9117 - val_auc: 0.9853 re\n",
      "Epoch 20/30\n"
     ]
    },
    {
     "name": "stdout",
     "output_type": "stream",
     "text": [
      "22046/22046 [==============================] - 126s 6ms/step - loss: 0.0352 - acc: 0.9892 - precision: 0.9931 - recall: 0.9857 - f1: 0.9890 - matthews_correlation: 0.9785 - auc: 0.9858 - val_loss: 0.2303 - val_acc: 0.9565 - val_precision: 0.9725 - val_recall: 0.9395 - val_f1: 0.9542 - val_matthews_correlation: 0.9126 - val_auc: 0.9862\n",
      "Epoch 21/30\n",
      "22046/22046 [==============================] - 127s 6ms/step - loss: 0.0305 - acc: 0.9912 - precision: 0.9950 - recall: 0.9873 - f1: 0.9908 - matthews_correlation: 0.9823 - auc: 0.9866 - val_loss: 0.2426 - val_acc: 0.9554 - val_precision: 0.9573 - val_recall: 0.9503 - val_f1: 0.9524 - val_matthews_correlation: 0.9090 - val_auc: 0.9870\n",
      "Epoch 22/30\n",
      "22046/22046 [==============================] - 127s 6ms/step - loss: 0.0326 - acc: 0.9906 - precision: 0.9939 - recall: 0.9873 - f1: 0.9903 - matthews_correlation: 0.9812 - auc: 0.9874 - val_loss: 0.2697 - val_acc: 0.9481 - val_precision: 0.9815 - val_recall: 0.9122 - val_f1: 0.9440 - val_matthews_correlation: 0.8966 - val_auc: 0.9877\n",
      "Epoch 23/30\n",
      "22046/22046 [==============================] - 127s 6ms/step - loss: 0.0273 - acc: 0.9928 - precision: 0.9957 - recall: 0.9900 - f1: 0.9926 - matthews_correlation: 0.9857 - auc: 0.9880 - val_loss: 0.2612 - val_acc: 0.9590 - val_precision: 0.9588 - val_recall: 0.9585 - val_f1: 0.9571 - val_matthews_correlation: 0.9172 - val_auc: 0.9883\n",
      "Epoch 24/30\n",
      "22046/22046 [==============================] - 127s 6ms/step - loss: 0.0258 - acc: 0.9930 - precision: 0.9951 - recall: 0.9909 - f1: 0.9927 - matthews_correlation: 0.9861 - auc: 0.9886 - val_loss: 0.2981 - val_acc: 0.9572 - val_precision: 0.9700 - val_recall: 0.9391 - val_f1: 0.9532 - val_matthews_correlation: 0.9126 - val_auc: 0.9888\n",
      "Epoch 25/30\n",
      "22046/22046 [==============================] - 127s 6ms/step - loss: 0.0222 - acc: 0.9946 - precision: 0.9962 - recall: 0.9931 - f1: 0.9945 - matthews_correlation: 0.9892 - auc: 0.9891 - val_loss: 0.3090 - val_acc: 0.9543 - val_precision: 0.9684 - val_recall: 0.9393 - val_f1: 0.9521 - val_matthews_correlation: 0.9078 - val_auc: 0.9893\n",
      "Epoch 26/30\n",
      "22046/22046 [==============================] - 127s 6ms/step - loss: 0.0200 - acc: 0.9950 - precision: 0.9965 - recall: 0.9936 - f1: 0.9949 - matthews_correlation: 0.9900 - auc: 0.9896 - val_loss: 0.3697 - val_acc: 0.9532 - val_precision: 0.9759 - val_recall: 0.9276 - val_f1: 0.9497 - val_matthews_correlation: 0.9059 - val_auc: 0.9898loss: 0.0198 - acc: 0.9950 - precision: 0 - ETA: 3s - loss: 0.0197 - acc: 0.9951 - precision: 0.9966 - recall: 0.9936 - f1: 0.9949 - matthe\n",
      "Epoch 27/30\n",
      "22046/22046 [==============================] - 126s 6ms/step - loss: 0.0201 - acc: 0.9945 - precision: 0.9960 - recall: 0.9930 - f1: 0.9943 - matthews_correlation: 0.9891 - auc: 0.9900 - val_loss: 0.3236 - val_acc: 0.9594 - val_precision: 0.9774 - val_recall: 0.9392 - val_f1: 0.9564 - val_matthews_correlation: 0.9186 - val_auc: 0.9902\n",
      "Epoch 28/30\n",
      "22046/22046 [==============================] - 127s 6ms/step - loss: 0.0156 - acc: 0.9961 - precision: 0.9973 - recall: 0.9949 - f1: 0.9960 - matthews_correlation: 0.9922 - auc: 0.9904 - val_loss: 0.2954 - val_acc: 0.9565 - val_precision: 0.9672 - val_recall: 0.9438 - val_f1: 0.9539 - val_matthews_correlation: 0.9120 - val_auc: 0.9905\n",
      "Epoch 29/30\n",
      "22046/22046 [==============================] - 126s 6ms/step - loss: 0.0153 - acc: 0.9962 - precision: 0.9969 - recall: 0.9957 - f1: 0.9962 - matthews_correlation: 0.9925 - auc: 0.9907 - val_loss: 0.3293 - val_acc: 0.9612 - val_precision: 0.9757 - val_recall: 0.9443 - val_f1: 0.9587 - val_matthews_correlation: 0.9208 - val_auc: 0.9909\n",
      "Epoch 30/30\n",
      "22046/22046 [==============================] - 126s 6ms/step - loss: 0.0159 - acc: 0.9961 - precision: 0.9975 - recall: 0.9946 - f1: 0.9959 - matthews_correlation: 0.9922 - auc: 0.9911 - val_loss: 0.3374 - val_acc: 0.9623 - val_precision: 0.9656 - val_recall: 0.9571 - val_f1: 0.9600 - val_matthews_correlation: 0.9232 - val_auc: 0.9912\n"
     ]
    },
    {
     "data": {
      "text/plain": [
       "<keras.callbacks.History at 0x292f9af4eb8>"
      ]
     },
     "execution_count": 15,
     "metadata": {},
     "output_type": "execute_result"
    }
   ],
   "source": [
    "model.fit(x=x_train, y=y_train, validation_data = (x_val,y_val), epochs=EPOCHS, verbose=1)"
   ]
  },
  {
   "cell_type": "code",
   "execution_count": 16,
   "metadata": {},
   "outputs": [],
   "source": [
    "model.save(\"very-normal-exp2.h5\")"
   ]
  },
  {
   "cell_type": "code",
   "execution_count": 17,
   "metadata": {},
   "outputs": [],
   "source": [
    " def plot_loss_accu(history):\n",
    "    loss = history.history['loss']\n",
    "    val_loss = history.history['val_loss']\n",
    "    epochs = range(len(loss))\n",
    "    plt.plot(epochs, loss, 'g')\n",
    "    plt.plot(epochs, val_loss, 'y')\n",
    "    plt.title('Loss')\n",
    "    plt.legend(['train', 'val'], loc='upper right')\n",
    "    plt.grid(True)\n",
    "    plt.savefig('exp2_loss_normal.jpg', dpi=300)\n",
    "    plt.show()\n",
    "    \n",
    "def plot_loss(history):\n",
    "    loss = history.history['acc']\n",
    "    val_loss = history.history['val_acc']\n",
    "    epochs = range(len(loss))\n",
    "    plt.plot(epochs, loss, 'r')\n",
    "    plt.plot(epochs, val_loss, 'b')\n",
    "    plt.title('Accuracy')\n",
    "    plt.legend(['train', 'val'], loc='lower right')\n",
    "    plt.grid(True)\n",
    "    plt.savefig('exp2_acc_normal.jpg', dpi=300)\n",
    "    plt.show()"
   ]
  },
  {
   "cell_type": "code",
   "execution_count": 18,
   "metadata": {},
   "outputs": [
    {
     "data": {
      "image/png": "[encoded data removed]",
      "text/plain": [
       "<Figure size 432x288 with 1 Axes>"
      ]
     },
     "metadata": {
      "needs_background": "light"
     },
     "output_type": "display_data"
    },
    {
     "data": {
      "image/png": "[encoded data removed]",
      "text/plain": [
       "<Figure size 432x288 with 1 Axes>"
      ]
     },
     "metadata": {
      "needs_background": "light"
     },
     "output_type": "display_data"
    },
    {
     "name": "stdout",
     "output_type": "stream",
     "text": [
      "Done!\n"
     ]
    }
   ],
   "source": [
    "plot_loss_accu(model.history)\n",
    "plot_loss(model.history)\n",
    "print(\"Done!\")"
   ]
  },
  {
   "cell_type": "code",
   "execution_count": 19,
   "metadata": {},
   "outputs": [
    {
     "name": "stdout",
     "output_type": "stream",
     "text": [
      "2756/2756 [==============================] - 6s 2ms/step\n",
      "Test loss: 0.3873219742311083\n",
      "Test accuracy: 0.9560957910014514\n"
     ]
    }
   ],
   "source": [
    "score = model.evaluate(x_test, y_test, verbose=1)\n",
    "print('Test loss:', score[0])\n",
    "print('Test accuracy:', score[1])"
   ]
  },
  {
   "cell_type": "code",
   "execution_count": 20,
   "metadata": {},
   "outputs": [],
   "source": [
    "y_pred = model.predict(x_test)\n",
    "# get labels from predictions\n",
    "pred_labels = np.array([np.argmax(pred) for pred in y_pred])\n",
    "\n",
    "#convert ground truths to column values\n",
    "y_test = np.argmax(y_test, axis=1)\n",
    "accuracy = np.mean((y_test==pred_labels))\n"
   ]
  },
  {
   "cell_type": "code",
   "execution_count": 21,
   "metadata": {},
   "outputs": [
    {
     "data": {
      "text/plain": [
       "(2756, 2)"
      ]
     },
     "execution_count": 21,
     "metadata": {},
     "output_type": "execute_result"
    }
   ],
   "source": [
    "y_pred.shape"
   ]
  },
  {
   "cell_type": "code",
   "execution_count": 22,
   "metadata": {},
   "outputs": [
    {
     "data": {
      "text/plain": [
       "0.9560957910014514"
      ]
     },
     "execution_count": 22,
     "metadata": {},
     "output_type": "execute_result"
    }
   ],
   "source": [
    "accuracy"
   ]
  },
  {
   "cell_type": "code",
   "execution_count": 23,
   "metadata": {},
   "outputs": [],
   "source": [
    "np.save(\"y_pred_verynormal_exp2.npy\", y_pred)"
   ]
  },
  {
   "cell_type": "code",
   "execution_count": null,
   "metadata": {},
   "outputs": [],
   "source": []
  }
 ],
 "metadata": {
  "kernelspec": {
   "display_name": "Python 3",
   "language": "python",
   "name": "python3"
  },
  "language_info": {
   "codemirror_mode": {
    "name": "ipython",
    "version": 3
   },
   "file_extension": ".py",
   "mimetype": "text/x-python",
   "name": "python",
   "nbconvert_exporter": "python",
   "pygments_lexer": "ipython3",
   "version": "3.6.7"
  }
 },
 "nbformat": 4,
 "nbformat_minor": 2
}
