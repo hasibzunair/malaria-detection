{
 "cells": [
  {
   "cell_type": "code",
   "execution_count": 3,
   "metadata": {},
   "outputs": [],
   "source": [
    "%matplotlib inline\n",
    "import matplotlib.pyplot as plt\n",
    "import matplotlib.image as mpimg\n",
    "from keras.preprocessing.image import ImageDataGenerator\n",
    "from keras.models import Sequential\n",
    "from keras.optimizers import RMSprop\n",
    "from keras.layers import Conv2D, MaxPooling2D\n",
    "from keras.layers import Activation, Dropout, Flatten, Dense\n",
    "from keras.callbacks import CSVLogger\n",
    "#from livelossplot import PlotLossesKeras\n",
    "import os\n",
    "import numpy as np\n",
    "#from imgaug import augmenters as iaa\n",
    "import cv2\n",
    "import tensorflow as tf"
   ]
  },
  {
   "cell_type": "code",
   "execution_count": 4,
   "metadata": {},
   "outputs": [],
   "source": [
    "def check_units(y_true, y_pred):\n",
    "    if y_pred.shape[1] != 1:\n",
    "        y_pred = y_pred[:,1:2]\n",
    "        y_true = y_true[:,1:2]\n",
    "    return y_true, y_pred\n",
    "\n",
    "def precision(y_true, y_pred):\n",
    "    y_true, y_pred = check_units(y_true, y_pred)\n",
    "    true_positives = K.sum(K.round(K.clip(y_true * y_pred, 0, 1)))\n",
    "    predicted_positives = K.sum(K.round(K.clip(y_pred, 0, 1)))\n",
    "    precision = true_positives / (predicted_positives + K.epsilon())\n",
    "    return precision\n",
    "\n",
    "def recall(y_true, y_pred):\n",
    "    y_true, y_pred = check_units(y_true, y_pred)\n",
    "    true_positives = K.sum(K.round(K.clip(y_true * y_pred, 0, 1)))\n",
    "    possible_positives = K.sum(K.round(K.clip(y_true, 0, 1)))\n",
    "    recall = true_positives / (possible_positives + K.epsilon())\n",
    "    return recall\n",
    "\n",
    "def f1(y_true, y_pred):\n",
    "    def recall(y_true, y_pred):\n",
    "        true_positives = K.sum(K.round(K.clip(y_true * y_pred, 0, 1)))\n",
    "        possible_positives = K.sum(K.round(K.clip(y_true, 0, 1)))\n",
    "        recall = true_positives / (possible_positives + K.epsilon())\n",
    "        return recall\n",
    "\n",
    "    def precision(y_true, y_pred):\n",
    "        true_positives = K.sum(K.round(K.clip(y_true * y_pred, 0, 1)))\n",
    "        predicted_positives = K.sum(K.round(K.clip(y_pred, 0, 1)))\n",
    "        precision = true_positives / (predicted_positives + K.epsilon())\n",
    "        return precision\n",
    "    y_true, y_pred = check_units(y_true, y_pred)\n",
    "    precision = precision(y_true, y_pred)\n",
    "    recall = recall(y_true, y_pred)\n",
    "    return 2*((precision*recall)/(precision+recall+K.epsilon()))\n",
    "\n",
    "def matthews_correlation(y_true, y_pred):\n",
    "    y_true, y_pred = check_units(y_true, y_pred)\n",
    "    y_pred_pos = K.round(K.clip(y_pred, 0, 1))\n",
    "    y_pred_neg = 1 - y_pred_pos\n",
    "\n",
    "    y_pos = K.round(K.clip(y_true, 0, 1))\n",
    "    y_neg = 1 - y_pos\n",
    "\n",
    "    tp = K.sum(y_pos * y_pred_pos)\n",
    "    tn = K.sum(y_neg * y_pred_neg)\n",
    "\n",
    "    fp = K.sum(y_neg * y_pred_pos)\n",
    "    fn = K.sum(y_pos * y_pred_neg)\n",
    "\n",
    "    numerator = (tp * tn - fp * fn)\n",
    "    denominator = K.sqrt((tp + fp) * (tp + fn) * (tn + fp) * (tn + fn))\n",
    "\n",
    "    return numerator / (denominator + K.epsilon())\n",
    "\n",
    "def auc(y_true, y_pred):\n",
    "    auc = tf.metrics.auc(y_true, y_pred)[1]\n",
    "    K.get_session().run(tf.local_variables_initializer())\n",
    "    return auc"
   ]
  },
  {
   "cell_type": "code",
   "execution_count": 5,
   "metadata": {},
   "outputs": [
    {
     "name": "stdout",
     "output_type": "stream",
     "text": [
      "[name: \"/device:CPU:0\"\n",
      "device_type: \"CPU\"\n",
      "memory_limit: 268435456\n",
      "locality {\n",
      "}\n",
      "incarnation: 1045010693273990635\n",
      ", name: \"/device:GPU:0\"\n",
      "device_type: \"GPU\"\n",
      "memory_limit: 4950209331\n",
      "locality {\n",
      "  bus_id: 1\n",
      "  links {\n",
      "  }\n",
      "}\n",
      "incarnation: 7778655909336514388\n",
      "physical_device_desc: \"device: 0, name: GeForce GTX 1060 6GB, pci bus id: 0000:01:00.0, compute capability: 6.1\"\n",
      "]\n"
     ]
    }
   ],
   "source": [
    "from tensorflow.python.client import device_lib\n",
    "print(device_lib.list_local_devices())"
   ]
  },
  {
   "cell_type": "code",
   "execution_count": 6,
   "metadata": {},
   "outputs": [
    {
     "data": {
      "text/plain": [
       "['/job:localhost/replica:0/task:0/device:GPU:0']"
      ]
     },
     "execution_count": 6,
     "metadata": {},
     "output_type": "execute_result"
    }
   ],
   "source": [
    "from keras import backend as K\n",
    "K.tensorflow_backend._get_available_gpus()"
   ]
  },
  {
   "cell_type": "code",
   "execution_count": 7,
   "metadata": {},
   "outputs": [
    {
     "data": {
      "text/plain": [
       "((22046, 200, 200, 3), (22046, 2))"
      ]
     },
     "execution_count": 7,
     "metadata": {},
     "output_type": "execute_result"
    }
   ],
   "source": [
    "x_train = np.load(\"datasets/std/x_train_std_200.npy\")\n",
    "y_train = np.load(\"datasets/std/y_train_std_200.npy\")\n",
    "x_train.shape, y_train.shape"
   ]
  },
  {
   "cell_type": "code",
   "execution_count": 8,
   "metadata": {},
   "outputs": [
    {
     "data": {
      "text/plain": [
       "((2756, 200, 200, 3), (2756, 2))"
      ]
     },
     "execution_count": 8,
     "metadata": {},
     "output_type": "execute_result"
    }
   ],
   "source": [
    "x_val = np.load(\"datasets/std/x_val_std_200.npy\")\n",
    "y_val = np.load(\"datasets/std/y_val_std_200.npy\")\n",
    "x_val.shape, y_val.shape"
   ]
  },
  {
   "cell_type": "code",
   "execution_count": 9,
   "metadata": {},
   "outputs": [
    {
     "data": {
      "text/plain": [
       "((2756, 200, 200, 3), (2756, 2))"
      ]
     },
     "execution_count": 9,
     "metadata": {},
     "output_type": "execute_result"
    }
   ],
   "source": [
    "x_test = np.load(\"datasets/std/x_test_std_200.npy\")\n",
    "y_test = np.load(\"datasets/std/y_test_std_200.npy\")\n",
    "x_test.shape, y_test.shape"
   ]
  },
  {
   "cell_type": "code",
   "execution_count": 10,
   "metadata": {},
   "outputs": [
    {
     "name": "stdout",
     "output_type": "stream",
     "text": [
      "(22046, 200, 200, 3) (22046, 2)\n",
      "(2756, 200, 200, 3) (2756, 200, 200, 3) (2756, 2) (2756, 2)\n"
     ]
    }
   ],
   "source": [
    "print(x_train.shape, y_train.shape)\n",
    "print(x_val.shape, x_test.shape, y_val.shape, y_test.shape)"
   ]
  },
  {
   "cell_type": "code",
   "execution_count": 11,
   "metadata": {},
   "outputs": [],
   "source": [
    "IMAGE_SIZE = 200\n",
    "IMAGE_WIDTH, IMAGE_HEIGHT = IMAGE_SIZE, IMAGE_SIZE\n",
    "EPOCHS = 30\n",
    "BATCH_SIZE = 64\n",
    "TEST_SIZE = 30"
   ]
  },
  {
   "cell_type": "code",
   "execution_count": 12,
   "metadata": {},
   "outputs": [],
   "source": [
    "TRAINING_LOGS_FILE = \"training_logs.csv\"\n",
    "TEST_LOGS_FILE = \"test_logs.csv\"\n",
    "MODEL_SUMMARY_FILE = \"model_summary.txt\"\n",
    "TEST_FILE = \"test_file.txt\"\n",
    "MODEL_FILE = \"very-normal-200-exp3.h5\""
   ]
  },
  {
   "cell_type": "code",
   "execution_count": 13,
   "metadata": {},
   "outputs": [],
   "source": [
    "input_shape = (200, 200, 3)"
   ]
  },
  {
   "cell_type": "code",
   "execution_count": 14,
   "metadata": {},
   "outputs": [
    {
     "data": {
      "text/plain": [
       "(200, 200, 3)"
      ]
     },
     "execution_count": 14,
     "metadata": {},
     "output_type": "execute_result"
    }
   ],
   "source": [
    "input_shape"
   ]
  },
  {
   "cell_type": "code",
   "execution_count": 15,
   "metadata": {},
   "outputs": [],
   "source": [
    "model = None\n",
    "model = Sequential()"
   ]
  },
  {
   "cell_type": "code",
   "execution_count": 16,
   "metadata": {},
   "outputs": [
    {
     "name": "stdout",
     "output_type": "stream",
     "text": [
      "_________________________________________________________________\n",
      "Layer (type)                 Output Shape              Param #   \n",
      "=================================================================\n",
      "conv2d_1 (Conv2D)            (None, 200, 200, 32)      896       \n",
      "_________________________________________________________________\n",
      "conv2d_2 (Conv2D)            (None, 200, 200, 32)      9248      \n",
      "_________________________________________________________________\n",
      "max_pooling2d_1 (MaxPooling2 (None, 100, 100, 32)      0         \n",
      "_________________________________________________________________\n",
      "conv2d_3 (Conv2D)            (None, 100, 100, 64)      18496     \n",
      "_________________________________________________________________\n",
      "conv2d_4 (Conv2D)            (None, 100, 100, 64)      36928     \n",
      "_________________________________________________________________\n",
      "max_pooling2d_2 (MaxPooling2 (None, 50, 50, 64)        0         \n",
      "_________________________________________________________________\n",
      "conv2d_5 (Conv2D)            (None, 50, 50, 128)       73856     \n",
      "_________________________________________________________________\n",
      "conv2d_6 (Conv2D)            (None, 50, 50, 128)       147584    \n",
      "_________________________________________________________________\n",
      "max_pooling2d_3 (MaxPooling2 (None, 25, 25, 128)       0         \n",
      "_________________________________________________________________\n",
      "conv2d_7 (Conv2D)            (None, 25, 25, 256)       295168    \n",
      "_________________________________________________________________\n",
      "conv2d_8 (Conv2D)            (None, 25, 25, 256)       590080    \n",
      "_________________________________________________________________\n",
      "max_pooling2d_4 (MaxPooling2 (None, 12, 12, 256)       0         \n",
      "_________________________________________________________________\n",
      "flatten_1 (Flatten)          (None, 36864)             0         \n",
      "_________________________________________________________________\n",
      "dense_1 (Dense)              (None, 256)               9437440   \n",
      "_________________________________________________________________\n",
      "dropout_1 (Dropout)          (None, 256)               0         \n",
      "_________________________________________________________________\n",
      "dense_2 (Dense)              (None, 256)               65792     \n",
      "_________________________________________________________________\n",
      "dropout_2 (Dropout)          (None, 256)               0         \n",
      "_________________________________________________________________\n",
      "dense_3 (Dense)              (None, 2)                 514       \n",
      "_________________________________________________________________\n",
      "activation_1 (Activation)    (None, 2)                 0         \n",
      "=================================================================\n",
      "Total params: 10,676,002\n",
      "Trainable params: 10,676,002\n",
      "Non-trainable params: 0\n",
      "_________________________________________________________________\n"
     ]
    }
   ],
   "source": [
    "model.add(Conv2D(32, (3, 3), padding='same', input_shape=input_shape, activation='relu'))\n",
    "model.add(Conv2D(32, (3, 3), padding='same', activation='relu'))\n",
    "model.add(MaxPooling2D(pool_size=(2, 2)))\n",
    "\n",
    "model.add(Conv2D(64, (3, 3), padding='same', activation='relu'))\n",
    "model.add(Conv2D(64, (3, 3), padding='same', activation='relu'))\n",
    "model.add(MaxPooling2D(pool_size=(2, 2)))\n",
    "\n",
    "model.add(Conv2D(128, (3, 3), padding='same', activation='relu'))\n",
    "model.add(Conv2D(128, (3, 3), padding='same', activation='relu'))\n",
    "model.add(MaxPooling2D(pool_size=(2, 2)))\n",
    "\n",
    "model.add(Conv2D(256, (3, 3), padding='same', activation='relu'))\n",
    "model.add(Conv2D(256, (3, 3), padding='same', activation='relu'))\n",
    "model.add(MaxPooling2D(pool_size=(2, 2)))\n",
    "\n",
    "model.add(Flatten())\n",
    "model.add(Dense(256, activation='relu'))\n",
    "model.add(Dropout(0.5))\n",
    "\n",
    "model.add(Dense(256, activation='relu'))\n",
    "model.add(Dropout(0.5))\n",
    "\n",
    "model.add(Dense(2))\n",
    "model.add(Activation('softmax'))\n",
    "    \n",
    "model.compile(loss='binary_crossentropy',\n",
    "            optimizer=\"adadelta\",\n",
    "            metrics=['accuracy', precision, recall, f1, matthews_correlation, auc])\n",
    "\n",
    "model.summary()"
   ]
  },
  {
   "cell_type": "code",
   "execution_count": 17,
   "metadata": {},
   "outputs": [
    {
     "name": "stdout",
     "output_type": "stream",
     "text": [
      "Train on 22046 samples, validate on 2756 samples\n",
      "Epoch 1/30\n",
      "22046/22046 [==============================] - 143s 6ms/step - loss: 0.3785 - acc: 0.8065 - precision: 0.8159 - recall: 0.7789 - f1: 0.7741 - matthews_correlation: 0.6234 - auc: 0.7173 - val_loss: 0.2936 - val_acc: 0.9133 - val_precision: 0.8672 - val_recall: 0.9699 - val_f1: 0.9139 - val_matthews_correlation: 0.8296 - val_auc: 0.9156\n",
      "Epoch 2/30\n",
      "22046/22046 [==============================] - 138s 6ms/step - loss: 0.1608 - acc: 0.9523 - precision: 0.9613 - recall: 0.9437 - f1: 0.9505 - matthews_correlation: 0.9051 - auc: 0.9437 - val_loss: 0.1623 - val_acc: 0.9467 - val_precision: 0.9821 - val_recall: 0.9104 - val_f1: 0.9430 - val_matthews_correlation: 0.8947 - val_auc: 0.95820.9521 - precision: 0.9612 - recall: 0.9430 - f1: 0.9503 - matthews_correlation: 0.9046 - auc: - ETA: 15s - loss: 0.1611 - acc: 0.9521 - precision: 0.9612 - recall: 0.9430 - f1: 0.950 - ETA: 8s - loss: 0.1612 - acc: 0.9520 - precision: 0.9610 - recall: 0.9437 - f1: 0.9504 - matthews_correlation: 0.9045 - auc: 0. - ETA: 7s - loss: 0.1615 - acc: 0.9519 - precision:\n",
      "Epoch 3/30\n",
      "22046/22046 [==============================] - 138s 6ms/step - loss: 0.1470 - acc: 0.9535 - precision: 0.9632 - recall: 0.9449 - f1: 0.9520 - matthews_correlation: 0.9078 - auc: 0.9647 - val_loss: 0.1433 - val_acc: 0.9525 - val_precision: 0.9804 - val_recall: 0.9219 - val_f1: 0.9487 - val_matthews_correlation: 0.9053 - val_auc: 0.9692\n",
      "Epoch 4/30\n",
      "22046/22046 [==============================] - 138s 6ms/step - loss: 0.1347 - acc: 0.9567 - precision: 0.9661 - recall: 0.9480 - f1: 0.9553 - matthews_correlation: 0.9139 - auc: 0.9724 - val_loss: 0.1324 - val_acc: 0.9536 - val_precision: 0.9732 - val_recall: 0.9304 - val_f1: 0.9499 - val_matthews_correlation: 0.9062 - val_auc: 0.9746\n",
      "Epoch 5/30\n",
      "22046/22046 [==============================] - 138s 6ms/step - loss: 0.1285 - acc: 0.9587 - precision: 0.9681 - recall: 0.9494 - f1: 0.9570 - matthews_correlation: 0.9182 - auc: 0.9764 - val_loss: 0.1833 - val_acc: 0.9267 - val_precision: 0.8958 - val_recall: 0.9582 - val_f1: 0.9240 - val_matthews_correlation: 0.8542 - val_auc: 0.9777\n",
      "Epoch 6/30\n",
      "22046/22046 [==============================] - 138s 6ms/step - loss: 0.1254 - acc: 0.9609 - precision: 0.9707 - recall: 0.9513 - f1: 0.9594 - matthews_correlation: 0.9224 - auc: 0.9788 - val_loss: 0.1278 - val_acc: 0.9623 - val_precision: 0.9786 - val_recall: 0.9430 - val_f1: 0.9592 - val_matthews_correlation: 0.9239 - val_auc: 0.9798\n",
      "Epoch 7/30\n",
      "22046/22046 [==============================] - 138s 6ms/step - loss: 0.1172 - acc: 0.9629 - precision: 0.9732 - recall: 0.9534 - f1: 0.9620 - matthews_correlation: 0.9264 - auc: 0.9807 - val_loss: 0.1624 - val_acc: 0.9532 - val_precision: 0.9788 - val_recall: 0.9256 - val_f1: 0.9498 - val_matthews_correlation: 0.9069 - val_auc: 0.9814\n",
      "Epoch 8/30\n",
      "22046/22046 [==============================] - 138s 6ms/step - loss: 0.1122 - acc: 0.9637 - precision: 0.9735 - recall: 0.9536 - f1: 0.9621 - matthews_correlation: 0.9277 - auc: 0.9821 - val_loss: 0.1267 - val_acc: 0.9586 - val_precision: 0.9780 - val_recall: 0.9374 - val_f1: 0.9558 - val_matthews_correlation: 0.9174 - val_auc: 0.9827\n",
      "Epoch 9/30\n",
      "22046/22046 [==============================] - 138s 6ms/step - loss: 0.1081 - acc: 0.9650 - precision: 0.9748 - recall: 0.9548 - f1: 0.9635 - matthews_correlation: 0.9302 - auc: 0.9833 - val_loss: 0.1245 - val_acc: 0.9615 - val_precision: 0.9671 - val_recall: 0.9522 - val_f1: 0.9584 - val_matthews_correlation: 0.9217 - val_auc: 0.9838\n",
      "Epoch 10/30\n",
      "22046/22046 [==============================] - 138s 6ms/step - loss: 0.1021 - acc: 0.9678 - precision: 0.9771 - recall: 0.9578 - f1: 0.9663 - matthews_correlation: 0.9356 - auc: 0.9843 - val_loss: 0.1392 - val_acc: 0.9579 - val_precision: 0.9584 - val_recall: 0.9547 - val_f1: 0.9552 - val_matthews_correlation: 0.9146 - val_auc: 0.9847\n",
      "Epoch 11/30\n",
      "22046/22046 [==============================] - 138s 6ms/step - loss: 0.0937 - acc: 0.9692 - precision: 0.9794 - recall: 0.9591 - f1: 0.9680 - matthews_correlation: 0.9389 - auc: 0.9852 - val_loss: 0.1180 - val_acc: 0.9626 - val_precision: 0.9694 - val_recall: 0.9537 - val_f1: 0.9603 - val_matthews_correlation: 0.9242 - val_auc: 0.98566s - loss: 0.0939 - acc: 0.9693 - precision: 0.9797 - reca\n",
      "Epoch 12/30\n",
      "22046/22046 [==============================] - 138s 6ms/step - loss: 0.0865 - acc: 0.9714 - precision: 0.9806 - recall: 0.9619 - f1: 0.9701 - matthews_correlation: 0.9429 - auc: 0.9860 - val_loss: 0.1509 - val_acc: 0.9615 - val_precision: 0.9666 - val_recall: 0.9528 - val_f1: 0.9584 - val_matthews_correlation: 0.9221 - val_auc: 0.9864\n",
      "Epoch 13/30\n",
      "22046/22046 [==============================] - 138s 6ms/step - loss: 0.0810 - acc: 0.9737 - precision: 0.9829 - recall: 0.9648 - f1: 0.9728 - matthews_correlation: 0.9477 - auc: 0.9868 - val_loss: 0.1696 - val_acc: 0.9583 - val_precision: 0.9504 - val_recall: 0.9635 - val_f1: 0.9554 - val_matthews_correlation: 0.9156 - val_auc: 0.9871\n",
      "Epoch 14/30\n",
      "22046/22046 [==============================] - 138s 6ms/step - loss: 0.0749 - acc: 0.9751 - precision: 0.9828 - recall: 0.9684 - f1: 0.9747 - matthews_correlation: 0.9504 - auc: 0.9874 - val_loss: 0.1919 - val_acc: 0.9517 - val_precision: 0.9835 - val_recall: 0.9180 - val_f1: 0.9480 - val_matthews_correlation: 0.9043 - val_auc: 0.9877ll: 0.9692 - f1: 0.9753 -  - ETA: 53s - loss: 0.0733 - acc: 0.9752 - precision: 0.9823 - recall: 0.9687 - f1: 0.9747 - matthews_correlati - ETA: 48s - loss: 0.0739 - acc: 0.9749 - precision: 0.9819 - recall: 0.9684 -  - ETA: 38s - loss: 0.0733 - acc: 0.9749 - precision: 0.9825 - recall: 0.9678 - f1: 0.9743 - matthews_correlation: 0.9499 - auc: 0.987 - ETA: 38s - loss: 0.0746 - acc:  - ETA: 1s - loss: 0.0747 - acc: 0.9751 - precision: 0.9829 - recall: 0.9684 - f1: 0.9747 - matthews_correlation: 0.95\n",
      "Epoch 15/30\n",
      "22046/22046 [==============================] - 138s 6ms/step - loss: 0.0636 - acc: 0.9781 - precision: 0.9858 - recall: 0.9705 - f1: 0.9773 - matthews_correlation: 0.9564 - auc: 0.9880 - val_loss: 0.1574 - val_acc: 0.9568 - val_precision: 0.9569 - val_recall: 0.9532 - val_f1: 0.9536 - val_matthews_correlation: 0.9125 - val_auc: 0.9883sion: 0.9858 - recall: 0.9708 - f1: 0.9775 - matthews_correlation: 0.9566 - auc: 0.98\n",
      "Epoch 16/30\n",
      "22046/22046 [==============================] - 138s 6ms/step - loss: 0.0582 - acc: 0.9819 - precision: 0.9881 - recall: 0.9755 - f1: 0.9811 - matthews_correlation: 0.9639 - auc: 0.9887 - val_loss: 0.2290 - val_acc: 0.9496 - val_precision: 0.9351 - val_recall: 0.9630 - val_f1: 0.9472 - val_matthews_correlation: 0.8981 - val_auc: 0.98890.9819 - precisi - ETA: 2s - loss: 0.0582 - acc: 0.9821 - precision: 0.9882 - recall: 0.9758 - f1: 0.9813 - matthews_correlation\n",
      "Epoch 17/30\n",
      "22046/22046 [==============================] - 138s 6ms/step - loss: 0.0500 - acc: 0.9843 - precision: 0.9892 - recall: 0.9791 - f1: 0.9835 - matthews_correlation: 0.9687 - auc: 0.9892 - val_loss: 0.1619 - val_acc: 0.9586 - val_precision: 0.9731 - val_recall: 0.9406 - val_f1: 0.9552 - val_matthews_correlation: 0.9160 - val_auc: 0.9895 0.9893 - recall: 0.9793 - f1: 0.9837 - matthews_correlation: 0.9690 -\n",
      "Epoch 18/30\n",
      "22046/22046 [==============================] - 138s 6ms/step - loss: 0.0407 - acc: 0.9871 - precision: 0.9922 - recall: 0.9825 - f1: 0.9869 - matthews_correlation: 0.9743 - auc: 0.9898 - val_loss: 0.1872 - val_acc: 0.9583 - val_precision: 0.9578 - val_recall: 0.9561 - val_f1: 0.9558 - val_matthews_correlation: 0.9146 - val_auc: 0.9900\n",
      "Epoch 19/30\n",
      "22046/22046 [==============================] - 138s 6ms/step - loss: 0.0362 - acc: 0.9883 - precision: 0.9915 - recall: 0.9849 - f1: 0.9877 - matthews_correlation: 0.9768 - auc: 0.9903 - val_loss: 0.2711 - val_acc: 0.9608 - val_precision: 0.9629 - val_recall: 0.9550 - val_f1: 0.9576 - val_matthews_correlation: 0.9205 - val_auc: 0.9905\n",
      "Epoch 20/30\n"
     ]
    },
    {
     "name": "stdout",
     "output_type": "stream",
     "text": [
      "22046/22046 [==============================] - 138s 6ms/step - loss: 0.0322 - acc: 0.9911 - precision: 0.9933 - recall: 0.9886 - f1: 0.9906 - matthews_correlation: 0.9821 - auc: 0.9907 - val_loss: 0.2661 - val_acc: 0.9586 - val_precision: 0.9731 - val_recall: 0.9413 - val_f1: 0.9556 - val_matthews_correlation: 0.9168 - val_auc: 0.9909\n",
      "Epoch 21/30\n",
      "22046/22046 [==============================] - 138s 6ms/step - loss: 0.0317 - acc: 0.9919 - precision: 0.9944 - recall: 0.9896 - f1: 0.9917 - matthews_correlation: 0.9839 - auc: 0.9911 - val_loss: 0.2480 - val_acc: 0.9608 - val_precision: 0.9777 - val_recall: 0.9400 - val_f1: 0.9571 - val_matthews_correlation: 0.9212 - val_auc: 0.9913\n",
      "Epoch 22/30\n",
      "22046/22046 [==============================] - 138s 6ms/step - loss: 0.0246 - acc: 0.9932 - precision: 0.9955 - recall: 0.9913 - f1: 0.9932 - matthews_correlation: 0.9866 - auc: 0.9915 - val_loss: 0.2429 - val_acc: 0.9601 - val_precision: 0.9631 - val_recall: 0.9543 - val_f1: 0.9574 - val_matthews_correlation: 0.9190 - val_auc: 0.9917\n",
      "Epoch 23/30\n",
      "22046/22046 [==============================] - 138s 6ms/step - loss: 0.0246 - acc: 0.9941 - precision: 0.9963 - recall: 0.9921 - f1: 0.9940 - matthews_correlation: 0.9883 - auc: 0.9918 - val_loss: 0.3057 - val_acc: 0.9586 - val_precision: 0.9793 - val_recall: 0.9369 - val_f1: 0.9564 - val_matthews_correlation: 0.9171 - val_auc: 0.9920precision: 0.9962 - recall: 0.9921 -\n",
      "Epoch 24/30\n",
      "22046/22046 [==============================] - 138s 6ms/step - loss: 0.0252 - acc: 0.9944 - precision: 0.9959 - recall: 0.9931 - f1: 0.9943 - matthews_correlation: 0.9889 - auc: 0.9921 - val_loss: 0.2852 - val_acc: 0.9615 - val_precision: 0.9615 - val_recall: 0.9595 - val_f1: 0.9592 - val_matthews_correlation: 0.9220 - val_auc: 0.9922\n",
      "Epoch 25/30\n",
      "22046/22046 [==============================] - 138s 6ms/step - loss: 0.0199 - acc: 0.9941 - precision: 0.9954 - recall: 0.9932 - f1: 0.9941 - matthews_correlation: 0.9883 - auc: 0.9924 - val_loss: 0.3528 - val_acc: 0.9604 - val_precision: 0.9699 - val_recall: 0.9481 - val_f1: 0.9575 - val_matthews_correlation: 0.9197 - val_auc: 0.9925\n",
      "Epoch 26/30\n",
      "22046/22046 [==============================] - 138s 6ms/step - loss: 0.0306 - acc: 0.9936 - precision: 0.9946 - recall: 0.9927 - f1: 0.9934 - matthews_correlation: 0.9872 - auc: 0.9926 - val_loss: 0.2507 - val_acc: 0.9648 - val_precision: 0.9722 - val_recall: 0.9539 - val_f1: 0.9619 - val_matthews_correlation: 0.9282 - val_auc: 0.9927\n",
      "Epoch 27/30\n",
      "22046/22046 [==============================] - 138s 6ms/step - loss: 0.0197 - acc: 0.9951 - precision: 0.9960 - recall: 0.9941 - f1: 0.9949 - matthews_correlation: 0.9903 - auc: 0.9928 - val_loss: 0.2782 - val_acc: 0.9626 - val_precision: 0.9648 - val_recall: 0.9552 - val_f1: 0.9588 - val_matthews_correlation: 0.9239 - val_auc: 0.9929\n",
      "Epoch 28/30\n",
      "22046/22046 [==============================] - 138s 6ms/step - loss: 0.0219 - acc: 0.9951 - precision: 0.9962 - recall: 0.9939 - f1: 0.9949 - matthews_correlation: 0.9904 - auc: 0.9930 - val_loss: 0.3320 - val_acc: 0.9630 - val_precision: 0.9768 - val_recall: 0.9464 - val_f1: 0.9599 - val_matthews_correlation: 0.9255 - val_auc: 0.9931\n",
      "Epoch 29/30\n",
      "22046/22046 [==============================] - 138s 6ms/step - loss: 0.0182 - acc: 0.9956 - precision: 0.9964 - recall: 0.9948 - f1: 0.9954 - matthews_correlation: 0.9913 - auc: 0.9932 - val_loss: 0.3120 - val_acc: 0.9568 - val_precision: 0.9782 - val_recall: 0.9332 - val_f1: 0.9534 - val_matthews_correlation: 0.9135 - val_auc: 0.9933\n",
      "Epoch 30/30\n",
      "22046/22046 [==============================] - 138s 6ms/step - loss: 0.0147 - acc: 0.9966 - precision: 0.9977 - recall: 0.9955 - f1: 0.9965 - matthews_correlation: 0.9931 - auc: 0.9934 - val_loss: 0.2906 - val_acc: 0.9590 - val_precision: 0.9730 - val_recall: 0.9428 - val_f1: 0.9563 - val_matthews_correlation: 0.9175 - val_auc: 0.9935\n"
     ]
    },
    {
     "data": {
      "text/plain": [
       "<keras.callbacks.History at 0x23219311b38>"
      ]
     },
     "execution_count": 17,
     "metadata": {},
     "output_type": "execute_result"
    }
   ],
   "source": [
    "model.fit(x=x_train, y=y_train, validation_data = (x_val,y_val), epochs=EPOCHS, verbose=1)"
   ]
  },
  {
   "cell_type": "code",
   "execution_count": 18,
   "metadata": {},
   "outputs": [],
   "source": [
    "model.save(\"very-normal-exp3.h5\")"
   ]
  },
  {
   "cell_type": "code",
   "execution_count": 19,
   "metadata": {},
   "outputs": [],
   "source": [
    " def plot_loss_accu(history):\n",
    "    loss = history.history['loss']\n",
    "    val_loss = history.history['val_loss']\n",
    "    epochs = range(len(loss))\n",
    "    plt.plot(epochs, loss, 'g')\n",
    "    plt.plot(epochs, val_loss, 'y')\n",
    "    plt.title('Loss')\n",
    "    plt.legend(['train', 'val'], loc='upper right')\n",
    "    plt.grid(True)\n",
    "    plt.savefig('exp3_loss.jpg', dpi=300)\n",
    "    plt.show()\n",
    "    \n",
    "def plot_loss(history):\n",
    "    loss = history.history['acc']\n",
    "    val_loss = history.history['val_acc']\n",
    "    epochs = range(len(loss))\n",
    "    plt.plot(epochs, loss, 'r')\n",
    "    plt.plot(epochs, val_loss, 'b')\n",
    "    plt.title('Accuracy')\n",
    "    plt.legend(['train', 'val'], loc='lower right')\n",
    "    plt.grid(True)\n",
    "    plt.savefig('exp3_acc.jpg', dpi=300)\n",
    "    plt.show()"
   ]
  },
  {
   "cell_type": "code",
   "execution_count": 20,
   "metadata": {},
   "outputs": [
    {
     "data": {
      "image/png": "[encoded data removed]",
      "text/plain": [
       "<Figure size 432x288 with 1 Axes>"
      ]
     },
     "metadata": {
      "needs_background": "light"
     },
     "output_type": "display_data"
    },
    {
     "data": {
      "image/png": "[encoded data removed]",
      "text/plain": [
       "<Figure size 432x288 with 1 Axes>"
      ]
     },
     "metadata": {
      "needs_background": "light"
     },
     "output_type": "display_data"
    },
    {
     "name": "stdout",
     "output_type": "stream",
     "text": [
      "Done!\n"
     ]
    }
   ],
   "source": [
    "plot_loss_accu(model.history)\n",
    "plot_loss(model.history)\n",
    "print(\"Done!\")"
   ]
  },
  {
   "cell_type": "code",
   "execution_count": 21,
   "metadata": {},
   "outputs": [
    {
     "name": "stdout",
     "output_type": "stream",
     "text": [
      "2756/2756 [==============================] - 7s 3ms/step\n",
      "Test loss: 0.2937167683788813\n",
      "Test accuracy: 0.9593613933236574\n"
     ]
    }
   ],
   "source": [
    "score = model.evaluate(x_test, y_test, verbose=1)\n",
    "print('Test loss:', score[0])\n",
    "print('Test accuracy:', score[1])"
   ]
  },
  {
   "cell_type": "code",
   "execution_count": 22,
   "metadata": {},
   "outputs": [],
   "source": [
    "y_pred = model.predict(x_test)\n",
    "# get labels from predictions\n",
    "pred_labels = np.array([np.argmax(pred) for pred in y_pred])\n",
    "\n",
    "#convert ground truths to column values\n",
    "y_test = np.argmax(y_test, axis=1)\n",
    "accuracy = np.mean((y_test==pred_labels))\n"
   ]
  },
  {
   "cell_type": "code",
   "execution_count": 23,
   "metadata": {},
   "outputs": [
    {
     "data": {
      "text/plain": [
       "(2756, 2)"
      ]
     },
     "execution_count": 23,
     "metadata": {},
     "output_type": "execute_result"
    }
   ],
   "source": [
    "y_pred.shape"
   ]
  },
  {
   "cell_type": "code",
   "execution_count": 24,
   "metadata": {},
   "outputs": [
    {
     "data": {
      "text/plain": [
       "0.9593613933236574"
      ]
     },
     "execution_count": 24,
     "metadata": {},
     "output_type": "execute_result"
    }
   ],
   "source": [
    "accuracy"
   ]
  },
  {
   "cell_type": "code",
   "execution_count": 25,
   "metadata": {},
   "outputs": [],
   "source": [
    "np.save(\"y_pred_verynormal_exp3.npy\", y_pred)"
   ]
  },
  {
   "cell_type": "code",
   "execution_count": null,
   "metadata": {},
   "outputs": [],
   "source": []
  }
 ],
 "metadata": {
  "kernelspec": {
   "display_name": "Python 3",
   "language": "python",
   "name": "python3"
  },
  "language_info": {
   "codemirror_mode": {
    "name": "ipython",
    "version": 3
   },
   "file_extension": ".py",
   "mimetype": "text/x-python",
   "name": "python",
   "nbconvert_exporter": "python",
   "pygments_lexer": "ipython3",
   "version": "3.6.7"
  }
 },
 "nbformat": 4,
 "nbformat_minor": 2
}
