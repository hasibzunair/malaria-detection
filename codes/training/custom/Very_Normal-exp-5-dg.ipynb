{
 "cells": [
  {
   "cell_type": "code",
   "execution_count": 1,
   "metadata": {},
   "outputs": [
    {
     "name": "stderr",
     "output_type": "stream",
     "text": [
      "Using TensorFlow backend.\n"
     ]
    }
   ],
   "source": [
    "%matplotlib inline\n",
    "import matplotlib.pyplot as plt\n",
    "import matplotlib.image as mpimg\n",
    "from keras.preprocessing.image import ImageDataGenerator\n",
    "from keras.models import Sequential\n",
    "from keras.optimizers import RMSprop\n",
    "from keras.layers import Conv2D, MaxPooling2D\n",
    "from keras.layers import Activation, Dropout, Flatten, Dense\n",
    "from keras.callbacks import CSVLogger\n",
    "#from livelossplot import PlotLossesKeras\n",
    "import os\n",
    "import numpy as np\n",
    "#from imgaug import augmenters as iaa\n",
    "import cv2\n",
    "import tensorflow as tf"
   ]
  },
  {
   "cell_type": "code",
   "execution_count": 2,
   "metadata": {},
   "outputs": [],
   "source": [
    "def check_units(y_true, y_pred):\n",
    "    if y_pred.shape[1] != 1:\n",
    "        y_pred = y_pred[:,1:2]\n",
    "        y_true = y_true[:,1:2]\n",
    "    return y_true, y_pred\n",
    "\n",
    "def precision(y_true, y_pred):\n",
    "    y_true, y_pred = check_units(y_true, y_pred)\n",
    "    true_positives = K.sum(K.round(K.clip(y_true * y_pred, 0, 1)))\n",
    "    predicted_positives = K.sum(K.round(K.clip(y_pred, 0, 1)))\n",
    "    precision = true_positives / (predicted_positives + K.epsilon())\n",
    "    return precision\n",
    "\n",
    "def recall(y_true, y_pred):\n",
    "    y_true, y_pred = check_units(y_true, y_pred)\n",
    "    true_positives = K.sum(K.round(K.clip(y_true * y_pred, 0, 1)))\n",
    "    possible_positives = K.sum(K.round(K.clip(y_true, 0, 1)))\n",
    "    recall = true_positives / (possible_positives + K.epsilon())\n",
    "    return recall\n",
    "\n",
    "def f1(y_true, y_pred):\n",
    "    def recall(y_true, y_pred):\n",
    "        true_positives = K.sum(K.round(K.clip(y_true * y_pred, 0, 1)))\n",
    "        possible_positives = K.sum(K.round(K.clip(y_true, 0, 1)))\n",
    "        recall = true_positives / (possible_positives + K.epsilon())\n",
    "        return recall\n",
    "\n",
    "    def precision(y_true, y_pred):\n",
    "        true_positives = K.sum(K.round(K.clip(y_true * y_pred, 0, 1)))\n",
    "        predicted_positives = K.sum(K.round(K.clip(y_pred, 0, 1)))\n",
    "        precision = true_positives / (predicted_positives + K.epsilon())\n",
    "        return precision\n",
    "    y_true, y_pred = check_units(y_true, y_pred)\n",
    "    precision = precision(y_true, y_pred)\n",
    "    recall = recall(y_true, y_pred)\n",
    "    return 2*((precision*recall)/(precision+recall+K.epsilon()))\n",
    "\n",
    "def matthews_correlation(y_true, y_pred):\n",
    "    y_true, y_pred = check_units(y_true, y_pred)\n",
    "    y_pred_pos = K.round(K.clip(y_pred, 0, 1))\n",
    "    y_pred_neg = 1 - y_pred_pos\n",
    "\n",
    "    y_pos = K.round(K.clip(y_true, 0, 1))\n",
    "    y_neg = 1 - y_pos\n",
    "\n",
    "    tp = K.sum(y_pos * y_pred_pos)\n",
    "    tn = K.sum(y_neg * y_pred_neg)\n",
    "\n",
    "    fp = K.sum(y_neg * y_pred_pos)\n",
    "    fn = K.sum(y_pos * y_pred_neg)\n",
    "\n",
    "    numerator = (tp * tn - fp * fn)\n",
    "    denominator = K.sqrt((tp + fp) * (tp + fn) * (tn + fp) * (tn + fn))\n",
    "\n",
    "    return numerator / (denominator + K.epsilon())\n",
    "\n",
    "def auc(y_true, y_pred):\n",
    "    auc = tf.metrics.auc(y_true, y_pred)[1]\n",
    "    K.get_session().run(tf.local_variables_initializer())\n",
    "    return auc"
   ]
  },
  {
   "cell_type": "code",
   "execution_count": 3,
   "metadata": {},
   "outputs": [
    {
     "name": "stdout",
     "output_type": "stream",
     "text": [
      "[name: \"/device:CPU:0\"\n",
      "device_type: \"CPU\"\n",
      "memory_limit: 268435456\n",
      "locality {\n",
      "}\n",
      "incarnation: 17122374567654675937\n",
      ", name: \"/device:GPU:0\"\n",
      "device_type: \"GPU\"\n",
      "memory_limit: 4950209331\n",
      "locality {\n",
      "  bus_id: 1\n",
      "  links {\n",
      "  }\n",
      "}\n",
      "incarnation: 1225435277577741350\n",
      "physical_device_desc: \"device: 0, name: GeForce GTX 1060 6GB, pci bus id: 0000:01:00.0, compute capability: 6.1\"\n",
      "]\n"
     ]
    }
   ],
   "source": [
    "from tensorflow.python.client import device_lib\n",
    "print(device_lib.list_local_devices())"
   ]
  },
  {
   "cell_type": "code",
   "execution_count": 4,
   "metadata": {},
   "outputs": [
    {
     "data": {
      "text/plain": [
       "['/job:localhost/replica:0/task:0/device:GPU:0']"
      ]
     },
     "execution_count": 4,
     "metadata": {},
     "output_type": "execute_result"
    }
   ],
   "source": [
    "from keras import backend as K\n",
    "K.tensorflow_backend._get_available_gpus()"
   ]
  },
  {
   "cell_type": "code",
   "execution_count": 5,
   "metadata": {},
   "outputs": [
    {
     "data": {
      "text/plain": [
       "((22046, 200, 200, 3), (22046, 2))"
      ]
     },
     "execution_count": 5,
     "metadata": {},
     "output_type": "execute_result"
    }
   ],
   "source": [
    "x_train = np.load(\"datasets/normal/x_train_200.npy\")\n",
    "y_train = np.load(\"datasets/normal/y_train_200.npy\")\n",
    "x_train.shape, y_train.shape"
   ]
  },
  {
   "cell_type": "code",
   "execution_count": 6,
   "metadata": {},
   "outputs": [
    {
     "data": {
      "text/plain": [
       "((2756, 200, 200, 3), (2756, 2))"
      ]
     },
     "execution_count": 6,
     "metadata": {},
     "output_type": "execute_result"
    }
   ],
   "source": [
    "x_val = np.load(\"datasets/normal/x_val_200.npy\")\n",
    "y_val = np.load(\"datasets/normal/y_val_200.npy\")\n",
    "x_val.shape, y_val.shape"
   ]
  },
  {
   "cell_type": "code",
   "execution_count": 7,
   "metadata": {},
   "outputs": [
    {
     "data": {
      "text/plain": [
       "((2756, 200, 200, 3), (2756, 2))"
      ]
     },
     "execution_count": 7,
     "metadata": {},
     "output_type": "execute_result"
    }
   ],
   "source": [
    "x_test = np.load(\"datasets/normal/x_test_200.npy\")\n",
    "y_test = np.load(\"datasets/normal/y_test_200.npy\")\n",
    "x_test.shape, y_test.shape"
   ]
  },
  {
   "cell_type": "code",
   "execution_count": 8,
   "metadata": {},
   "outputs": [
    {
     "name": "stdout",
     "output_type": "stream",
     "text": [
      "(22046, 200, 200, 3) (22046, 2)\n",
      "(2756, 200, 200, 3) (2756, 200, 200, 3) (2756, 2) (2756, 2)\n"
     ]
    }
   ],
   "source": [
    "print(x_train.shape, y_train.shape)\n",
    "print(x_val.shape, x_test.shape, y_val.shape, y_test.shape)"
   ]
  },
  {
   "cell_type": "code",
   "execution_count": 9,
   "metadata": {},
   "outputs": [],
   "source": [
    "IMAGE_SIZE = 200\n",
    "IMAGE_WIDTH, IMAGE_HEIGHT = IMAGE_SIZE, IMAGE_SIZE\n",
    "EPOCHS = 30\n",
    "BATCH_SIZE = 64\n",
    "TEST_SIZE = 30"
   ]
  },
  {
   "cell_type": "code",
   "execution_count": 10,
   "metadata": {},
   "outputs": [],
   "source": [
    "TRAINING_LOGS_FILE = \"training_logs.csv\"\n",
    "TEST_LOGS_FILE = \"test_logs.csv\"\n",
    "MODEL_SUMMARY_FILE = \"model_summary.txt\"\n",
    "TEST_FILE = \"test_file.txt\"\n",
    "MODEL_FILE = \"very-normal-200-exp4-dg.h5\""
   ]
  },
  {
   "cell_type": "code",
   "execution_count": 11,
   "metadata": {},
   "outputs": [],
   "source": [
    "input_shape = (200, 200, 3)"
   ]
  },
  {
   "cell_type": "code",
   "execution_count": 12,
   "metadata": {},
   "outputs": [
    {
     "data": {
      "text/plain": [
       "(200, 200, 3)"
      ]
     },
     "execution_count": 12,
     "metadata": {},
     "output_type": "execute_result"
    }
   ],
   "source": [
    "input_shape"
   ]
  },
  {
   "cell_type": "code",
   "execution_count": 13,
   "metadata": {},
   "outputs": [],
   "source": [
    "model = None\n",
    "model = Sequential()"
   ]
  },
  {
   "cell_type": "code",
   "execution_count": 14,
   "metadata": {},
   "outputs": [
    {
     "name": "stdout",
     "output_type": "stream",
     "text": [
      "_________________________________________________________________\n",
      "Layer (type)                 Output Shape              Param #   \n",
      "=================================================================\n",
      "conv2d_1 (Conv2D)            (None, 200, 200, 32)      896       \n",
      "_________________________________________________________________\n",
      "conv2d_2 (Conv2D)            (None, 200, 200, 32)      9248      \n",
      "_________________________________________________________________\n",
      "max_pooling2d_1 (MaxPooling2 (None, 100, 100, 32)      0         \n",
      "_________________________________________________________________\n",
      "conv2d_3 (Conv2D)            (None, 100, 100, 64)      18496     \n",
      "_________________________________________________________________\n",
      "conv2d_4 (Conv2D)            (None, 100, 100, 64)      36928     \n",
      "_________________________________________________________________\n",
      "max_pooling2d_2 (MaxPooling2 (None, 50, 50, 64)        0         \n",
      "_________________________________________________________________\n",
      "conv2d_5 (Conv2D)            (None, 50, 50, 128)       73856     \n",
      "_________________________________________________________________\n",
      "conv2d_6 (Conv2D)            (None, 50, 50, 128)       147584    \n",
      "_________________________________________________________________\n",
      "max_pooling2d_3 (MaxPooling2 (None, 25, 25, 128)       0         \n",
      "_________________________________________________________________\n",
      "conv2d_7 (Conv2D)            (None, 25, 25, 256)       295168    \n",
      "_________________________________________________________________\n",
      "conv2d_8 (Conv2D)            (None, 25, 25, 256)       590080    \n",
      "_________________________________________________________________\n",
      "max_pooling2d_4 (MaxPooling2 (None, 12, 12, 256)       0         \n",
      "_________________________________________________________________\n",
      "flatten_1 (Flatten)          (None, 36864)             0         \n",
      "_________________________________________________________________\n",
      "dense_1 (Dense)              (None, 256)               9437440   \n",
      "_________________________________________________________________\n",
      "dropout_1 (Dropout)          (None, 256)               0         \n",
      "_________________________________________________________________\n",
      "dense_2 (Dense)              (None, 256)               65792     \n",
      "_________________________________________________________________\n",
      "dropout_2 (Dropout)          (None, 256)               0         \n",
      "_________________________________________________________________\n",
      "dense_3 (Dense)              (None, 2)                 514       \n",
      "_________________________________________________________________\n",
      "activation_1 (Activation)    (None, 2)                 0         \n",
      "=================================================================\n",
      "Total params: 10,676,002\n",
      "Trainable params: 10,676,002\n",
      "Non-trainable params: 0\n",
      "_________________________________________________________________\n"
     ]
    }
   ],
   "source": [
    "model.add(Conv2D(32, (3, 3), padding='same', input_shape=input_shape, activation='relu'))\n",
    "model.add(Conv2D(32, (3, 3), padding='same', activation='relu'))\n",
    "model.add(MaxPooling2D(pool_size=(2, 2)))\n",
    "\n",
    "model.add(Conv2D(64, (3, 3), padding='same', activation='relu'))\n",
    "model.add(Conv2D(64, (3, 3), padding='same', activation='relu'))\n",
    "model.add(MaxPooling2D(pool_size=(2, 2)))\n",
    "\n",
    "model.add(Conv2D(128, (3, 3), padding='same', activation='relu'))\n",
    "model.add(Conv2D(128, (3, 3), padding='same', activation='relu'))\n",
    "model.add(MaxPooling2D(pool_size=(2, 2)))\n",
    "\n",
    "model.add(Conv2D(256, (3, 3), padding='same', activation='relu'))\n",
    "model.add(Conv2D(256, (3, 3), padding='same', activation='relu'))\n",
    "model.add(MaxPooling2D(pool_size=(2, 2)))\n",
    "\n",
    "model.add(Flatten())\n",
    "model.add(Dense(256, activation='relu'))\n",
    "model.add(Dropout(0.5))\n",
    "\n",
    "model.add(Dense(256, activation='relu'))\n",
    "model.add(Dropout(0.5))\n",
    "\n",
    "model.add(Dense(2))\n",
    "model.add(Activation('softmax'))\n",
    "    \n",
    "model.compile(loss='binary_crossentropy',\n",
    "            optimizer=\"adadelta\",\n",
    "            metrics=['accuracy', precision, recall, f1, matthews_correlation, auc])\n",
    "\n",
    "model.summary()"
   ]
  },
  {
   "cell_type": "code",
   "execution_count": 16,
   "metadata": {},
   "outputs": [
    {
     "name": "stdout",
     "output_type": "stream",
     "text": [
      "Epoch 1/50\n",
      "345/344 [==============================] - 146s 424ms/step - loss: 0.7091 - acc: 0.5594 - precision: 0.5615 - recall: 0.5770 - f1: 0.5609 - matthews_correlation: 0.1196 - auc: 0.5416 - val_loss: 0.6439 - val_acc: 0.6484 - val_precision: 0.7079 - val_recall: 0.4821 - val_f1: 0.5653 - val_matthews_correlation: 0.3062 - val_auc: 0.5836\n",
      "Epoch 2/50\n",
      "345/344 [==============================] - 135s 391ms/step - loss: 0.6474 - acc: 0.6281 - precision: 0.6414 - recall: 0.6025 - f1: 0.6098 - matthews_correlation: 0.2605 - auc: 0.6119 - val_loss: 0.6776 - val_acc: 0.5871 - val_precision: 0.8059 - val_recall: 0.2107 - val_f1: 0.3202 - val_matthews_correlation: 0.2373 - val_auc: 0.6317\n",
      "Epoch 3/50\n",
      "345/344 [==============================] - 135s 393ms/step - loss: 0.6150 - acc: 0.6767 - precision: 0.6947 - recall: 0.6553 - f1: 0.6637 - matthews_correlation: 0.3606 - auc: 0.6474 - val_loss: 0.5670 - val_acc: 0.6967 - val_precision: 0.7832 - val_recall: 0.5358 - val_f1: 0.6281 - val_matthews_correlation: 0.4088 - val_auc: 0.6671\n",
      "Epoch 4/50\n",
      "345/344 [==============================] - 135s 391ms/step - loss: 0.5345 - acc: 0.7470 - precision: 0.7608 - recall: 0.7335 - f1: 0.7391 - matthews_correlation: 0.5013 - auc: 0.6872 - val_loss: 0.3219 - val_acc: 0.8781 - val_precision: 0.8594 - val_recall: 0.8997 - val_f1: 0.8760 - val_matthews_correlation: 0.7544 - val_auc: 0.7139\n",
      "Epoch 5/50\n",
      "345/344 [==============================] - 135s 390ms/step - loss: 0.3773 - acc: 0.8462 - precision: 0.8629 - recall: 0.8279 - f1: 0.8418 - matthews_correlation: 0.6946 - auc: 0.7433 - val_loss: 0.2058 - val_acc: 0.9332 - val_precision: 0.9211 - val_recall: 0.9489 - val_f1: 0.9330 - val_matthews_correlation: 0.8661 - val_auc: 0.7710\n",
      "Epoch 6/50\n",
      "345/344 [==============================] - 135s 390ms/step - loss: 0.3153 - acc: 0.8764 - precision: 0.8926 - recall: 0.8592 - f1: 0.8733 - matthews_correlation: 0.7541 - auc: 0.7934 - val_loss: 0.1747 - val_acc: 0.9394 - val_precision: 0.9388 - val_recall: 0.9407 - val_f1: 0.9386 - val_matthews_correlation: 0.8769 - val_auc: 0.8124\n",
      "Epoch 7/50\n",
      "345/344 [==============================] - 135s 390ms/step - loss: 0.2970 - acc: 0.8896 - precision: 0.9129 - recall: 0.8628 - f1: 0.8853 - matthews_correlation: 0.7805 - auc: 0.8276 - val_loss: 0.1662 - val_acc: 0.9463 - val_precision: 0.9514 - val_recall: 0.9406 - val_f1: 0.9447 - val_matthews_correlation: 0.8914 - val_auc: 0.8410\n",
      "Epoch 8/50\n",
      "345/344 [==============================] - 135s 390ms/step - loss: 0.2868 - acc: 0.8969 - precision: 0.9283 - recall: 0.8618 - f1: 0.8920 - matthews_correlation: 0.7961 - auc: 0.8519 - val_loss: 0.1591 - val_acc: 0.9463 - val_precision: 0.9507 - val_recall: 0.9417 - val_f1: 0.9449 - val_matthews_correlation: 0.8909 - val_auc: 0.8615\n",
      "Epoch 9/50\n",
      "345/344 [==============================] - 140s 405ms/step - loss: 0.2821 - acc: 0.8989 - precision: 0.9329 - recall: 0.8616 - f1: 0.8940 - matthews_correlation: 0.8008 - auc: 0.8694 - val_loss: 0.1591 - val_acc: 0.9485 - val_precision: 0.9733 - val_recall: 0.9230 - val_f1: 0.9460 - val_matthews_correlation: 0.8964 - val_auc: 0.8765\n",
      "Epoch 10/50\n",
      "345/344 [==============================] - 141s 409ms/step - loss: 0.2599 - acc: 0.9071 - precision: 0.9429 - recall: 0.8678 - f1: 0.9022 - matthews_correlation: 0.8171 - auc: 0.8828 - val_loss: 0.1579 - val_acc: 0.9525 - val_precision: 0.9585 - val_recall: 0.9471 - val_f1: 0.9516 - val_matthews_correlation: 0.9033 - val_auc: 0.8886\n",
      "Epoch 11/50\n",
      "345/344 [==============================] - 140s 407ms/step - loss: 0.2644 - acc: 0.9078 - precision: 0.9453 - recall: 0.8673 - f1: 0.9029 - matthews_correlation: 0.8188 - auc: 0.8935 - val_loss: 0.1818 - val_acc: 0.9521 - val_precision: 0.9514 - val_recall: 0.9537 - val_f1: 0.9511 - val_matthews_correlation: 0.9018 - val_auc: 0.8979\n",
      "Epoch 12/50\n",
      "345/344 [==============================] - 140s 407ms/step - loss: 0.2574 - acc: 0.9106 - precision: 0.9446 - recall: 0.8731 - f1: 0.9059 - matthews_correlation: 0.8242 - auc: 0.9018 - val_loss: 0.1518 - val_acc: 0.9546 - val_precision: 0.9707 - val_recall: 0.9393 - val_f1: 0.9534 - val_matthews_correlation: 0.9086 - val_auc: 0.9054\n",
      "Epoch 13/50\n",
      "345/344 [==============================] - 140s 405ms/step - loss: 0.2523 - acc: 0.9119 - precision: 0.9471 - recall: 0.8741 - f1: 0.9075 - matthews_correlation: 0.8267 - auc: 0.9087 - val_loss: 0.1512 - val_acc: 0.9525 - val_precision: 0.9804 - val_recall: 0.9234 - val_f1: 0.9495 - val_matthews_correlation: 0.9051 - val_auc: 0.9116\n",
      "Epoch 14/50\n",
      "345/344 [==============================] - 141s 407ms/step - loss: 0.2484 - acc: 0.9114 - precision: 0.9486 - recall: 0.8707 - f1: 0.9064 - matthews_correlation: 0.8253 - auc: 0.9143 - val_loss: 0.1413 - val_acc: 0.9554 - val_precision: 0.9730 - val_recall: 0.9379 - val_f1: 0.9538 - val_matthews_correlation: 0.9102 - val_auc: 0.9168\n",
      "Epoch 15/50\n",
      "345/344 [==============================] - 140s 406ms/step - loss: 0.2470 - acc: 0.9133 - precision: 0.9513 - recall: 0.8723 - f1: 0.9083 - matthews_correlation: 0.8299 - auc: 0.9192 - val_loss: 0.2269 - val_acc: 0.9351 - val_precision: 0.9057 - val_recall: 0.9720 - val_f1: 0.9358 - val_matthews_correlation: 0.8713 - val_auc: 0.9211\n",
      "Epoch 16/50\n",
      "345/344 [==============================] - 141s 408ms/step - loss: 0.2387 - acc: 0.9172 - precision: 0.9543 - recall: 0.8772 - f1: 0.9127 - matthews_correlation: 0.8375 - auc: 0.9230 - val_loss: 0.1389 - val_acc: 0.9557 - val_precision: 0.9779 - val_recall: 0.9334 - val_f1: 0.9537 - val_matthews_correlation: 0.9114 - val_auc: 0.9249\n",
      "Epoch 17/50\n",
      "345/344 [==============================] - 141s 408ms/step - loss: 0.2431 - acc: 0.9146 - precision: 0.9527 - recall: 0.8734 - f1: 0.9099 - matthews_correlation: 0.8323 - auc: 0.9266 - val_loss: 0.1394 - val_acc: 0.9579 - val_precision: 0.9756 - val_recall: 0.9399 - val_f1: 0.9563 - val_matthews_correlation: 0.9153 - val_auc: 0.9281\n",
      "Epoch 18/50\n",
      "345/344 [==============================] - 141s 408ms/step - loss: 0.2349 - acc: 0.9174 - precision: 0.9521 - recall: 0.8795 - f1: 0.9130 - matthews_correlation: 0.8375 - auc: 0.9297 - val_loss: 0.1383 - val_acc: 0.9568 - val_precision: 0.9787 - val_recall: 0.9348 - val_f1: 0.9551 - val_matthews_correlation: 0.9133 - val_auc: 0.9311\n",
      "Epoch 19/50\n",
      "345/344 [==============================] - 141s 408ms/step - loss: 0.2334 - acc: 0.9184 - precision: 0.9534 - recall: 0.8813 - f1: 0.9144 - matthews_correlation: 0.8399 - auc: 0.9324 - val_loss: 0.1381 - val_acc: 0.9561 - val_precision: 0.9697 - val_recall: 0.9427 - val_f1: 0.9547 - val_matthews_correlation: 0.9111 - val_auc: 0.9337\n",
      "Epoch 20/50\n",
      "345/344 [==============================] - 141s 408ms/step - loss: 0.2306 - acc: 0.9178 - precision: 0.9530 - recall: 0.8804 - f1: 0.9138 - matthews_correlation: 0.8385 - auc: 0.9348 - val_loss: 0.1327 - val_acc: 0.9583 - val_precision: 0.9742 - val_recall: 0.9424 - val_f1: 0.9567 - val_matthews_correlation: 0.9161 - val_auc: 0.9360\n",
      "Epoch 21/50\n",
      "345/344 [==============================] - 140s 406ms/step - loss: 0.2278 - acc: 0.9205 - precision: 0.9548 - recall: 0.8839 - f1: 0.9168 - matthews_correlation: 0.8434 - auc: 0.9370 - val_loss: 0.1407 - val_acc: 0.9528 - val_precision: 0.9827 - val_recall: 0.9228 - val_f1: 0.9504 - val_matthews_correlation: 0.9063 - val_auc: 0.9381\n",
      "Epoch 22/50\n",
      "345/344 [==============================] - 140s 405ms/step - loss: 0.2192 - acc: 0.9248 - precision: 0.9587 - recall: 0.8875 - f1: 0.9204 - matthews_correlation: 0.8518 - auc: 0.9391 - val_loss: 0.1477 - val_acc: 0.9496 - val_precision: 0.9818 - val_recall: 0.9158 - val_f1: 0.9461 - val_matthews_correlation: 0.8999 - val_auc: 0.9400\n",
      "Epoch 23/50\n",
      "345/344 [==============================] - 141s 407ms/step - loss: 0.2240 - acc: 0.9216 - precision: 0.9567 - recall: 0.8838 - f1: 0.9174 - matthews_correlation: 0.8458 - auc: 0.9409 - val_loss: 0.1386 - val_acc: 0.9579 - val_precision: 0.9716 - val_recall: 0.9438 - val_f1: 0.9561 - val_matthews_correlation: 0.9150 - val_auc: 0.9417\n",
      "Epoch 24/50\n",
      "345/344 [==============================] - 140s 407ms/step - loss: 0.2192 - acc: 0.9225 - precision: 0.9557 - recall: 0.8859 - f1: 0.9182 - matthews_correlation: 0.8472 - auc: 0.9425 - val_loss: 0.1293 - val_acc: 0.9557 - val_precision: 0.9770 - val_recall: 0.9343 - val_f1: 0.9539 - val_matthews_correlation: 0.9113 - val_auc: 0.9433\n"
     ]
    },
    {
     "name": "stdout",
     "output_type": "stream",
     "text": [
      "Epoch 25/50\n",
      "345/344 [==============================] - 140s 406ms/step - loss: 0.2211 - acc: 0.9227 - precision: 0.9586 - recall: 0.8852 - f1: 0.9190 - matthews_correlation: 0.8483 - auc: 0.9441 - val_loss: 0.1372 - val_acc: 0.9532 - val_precision: 0.9779 - val_recall: 0.9280 - val_f1: 0.9508 - val_matthews_correlation: 0.9061 - val_auc: 0.9447\n",
      "Epoch 26/50\n",
      "345/344 [==============================] - 140s 405ms/step - loss: 0.2237 - acc: 0.9219 - precision: 0.9566 - recall: 0.8846 - f1: 0.9178 - matthews_correlation: 0.8463 - auc: 0.9454 - val_loss: 0.1469 - val_acc: 0.9586 - val_precision: 0.9704 - val_recall: 0.9457 - val_f1: 0.9565 - val_matthews_correlation: 0.9164 - val_auc: 0.9460\n",
      "Epoch 27/50\n",
      "345/344 [==============================] - 140s 407ms/step - loss: 0.2132 - acc: 0.9241 - precision: 0.9578 - recall: 0.8886 - f1: 0.9206 - matthews_correlation: 0.8508 - auc: 0.9466 - val_loss: 0.1347 - val_acc: 0.9572 - val_precision: 0.9654 - val_recall: 0.9482 - val_f1: 0.9553 - val_matthews_correlation: 0.9135 - val_auc: 0.9472\n",
      "Epoch 28/50\n",
      "345/344 [==============================] - 140s 406ms/step - loss: 0.2134 - acc: 0.9258 - precision: 0.9590 - recall: 0.8906 - f1: 0.9221 - matthews_correlation: 0.8540 - auc: 0.9478 - val_loss: 0.1246 - val_acc: 0.9586 - val_precision: 0.9693 - val_recall: 0.9482 - val_f1: 0.9574 - val_matthews_correlation: 0.9163 - val_auc: 0.9484\n",
      "Epoch 29/50\n",
      "345/344 [==============================] - 141s 408ms/step - loss: 0.2167 - acc: 0.9232 - precision: 0.9570 - recall: 0.8868 - f1: 0.9193 - matthews_correlation: 0.8486 - auc: 0.9489 - val_loss: 0.1235 - val_acc: 0.9594 - val_precision: 0.9760 - val_recall: 0.9428 - val_f1: 0.9578 - val_matthews_correlation: 0.9183 - val_auc: 0.9494\n",
      "Epoch 30/50\n",
      "345/344 [==============================] - 140s 407ms/step - loss: 0.2118 - acc: 0.9246 - precision: 0.9575 - recall: 0.8887 - f1: 0.9206 - matthews_correlation: 0.8515 - auc: 0.9499 - val_loss: 0.1236 - val_acc: 0.9572 - val_precision: 0.9754 - val_recall: 0.9385 - val_f1: 0.9553 - val_matthews_correlation: 0.9139 - val_auc: 0.9504\n",
      "Epoch 31/50\n",
      "345/344 [==============================] - 140s 405ms/step - loss: 0.2087 - acc: 0.9257 - precision: 0.9578 - recall: 0.8922 - f1: 0.9226 - matthews_correlation: 0.8537 - auc: 0.9509 - val_loss: 0.1261 - val_acc: 0.9586 - val_precision: 0.9732 - val_recall: 0.9442 - val_f1: 0.9573 - val_matthews_correlation: 0.9162 - val_auc: 0.9514\n",
      "Epoch 32/50\n",
      "345/344 [==============================] - 140s 406ms/step - loss: 0.2073 - acc: 0.9266 - precision: 0.9589 - recall: 0.8929 - f1: 0.9235 - matthews_correlation: 0.8552 - auc: 0.9518 - val_loss: 0.1655 - val_acc: 0.9514 - val_precision: 0.9423 - val_recall: 0.9628 - val_f1: 0.9507 - val_matthews_correlation: 0.9022 - val_auc: 0.9523\n",
      "Epoch 33/50\n",
      "345/344 [==============================] - 141s 408ms/step - loss: 0.2074 - acc: 0.9285 - precision: 0.9602 - recall: 0.8941 - f1: 0.9248 - matthews_correlation: 0.8590 - auc: 0.9527 - val_loss: 0.1265 - val_acc: 0.9572 - val_precision: 0.9759 - val_recall: 0.9386 - val_f1: 0.9556 - val_matthews_correlation: 0.9140 - val_auc: 0.9531\n",
      "Epoch 34/50\n",
      "345/344 [==============================] - 140s 404ms/step - loss: 0.2061 - acc: 0.9270 - precision: 0.9580 - recall: 0.8936 - f1: 0.9233 - matthews_correlation: 0.8561 - auc: 0.9535 - val_loss: 0.1229 - val_acc: 0.9565 - val_precision: 0.9752 - val_recall: 0.9387 - val_f1: 0.9552 - val_matthews_correlation: 0.9124 - val_auc: 0.9539\n",
      "Epoch 35/50\n",
      "345/344 [==============================] - 139s 404ms/step - loss: 0.2037 - acc: 0.9275 - precision: 0.9580 - recall: 0.8942 - f1: 0.9238 - matthews_correlation: 0.8570 - auc: 0.9542 - val_loss: 0.1223 - val_acc: 0.9565 - val_precision: 0.9803 - val_recall: 0.9331 - val_f1: 0.9549 - val_matthews_correlation: 0.9129 - val_auc: 0.9546\n",
      "Epoch 36/50\n",
      "345/344 [==============================] - 140s 407ms/step - loss: 0.2068 - acc: 0.9254 - precision: 0.9575 - recall: 0.8913 - f1: 0.9217 - matthews_correlation: 0.8529 - auc: 0.9550 - val_loss: 0.1277 - val_acc: 0.9536 - val_precision: 0.9788 - val_recall: 0.9289 - val_f1: 0.9517 - val_matthews_correlation: 0.9073 - val_auc: 0.9553\n",
      "Epoch 37/50\n",
      "345/344 [==============================] - 140s 405ms/step - loss: 0.1987 - acc: 0.9284 - precision: 0.9604 - recall: 0.8944 - f1: 0.9250 - matthews_correlation: 0.8590 - auc: 0.9556 - val_loss: 0.1165 - val_acc: 0.9579 - val_precision: 0.9748 - val_recall: 0.9418 - val_f1: 0.9567 - val_matthews_correlation: 0.9155 - val_auc: 0.9560\n",
      "Epoch 38/50\n",
      "345/344 [==============================] - 140s 407ms/step - loss: 0.2035 - acc: 0.9267 - precision: 0.9564 - recall: 0.8942 - f1: 0.9232 - matthews_correlation: 0.8549 - auc: 0.9563 - val_loss: 0.1358 - val_acc: 0.9510 - val_precision: 0.9865 - val_recall: 0.9149 - val_f1: 0.9475 - val_matthews_correlation: 0.9035 - val_auc: 0.9566\n",
      "Epoch 39/50\n",
      "345/344 [==============================] - 140s 405ms/step - loss: 0.2019 - acc: 0.9275 - precision: 0.9570 - recall: 0.8950 - f1: 0.9238 - matthews_correlation: 0.8568 - auc: 0.9569 - val_loss: 0.1150 - val_acc: 0.9579 - val_precision: 0.9751 - val_recall: 0.9403 - val_f1: 0.9560 - val_matthews_correlation: 0.9160 - val_auc: 0.9572\n",
      "Epoch 40/50\n",
      "345/344 [==============================] - 140s 405ms/step - loss: 0.1948 - acc: 0.9299 - precision: 0.9598 - recall: 0.8983 - f1: 0.9270 - matthews_correlation: 0.8616 - auc: 0.9575 - val_loss: 0.1156 - val_acc: 0.9565 - val_precision: 0.9765 - val_recall: 0.9371 - val_f1: 0.9550 - val_matthews_correlation: 0.9128 - val_auc: 0.9578\n",
      "Epoch 41/50\n",
      "345/344 [==============================] - 140s 405ms/step - loss: 0.1952 - acc: 0.9308 - precision: 0.9614 - recall: 0.8986 - f1: 0.9278 - matthews_correlation: 0.8636 - auc: 0.9581 - val_loss: 0.1175 - val_acc: 0.9575 - val_precision: 0.9709 - val_recall: 0.9437 - val_f1: 0.9556 - val_matthews_correlation: 0.9141 - val_auc: 0.9584\n",
      "Epoch 42/50\n",
      "345/344 [==============================] - 141s 408ms/step - loss: 0.1940 - acc: 0.9300 - precision: 0.9586 - recall: 0.8995 - f1: 0.9268 - matthews_correlation: 0.8618 - auc: 0.9587 - val_loss: 0.1368 - val_acc: 0.9521 - val_precision: 0.9885 - val_recall: 0.9155 - val_f1: 0.9488 - val_matthews_correlation: 0.9058 - val_auc: 0.9589\n",
      "Epoch 43/50\n",
      "345/344 [==============================] - 140s 406ms/step - loss: 0.1955 - acc: 0.9297 - precision: 0.9594 - recall: 0.8979 - f1: 0.9264 - matthews_correlation: 0.8611 - auc: 0.9592 - val_loss: 0.1241 - val_acc: 0.9554 - val_precision: 0.9750 - val_recall: 0.9357 - val_f1: 0.9532 - val_matthews_correlation: 0.9110 - val_auc: 0.9594\n",
      "Epoch 44/50\n",
      "345/344 [==============================] - 140s 406ms/step - loss: 0.1943 - acc: 0.9302 - precision: 0.9597 - recall: 0.8991 - f1: 0.9271 - matthews_correlation: 0.8623 - auc: 0.9597 - val_loss: 0.1151 - val_acc: 0.9586 - val_precision: 0.9723 - val_recall: 0.9443 - val_f1: 0.9567 - val_matthews_correlation: 0.9170 - val_auc: 0.9599\n",
      "Epoch 45/50\n",
      "345/344 [==============================] - 140s 406ms/step - loss: 0.1945 - acc: 0.9310 - precision: 0.9594 - recall: 0.9008 - f1: 0.9279 - matthews_correlation: 0.8639 - auc: 0.9602 - val_loss: 0.1133 - val_acc: 0.9579 - val_precision: 0.9776 - val_recall: 0.9380 - val_f1: 0.9560 - val_matthews_correlation: 0.9160 - val_auc: 0.9604\n",
      "Epoch 46/50\n",
      "345/344 [==============================] - 140s 407ms/step - loss: 0.1961 - acc: 0.9296 - precision: 0.9580 - recall: 0.8996 - f1: 0.9267 - matthews_correlation: 0.8605 - auc: 0.9606 - val_loss: 0.1170 - val_acc: 0.9575 - val_precision: 0.9831 - val_recall: 0.9328 - val_f1: 0.9557 - val_matthews_correlation: 0.9159 - val_auc: 0.9608\n",
      "Epoch 47/50\n",
      "345/344 [==============================] - 140s 407ms/step - loss: 0.1869 - acc: 0.9327 - precision: 0.9608 - recall: 0.9030 - f1: 0.9297 - matthews_correlation: 0.8672 - auc: 0.9611 - val_loss: 0.1202 - val_acc: 0.9583 - val_precision: 0.9662 - val_recall: 0.9501 - val_f1: 0.9566 - val_matthews_correlation: 0.9160 - val_auc: 0.9613\n",
      "Epoch 48/50\n",
      "345/344 [==============================] - 140s 405ms/step - loss: 0.1901 - acc: 0.9316 - precision: 0.9592 - recall: 0.9021 - f1: 0.9287 - matthews_correlation: 0.8646 - auc: 0.9615 - val_loss: 0.1241 - val_acc: 0.9550 - val_precision: 0.9871 - val_recall: 0.9236 - val_f1: 0.9526 - val_matthews_correlation: 0.9116 - val_auc: 0.9617\n"
     ]
    },
    {
     "name": "stdout",
     "output_type": "stream",
     "text": [
      "Epoch 49/50\n",
      "345/344 [==============================] - 140s 406ms/step - loss: 0.1877 - acc: 0.9335 - precision: 0.9605 - recall: 0.9048 - f1: 0.9307 - matthews_correlation: 0.8686 - auc: 0.9619 - val_loss: 0.1139 - val_acc: 0.9583 - val_precision: 0.9808 - val_recall: 0.9360 - val_f1: 0.9564 - val_matthews_correlation: 0.9174 - val_auc: 0.9621\n",
      "Epoch 50/50\n",
      "345/344 [==============================] - 140s 406ms/step - loss: 0.1867 - acc: 0.9317 - precision: 0.9584 - recall: 0.9034 - f1: 0.9290 - matthews_correlation: 0.8649 - auc: 0.9623 - val_loss: 0.1189 - val_acc: 0.9565 - val_precision: 0.9849 - val_recall: 0.9286 - val_f1: 0.9543 - val_matthews_correlation: 0.9138 - val_auc: 0.9625\n"
     ]
    },
    {
     "data": {
      "text/plain": [
       "<keras.callbacks.History at 0x20480c16a58>"
      ]
     },
     "execution_count": 16,
     "metadata": {},
     "output_type": "execute_result"
    }
   ],
   "source": [
    "from keras.preprocessing.image import ImageDataGenerator\n",
    "\n",
    "path_model='vgg_sterioid.h5' \n",
    "\n",
    "\n",
    "# set the learning rate\n",
    "K.set_value(model.optimizer.lr, 0.01) \n",
    "\n",
    "\n",
    "datagen = ImageDataGenerator(\n",
    "    featurewise_center=False,\n",
    "    featurewise_std_normalization=False,\n",
    "    rotation_range=35,\n",
    "    width_shift_range=0.25,\n",
    "    height_shift_range=0.25,\n",
    "    shear_range = 20,\n",
    "    horizontal_flip=True)\n",
    "\n",
    "datagen.fit(x_train)\n",
    "\n",
    "model.fit_generator(datagen.flow(x_train, y_train, batch_size=64),\n",
    "                    steps_per_epoch=len(x_train) / 64, \n",
    "                    epochs=50, \n",
    "                    verbose=1, \n",
    "                    validation_data=(x_val,y_val),   \n",
    "                   )"
   ]
  },
  {
   "cell_type": "code",
   "execution_count": 17,
   "metadata": {},
   "outputs": [],
   "source": [
    "model.save(\"very-normal-exp5-dg.h5\")"
   ]
  },
  {
   "cell_type": "code",
   "execution_count": 18,
   "metadata": {},
   "outputs": [],
   "source": [
    " def plot_loss_accu(history):\n",
    "    loss = history.history['loss']\n",
    "    val_loss = history.history['val_loss']\n",
    "    epochs = range(len(loss))\n",
    "    plt.plot(epochs, loss, 'g')\n",
    "    plt.plot(epochs, val_loss, 'y')\n",
    "    plt.title('Loss')\n",
    "    plt.legend(['train', 'val'], loc='upper right')\n",
    "    plt.grid(True)\n",
    "    plt.savefig('very_normal_exp5_loss.jpg', dpi=300)\n",
    "    plt.show()\n",
    "    \n",
    "def plot_loss(history):\n",
    "    loss = history.history['acc']\n",
    "    val_loss = history.history['val_acc']\n",
    "    epochs = range(len(loss))\n",
    "    plt.plot(epochs, loss, 'r')\n",
    "    plt.plot(epochs, val_loss, 'b')\n",
    "    plt.title('Accuracy')\n",
    "    plt.legend(['train', 'val'], loc='lower right')\n",
    "    plt.grid(True)\n",
    "    plt.savefig('very_normal_exp5_acc.jpg', dpi=300)\n",
    "    plt.show()"
   ]
  },
  {
   "cell_type": "code",
   "execution_count": 19,
   "metadata": {},
   "outputs": [
    {
     "data": {
      "image/png": "[encoded data removed]",
      "text/plain": [
       "<Figure size 432x288 with 1 Axes>"
      ]
     },
     "metadata": {
      "needs_background": "light"
     },
     "output_type": "display_data"
    },
    {
     "data": {
      "image/png": "[encoded data removed]",
      "text/plain": [
       "<Figure size 432x288 with 1 Axes>"
      ]
     },
     "metadata": {
      "needs_background": "light"
     },
     "output_type": "display_data"
    },
    {
     "name": "stdout",
     "output_type": "stream",
     "text": [
      "Done!\n"
     ]
    }
   ],
   "source": [
    "plot_loss_accu(model.history)\n",
    "plot_loss(model.history)\n",
    "print(\"Done!\")"
   ]
  },
  {
   "cell_type": "code",
   "execution_count": 20,
   "metadata": {},
   "outputs": [
    {
     "name": "stdout",
     "output_type": "stream",
     "text": [
      "2756/2756 [==============================] - 6s 2ms/step\n",
      "Test loss: 0.10549193344664246\n",
      "Test accuracy: 0.9629898403483309\n"
     ]
    }
   ],
   "source": [
    "score = model.evaluate(x_test, y_test, verbose=1)\n",
    "print('Test loss:', score[0])\n",
    "print('Test accuracy:', score[1])"
   ]
  },
  {
   "cell_type": "code",
   "execution_count": 21,
   "metadata": {},
   "outputs": [],
   "source": [
    "y_pred = model.predict(x_test)\n",
    "# get labels from predictions\n",
    "pred_labels = np.array([np.argmax(pred) for pred in y_pred])\n",
    "\n",
    "#convert ground truths to column values\n",
    "y_test = np.argmax(y_test, axis=1)\n",
    "accuracy = np.mean((y_test==pred_labels))\n"
   ]
  },
  {
   "cell_type": "code",
   "execution_count": 22,
   "metadata": {},
   "outputs": [
    {
     "data": {
      "text/plain": [
       "(2756, 2)"
      ]
     },
     "execution_count": 22,
     "metadata": {},
     "output_type": "execute_result"
    }
   ],
   "source": [
    "y_pred.shape"
   ]
  },
  {
   "cell_type": "code",
   "execution_count": 23,
   "metadata": {},
   "outputs": [
    {
     "data": {
      "text/plain": [
       "0.9629898403483309"
      ]
     },
     "execution_count": 23,
     "metadata": {},
     "output_type": "execute_result"
    }
   ],
   "source": [
    "accuracy"
   ]
  },
  {
   "cell_type": "code",
   "execution_count": 24,
   "metadata": {},
   "outputs": [],
   "source": [
    "np.save(\"y_pred_verynormal_exp5-dg.npy\", y_pred)"
   ]
  },
  {
   "cell_type": "code",
   "execution_count": null,
   "metadata": {},
   "outputs": [],
   "source": []
  }
 ],
 "metadata": {
  "kernelspec": {
   "display_name": "Python 3",
   "language": "python",
   "name": "python3"
  },
  "language_info": {
   "codemirror_mode": {
    "name": "ipython",
    "version": 3
   },
   "file_extension": ".py",
   "mimetype": "text/x-python",
   "name": "python",
   "nbconvert_exporter": "python",
   "pygments_lexer": "ipython3",
   "version": "3.6.7"
  }
 },
 "nbformat": 4,
 "nbformat_minor": 2
}
