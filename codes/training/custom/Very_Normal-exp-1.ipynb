{
 "cells": [
  {
   "cell_type": "code",
   "execution_count": 1,
   "metadata": {},
   "outputs": [
    {
     "name": "stderr",
     "output_type": "stream",
     "text": [
      "Using TensorFlow backend.\n"
     ]
    }
   ],
   "source": [
    "%matplotlib inline\n",
    "import matplotlib.pyplot as plt\n",
    "import matplotlib.image as mpimg\n",
    "from keras.preprocessing.image import ImageDataGenerator\n",
    "from keras.models import Sequential\n",
    "from keras.optimizers import RMSprop\n",
    "from keras.layers import Conv2D, MaxPooling2D\n",
    "from keras.layers import Activation, Dropout, Flatten, Dense\n",
    "from keras.callbacks import CSVLogger\n",
    "#from livelossplot import PlotLossesKeras\n",
    "import os\n",
    "import numpy as np\n",
    "#from imgaug import augmenters as iaa\n",
    "import cv2\n",
    "import tensorflow as tf"
   ]
  },
  {
   "cell_type": "code",
   "execution_count": 2,
   "metadata": {},
   "outputs": [],
   "source": [
    "def check_units(y_true, y_pred):\n",
    "    if y_pred.shape[1] != 1:\n",
    "        y_pred = y_pred[:,1:2]\n",
    "        y_true = y_true[:,1:2]\n",
    "    return y_true, y_pred\n",
    "\n",
    "def precision(y_true, y_pred):\n",
    "    y_true, y_pred = check_units(y_true, y_pred)\n",
    "    true_positives = K.sum(K.round(K.clip(y_true * y_pred, 0, 1)))\n",
    "    predicted_positives = K.sum(K.round(K.clip(y_pred, 0, 1)))\n",
    "    precision = true_positives / (predicted_positives + K.epsilon())\n",
    "    return precision\n",
    "\n",
    "def recall(y_true, y_pred):\n",
    "    y_true, y_pred = check_units(y_true, y_pred)\n",
    "    true_positives = K.sum(K.round(K.clip(y_true * y_pred, 0, 1)))\n",
    "    possible_positives = K.sum(K.round(K.clip(y_true, 0, 1)))\n",
    "    recall = true_positives / (possible_positives + K.epsilon())\n",
    "    return recall\n",
    "\n",
    "def f1(y_true, y_pred):\n",
    "    def recall(y_true, y_pred):\n",
    "        true_positives = K.sum(K.round(K.clip(y_true * y_pred, 0, 1)))\n",
    "        possible_positives = K.sum(K.round(K.clip(y_true, 0, 1)))\n",
    "        recall = true_positives / (possible_positives + K.epsilon())\n",
    "        return recall\n",
    "\n",
    "    def precision(y_true, y_pred):\n",
    "        true_positives = K.sum(K.round(K.clip(y_true * y_pred, 0, 1)))\n",
    "        predicted_positives = K.sum(K.round(K.clip(y_pred, 0, 1)))\n",
    "        precision = true_positives / (predicted_positives + K.epsilon())\n",
    "        return precision\n",
    "    y_true, y_pred = check_units(y_true, y_pred)\n",
    "    precision = precision(y_true, y_pred)\n",
    "    recall = recall(y_true, y_pred)\n",
    "    return 2*((precision*recall)/(precision+recall+K.epsilon()))\n",
    "\n",
    "def matthews_correlation(y_true, y_pred):\n",
    "    y_true, y_pred = check_units(y_true, y_pred)\n",
    "    y_pred_pos = K.round(K.clip(y_pred, 0, 1))\n",
    "    y_pred_neg = 1 - y_pred_pos\n",
    "\n",
    "    y_pos = K.round(K.clip(y_true, 0, 1))\n",
    "    y_neg = 1 - y_pos\n",
    "\n",
    "    tp = K.sum(y_pos * y_pred_pos)\n",
    "    tn = K.sum(y_neg * y_pred_neg)\n",
    "\n",
    "    fp = K.sum(y_neg * y_pred_pos)\n",
    "    fn = K.sum(y_pos * y_pred_neg)\n",
    "\n",
    "    numerator = (tp * tn - fp * fn)\n",
    "    denominator = K.sqrt((tp + fp) * (tp + fn) * (tn + fp) * (tn + fn))\n",
    "\n",
    "    return numerator / (denominator + K.epsilon())\n",
    "\n",
    "def auc(y_true, y_pred):\n",
    "    auc = tf.metrics.auc(y_true, y_pred)[1]\n",
    "    K.get_session().run(tf.local_variables_initializer())\n",
    "    return auc"
   ]
  },
  {
   "cell_type": "code",
   "execution_count": 3,
   "metadata": {},
   "outputs": [
    {
     "name": "stdout",
     "output_type": "stream",
     "text": [
      "[name: \"/device:CPU:0\"\n",
      "device_type: \"CPU\"\n",
      "memory_limit: 268435456\n",
      "locality {\n",
      "}\n",
      "incarnation: 11626786310134407977\n",
      ", name: \"/device:GPU:0\"\n",
      "device_type: \"GPU\"\n",
      "memory_limit: 4950209331\n",
      "locality {\n",
      "  bus_id: 1\n",
      "  links {\n",
      "  }\n",
      "}\n",
      "incarnation: 8585412618372484042\n",
      "physical_device_desc: \"device: 0, name: GeForce GTX 1060 6GB, pci bus id: 0000:01:00.0, compute capability: 6.1\"\n",
      "]\n"
     ]
    }
   ],
   "source": [
    "from tensorflow.python.client import device_lib\n",
    "print(device_lib.list_local_devices())"
   ]
  },
  {
   "cell_type": "code",
   "execution_count": 4,
   "metadata": {},
   "outputs": [
    {
     "data": {
      "text/plain": [
       "['/job:localhost/replica:0/task:0/device:GPU:0']"
      ]
     },
     "execution_count": 4,
     "metadata": {},
     "output_type": "execute_result"
    }
   ],
   "source": [
    "from keras import backend as K\n",
    "K.tensorflow_backend._get_available_gpus()"
   ]
  },
  {
   "cell_type": "code",
   "execution_count": 5,
   "metadata": {},
   "outputs": [
    {
     "data": {
      "text/plain": [
       "((22046, 200, 200, 3), (22046, 2))"
      ]
     },
     "execution_count": 5,
     "metadata": {},
     "output_type": "execute_result"
    }
   ],
   "source": [
    "x_train = np.load(\"datasets/normal/x_train_200.npy\")\n",
    "y_train = np.load(\"datasets/normal/y_train_200.npy\")\n",
    "x_train.shape, y_train.shape"
   ]
  },
  {
   "cell_type": "code",
   "execution_count": 6,
   "metadata": {},
   "outputs": [
    {
     "data": {
      "text/plain": [
       "((2756, 200, 200, 3), (2756, 2))"
      ]
     },
     "execution_count": 6,
     "metadata": {},
     "output_type": "execute_result"
    }
   ],
   "source": [
    "x_val = np.load(\"datasets/normal/x_val_200.npy\")\n",
    "y_val = np.load(\"datasets/normal/y_val_200.npy\")\n",
    "x_val.shape, y_val.shape"
   ]
  },
  {
   "cell_type": "code",
   "execution_count": 7,
   "metadata": {},
   "outputs": [
    {
     "data": {
      "text/plain": [
       "((2756, 200, 200, 3), (2756, 2))"
      ]
     },
     "execution_count": 7,
     "metadata": {},
     "output_type": "execute_result"
    }
   ],
   "source": [
    "x_test = np.load(\"datasets/normal/x_test_200.npy\")\n",
    "y_test = np.load(\"datasets/normal/y_test_200.npy\")\n",
    "x_test.shape, y_test.shape"
   ]
  },
  {
   "cell_type": "code",
   "execution_count": 8,
   "metadata": {},
   "outputs": [
    {
     "name": "stdout",
     "output_type": "stream",
     "text": [
      "(22046, 200, 200, 3) (22046, 2)\n",
      "(2756, 200, 200, 3) (2756, 200, 200, 3) (2756, 2) (2756, 2)\n"
     ]
    }
   ],
   "source": [
    "print(x_train.shape, y_train.shape)\n",
    "print(x_val.shape, x_test.shape, y_val.shape, y_test.shape)"
   ]
  },
  {
   "cell_type": "code",
   "execution_count": 9,
   "metadata": {},
   "outputs": [],
   "source": [
    "IMAGE_SIZE = 200\n",
    "IMAGE_WIDTH, IMAGE_HEIGHT = IMAGE_SIZE, IMAGE_SIZE\n",
    "EPOCHS = 30\n",
    "BATCH_SIZE = 64\n",
    "TEST_SIZE = 30"
   ]
  },
  {
   "cell_type": "code",
   "execution_count": 10,
   "metadata": {},
   "outputs": [],
   "source": [
    "TRAINING_LOGS_FILE = \"training_logs.csv\"\n",
    "TEST_LOGS_FILE = \"test_logs.csv\"\n",
    "MODEL_SUMMARY_FILE = \"model_summary.txt\"\n",
    "TEST_FILE = \"test_file.txt\"\n",
    "MODEL_FILE = \"very-normal-200-exp1.h5\""
   ]
  },
  {
   "cell_type": "code",
   "execution_count": 11,
   "metadata": {},
   "outputs": [],
   "source": [
    "input_shape = (200, 200, 3)"
   ]
  },
  {
   "cell_type": "code",
   "execution_count": 12,
   "metadata": {},
   "outputs": [
    {
     "data": {
      "text/plain": [
       "(200, 200, 3)"
      ]
     },
     "execution_count": 12,
     "metadata": {},
     "output_type": "execute_result"
    }
   ],
   "source": [
    "input_shape"
   ]
  },
  {
   "cell_type": "code",
   "execution_count": 15,
   "metadata": {},
   "outputs": [],
   "source": [
    "model = None\n",
    "model = Sequential()"
   ]
  },
  {
   "cell_type": "code",
   "execution_count": 16,
   "metadata": {},
   "outputs": [
    {
     "name": "stdout",
     "output_type": "stream",
     "text": [
      "_________________________________________________________________\n",
      "Layer (type)                 Output Shape              Param #   \n",
      "=================================================================\n",
      "conv2d_9 (Conv2D)            (None, 200, 200, 32)      896       \n",
      "_________________________________________________________________\n",
      "conv2d_10 (Conv2D)           (None, 200, 200, 32)      9248      \n",
      "_________________________________________________________________\n",
      "max_pooling2d_5 (MaxPooling2 (None, 100, 100, 32)      0         \n",
      "_________________________________________________________________\n",
      "conv2d_11 (Conv2D)           (None, 100, 100, 64)      18496     \n",
      "_________________________________________________________________\n",
      "conv2d_12 (Conv2D)           (None, 100, 100, 64)      36928     \n",
      "_________________________________________________________________\n",
      "max_pooling2d_6 (MaxPooling2 (None, 50, 50, 64)        0         \n",
      "_________________________________________________________________\n",
      "conv2d_13 (Conv2D)           (None, 50, 50, 128)       73856     \n",
      "_________________________________________________________________\n",
      "conv2d_14 (Conv2D)           (None, 50, 50, 128)       147584    \n",
      "_________________________________________________________________\n",
      "max_pooling2d_7 (MaxPooling2 (None, 25, 25, 128)       0         \n",
      "_________________________________________________________________\n",
      "conv2d_15 (Conv2D)           (None, 25, 25, 256)       295168    \n",
      "_________________________________________________________________\n",
      "conv2d_16 (Conv2D)           (None, 25, 25, 256)       590080    \n",
      "_________________________________________________________________\n",
      "max_pooling2d_8 (MaxPooling2 (None, 12, 12, 256)       0         \n",
      "_________________________________________________________________\n",
      "flatten_2 (Flatten)          (None, 36864)             0         \n",
      "_________________________________________________________________\n",
      "dense_4 (Dense)              (None, 256)               9437440   \n",
      "_________________________________________________________________\n",
      "dropout_3 (Dropout)          (None, 256)               0         \n",
      "_________________________________________________________________\n",
      "dense_5 (Dense)              (None, 256)               65792     \n",
      "_________________________________________________________________\n",
      "dropout_4 (Dropout)          (None, 256)               0         \n",
      "_________________________________________________________________\n",
      "dense_6 (Dense)              (None, 2)                 514       \n",
      "_________________________________________________________________\n",
      "activation_2 (Activation)    (None, 2)                 0         \n",
      "=================================================================\n",
      "Total params: 10,676,002\n",
      "Trainable params: 10,676,002\n",
      "Non-trainable params: 0\n",
      "_________________________________________________________________\n"
     ]
    }
   ],
   "source": [
    "model.add(Conv2D(32, (3, 3), padding='same', input_shape=input_shape, activation='relu'))\n",
    "model.add(Conv2D(32, (3, 3), padding='same', activation='relu'))\n",
    "model.add(MaxPooling2D(pool_size=(2, 2)))\n",
    "\n",
    "model.add(Conv2D(64, (3, 3), padding='same', activation='relu'))\n",
    "model.add(Conv2D(64, (3, 3), padding='same', activation='relu'))\n",
    "model.add(MaxPooling2D(pool_size=(2, 2)))\n",
    "\n",
    "model.add(Conv2D(128, (3, 3), padding='same', activation='relu'))\n",
    "model.add(Conv2D(128, (3, 3), padding='same', activation='relu'))\n",
    "model.add(MaxPooling2D(pool_size=(2, 2)))\n",
    "\n",
    "model.add(Conv2D(256, (3, 3), padding='same', activation='relu'))\n",
    "model.add(Conv2D(256, (3, 3), padding='same', activation='relu'))\n",
    "model.add(MaxPooling2D(pool_size=(2, 2)))\n",
    "\n",
    "model.add(Flatten())\n",
    "model.add(Dense(256, activation='relu'))\n",
    "model.add(Dropout(0.5))\n",
    "\n",
    "model.add(Dense(256, activation='relu'))\n",
    "model.add(Dropout(0.5))\n",
    "\n",
    "model.add(Dense(2))\n",
    "model.add(Activation('softmax'))\n",
    "    \n",
    "model.compile(loss='binary_crossentropy',\n",
    "            optimizer=\"adadelta\",\n",
    "            metrics=['accuracy', precision, recall, f1, matthews_correlation, auc])\n",
    "\n",
    "model.summary()"
   ]
  },
  {
   "cell_type": "code",
   "execution_count": 17,
   "metadata": {},
   "outputs": [
    {
     "name": "stdout",
     "output_type": "stream",
     "text": [
      "Train on 22046 samples, validate on 2756 samples\n",
      "Epoch 1/30\n",
      "22046/22046 [==============================] - 130s 6ms/step - loss: 0.5423 - acc: 0.7193 - precision: 0.7269 - recall: 0.6616 - f1: 0.6622 - matthews_correlation: 0.4490 - auc: 0.6200 - val_loss: 0.1571 - val_acc: 0.9561 - val_precision: 0.9687 - val_recall: 0.9404 - val_f1: 0.9529 - val_matthews_correlation: 0.9114 - val_auc: 0.8406\n",
      "Epoch 2/30\n",
      "22046/22046 [==============================] - 126s 6ms/step - loss: 0.1759 - acc: 0.9464 - precision: 0.9579 - recall: 0.9353 - f1: 0.9438 - matthews_correlation: 0.8944 - auc: 0.9042 - val_loss: 0.1546 - val_acc: 0.9478 - val_precision: 0.9676 - val_recall: 0.9257 - val_f1: 0.9448 - val_matthews_correlation: 0.8943 - val_auc: 0.9349 11s -\n",
      "Epoch 3/30\n",
      "22046/22046 [==============================] - 128s 6ms/step - loss: 0.1534 - acc: 0.9520 - precision: 0.9611 - recall: 0.9432 - f1: 0.9500 - matthews_correlation: 0.9046 - auc: 0.9479 - val_loss: 0.1320 - val_acc: 0.9565 - val_precision: 0.9551 - val_recall: 0.9552 - val_f1: 0.9539 - val_matthews_correlation: 0.9113 - val_auc: 0.9567: 0.1542 - acc: 0.9516 - precision: 0.9604 - recall: 0.9427 - f1: 0.9494 - matthews_correlation: 0.9038 - auc - ETA: 9s - loss: 0.1541 - acc: 0.9517 - precision:  - ETA: 2s - loss: 0.1540 - acc: 0.9518 - precision: 0.9611 - recall: 0.9427 - f1: 0.9498 - matthews_cor\n",
      "Epoch 4/30\n",
      "22046/22046 [==============================] - 126s 6ms/step - loss: 0.1464 - acc: 0.9541 - precision: 0.9621 - recall: 0.9477 - f1: 0.9529 - matthews_correlation: 0.9095 - auc: 0.9620 - val_loss: 0.1419 - val_acc: 0.9572 - val_precision: 0.9727 - val_recall: 0.9385 - val_f1: 0.9541 - val_matthews_correlation: 0.9136 - val_auc: 0.9659\n",
      "Epoch 5/30\n",
      "22046/22046 [==============================] - 126s 6ms/step - loss: 0.1374 - acc: 0.9585 - precision: 0.9684 - recall: 0.9490 - f1: 0.9572 - matthews_correlation: 0.9174 - auc: 0.9688 - val_loss: 0.1304 - val_acc: 0.9517 - val_precision: 0.9433 - val_recall: 0.9569 - val_f1: 0.9486 - val_matthews_correlation: 0.9027 - val_auc: 0.9711\n",
      "Epoch 6/30\n",
      "22046/22046 [==============================] - 126s 6ms/step - loss: 0.1306 - acc: 0.9582 - precision: 0.9661 - recall: 0.9502 - f1: 0.9564 - matthews_correlation: 0.9167 - auc: 0.9730 - val_loss: 0.1683 - val_acc: 0.9507 - val_precision: 0.9806 - val_recall: 0.9167 - val_f1: 0.9459 - val_matthews_correlation: 0.9016 - val_auc: 0.9745\n",
      "Epoch 7/30\n",
      "22046/22046 [==============================] - 126s 6ms/step - loss: 0.1245 - acc: 0.9610 - precision: 0.9696 - recall: 0.9529 - f1: 0.9594 - matthews_correlation: 0.9227 - auc: 0.9757 - val_loss: 0.1246 - val_acc: 0.9575 - val_precision: 0.9650 - val_recall: 0.9474 - val_f1: 0.9548 - val_matthews_correlation: 0.9140 - val_auc: 0.9769\n",
      "Epoch 8/30\n",
      "22046/22046 [==============================] - 126s 6ms/step - loss: 0.1217 - acc: 0.9609 - precision: 0.9704 - recall: 0.9510 - f1: 0.9590 - matthews_correlation: 0.9221 - auc: 0.9779 - val_loss: 0.1392 - val_acc: 0.9601 - val_precision: 0.9777 - val_recall: 0.9393 - val_f1: 0.9568 - val_matthews_correlation: 0.9200 - val_auc: 0.9787\n",
      "Epoch 9/30\n",
      "22046/22046 [==============================] - 126s 6ms/step - loss: 0.1147 - acc: 0.9639 - precision: 0.9728 - recall: 0.9552 - f1: 0.9625 - matthews_correlation: 0.9284 - auc: 0.9795 - val_loss: 0.1336 - val_acc: 0.9608 - val_precision: 0.9786 - val_recall: 0.9410 - val_f1: 0.9581 - val_matthews_correlation: 0.9214 - val_auc: 0.9802\n",
      "Epoch 10/30\n",
      "22046/22046 [==============================] - 126s 6ms/step - loss: 0.1139 - acc: 0.9626 - precision: 0.9721 - recall: 0.9529 - f1: 0.9610 - matthews_correlation: 0.9254 - auc: 0.9809 - val_loss: 0.1277 - val_acc: 0.9619 - val_precision: 0.9751 - val_recall: 0.9462 - val_f1: 0.9593 - val_matthews_correlation: 0.9229 - val_auc: 0.9814recall: 0.9533 - f1: 0.9607 - ma - ETA: 45s - loss: 0.1111 - acc: 0.9631 - precision: 0.9724 - recall: 0.9541 - f1: 0.9615 - matthews_correlation: 0.9268 - auc: 0. - ETA: 44s - loss: 0.1111 - acc: 0.9631 - precis - ETA: 29s - los - ETA: 9s - loss: 0.1131 - acc: 0.9628 - precision: 0.9724 - recall: 0.9532 - f - ETA: 4s - loss: 0.1120 - acc: 0.9632 - precision: 0.9726 - recall: 0.9539 -\n",
      "Epoch 11/30\n",
      "22046/22046 [==============================] - 126s 6ms/step - loss: 0.1093 - acc: 0.9646 - precision: 0.9734 - recall: 0.9560 - f1: 0.9634 - matthews_correlation: 0.9295 - auc: 0.9820 - val_loss: 0.1387 - val_acc: 0.9623 - val_precision: 0.9777 - val_recall: 0.9440 - val_f1: 0.9593 - val_matthews_correlation: 0.9243 - val_auc: 0.9824\n",
      "Epoch 12/30\n",
      "22046/22046 [==============================] - 126s 6ms/step - loss: 0.1030 - acc: 0.9667 - precision: 0.9759 - recall: 0.9573 - f1: 0.9653 - matthews_correlation: 0.9335 - auc: 0.9829 - val_loss: 0.1300 - val_acc: 0.9630 - val_precision: 0.9662 - val_recall: 0.9563 - val_f1: 0.9600 - val_matthews_correlation: 0.9247 - val_auc: 0.98338 - prec - ETA: 1:08 - loss: 0.0967 - acc: 0.9683 - precision: 0.9776 - recall: 0.9586 - f1: 0.9667 - matthews_correlation:  - ETA: 1:06 - loss: 0.0975 - acc: 0.9680 - precision: 0.9775 - recall: 0.9582 - f1: 0.9665 - matthews_correlation: 0.9362 - a - ETA: 1:05 - loss: 0.0969 - acc: 0.9684 - precision: 0.9778 - recall: 0.9583 - f1: 0.9 - ETA: 1:01 -  - ETA: 2s - loss: 0.1030 - acc: 0.9666 - precision: 0.9758 - recall: 0.9571 - f1: 0.9651 - matthews_correlati\n",
      "Epoch 13/30\n",
      "22046/22046 [==============================] - 126s 6ms/step - loss: 0.0986 - acc: 0.9681 - precision: 0.9774 - recall: 0.9595 - f1: 0.9671 - matthews_correlation: 0.9367 - auc: 0.9838 - val_loss: 0.1560 - val_acc: 0.9561 - val_precision: 0.9476 - val_recall: 0.9610 - val_f1: 0.9529 - val_matthews_correlation: 0.9108 - val_auc: 0.9841\n",
      "Epoch 14/30\n",
      "22046/22046 [==============================] - 126s 6ms/step - loss: 0.0891 - acc: 0.9697 - precision: 0.9785 - recall: 0.9613 - f1: 0.9687 - matthews_correlation: 0.9398 - auc: 0.9845 - val_loss: 0.1481 - val_acc: 0.9604 - val_precision: 0.9670 - val_recall: 0.9518 - val_f1: 0.9580 - val_matthews_correlation: 0.9203 - val_auc: 0.9849\n",
      "Epoch 15/30\n",
      "22046/22046 [==============================] - 126s 6ms/step - loss: 0.0819 - acc: 0.9712 - precision: 0.9802 - recall: 0.9624 - f1: 0.9703 - matthews_correlation: 0.9427 - auc: 0.9853 - val_loss: 0.1473 - val_acc: 0.9590 - val_precision: 0.9728 - val_recall: 0.9426 - val_f1: 0.9560 - val_matthews_correlation: 0.9174 - val_auc: 0.9857precision: 0.9808 - recall: 0.9638 -  - ETA: 4s - loss: 0.0822 - acc: 0.9712 - precision: 0.9802 - recall: 0.9624 - f1: 0.9 - ETA: 0s - loss: 0.0820 - acc: 0.9712 - precision: 0.9802 - recall: 0.9624 - f1: 0.9702 - matthews_correlation: 0.9426 - auc: 0.98\n",
      "Epoch 16/30\n",
      "22046/22046 [==============================] - 126s 6ms/step - loss: 0.0798 - acc: 0.9749 - precision: 0.9830 - recall: 0.9659 - f1: 0.9734 - matthews_correlation: 0.9499 - auc: 0.9860 - val_loss: 0.1599 - val_acc: 0.9561 - val_precision: 0.9778 - val_recall: 0.9323 - val_f1: 0.9531 - val_matthews_correlation: 0.9120 - val_auc: 0.9863\n",
      "Epoch 17/30\n",
      "22046/22046 [==============================] - 126s 6ms/step - loss: 0.0725 - acc: 0.9771 - precision: 0.9842 - recall: 0.9693 - f1: 0.9759 - matthews_correlation: 0.9544 - auc: 0.9866 - val_loss: 0.1491 - val_acc: 0.9597 - val_precision: 0.9753 - val_recall: 0.9410 - val_f1: 0.9562 - val_matthews_correlation: 0.9183 - val_auc: 0.9869\n",
      "Epoch 18/30\n",
      "22046/22046 [==============================] - 126s 6ms/step - loss: 0.0612 - acc: 0.9793 - precision: 0.9870 - recall: 0.9720 - f1: 0.9787 - matthews_correlation: 0.9587 - auc: 0.9873 - val_loss: 0.1648 - val_acc: 0.9604 - val_precision: 0.9666 - val_recall: 0.9509 - val_f1: 0.9575 - val_matthews_correlation: 0.9194 - val_auc: 0.9875\n",
      "Epoch 19/30\n",
      "22046/22046 [==============================] - 126s 6ms/step - loss: 0.0548 - acc: 0.9823 - precision: 0.9884 - recall: 0.9767 - f1: 0.9818 - matthews_correlation: 0.9648 - auc: 0.9879 - val_loss: 0.2254 - val_acc: 0.9550 - val_precision: 0.9767 - val_recall: 0.9306 - val_f1: 0.9515 - val_matthews_correlation: 0.9098 - val_auc: 0.9881\n",
      "Epoch 20/30\n"
     ]
    },
    {
     "name": "stdout",
     "output_type": "stream",
     "text": [
      "22046/22046 [==============================] - 126s 6ms/step - loss: 0.0510 - acc: 0.9839 - precision: 0.9889 - recall: 0.9790 - f1: 0.9833 - matthews_correlation: 0.9679 - auc: 0.9884 - val_loss: 0.1761 - val_acc: 0.9539 - val_precision: 0.9691 - val_recall: 0.9358 - val_f1: 0.9510 - val_matthews_correlation: 0.9070 - val_auc: 0.9886\n",
      "Epoch 21/30\n",
      "22046/22046 [==============================] - 126s 6ms/step - loss: 0.0512 - acc: 0.9846 - precision: 0.9899 - recall: 0.9797 - f1: 0.9843 - matthews_correlation: 0.9692 - auc: 0.9889 - val_loss: 0.2617 - val_acc: 0.9590 - val_precision: 0.9725 - val_recall: 0.9449 - val_f1: 0.9573 - val_matthews_correlation: 0.9175 - val_auc: 0.9891\n",
      "Epoch 22/30\n",
      "22046/22046 [==============================] - 126s 6ms/step - loss: 0.0461 - acc: 0.9867 - precision: 0.9912 - recall: 0.9820 - f1: 0.9860 - matthews_correlation: 0.9736 - auc: 0.9893 - val_loss: 0.2140 - val_acc: 0.9565 - val_precision: 0.9697 - val_recall: 0.9408 - val_f1: 0.9540 - val_matthews_correlation: 0.9119 - val_auc: 0.9895ss: 0.0457 - acc: 0.9868 - precision: 0.9912 - recall: 0.9820 - f - ETA: 0s - loss: 0.0461 - acc: 0.9867 - precision: 0.9911 - recall: 0.9820 - f1: 0.9860 - matthews_correlation: 0.9737 - auc: 0.\n",
      "Epoch 23/30\n",
      "22046/22046 [==============================] - 126s 6ms/step - loss: 0.0433 - acc: 0.9872 - precision: 0.9908 - recall: 0.9839 - f1: 0.9869 - matthews_correlation: 0.9743 - auc: 0.9897 - val_loss: 0.2814 - val_acc: 0.9423 - val_precision: 0.9832 - val_recall: 0.8985 - val_f1: 0.9372 - val_matthews_correlation: 0.8862 - val_auc: 0.9899n: 0.9 - ETA: 4s - loss: 0.0431 - acc: 0.9873 - precision: 0.9908 - recall: 0.9841 - f\n",
      "Epoch 24/30\n",
      "22046/22046 [==============================] - 126s 6ms/step - loss: 0.0398 - acc: 0.9881 - precision: 0.9907 - recall: 0.9853 - f1: 0.9875 - matthews_correlation: 0.9762 - auc: 0.9901 - val_loss: 0.2757 - val_acc: 0.9514 - val_precision: 0.9863 - val_recall: 0.9145 - val_f1: 0.9477 - val_matthews_correlation: 0.9035 - val_auc: 0.99023s - loss: 0.0400 - acc: 0.9882 - precision: 0.9910 - recall: 0.9852 - f1: 0.9876 - matt\n",
      "Epoch 25/30\n",
      "22046/22046 [==============================] - 126s 6ms/step - loss: 0.0340 - acc: 0.9904 - precision: 0.9925 - recall: 0.9882 - f1: 0.9899 - matthews_correlation: 0.9808 - auc: 0.9904 - val_loss: 0.2431 - val_acc: 0.9601 - val_precision: 0.9685 - val_recall: 0.9488 - val_f1: 0.9576 - val_matthews_correlation: 0.9192 - val_auc: 0.9906\n",
      "Epoch 26/30\n",
      "22046/22046 [==============================] - 126s 6ms/step - loss: 0.0315 - acc: 0.9912 - precision: 0.9933 - recall: 0.9897 - f1: 0.9911 - matthews_correlation: 0.9827 - auc: 0.9907 - val_loss: 0.3282 - val_acc: 0.9601 - val_precision: 0.9713 - val_recall: 0.9479 - val_f1: 0.9582 - val_matthews_correlation: 0.9195 - val_auc: 0.9909sion: 0.9943 - recall: 0.9898 - f1: 0.9917 - matthews_correlation: 0.9840 - auc:  - ETA: 48s - loss: 0.0294 - acc: 0.9920 - precision: 0.9944 - recall\n",
      "Epoch 27/30\n",
      "22046/22046 [==============================] - 126s 6ms/step - loss: 0.0290 - acc: 0.9933 - precision: 0.9949 - recall: 0.9915 - f1: 0.9929 - matthews_correlation: 0.9866 - auc: 0.9910 - val_loss: 0.2639 - val_acc: 0.9604 - val_precision: 0.9767 - val_recall: 0.9407 - val_f1: 0.9571 - val_matthews_correlation: 0.9201 - val_auc: 0.9912 0.\n",
      "Epoch 28/30\n",
      "22046/22046 [==============================] - 126s 6ms/step - loss: 0.0317 - acc: 0.9922 - precision: 0.9939 - recall: 0.9904 - f1: 0.9919 - matthews_correlation: 0.9844 - auc: 0.9913 - val_loss: 0.2589 - val_acc: 0.9583 - val_precision: 0.9716 - val_recall: 0.9424 - val_f1: 0.9556 - val_matthews_correlation: 0.9152 - val_auc: 0.9914\n",
      "Epoch 29/30\n",
      "22046/22046 [==============================] - 126s 6ms/step - loss: 0.0305 - acc: 0.9932 - precision: 0.9942 - recall: 0.9921 - f1: 0.9929 - matthews_correlation: 0.9864 - auc: 0.9916 - val_loss: 0.3247 - val_acc: 0.9565 - val_precision: 0.9642 - val_recall: 0.9453 - val_f1: 0.9537 - val_matthews_correlation: 0.9116 - val_auc: 0.9917\n",
      "Epoch 30/30\n",
      "22046/22046 [==============================] - 126s 6ms/step - loss: 0.0317 - acc: 0.9927 - precision: 0.9952 - recall: 0.9904 - f1: 0.9925 - matthews_correlation: 0.9856 - auc: 0.9918 - val_loss: 0.2662 - val_acc: 0.9557 - val_precision: 0.9783 - val_recall: 0.9298 - val_f1: 0.9521 - val_matthews_correlation: 0.9111 - val_auc: 0.9919\n"
     ]
    },
    {
     "data": {
      "text/plain": [
       "<keras.callbacks.History at 0x280ae94a048>"
      ]
     },
     "execution_count": 17,
     "metadata": {},
     "output_type": "execute_result"
    }
   ],
   "source": [
    "model.fit(x=x_train, y=y_train, validation_data = (x_val,y_val), epochs=EPOCHS, verbose=1)"
   ]
  },
  {
   "cell_type": "code",
   "execution_count": 18,
   "metadata": {},
   "outputs": [],
   "source": [
    "model.save(\"very-normal-exp1.h5\")"
   ]
  },
  {
   "cell_type": "code",
   "execution_count": 19,
   "metadata": {},
   "outputs": [],
   "source": [
    " def plot_loss_accu(history):\n",
    "    loss = history.history['loss']\n",
    "    val_loss = history.history['val_loss']\n",
    "    epochs = range(len(loss))\n",
    "    plt.plot(epochs, loss, 'g')\n",
    "    plt.plot(epochs, val_loss, 'y')\n",
    "    plt.title('Loss')\n",
    "    plt.legend(['train', 'val'], loc='upper right')\n",
    "    plt.grid(True)\n",
    "    plt.savefig('very_normal_exp1_loss.jpg', dpi=300)\n",
    "    plt.show()\n",
    "    \n",
    "def plot_loss(history):\n",
    "    loss = history.history['acc']\n",
    "    val_loss = history.history['val_acc']\n",
    "    epochs = range(len(loss))\n",
    "    plt.plot(epochs, loss, 'r')\n",
    "    plt.plot(epochs, val_loss, 'b')\n",
    "    plt.title('Accuracy')\n",
    "    plt.legend(['train', 'val'], loc='lower right')\n",
    "    plt.grid(True)\n",
    "    plt.savefig('very_normal_exp1_acc.jpg', dpi=300)\n",
    "    plt.show()"
   ]
  },
  {
   "cell_type": "code",
   "execution_count": 20,
   "metadata": {},
   "outputs": [
    {
     "data": {
      "image/png": "[encoded data removed]",
      "text/plain": [
       "<Figure size 432x288 with 1 Axes>"
      ]
     },
     "metadata": {
      "needs_background": "light"
     },
     "output_type": "display_data"
    },
    {
     "data": {
      "image/png": "[encoded data removed]",
      "text/plain": [
       "<Figure size 432x288 with 1 Axes>"
      ]
     },
     "metadata": {
      "needs_background": "light"
     },
     "output_type": "display_data"
    },
    {
     "name": "stdout",
     "output_type": "stream",
     "text": [
      "Done!\n"
     ]
    }
   ],
   "source": [
    "plot_loss_accu(model.history)\n",
    "plot_loss(model.history)\n",
    "print(\"Done!\")"
   ]
  },
  {
   "cell_type": "code",
   "execution_count": 21,
   "metadata": {},
   "outputs": [
    {
     "name": "stdout",
     "output_type": "stream",
     "text": [
      "2756/2756 [==============================] - 6s 2ms/step\n",
      "Test loss: 0.24033827220904355\n",
      "Test accuracy: 0.9597242380261248\n"
     ]
    }
   ],
   "source": [
    "score = model.evaluate(x_test, y_test, verbose=1)\n",
    "print('Test loss:', score[0])\n",
    "print('Test accuracy:', score[1])"
   ]
  },
  {
   "cell_type": "code",
   "execution_count": 22,
   "metadata": {},
   "outputs": [],
   "source": [
    "y_pred = model.predict(x_test)\n",
    "# get labels from predictions\n",
    "pred_labels = np.array([np.argmax(pred) for pred in y_pred])\n",
    "\n",
    "#convert ground truths to column values\n",
    "y_test = np.argmax(y_test, axis=1)\n",
    "accuracy = np.mean((y_test==pred_labels))\n"
   ]
  },
  {
   "cell_type": "code",
   "execution_count": 23,
   "metadata": {},
   "outputs": [
    {
     "data": {
      "text/plain": [
       "(2756, 2)"
      ]
     },
     "execution_count": 23,
     "metadata": {},
     "output_type": "execute_result"
    }
   ],
   "source": [
    "y_pred.shape"
   ]
  },
  {
   "cell_type": "code",
   "execution_count": 24,
   "metadata": {},
   "outputs": [
    {
     "data": {
      "text/plain": [
       "0.9597242380261248"
      ]
     },
     "execution_count": 24,
     "metadata": {},
     "output_type": "execute_result"
    }
   ],
   "source": [
    "accuracy"
   ]
  },
  {
   "cell_type": "code",
   "execution_count": 25,
   "metadata": {},
   "outputs": [],
   "source": [
    "np.save(\"y_pred_verynormal_exp1.npy\", y_pred)"
   ]
  },
  {
   "cell_type": "code",
   "execution_count": null,
   "metadata": {},
   "outputs": [],
   "source": []
  }
 ],
 "metadata": {
  "kernelspec": {
   "display_name": "Python 3",
   "language": "python",
   "name": "python3"
  },
  "language_info": {
   "codemirror_mode": {
    "name": "ipython",
    "version": 3
   },
   "file_extension": ".py",
   "mimetype": "text/x-python",
   "name": "python",
   "nbconvert_exporter": "python",
   "pygments_lexer": "ipython3",
   "version": "3.6.7"
  }
 },
 "nbformat": 4,
 "nbformat_minor": 2
}
