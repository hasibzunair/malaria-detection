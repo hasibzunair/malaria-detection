{
 "cells": [
  {
   "cell_type": "code",
   "execution_count": 1,
   "metadata": {
    "colab": {
     "base_uri": "https://localhost:8080/",
     "height": 35
    },
    "colab_type": "code",
    "id": "tiEV3cHhSQ5u",
    "outputId": "a30a42d0-7c46-44a1-8afe-a0656f6cf1ca"
   },
   "outputs": [
    {
     "name": "stderr",
     "output_type": "stream",
     "text": [
      "Using TensorFlow backend.\n"
     ]
    }
   ],
   "source": [
    "import numpy as np\n",
    "import tensorflow as tf\n",
    "import os\n",
    "import glob\n",
    "import cv2\n",
    "import random\n",
    "import matplotlib.pyplot as plt\n",
    "from imgaug import augmenters as iaa\n",
    "from sklearn.model_selection import StratifiedKFold\n",
    "from keras.models import Sequential\n",
    "from keras.optimizers import RMSprop\n",
    "from keras.layers import Conv2D, MaxPooling2D\n",
    "from keras.layers import Activation, Dropout, Flatten, Dense\n",
    "from sklearn.utils import shuffle\n",
    "from sklearn.model_selection import train_test_split\n",
    "from keras import optimizers\n",
    "from keras.utils import to_categorical, plot_model\n",
    "from keras.layers import Dense, Input, Conv2D, Flatten, MaxPooling2D, Activation\n",
    "from keras.layers import Conv2D, Activation, Dense, MaxPooling2D, Flatten, Dropout, GlobalAveragePooling2D\n",
    "from sklearn.metrics import log_loss\n",
    "from keras.optimizers import SGD\n",
    "from keras.models import Model, Sequential\n",
    "from keras.layers import Activation, Dropout, Flatten, Dense\n",
    "from keras.callbacks import ModelCheckpoint\n",
    "from keras.optimizers import Adam\n",
    "from keras.applications.vgg16 import VGG16\n",
    "from keras.models import load_model\n",
    "from keras.utils import np_utils\n",
    "from keras import backend as K\n",
    "\n",
    "np.random.seed(1)"
   ]
  },
  {
   "cell_type": "code",
   "execution_count": 2,
   "metadata": {},
   "outputs": [],
   "source": [
    "def check_units(y_true, y_pred):\n",
    "    if y_pred.shape[1] != 1:\n",
    "        y_pred = y_pred[:,1:2]\n",
    "        y_true = y_true[:,1:2]\n",
    "    return y_true, y_pred\n",
    "\n",
    "def precision(y_true, y_pred):\n",
    "    y_true, y_pred = check_units(y_true, y_pred)\n",
    "    true_positives = K.sum(K.round(K.clip(y_true * y_pred, 0, 1)))\n",
    "    predicted_positives = K.sum(K.round(K.clip(y_pred, 0, 1)))\n",
    "    precision = true_positives / (predicted_positives + K.epsilon())\n",
    "    return precision\n",
    "\n",
    "def recall(y_true, y_pred):\n",
    "    y_true, y_pred = check_units(y_true, y_pred)\n",
    "    true_positives = K.sum(K.round(K.clip(y_true * y_pred, 0, 1)))\n",
    "    possible_positives = K.sum(K.round(K.clip(y_true, 0, 1)))\n",
    "    recall = true_positives / (possible_positives + K.epsilon())\n",
    "    return recall\n",
    "\n",
    "def f1(y_true, y_pred):\n",
    "    def recall(y_true, y_pred):\n",
    "        true_positives = K.sum(K.round(K.clip(y_true * y_pred, 0, 1)))\n",
    "        possible_positives = K.sum(K.round(K.clip(y_true, 0, 1)))\n",
    "        recall = true_positives / (possible_positives + K.epsilon())\n",
    "        return recall\n",
    "\n",
    "    def precision(y_true, y_pred):\n",
    "        true_positives = K.sum(K.round(K.clip(y_true * y_pred, 0, 1)))\n",
    "        predicted_positives = K.sum(K.round(K.clip(y_pred, 0, 1)))\n",
    "        precision = true_positives / (predicted_positives + K.epsilon())\n",
    "        return precision\n",
    "    y_true, y_pred = check_units(y_true, y_pred)\n",
    "    precision = precision(y_true, y_pred)\n",
    "    recall = recall(y_true, y_pred)\n",
    "    return 2*((precision*recall)/(precision+recall+K.epsilon()))\n",
    "\n",
    "def matthews_correlation(y_true, y_pred):\n",
    "    y_true, y_pred = check_units(y_true, y_pred)\n",
    "    y_pred_pos = K.round(K.clip(y_pred, 0, 1))\n",
    "    y_pred_neg = 1 - y_pred_pos\n",
    "\n",
    "    y_pos = K.round(K.clip(y_true, 0, 1))\n",
    "    y_neg = 1 - y_pos\n",
    "\n",
    "    tp = K.sum(y_pos * y_pred_pos)\n",
    "    tn = K.sum(y_neg * y_pred_neg)\n",
    "\n",
    "    fp = K.sum(y_neg * y_pred_pos)\n",
    "    fn = K.sum(y_pos * y_pred_neg)\n",
    "\n",
    "    numerator = (tp * tn - fp * fn)\n",
    "    denominator = K.sqrt((tp + fp) * (tp + fn) * (tn + fp) * (tn + fn))\n",
    "\n",
    "    return numerator / (denominator + K.epsilon())\n",
    "\n",
    "def auc(y_true, y_pred):\n",
    "    auc = tf.metrics.auc(y_true, y_pred)[1]\n",
    "    K.get_session().run(tf.local_variables_initializer())\n",
    "    return auc"
   ]
  },
  {
   "cell_type": "code",
   "execution_count": 3,
   "metadata": {
    "colab": {
     "base_uri": "https://localhost:8080/",
     "height": 35
    },
    "colab_type": "code",
    "id": "7YEH44-4pjyZ",
    "outputId": "303cf008-a5fd-48f0-97c7-576aedd6c15f"
   },
   "outputs": [
    {
     "data": {
      "text/plain": [
       "((22046, 200, 200, 3), (22046, 2))"
      ]
     },
     "execution_count": 3,
     "metadata": {},
     "output_type": "execute_result"
    }
   ],
   "source": [
    "x_train = np.load(\"datasets/normal/x_train_200.npy\")\n",
    "y_train = np.load(\"datasets/normal/y_train_200.npy\")\n",
    "x_train.shape, y_train.shape"
   ]
  },
  {
   "cell_type": "code",
   "execution_count": 4,
   "metadata": {
    "colab": {
     "base_uri": "https://localhost:8080/",
     "height": 35
    },
    "colab_type": "code",
    "id": "gKzI376uppjH",
    "outputId": "0ea13cd2-6c80-4a75-8804-d5a91c5e029f"
   },
   "outputs": [
    {
     "data": {
      "text/plain": [
       "((2756, 200, 200, 3), (2756, 2))"
      ]
     },
     "execution_count": 4,
     "metadata": {},
     "output_type": "execute_result"
    }
   ],
   "source": [
    "x_val = np.load(\"datasets/normal/x_val_200.npy\")\n",
    "y_val = np.load(\"datasets/normal/y_val_200.npy\")\n",
    "x_val.shape, y_val.shape"
   ]
  },
  {
   "cell_type": "code",
   "execution_count": 5,
   "metadata": {
    "colab": {
     "base_uri": "https://localhost:8080/",
     "height": 35
    },
    "colab_type": "code",
    "id": "z1oTbkw2p2tt",
    "outputId": "2dd7ca94-eee5-4fd7-cf8a-9c6c69f23a9e"
   },
   "outputs": [
    {
     "data": {
      "text/plain": [
       "((2756, 200, 200, 3), (2756, 2))"
      ]
     },
     "execution_count": 5,
     "metadata": {},
     "output_type": "execute_result"
    }
   ],
   "source": [
    "x_test = np.load(\"datasets/normal/x_test_200.npy\")\n",
    "y_test = np.load(\"datasets/normal/y_test_200.npy\")\n",
    "x_test.shape, y_test.shape"
   ]
  },
  {
   "cell_type": "code",
   "execution_count": 6,
   "metadata": {
    "colab": {
     "base_uri": "https://localhost:8080/",
     "height": 35
    },
    "colab_type": "code",
    "id": "_dzt_Lr-KB8u",
    "outputId": "947f9528-20fc-45ae-d11b-9aceba8e4b66"
   },
   "outputs": [
    {
     "data": {
      "text/plain": [
       "(200, 200, 3)"
      ]
     },
     "execution_count": 6,
     "metadata": {},
     "output_type": "execute_result"
    }
   ],
   "source": [
    "img = x_train[50]\n",
    "img.shape"
   ]
  },
  {
   "cell_type": "code",
   "execution_count": 7,
   "metadata": {
    "colab": {
     "base_uri": "https://localhost:8080/",
     "height": 54
    },
    "colab_type": "code",
    "id": "PHebp2hWcRKp",
    "outputId": "7406e8bd-8795-4630-9aa3-4b3f64c9e920"
   },
   "outputs": [
    {
     "name": "stdout",
     "output_type": "stream",
     "text": [
      "(22046, 200, 200, 3) (22046, 2)\n",
      "(2756, 200, 200, 3) (2756, 200, 200, 3) (2756, 2) (2756, 2)\n"
     ]
    }
   ],
   "source": [
    "print(x_train.shape, y_train.shape)\n",
    "print(x_val.shape, x_test.shape, y_val.shape, y_test.shape)"
   ]
  },
  {
   "cell_type": "code",
   "execution_count": 8,
   "metadata": {
    "colab": {
     "base_uri": "https://localhost:8080/",
     "height": 35
    },
    "colab_type": "code",
    "id": "gHYInTAGqb11",
    "outputId": "7ecf0995-0938-4adb-9331-3448fb1163ef"
   },
   "outputs": [
    {
     "data": {
      "text/plain": [
       "200"
      ]
     },
     "execution_count": 8,
     "metadata": {},
     "output_type": "execute_result"
    }
   ],
   "source": [
    "IMAGE_SIZE = x_train.shape[1]\n",
    "IMAGE_SIZE"
   ]
  },
  {
   "cell_type": "code",
   "execution_count": 9,
   "metadata": {
    "colab": {
     "base_uri": "https://localhost:8080/",
     "height": 1146
    },
    "colab_type": "code",
    "id": "gTiAb2ucfhF8",
    "outputId": "a850ce62-2fe5-4189-e3b4-0ad6b1022ce3"
   },
   "outputs": [
    {
     "name": "stderr",
     "output_type": "stream",
     "text": [
      "C:\\Users\\User\\Anaconda3\\envs\\malaria\\lib\\site-packages\\ipykernel_launcher.py:5: UserWarning: Update your `Model` call to the Keras 2 API: `Model(inputs=Tensor(\"in..., outputs=Tensor(\"bl...)`\n",
      "  \"\"\"\n"
     ]
    },
    {
     "name": "stdout",
     "output_type": "stream",
     "text": [
      "_________________________________________________________________\n",
      "Layer (type)                 Output Shape              Param #   \n",
      "=================================================================\n",
      "input_1 (InputLayer)         (None, 200, 200, 3)       0         \n",
      "_________________________________________________________________\n",
      "block1_conv1 (Conv2D)        (None, 200, 200, 64)      1792      \n",
      "_________________________________________________________________\n",
      "block1_conv2 (Conv2D)        (None, 200, 200, 64)      36928     \n",
      "_________________________________________________________________\n",
      "block1_pool (MaxPooling2D)   (None, 100, 100, 64)      0         \n",
      "_________________________________________________________________\n",
      "block2_conv1 (Conv2D)        (None, 100, 100, 128)     73856     \n",
      "_________________________________________________________________\n",
      "block2_conv2 (Conv2D)        (None, 100, 100, 128)     147584    \n",
      "_________________________________________________________________\n",
      "block2_pool (MaxPooling2D)   (None, 50, 50, 128)       0         \n",
      "_________________________________________________________________\n",
      "block3_conv1 (Conv2D)        (None, 50, 50, 256)       295168    \n",
      "_________________________________________________________________\n",
      "block3_conv2 (Conv2D)        (None, 50, 50, 256)       590080    \n",
      "_________________________________________________________________\n",
      "block3_conv3 (Conv2D)        (None, 50, 50, 256)       590080    \n",
      "_________________________________________________________________\n",
      "block3_pool (MaxPooling2D)   (None, 25, 25, 256)       0         \n",
      "_________________________________________________________________\n",
      "block4_conv1 (Conv2D)        (None, 25, 25, 512)       1180160   \n",
      "_________________________________________________________________\n",
      "block4_conv2 (Conv2D)        (None, 25, 25, 512)       2359808   \n",
      "_________________________________________________________________\n",
      "block4_conv3 (Conv2D)        (None, 25, 25, 512)       2359808   \n",
      "_________________________________________________________________\n",
      "block4_pool (MaxPooling2D)   (None, 12, 12, 512)       0         \n",
      "_________________________________________________________________\n",
      "block5_conv1 (Conv2D)        (None, 12, 12, 512)       2359808   \n",
      "_________________________________________________________________\n",
      "block5_conv2 (Conv2D)        (None, 12, 12, 512)       2359808   \n",
      "_________________________________________________________________\n",
      "global_average_pooling2d_1 ( (None, 512)               0         \n",
      "_________________________________________________________________\n",
      "dense_1 (Dense)              (None, 1024)              525312    \n",
      "_________________________________________________________________\n",
      "dropout_1 (Dropout)          (None, 1024)              0         \n",
      "_________________________________________________________________\n",
      "predictions (Dense)          (None, 2)                 2050      \n",
      "=================================================================\n",
      "Total params: 12,882,242\n",
      "Trainable params: 527,362\n",
      "Non-trainable params: 12,354,880\n",
      "_________________________________________________________________\n"
     ]
    }
   ],
   "source": [
    "def get_model_exp2_b():\n",
    "    \n",
    "    base_model = VGG16(weights='imagenet', include_top=False, input_shape=(200, 200, 3))\n",
    "    #extract feature from the optimal layer for your data\n",
    "    base_model = Model(input=base_model.input, output=base_model.get_layer('block5_conv2').output)         \n",
    "    x = base_model.output\n",
    "    x = GlobalAveragePooling2D()(x)\n",
    "    x = Dense(1024, activation='relu')(x)\n",
    "    x = Dropout(0.5)(x)\n",
    "    predictions = Dense(2, activation='softmax', name='predictions')(x)\n",
    "\n",
    "    # this is the model we will train\n",
    "    model = Model(inputs=base_model.input, outputs=predictions)\n",
    "\n",
    "    # Train only the top layers (which were randomly initialized)\n",
    "    # i.e. freeze all convolutional layers to prevent large gradient updates wrecking the learned weights\n",
    "    for layer in base_model.layers:\n",
    "        layer.trainable = False\n",
    "\n",
    "    #fix the optimizer\n",
    "    sgd = SGD(lr=0.00001, decay=1e-6, momentum=0.9, nesterov=True) \n",
    "\n",
    "    #compile the model\n",
    "    model.compile(optimizer=sgd,\n",
    "                  loss='categorical_crossentropy',\n",
    "                  metrics=['accuracy', precision, recall, f1, matthews_correlation, auc])\n",
    "\n",
    "    return model\n",
    "\n",
    "model = None\n",
    "model=get_model_exp2_b()\n",
    "model.summary()"
   ]
  },
  {
   "cell_type": "code",
   "execution_count": 10,
   "metadata": {
    "colab": {
     "base_uri": "https://localhost:8080/",
     "height": 35
    },
    "colab_type": "code",
    "id": "4ZqXHwe37gRF",
    "outputId": "fc7e5da8-d90e-4859-ab09-8faaea7590b1"
   },
   "outputs": [
    {
     "name": "stdout",
     "output_type": "stream",
     "text": [
      "(22046, 200, 200, 3) (22046, 2) (2756, 200, 200, 3) (2756, 2) (2756, 200, 200, 3) (2756, 2)\n"
     ]
    }
   ],
   "source": [
    "# check input\n",
    "print(x_train.shape, y_train.shape, x_val.shape, y_val.shape, x_test.shape, y_test.shape)"
   ]
  },
  {
   "cell_type": "code",
   "execution_count": 11,
   "metadata": {
    "colab": {
     "base_uri": "https://localhost:8080/",
     "height": 2580
    },
    "colab_type": "code",
    "id": "y4ikeUhUgKp0",
    "outputId": "92627d04-8168-48f3-c240-b465e8693a86"
   },
   "outputs": [
    {
     "name": "stderr",
     "output_type": "stream",
     "text": [
      "C:\\Users\\User\\Anaconda3\\envs\\malaria\\lib\\site-packages\\ipykernel_launcher.py:5: UserWarning: Update your `Model` call to the Keras 2 API: `Model(inputs=Tensor(\"in..., outputs=Tensor(\"bl...)`\n",
      "  \"\"\"\n"
     ]
    },
    {
     "name": "stdout",
     "output_type": "stream",
     "text": [
      "Train on 22046 samples, validate on 2756 samples\n",
      "Epoch 1/100\n",
      "22046/22046 [==============================] - 134s 6ms/step - loss: 1.7473 - acc: 0.7754 - precision: 0.7775 - recall: 0.7776 - f1: 0.7712 - matthews_correlation: 0.5515 - auc: 0.7080 - val_loss: 0.3099 - val_acc: 0.9405 - val_precision: 0.9704 - val_recall: 0.9065 - val_f1: 0.9351 - val_matthews_correlation: 0.8808 - val_auc: 0.8293\n",
      "Epoch 2/100\n",
      "22046/22046 [==============================] - 131s 6ms/step - loss: 0.6402 - acc: 0.8913 - precision: 0.8924 - recall: 0.8908 - f1: 0.8884 - matthews_correlation: 0.7822 - auc: 0.8654 - val_loss: 0.2322 - val_acc: 0.9525 - val_precision: 0.9594 - val_recall: 0.9426 - val_f1: 0.9497 - val_matthews_correlation: 0.9036 - val_auc: 0.8878\n",
      "Epoch 3/100\n",
      "22046/22046 [==============================] - 130s 6ms/step - loss: 0.4467 - acc: 0.9084 - precision: 0.9091 - recall: 0.9079 - f1: 0.9054 - matthews_correlation: 0.8172 - auc: 0.9005 - val_loss: 0.1965 - val_acc: 0.9539 - val_precision: 0.9551 - val_recall: 0.9504 - val_f1: 0.9516 - val_matthews_correlation: 0.9066 - val_auc: 0.9105\n",
      "Epoch 4/100\n",
      "22046/22046 [==============================] - 130s 6ms/step - loss: 0.3594 - acc: 0.9156 - precision: 0.9173 - recall: 0.9146 - f1: 0.9133 - matthews_correlation: 0.8306 - auc: 0.9175 - val_loss: 0.1788 - val_acc: 0.9532 - val_precision: 0.9630 - val_recall: 0.9414 - val_f1: 0.9508 - val_matthews_correlation: 0.9056 - val_auc: 0.9231\n",
      "Epoch 5/100\n",
      "22046/22046 [==============================] - 130s 6ms/step - loss: 0.3020 - acc: 0.9203 - precision: 0.9237 - recall: 0.9180 - f1: 0.9184 - matthews_correlation: 0.8404 - auc: 0.9274 - val_loss: 0.1609 - val_acc: 0.9565 - val_precision: 0.9602 - val_recall: 0.9505 - val_f1: 0.9542 - val_matthews_correlation: 0.9121 - val_auc: 0.9311\n",
      "Epoch 6/100\n",
      "22046/22046 [==============================] - 130s 6ms/step - loss: 0.2716 - acc: 0.9235 - precision: 0.9268 - recall: 0.9199 - f1: 0.9210 - matthews_correlation: 0.8466 - auc: 0.9341 - val_loss: 0.1521 - val_acc: 0.9546 - val_precision: 0.9539 - val_recall: 0.9533 - val_f1: 0.9523 - val_matthews_correlation: 0.9086 - val_auc: 0.9366\n",
      "Epoch 7/100\n",
      "22046/22046 [==============================] - 130s 6ms/step - loss: 0.2415 - acc: 0.9267 - precision: 0.9312 - recall: 0.9217 - f1: 0.9235 - matthews_correlation: 0.8537 - auc: 0.9389 - val_loss: 0.1494 - val_acc: 0.9543 - val_precision: 0.9539 - val_recall: 0.9531 - val_f1: 0.9521 - val_matthews_correlation: 0.9081 - val_auc: 0.94109306 - recall\n",
      "Epoch 8/100\n",
      "22046/22046 [==============================] - 130s 6ms/step - loss: 0.2282 - acc: 0.9285 - precision: 0.9327 - recall: 0.9245 - f1: 0.9262 - matthews_correlation: 0.8568 - auc: 0.9429 - val_loss: 0.1430 - val_acc: 0.9546 - val_precision: 0.9590 - val_recall: 0.9485 - val_f1: 0.9524 - val_matthews_correlation: 0.9087 - val_auc: 0.9445\n",
      "Epoch 9/100\n",
      "22046/22046 [==============================] - 130s 6ms/step - loss: 0.2146 - acc: 0.9309 - precision: 0.9339 - recall: 0.9281 - f1: 0.9287 - matthews_correlation: 0.8618 - auc: 0.9460 - val_loss: 0.1436 - val_acc: 0.9521 - val_precision: 0.9639 - val_recall: 0.9384 - val_f1: 0.9495 - val_matthews_correlation: 0.9035 - val_auc: 0.9474\n",
      "Epoch 10/100\n",
      "22046/22046 [==============================] - 130s 6ms/step - loss: 0.2034 - acc: 0.9340 - precision: 0.9400 - recall: 0.9278 - f1: 0.9317 - matthews_correlation: 0.8682 - auc: 0.9487 - val_loss: 0.1452 - val_acc: 0.9517 - val_precision: 0.9458 - val_recall: 0.9559 - val_f1: 0.9496 - val_matthews_correlation: 0.9023 - val_auc: 0.9498\n",
      "Epoch 11/100\n",
      "22046/22046 [==============================] - 130s 6ms/step - loss: 0.1952 - acc: 0.9355 - precision: 0.9399 - recall: 0.9322 - f1: 0.9340 - matthews_correlation: 0.8706 - auc: 0.9509 - val_loss: 0.1419 - val_acc: 0.9536 - val_precision: 0.9645 - val_recall: 0.9408 - val_f1: 0.9512 - val_matthews_correlation: 0.9063 - val_auc: 0.9518\n",
      "Epoch 12/100\n",
      "22046/22046 [==============================] - 130s 6ms/step - loss: 0.1937 - acc: 0.9350 - precision: 0.9398 - recall: 0.9300 - f1: 0.9328 - matthews_correlation: 0.8704 - auc: 0.9527 - val_loss: 0.1408 - val_acc: 0.9510 - val_precision: 0.9465 - val_recall: 0.9531 - val_f1: 0.9484 - val_matthews_correlation: 0.9012 - val_auc: 0.9536\n",
      "Epoch 13/100\n",
      "22046/22046 [==============================] - 130s 6ms/step - loss: 0.1872 - acc: 0.9371 - precision: 0.9408 - recall: 0.9326 - f1: 0.9347 - matthews_correlation: 0.8738 - auc: 0.9544 - val_loss: 0.1369 - val_acc: 0.9532 - val_precision: 0.9541 - val_recall: 0.9498 - val_f1: 0.9508 - val_matthews_correlation: 0.9049 - val_auc: 0.9552\n",
      "Epoch 14/100\n",
      "22046/22046 [==============================] - 130s 6ms/step - loss: 0.1829 - acc: 0.9370 - precision: 0.9414 - recall: 0.9335 - f1: 0.9355 - matthews_correlation: 0.8745 - auc: 0.9560 - val_loss: 0.1376 - val_acc: 0.9528 - val_precision: 0.9495 - val_recall: 0.9538 - val_f1: 0.9505 - val_matthews_correlation: 0.9044 - val_auc: 0.9567\n",
      "Epoch 15/100\n",
      "22046/22046 [==============================] - 130s 6ms/step - loss: 0.1792 - acc: 0.9393 - precision: 0.9435 - recall: 0.9357 - f1: 0.9375 - matthews_correlation: 0.8791 - auc: 0.9574 - val_loss: 0.1333 - val_acc: 0.9557 - val_precision: 0.9648 - val_recall: 0.9452 - val_f1: 0.9537 - val_matthews_correlation: 0.9104 - val_auc: 0.9580\n",
      "Epoch 16/100\n",
      "22046/22046 [==============================] - 130s 6ms/step - loss: 0.1783 - acc: 0.9406 - precision: 0.9453 - recall: 0.9359 - f1: 0.9387 - matthews_correlation: 0.8809 - auc: 0.9587 - val_loss: 0.1339 - val_acc: 0.9539 - val_precision: 0.9590 - val_recall: 0.9468 - val_f1: 0.9515 - val_matthews_correlation: 0.9068 - val_auc: 0.9592\n",
      "Epoch 17/100\n",
      "22046/22046 [==============================] - 130s 6ms/step - loss: 0.1817 - acc: 0.9394 - precision: 0.9448 - recall: 0.9346 - f1: 0.9375 - matthews_correlation: 0.8792 - auc: 0.9597 - val_loss: 0.1322 - val_acc: 0.9546 - val_precision: 0.9606 - val_recall: 0.9468 - val_f1: 0.9524 - val_matthews_correlation: 0.9084 - val_auc: 0.9602\n",
      "Epoch 18/100\n",
      "22046/22046 [==============================] - 130s 6ms/step - loss: 0.1779 - acc: 0.9402 - precision: 0.9446 - recall: 0.9365 - f1: 0.9387 - matthews_correlation: 0.8800 - auc: 0.9607 - val_loss: 0.1345 - val_acc: 0.9568 - val_precision: 0.9707 - val_recall: 0.9415 - val_f1: 0.9547 - val_matthews_correlation: 0.9127 - val_auc: 0.9612\n",
      "Epoch 19/100\n",
      "22046/22046 [==============================] - 130s 6ms/step - loss: 0.1721 - acc: 0.9417 - precision: 0.9465 - recall: 0.9380 - f1: 0.9402 - matthews_correlation: 0.8836 - auc: 0.9617 - val_loss: 0.1309 - val_acc: 0.9565 - val_precision: 0.9636 - val_recall: 0.9471 - val_f1: 0.9540 - val_matthews_correlation: 0.9118 - val_auc: 0.9621\n",
      "Epoch 20/100\n",
      "22046/22046 [==============================] - 130s 6ms/step - loss: 0.1722 - acc: 0.9422 - precision: 0.9469 - recall: 0.9384 - f1: 0.9407 - matthews_correlation: 0.8847 - auc: 0.9626 - val_loss: 0.1375 - val_acc: 0.9554 - val_precision: 0.9716 - val_recall: 0.9371 - val_f1: 0.9527 - val_matthews_correlation: 0.9100 - val_auc: 0.96309387 - f1: 0.9406 - matthews_correlat - ETA: 3s - loss: 0.1710 - acc: 0.9423 - precision: 0.9472 - recall: 0.9387 - f1: 0.9410 - matthe\n",
      "Epoch 21/100\n",
      "22046/22046 [==============================] - 130s 6ms/step - loss: 0.1667 - acc: 0.9424 - precision: 0.9463 - recall: 0.9376 - f1: 0.9401 - matthews_correlation: 0.8849 - auc: 0.9634 - val_loss: 0.1320 - val_acc: 0.9532 - val_precision: 0.9527 - val_recall: 0.9518 - val_f1: 0.9509 - val_matthews_correlation: 0.9058 - val_auc: 0.9638\n",
      "Epoch 22/100\n",
      "22046/22046 [==============================] - 130s 6ms/step - loss: 0.1723 - acc: 0.9390 - precision: 0.9445 - recall: 0.9330 - f1: 0.9369 - matthews_correlation: 0.8775 - auc: 0.9641 - val_loss: 0.1327 - val_acc: 0.9554 - val_precision: 0.9559 - val_recall: 0.9536 - val_f1: 0.9535 - val_matthews_correlation: 0.9100 - val_auc: 0.9645\n",
      "Epoch 23/100\n"
     ]
    },
    {
     "name": "stdout",
     "output_type": "stream",
     "text": [
      "22046/22046 [==============================] - 130s 6ms/step - loss: 0.1654 - acc: 0.9445 - precision: 0.9478 - recall: 0.9406 - f1: 0.9426 - matthews_correlation: 0.8885 - auc: 0.9649 - val_loss: 0.1320 - val_acc: 0.9557 - val_precision: 0.9648 - val_recall: 0.9452 - val_f1: 0.9536 - val_matthews_correlation: 0.9105 - val_auc: 0.9652\n",
      "Epoch 24/100\n",
      "22046/22046 [==============================] - 130s 6ms/step - loss: 0.1645 - acc: 0.9441 - precision: 0.9482 - recall: 0.9408 - f1: 0.9429 - matthews_correlation: 0.8880 - auc: 0.9656 - val_loss: 0.1327 - val_acc: 0.9557 - val_precision: 0.9672 - val_recall: 0.9432 - val_f1: 0.9538 - val_matthews_correlation: 0.9106 - val_auc: 0.9659\n",
      "Epoch 25/100\n",
      "22046/22046 [==============================] - 130s 6ms/step - loss: 0.1634 - acc: 0.9443 - precision: 0.9471 - recall: 0.9411 - f1: 0.9423 - matthews_correlation: 0.8886 - auc: 0.9662 - val_loss: 0.1298 - val_acc: 0.9546 - val_precision: 0.9612 - val_recall: 0.9466 - val_f1: 0.9526 - val_matthews_correlation: 0.9083 - val_auc: 0.9665\n",
      "Epoch 26/100\n",
      "22046/22046 [==============================] - 130s 6ms/step - loss: 0.1650 - acc: 0.9420 - precision: 0.9464 - recall: 0.9378 - f1: 0.9401 - matthews_correlation: 0.8835 - auc: 0.9668 - val_loss: 0.1307 - val_acc: 0.9565 - val_precision: 0.9655 - val_recall: 0.9453 - val_f1: 0.9542 - val_matthews_correlation: 0.9117 - val_auc: 0.9671\n",
      "Epoch 27/100\n",
      "22046/22046 [==============================] - 130s 6ms/step - loss: 0.1633 - acc: 0.9441 - precision: 0.9475 - recall: 0.9390 - f1: 0.9415 - matthews_correlation: 0.8873 - auc: 0.9673 - val_loss: 0.1290 - val_acc: 0.9550 - val_precision: 0.9616 - val_recall: 0.9473 - val_f1: 0.9531 - val_matthews_correlation: 0.9092 - val_auc: 0.9676\n",
      "Epoch 28/100\n",
      "22046/22046 [==============================] - 130s 6ms/step - loss: 0.1630 - acc: 0.9439 - precision: 0.9485 - recall: 0.9395 - f1: 0.9420 - matthews_correlation: 0.8876 - auc: 0.9678 - val_loss: 0.1299 - val_acc: 0.9557 - val_precision: 0.9629 - val_recall: 0.9473 - val_f1: 0.9537 - val_matthews_correlation: 0.9106 - val_auc: 0.9681\n",
      "Epoch 29/100\n",
      "22046/22046 [==============================] - 130s 6ms/step - loss: 0.1594 - acc: 0.9449 - precision: 0.9493 - recall: 0.9421 - f1: 0.9440 - matthews_correlation: 0.8902 - auc: 0.9683 - val_loss: 0.1293 - val_acc: 0.9572 - val_precision: 0.9669 - val_recall: 0.9457 - val_f1: 0.9550 - val_matthews_correlation: 0.9136 - val_auc: 0.9686\n",
      "Epoch 30/100\n",
      "22046/22046 [==============================] - 130s 6ms/step - loss: 0.1594 - acc: 0.9454 - precision: 0.9492 - recall: 0.9421 - f1: 0.9439 - matthews_correlation: 0.8910 - auc: 0.9688 - val_loss: 0.1295 - val_acc: 0.9568 - val_precision: 0.9657 - val_recall: 0.9462 - val_f1: 0.9546 - val_matthews_correlation: 0.9127 - val_auc: 0.9691\n",
      "Epoch 31/100\n",
      "22046/22046 [==============================] - 130s 6ms/step - loss: 0.1551 - acc: 0.9448 - precision: 0.9485 - recall: 0.9412 - f1: 0.9430 - matthews_correlation: 0.8894 - auc: 0.9693 - val_loss: 0.1292 - val_acc: 0.9568 - val_precision: 0.9576 - val_recall: 0.9538 - val_f1: 0.9546 - val_matthews_correlation: 0.9128 - val_auc: 0.9695\n",
      "Epoch 32/100\n",
      "22046/22046 [==============================] - 130s 6ms/step - loss: 0.1590 - acc: 0.9453 - precision: 0.9499 - recall: 0.9413 - f1: 0.9437 - matthews_correlation: 0.8908 - auc: 0.9697 - val_loss: 0.1325 - val_acc: 0.9579 - val_precision: 0.9712 - val_recall: 0.9429 - val_f1: 0.9557 - val_matthews_correlation: 0.9149 - val_auc: 0.9699\n",
      "Epoch 33/100\n",
      "22046/22046 [==============================] - 130s 6ms/step - loss: 0.1536 - acc: 0.9472 - precision: 0.9509 - recall: 0.9429 - f1: 0.9452 - matthews_correlation: 0.8940 - auc: 0.9702 - val_loss: 0.1289 - val_acc: 0.9557 - val_precision: 0.9631 - val_recall: 0.9469 - val_f1: 0.9535 - val_matthews_correlation: 0.9108 - val_auc: 0.9704\n",
      "Epoch 34/100\n",
      "22046/22046 [==============================] - 131s 6ms/step - loss: 0.1547 - acc: 0.9457 - precision: 0.9493 - recall: 0.9418 - f1: 0.9438 - matthews_correlation: 0.8912 - auc: 0.9706 - val_loss: 0.1288 - val_acc: 0.9543 - val_precision: 0.9526 - val_recall: 0.9547 - val_f1: 0.9523 - val_matthews_correlation: 0.9077 - val_auc: 0.9707\n",
      "Epoch 35/100\n",
      "22046/22046 [==============================] - 132s 6ms/step - loss: 0.1573 - acc: 0.9460 - precision: 0.9488 - recall: 0.9428 - f1: 0.9441 - matthews_correlation: 0.8918 - auc: 0.9709 - val_loss: 0.1267 - val_acc: 0.9572 - val_precision: 0.9651 - val_recall: 0.9482 - val_f1: 0.9555 - val_matthews_correlation: 0.9133 - val_auc: 0.9711\n",
      "Epoch 36/100\n",
      "22046/22046 [==============================] - 132s 6ms/step - loss: 0.1536 - acc: 0.9479 - precision: 0.9532 - recall: 0.9427 - f1: 0.9464 - matthews_correlation: 0.8954 - auc: 0.9713 - val_loss: 0.1277 - val_acc: 0.9572 - val_precision: 0.9665 - val_recall: 0.9464 - val_f1: 0.9552 - val_matthews_correlation: 0.9133 - val_auc: 0.9715\n",
      "Epoch 37/100\n",
      "22046/22046 [==============================] - 132s 6ms/step - loss: 0.1508 - acc: 0.9471 - precision: 0.9514 - recall: 0.9424 - f1: 0.9451 - matthews_correlation: 0.8942 - auc: 0.9716 - val_loss: 0.1280 - val_acc: 0.9579 - val_precision: 0.9683 - val_recall: 0.9457 - val_f1: 0.9558 - val_matthews_correlation: 0.9148 - val_auc: 0.9718\n",
      "Epoch 38/100\n",
      "22046/22046 [==============================] - 132s 6ms/step - loss: 0.1523 - acc: 0.9481 - precision: 0.9521 - recall: 0.9440 - f1: 0.9462 - matthews_correlation: 0.8965 - auc: 0.9720 - val_loss: 0.1269 - val_acc: 0.9557 - val_precision: 0.9582 - val_recall: 0.9520 - val_f1: 0.9538 - val_matthews_correlation: 0.9106 - val_auc: 0.9721\n",
      "Epoch 39/100\n",
      "22046/22046 [==============================] - 132s 6ms/step - loss: 0.1536 - acc: 0.9486 - precision: 0.9527 - recall: 0.9445 - f1: 0.9470 - matthews_correlation: 0.8970 - auc: 0.9723 - val_loss: 0.1276 - val_acc: 0.9572 - val_precision: 0.9612 - val_recall: 0.9520 - val_f1: 0.9553 - val_matthews_correlation: 0.9135 - val_auc: 0.9724\n",
      "Epoch 40/100\n",
      "22046/22046 [==============================] - 131s 6ms/step - loss: 0.1492 - acc: 0.9497 - precision: 0.9539 - recall: 0.9465 - f1: 0.9483 - matthews_correlation: 0.9000 - auc: 0.9726 - val_loss: 0.1272 - val_acc: 0.9572 - val_precision: 0.9670 - val_recall: 0.9455 - val_f1: 0.9550 - val_matthews_correlation: 0.9132 - val_auc: 0.9727\n",
      "Epoch 41/100\n",
      "22046/22046 [==============================] - 131s 6ms/step - loss: 0.1530 - acc: 0.9464 - precision: 0.9504 - recall: 0.9428 - f1: 0.9450 - matthews_correlation: 0.8929 - auc: 0.9729 - val_loss: 0.1264 - val_acc: 0.9575 - val_precision: 0.9622 - val_recall: 0.9513 - val_f1: 0.9555 - val_matthews_correlation: 0.9142 - val_auc: 0.9730\n",
      "Epoch 42/100\n",
      "22046/22046 [==============================] - 131s 6ms/step - loss: 0.1502 - acc: 0.9473 - precision: 0.9512 - recall: 0.9428 - f1: 0.9452 - matthews_correlation: 0.8947 - auc: 0.9732 - val_loss: 0.1287 - val_acc: 0.9568 - val_precision: 0.9701 - val_recall: 0.9402 - val_f1: 0.9535 - val_matthews_correlation: 0.9124 - val_auc: 0.9733\n",
      "Epoch 43/100\n",
      "22046/22046 [==============================] - 132s 6ms/step - loss: 0.1495 - acc: 0.9487 - precision: 0.9535 - recall: 0.9446 - f1: 0.9474 - matthews_correlation: 0.8971 - auc: 0.9734 - val_loss: 0.1264 - val_acc: 0.9583 - val_precision: 0.9695 - val_recall: 0.9443 - val_f1: 0.9555 - val_matthews_correlation: 0.9153 - val_auc: 0.9736\n",
      "Epoch 44/100\n",
      "22046/22046 [==============================] - 132s 6ms/step - loss: 0.1503 - acc: 0.9487 - precision: 0.9523 - recall: 0.9448 - f1: 0.9470 - matthews_correlation: 0.8973 - auc: 0.9737 - val_loss: 0.1270 - val_acc: 0.9579 - val_precision: 0.9691 - val_recall: 0.9451 - val_f1: 0.9558 - val_matthews_correlation: 0.9148 - val_auc: 0.9738\n",
      "Epoch 45/100\n",
      "22046/22046 [==============================] - 132s 6ms/step - loss: 0.1492 - acc: 0.9483 - precision: 0.9523 - recall: 0.9460 - f1: 0.9474 - matthews_correlation: 0.8970 - auc: 0.9740 - val_loss: 0.1304 - val_acc: 0.9568 - val_precision: 0.9727 - val_recall: 0.9399 - val_f1: 0.9547 - val_matthews_correlation: 0.9129 - val_auc: 0.9741\n",
      "Epoch 46/100\n"
     ]
    },
    {
     "name": "stdout",
     "output_type": "stream",
     "text": [
      "22046/22046 [==============================] - 131s 6ms/step - loss: 0.1497 - acc: 0.9484 - precision: 0.9531 - recall: 0.9434 - f1: 0.9464 - matthews_correlation: 0.8974 - auc: 0.9742 - val_loss: 0.1272 - val_acc: 0.9543 - val_precision: 0.9528 - val_recall: 0.9539 - val_f1: 0.9520 - val_matthews_correlation: 0.9079 - val_auc: 0.9743\n",
      "Epoch 47/100\n",
      "22046/22046 [==============================] - 132s 6ms/step - loss: 0.1501 - acc: 0.9486 - precision: 0.9523 - recall: 0.9455 - f1: 0.9471 - matthews_correlation: 0.8975 - auc: 0.9744 - val_loss: 0.1259 - val_acc: 0.9575 - val_precision: 0.9637 - val_recall: 0.9502 - val_f1: 0.9557 - val_matthews_correlation: 0.9140 - val_auc: 0.9745\n",
      "Epoch 48/100\n",
      "22046/22046 [==============================] - 132s 6ms/step - loss: 0.1508 - acc: 0.9496 - precision: 0.9536 - recall: 0.9460 - f1: 0.9482 - matthews_correlation: 0.8991 - auc: 0.9746 - val_loss: 0.1309 - val_acc: 0.9550 - val_precision: 0.9716 - val_recall: 0.9356 - val_f1: 0.9519 - val_matthews_correlation: 0.9088 - val_auc: 0.9748\n",
      "Epoch 49/100\n",
      "22046/22046 [==============================] - 130s 6ms/step - loss: 0.1448 - acc: 0.9485 - precision: 0.9529 - recall: 0.9441 - f1: 0.9469 - matthews_correlation: 0.8968 - auc: 0.9749 - val_loss: 0.1254 - val_acc: 0.9586 - val_precision: 0.9653 - val_recall: 0.9502 - val_f1: 0.9566 - val_matthews_correlation: 0.9162 - val_auc: 0.9750\n",
      "Epoch 50/100\n",
      "22046/22046 [==============================] - 130s 6ms/step - loss: 0.1475 - acc: 0.9495 - precision: 0.9535 - recall: 0.9463 - f1: 0.9484 - matthews_correlation: 0.8992 - auc: 0.9751 - val_loss: 0.1251 - val_acc: 0.9572 - val_precision: 0.9583 - val_recall: 0.9545 - val_f1: 0.9550 - val_matthews_correlation: 0.9141 - val_auc: 0.9752\n",
      "Epoch 51/100\n",
      "22046/22046 [==============================] - 130s 6ms/step - loss: 0.1472 - acc: 0.9493 - precision: 0.9528 - recall: 0.9455 - f1: 0.9476 - matthews_correlation: 0.8987 - auc: 0.9753 - val_loss: 0.1245 - val_acc: 0.9583 - val_precision: 0.9668 - val_recall: 0.9479 - val_f1: 0.9562 - val_matthews_correlation: 0.9155 - val_auc: 0.9754\n",
      "Epoch 52/100\n",
      "22046/22046 [==============================] - 130s 6ms/step - loss: 0.1436 - acc: 0.9491 - precision: 0.9532 - recall: 0.9452 - f1: 0.9474 - matthews_correlation: 0.8983 - auc: 0.9755 - val_loss: 0.1269 - val_acc: 0.9561 - val_precision: 0.9501 - val_recall: 0.9599 - val_f1: 0.9538 - val_matthews_correlation: 0.9112 - val_auc: 0.9756\n",
      "Epoch 53/100\n",
      "22046/22046 [==============================] - 130s 6ms/step - loss: 0.1421 - acc: 0.9511 - precision: 0.9553 - recall: 0.9476 - f1: 0.9498 - matthews_correlation: 0.9025 - auc: 0.9757 - val_loss: 0.1243 - val_acc: 0.9583 - val_precision: 0.9662 - val_recall: 0.9487 - val_f1: 0.9563 - val_matthews_correlation: 0.9156 - val_auc: 0.9758\n",
      "Epoch 54/100\n",
      "22046/22046 [==============================] - 130s 6ms/step - loss: 0.1439 - acc: 0.9497 - precision: 0.9524 - recall: 0.9478 - f1: 0.9485 - matthews_correlation: 0.8995 - auc: 0.9759 - val_loss: 0.1245 - val_acc: 0.9579 - val_precision: 0.9628 - val_recall: 0.9513 - val_f1: 0.9558 - val_matthews_correlation: 0.9149 - val_auc: 0.9760\n",
      "Epoch 55/100\n",
      "22046/22046 [==============================] - 130s 6ms/step - loss: 0.1457 - acc: 0.9488 - precision: 0.9529 - recall: 0.9457 - f1: 0.9477 - matthews_correlation: 0.8976 - auc: 0.9761 - val_loss: 0.1250 - val_acc: 0.9579 - val_precision: 0.9607 - val_recall: 0.9532 - val_f1: 0.9557 - val_matthews_correlation: 0.9150 - val_auc: 0.9762\n",
      "Epoch 56/100\n",
      "22046/22046 [==============================] - 130s 6ms/step - loss: 0.1413 - acc: 0.9506 - precision: 0.9531 - recall: 0.9470 - f1: 0.9485 - matthews_correlation: 0.9014 - auc: 0.9763 - val_loss: 0.1252 - val_acc: 0.9586 - val_precision: 0.9654 - val_recall: 0.9498 - val_f1: 0.9564 - val_matthews_correlation: 0.9163 - val_auc: 0.9764\n",
      "Epoch 57/100\n",
      "22046/22046 [==============================] - 130s 6ms/step - loss: 0.1423 - acc: 0.9508 - precision: 0.9542 - recall: 0.9472 - f1: 0.9491 - matthews_correlation: 0.9018 - auc: 0.9765 - val_loss: 0.1246 - val_acc: 0.9568 - val_precision: 0.9594 - val_recall: 0.9527 - val_f1: 0.9548 - val_matthews_correlation: 0.9127 - val_auc: 0.9765\n",
      "Epoch 58/100\n",
      "22046/22046 [==============================] - 129s 6ms/step - loss: 0.1419 - acc: 0.9514 - precision: 0.9545 - recall: 0.9475 - f1: 0.9495 - matthews_correlation: 0.9027 - auc: 0.9766 - val_loss: 0.1262 - val_acc: 0.9583 - val_precision: 0.9699 - val_recall: 0.9449 - val_f1: 0.9560 - val_matthews_correlation: 0.9157 - val_auc: 0.9767\n",
      "Epoch 59/100\n",
      "22046/22046 [==============================] - 129s 6ms/step - loss: 0.1443 - acc: 0.9503 - precision: 0.9544 - recall: 0.9462 - f1: 0.9485 - matthews_correlation: 0.9010 - auc: 0.9768 - val_loss: 0.1244 - val_acc: 0.9583 - val_precision: 0.9638 - val_recall: 0.9506 - val_f1: 0.9560 - val_matthews_correlation: 0.9155 - val_auc: 0.9769\n",
      "Epoch 60/100\n",
      "22046/22046 [==============================] - 129s 6ms/step - loss: 0.1445 - acc: 0.9508 - precision: 0.9533 - recall: 0.9475 - f1: 0.9490 - matthews_correlation: 0.9009 - auc: 0.9769 - val_loss: 0.1243 - val_acc: 0.9575 - val_precision: 0.9660 - val_recall: 0.9470 - val_f1: 0.9552 - val_matthews_correlation: 0.9141 - val_auc: 0.9770\n",
      "Epoch 61/100\n",
      "22046/22046 [==============================] - 129s 6ms/step - loss: 0.1413 - acc: 0.9505 - precision: 0.9542 - recall: 0.9470 - f1: 0.9489 - matthews_correlation: 0.9009 - auc: 0.9771 - val_loss: 0.1244 - val_acc: 0.9575 - val_precision: 0.9577 - val_recall: 0.9553 - val_f1: 0.9553 - val_matthews_correlation: 0.9145 - val_auc: 0.9772\n",
      "Epoch 62/100\n",
      "22046/22046 [==============================] - 129s 6ms/step - loss: 0.1426 - acc: 0.9502 - precision: 0.9558 - recall: 0.9450 - f1: 0.9487 - matthews_correlation: 0.9007 - auc: 0.9773 - val_loss: 0.1273 - val_acc: 0.9557 - val_precision: 0.9695 - val_recall: 0.9395 - val_f1: 0.9528 - val_matthews_correlation: 0.9105 - val_auc: 0.9773\n",
      "Epoch 63/100\n",
      "22046/22046 [==============================] - 130s 6ms/step - loss: 0.1411 - acc: 0.9508 - precision: 0.9542 - recall: 0.9471 - f1: 0.9490 - matthews_correlation: 0.9014 - auc: 0.9774 - val_loss: 0.1250 - val_acc: 0.9561 - val_precision: 0.9528 - val_recall: 0.9565 - val_f1: 0.9535 - val_matthews_correlation: 0.9114 - val_auc: 0.9775\n",
      "Epoch 64/100\n",
      "22046/22046 [==============================] - 131s 6ms/step - loss: 0.1419 - acc: 0.9494 - precision: 0.9531 - recall: 0.9454 - f1: 0.9476 - matthews_correlation: 0.8988 - auc: 0.9776 - val_loss: 0.1248 - val_acc: 0.9579 - val_precision: 0.9681 - val_recall: 0.9456 - val_f1: 0.9555 - val_matthews_correlation: 0.9149 - val_auc: 0.9776\n",
      "Epoch 65/100\n",
      "22046/22046 [==============================] - 131s 6ms/step - loss: 0.1430 - acc: 0.9487 - precision: 0.9522 - recall: 0.9450 - f1: 0.9469 - matthews_correlation: 0.8971 - auc: 0.9777 - val_loss: 0.1243 - val_acc: 0.9568 - val_precision: 0.9663 - val_recall: 0.9456 - val_f1: 0.9546 - val_matthews_correlation: 0.9127 - val_auc: 0.9778\n",
      "Epoch 66/100\n",
      "22046/22046 [==============================] - 130s 6ms/step - loss: 0.1407 - acc: 0.9523 - precision: 0.9571 - recall: 0.9480 - f1: 0.9509 - matthews_correlation: 0.9047 - auc: 0.9778 - val_loss: 0.1266 - val_acc: 0.9565 - val_precision: 0.9711 - val_recall: 0.9393 - val_f1: 0.9536 - val_matthews_correlation: 0.9118 - val_auc: 0.9779\n",
      "Epoch 67/100\n",
      "22046/22046 [==============================] - 130s 6ms/step - loss: 0.1416 - acc: 0.9498 - precision: 0.9537 - recall: 0.9459 - f1: 0.9481 - matthews_correlation: 0.8998 - auc: 0.9780 - val_loss: 0.1235 - val_acc: 0.9586 - val_precision: 0.9663 - val_recall: 0.9492 - val_f1: 0.9566 - val_matthews_correlation: 0.9162 - val_auc: 0.9780\n",
      "Epoch 68/100\n",
      "22046/22046 [==============================] - 130s 6ms/step - loss: 0.1408 - acc: 0.9511 - precision: 0.9560 - recall: 0.9463 - f1: 0.9496 - matthews_correlation: 0.9025 - auc: 0.9781 - val_loss: 0.1277 - val_acc: 0.9557 - val_precision: 0.9482 - val_recall: 0.9613 - val_f1: 0.9534 - val_matthews_correlation: 0.9108 - val_auc: 0.9782\n",
      "Epoch 69/100\n"
     ]
    },
    {
     "name": "stdout",
     "output_type": "stream",
     "text": [
      "22046/22046 [==============================] - 130s 6ms/step - loss: 0.1384 - acc: 0.9516 - precision: 0.9547 - recall: 0.9489 - f1: 0.9502 - matthews_correlation: 0.9033 - auc: 0.9782 - val_loss: 0.1238 - val_acc: 0.9590 - val_precision: 0.9676 - val_recall: 0.9484 - val_f1: 0.9568 - val_matthews_correlation: 0.9170 - val_auc: 0.9783\n",
      "Epoch 70/100\n",
      "22046/22046 [==============================] - 130s 6ms/step - loss: 0.1360 - acc: 0.9524 - precision: 0.9570 - recall: 0.9475 - f1: 0.9505 - matthews_correlation: 0.9046 - auc: 0.9784 - val_loss: 0.1229 - val_acc: 0.9583 - val_precision: 0.9630 - val_recall: 0.9518 - val_f1: 0.9561 - val_matthews_correlation: 0.9158 - val_auc: 0.9784\n",
      "Epoch 71/100\n",
      "22046/22046 [==============================] - 130s 6ms/step - loss: 0.1364 - acc: 0.9518 - precision: 0.9551 - recall: 0.9488 - f1: 0.9504 - matthews_correlation: 0.9033 - auc: 0.9785 - val_loss: 0.1228 - val_acc: 0.9579 - val_precision: 0.9663 - val_recall: 0.9480 - val_f1: 0.9560 - val_matthews_correlation: 0.9148 - val_auc: 0.9786\n",
      "Epoch 72/100\n",
      "22046/22046 [==============================] - 130s 6ms/step - loss: 0.1388 - acc: 0.9520 - precision: 0.9565 - recall: 0.9471 - f1: 0.9502 - matthews_correlation: 0.9039 - auc: 0.9786 - val_loss: 0.1233 - val_acc: 0.9583 - val_precision: 0.9649 - val_recall: 0.9502 - val_f1: 0.9564 - val_matthews_correlation: 0.9155 - val_auc: 0.9787\n",
      "Epoch 73/100\n",
      "22046/22046 [==============================] - 130s 6ms/step - loss: 0.1415 - acc: 0.9515 - precision: 0.9538 - recall: 0.9497 - f1: 0.9502 - matthews_correlation: 0.9025 - auc: 0.9787 - val_loss: 0.1239 - val_acc: 0.9579 - val_precision: 0.9581 - val_recall: 0.9557 - val_f1: 0.9557 - val_matthews_correlation: 0.9151 - val_auc: 0.9788\n",
      "Epoch 74/100\n",
      "22046/22046 [==============================] - 130s 6ms/step - loss: 0.1374 - acc: 0.9518 - precision: 0.9554 - recall: 0.9485 - f1: 0.9504 - matthews_correlation: 0.9037 - auc: 0.9788 - val_loss: 0.1230 - val_acc: 0.9583 - val_precision: 0.9615 - val_recall: 0.9534 - val_f1: 0.9562 - val_matthews_correlation: 0.9156 - val_auc: 0.9789\n",
      "Epoch 75/100\n",
      "22046/22046 [==============================] - 130s 6ms/step - loss: 0.1375 - acc: 0.9508 - precision: 0.9542 - recall: 0.9480 - f1: 0.9494 - matthews_correlation: 0.9020 - auc: 0.9790 - val_loss: 0.1223 - val_acc: 0.9586 - val_precision: 0.9615 - val_recall: 0.9543 - val_f1: 0.9567 - val_matthews_correlation: 0.9164 - val_auc: 0.9790\n",
      "Epoch 76/100\n",
      "22046/22046 [==============================] - 130s 6ms/step - loss: 0.1361 - acc: 0.9516 - precision: 0.9544 - recall: 0.9481 - f1: 0.9497 - matthews_correlation: 0.9029 - auc: 0.9791 - val_loss: 0.1282 - val_acc: 0.9554 - val_precision: 0.9725 - val_recall: 0.9361 - val_f1: 0.9526 - val_matthews_correlation: 0.9097 - val_auc: 0.9791\n",
      "Epoch 77/100\n",
      "22046/22046 [==============================] - 130s 6ms/step - loss: 0.1380 - acc: 0.9522 - precision: 0.9559 - recall: 0.9484 - f1: 0.9505 - matthews_correlation: 0.9045 - auc: 0.9792 - val_loss: 0.1226 - val_acc: 0.9590 - val_precision: 0.9651 - val_recall: 0.9513 - val_f1: 0.9571 - val_matthews_correlation: 0.9171 - val_auc: 0.9792\n",
      "Epoch 78/100\n",
      "22046/22046 [==============================] - 130s 6ms/step - loss: 0.1348 - acc: 0.9529 - precision: 0.9570 - recall: 0.9491 - f1: 0.9515 - matthews_correlation: 0.9058 - auc: 0.9793 - val_loss: 0.1221 - val_acc: 0.9594 - val_precision: 0.9605 - val_recall: 0.9558 - val_f1: 0.9570 - val_matthews_correlation: 0.9181 - val_auc: 0.9793\n",
      "Epoch 79/100\n",
      "22046/22046 [==============================] - 130s 6ms/step - loss: 0.1361 - acc: 0.9524 - precision: 0.9555 - recall: 0.9498 - f1: 0.9510 - matthews_correlation: 0.9049 - auc: 0.9794 - val_loss: 0.1227 - val_acc: 0.9594 - val_precision: 0.9664 - val_recall: 0.9507 - val_f1: 0.9574 - val_matthews_correlation: 0.9177 - val_auc: 0.9795\n",
      "Epoch 80/100\n",
      "22046/22046 [==============================] - 130s 6ms/step - loss: 0.1374 - acc: 0.9514 - precision: 0.9557 - recall: 0.9473 - f1: 0.9499 - matthews_correlation: 0.9022 - auc: 0.9795 - val_loss: 0.1235 - val_acc: 0.9583 - val_precision: 0.9670 - val_recall: 0.9482 - val_f1: 0.9564 - val_matthews_correlation: 0.9155 - val_auc: 0.9796\n",
      "Epoch 81/100\n",
      "22046/22046 [==============================] - 130s 6ms/step - loss: 0.1347 - acc: 0.9531 - precision: 0.9574 - recall: 0.9494 - f1: 0.9519 - matthews_correlation: 0.9065 - auc: 0.9796 - val_loss: 0.1226 - val_acc: 0.9586 - val_precision: 0.9630 - val_recall: 0.9525 - val_f1: 0.9566 - val_matthews_correlation: 0.9166 - val_auc: 0.9797n: 0.9580 - recall: 0.9498 - f1: 0. - ETA: 32s - l\n",
      "Epoch 82/100\n",
      "22046/22046 [==============================] - 130s 6ms/step - loss: 0.1371 - acc: 0.9515 - precision: 0.9541 - recall: 0.9491 - f1: 0.9500 - matthews_correlation: 0.9031 - auc: 0.9797 - val_loss: 0.1222 - val_acc: 0.9590 - val_precision: 0.9651 - val_recall: 0.9515 - val_f1: 0.9571 - val_matthews_correlation: 0.9170 - val_auc: 0.9798\n",
      "Epoch 83/100\n",
      "22046/22046 [==============================] - 130s 6ms/step - loss: 0.1346 - acc: 0.9526 - precision: 0.9565 - recall: 0.9482 - f1: 0.9509 - matthews_correlation: 0.9049 - auc: 0.9798 - val_loss: 0.1214 - val_acc: 0.9604 - val_precision: 0.9651 - val_recall: 0.9538 - val_f1: 0.9584 - val_matthews_correlation: 0.9201 - val_auc: 0.9799\n",
      "Epoch 84/100\n",
      "22046/22046 [==============================] - 130s 6ms/step - loss: 0.1342 - acc: 0.9523 - precision: 0.9559 - recall: 0.9496 - f1: 0.9512 - matthews_correlation: 0.9049 - auc: 0.9799 - val_loss: 0.1215 - val_acc: 0.9604 - val_precision: 0.9658 - val_recall: 0.9532 - val_f1: 0.9584 - val_matthews_correlation: 0.9201 - val_auc: 0.9799\n",
      "Epoch 85/100\n",
      "22046/22046 [==============================] - 130s 6ms/step - loss: 0.1317 - acc: 0.9540 - precision: 0.9574 - recall: 0.9507 - f1: 0.9526 - matthews_correlation: 0.9078 - auc: 0.9800 - val_loss: 0.1215 - val_acc: 0.9601 - val_precision: 0.9678 - val_recall: 0.9506 - val_f1: 0.9580 - val_matthews_correlation: 0.9193 - val_auc: 0.9800\n",
      "Epoch 86/100\n",
      "22046/22046 [==============================] - 130s 6ms/step - loss: 0.1345 - acc: 0.9516 - precision: 0.9557 - recall: 0.9474 - f1: 0.9499 - matthews_correlation: 0.9034 - auc: 0.9801 - val_loss: 0.1214 - val_acc: 0.9594 - val_precision: 0.9630 - val_recall: 0.9540 - val_f1: 0.9573 - val_matthews_correlation: 0.9180 - val_auc: 0.9801\n",
      "Epoch 87/100\n",
      "22046/22046 [==============================] - 130s 6ms/step - loss: 0.1349 - acc: 0.9533 - precision: 0.9562 - recall: 0.9502 - f1: 0.9517 - matthews_correlation: 0.9063 - auc: 0.9802 - val_loss: 0.1209 - val_acc: 0.9604 - val_precision: 0.9664 - val_recall: 0.9525 - val_f1: 0.9583 - val_matthews_correlation: 0.9200 - val_auc: 0.9802\n",
      "Epoch 88/100\n",
      "22046/22046 [==============================] - 130s 6ms/step - loss: 0.1334 - acc: 0.9531 - precision: 0.9555 - recall: 0.9509 - f1: 0.9516 - matthews_correlation: 0.9065 - auc: 0.9803 - val_loss: 0.1233 - val_acc: 0.9575 - val_precision: 0.9699 - val_recall: 0.9439 - val_f1: 0.9554 - val_matthews_correlation: 0.9144 - val_auc: 0.9803\n",
      "Epoch 89/100\n",
      "22046/22046 [==============================] - 130s 6ms/step - loss: 0.1328 - acc: 0.9539 - precision: 0.9566 - recall: 0.9507 - f1: 0.9522 - matthews_correlation: 0.9077 - auc: 0.9804 - val_loss: 0.1225 - val_acc: 0.9583 - val_precision: 0.9692 - val_recall: 0.9457 - val_f1: 0.9560 - val_matthews_correlation: 0.9158 - val_auc: 0.9804\n",
      "Epoch 90/100\n",
      "22046/22046 [==============================] - 130s 6ms/step - loss: 0.1312 - acc: 0.9540 - precision: 0.9579 - recall: 0.9504 - f1: 0.9526 - matthews_correlation: 0.9080 - auc: 0.9805 - val_loss: 0.1211 - val_acc: 0.9601 - val_precision: 0.9618 - val_recall: 0.9564 - val_f1: 0.9579 - val_matthews_correlation: 0.9194 - val_auc: 0.9805\n",
      "Epoch 91/100\n",
      "22046/22046 [==============================] - 130s 6ms/step - loss: 0.1327 - acc: 0.9536 - precision: 0.9578 - recall: 0.9494 - f1: 0.9521 - matthews_correlation: 0.9073 - auc: 0.9805 - val_loss: 0.1220 - val_acc: 0.9579 - val_precision: 0.9561 - val_recall: 0.9579 - val_f1: 0.9558 - val_matthews_correlation: 0.9152 - val_auc: 0.9806\n",
      "Epoch 92/100\n"
     ]
    },
    {
     "name": "stdout",
     "output_type": "stream",
     "text": [
      "22046/22046 [==============================] - 129s 6ms/step - loss: 0.1312 - acc: 0.9558 - precision: 0.9590 - recall: 0.9521 - f1: 0.9542 - matthews_correlation: 0.9113 - auc: 0.9806 - val_loss: 0.1226 - val_acc: 0.9583 - val_precision: 0.9671 - val_recall: 0.9478 - val_f1: 0.9562 - val_matthews_correlation: 0.9157 - val_auc: 0.9807\n",
      "Epoch 93/100\n",
      "22046/22046 [==============================] - 130s 6ms/step - loss: 0.1339 - acc: 0.9525 - precision: 0.9563 - recall: 0.9494 - f1: 0.9515 - matthews_correlation: 0.9051 - auc: 0.9807 - val_loss: 0.1208 - val_acc: 0.9601 - val_precision: 0.9623 - val_recall: 0.9559 - val_f1: 0.9580 - val_matthews_correlation: 0.9191 - val_auc: 0.9808\n",
      "Epoch 94/100\n",
      "22046/22046 [==============================] - 130s 6ms/step - loss: 0.1283 - acc: 0.9549 - precision: 0.9584 - recall: 0.9516 - f1: 0.9536 - matthews_correlation: 0.9099 - auc: 0.9808 - val_loss: 0.1219 - val_acc: 0.9597 - val_precision: 0.9663 - val_recall: 0.9515 - val_f1: 0.9577 - val_matthews_correlation: 0.9185 - val_auc: 0.9808\n",
      "Epoch 95/100\n",
      "22046/22046 [==============================] - 130s 6ms/step - loss: 0.1335 - acc: 0.9530 - precision: 0.9568 - recall: 0.9492 - f1: 0.9515 - matthews_correlation: 0.9062 - auc: 0.9809 - val_loss: 0.1237 - val_acc: 0.9575 - val_precision: 0.9536 - val_recall: 0.9600 - val_f1: 0.9555 - val_matthews_correlation: 0.9146 - val_auc: 0.9809\n",
      "Epoch 96/100\n",
      "22046/22046 [==============================] - 130s 6ms/step - loss: 0.1345 - acc: 0.9525 - precision: 0.9562 - recall: 0.9489 - f1: 0.9510 - matthews_correlation: 0.9052 - auc: 0.9810 - val_loss: 0.1217 - val_acc: 0.9594 - val_precision: 0.9649 - val_recall: 0.9523 - val_f1: 0.9574 - val_matthews_correlation: 0.9176 - val_auc: 0.9810\n",
      "Epoch 97/100\n",
      "22046/22046 [==============================] - 130s 6ms/step - loss: 0.1302 - acc: 0.9535 - precision: 0.9565 - recall: 0.9494 - f1: 0.9514 - matthews_correlation: 0.9066 - auc: 0.9810 - val_loss: 0.1213 - val_acc: 0.9583 - val_precision: 0.9670 - val_recall: 0.9473 - val_f1: 0.9558 - val_matthews_correlation: 0.9153 - val_auc: 0.9811\n",
      "Epoch 98/100\n",
      "22046/22046 [==============================] - 130s 6ms/step - loss: 0.1313 - acc: 0.9542 - precision: 0.9579 - recall: 0.9506 - f1: 0.9527 - matthews_correlation: 0.9085 - auc: 0.9811 - val_loss: 0.1212 - val_acc: 0.9594 - val_precision: 0.9658 - val_recall: 0.9513 - val_f1: 0.9574 - val_matthews_correlation: 0.9179 - val_auc: 0.9811\n",
      "Epoch 99/100\n",
      "22046/22046 [==============================] - 130s 6ms/step - loss: 0.1317 - acc: 0.9537 - precision: 0.9570 - recall: 0.9505 - f1: 0.9523 - matthews_correlation: 0.9074 - auc: 0.9812 - val_loss: 0.1251 - val_acc: 0.9568 - val_precision: 0.9718 - val_recall: 0.9393 - val_f1: 0.9539 - val_matthews_correlation: 0.9125 - val_auc: 0.9812\n",
      "Epoch 100/100\n",
      "22046/22046 [==============================] - 130s 6ms/step - loss: 0.1289 - acc: 0.9549 - precision: 0.9583 - recall: 0.9516 - f1: 0.9534 - matthews_correlation: 0.9097 - auc: 0.9813 - val_loss: 0.1238 - val_acc: 0.9568 - val_precision: 0.9702 - val_recall: 0.9409 - val_f1: 0.9540 - val_matthews_correlation: 0.9125 - val_auc: 0.9813\n"
     ]
    }
   ],
   "source": [
    "model=get_model_exp2_b()\n",
    "path_model='raja_1.h5'  \n",
    "\n",
    "# set the learning rate\n",
    "#K.set_value(model.optimizer.lr, 0.01) \n",
    "\n",
    "h=model.fit(x=x_train,     \n",
    "            y=y_train, \n",
    "            batch_size=32, \n",
    "            epochs=100, \n",
    "            verbose=1, \n",
    "            validation_data=(x_val,y_val),\n",
    "            shuffle=True,\n",
    "            )"
   ]
  },
  {
   "cell_type": "code",
   "execution_count": 12,
   "metadata": {},
   "outputs": [],
   "source": [
    "model.save(path_model)"
   ]
  },
  {
   "cell_type": "code",
   "execution_count": 13,
   "metadata": {
    "colab": {},
    "colab_type": "code",
    "id": "w2qN7ElfhH0y"
   },
   "outputs": [],
   "source": [
    " def plot_loss_accu(history):\n",
    "    loss = history.history['loss']\n",
    "    val_loss = history.history['val_loss']\n",
    "    epochs = range(len(loss))\n",
    "    plt.plot(epochs, loss, 'g')\n",
    "    plt.plot(epochs, val_loss, 'y')\n",
    "    plt.title('Loss')\n",
    "    plt.legend(['train', 'val'], loc='upper right')\n",
    "    plt.grid(True)\n",
    "    plt.savefig('raja_exp1_loss.jpg', dpi=300)\n",
    "    plt.show()\n",
    "    \n",
    "def plot_loss(history):\n",
    "    loss = history.history['acc']\n",
    "    val_loss = history.history['val_acc']\n",
    "    epochs = range(len(loss))\n",
    "    plt.plot(epochs, loss, 'r')\n",
    "    plt.plot(epochs, val_loss, 'b')\n",
    "    plt.title('Accuracy')\n",
    "    plt.legend(['train', 'val'], loc='lower right')\n",
    "    plt.grid(True)\n",
    "    plt.savefig('raja_exp1_acc.jpg', dpi=300)\n",
    "    plt.show()"
   ]
  },
  {
   "cell_type": "code",
   "execution_count": 14,
   "metadata": {
    "colab": {
     "base_uri": "https://localhost:8080/",
     "height": 708
    },
    "colab_type": "code",
    "id": "obPywb3KhH6n",
    "outputId": "dcc8048b-e748-4737-fd73-749443a19292"
   },
   "outputs": [
    {
     "data": {
      "image/png": "[encoded data removed]",
      "text/plain": [
       "<Figure size 432x288 with 1 Axes>"
      ]
     },
     "metadata": {
      "needs_background": "light"
     },
     "output_type": "display_data"
    },
    {
     "data": {
      "image/png": "[encoded data removed]",
      "text/plain": [
       "<Figure size 432x288 with 1 Axes>"
      ]
     },
     "metadata": {
      "needs_background": "light"
     },
     "output_type": "display_data"
    },
    {
     "name": "stdout",
     "output_type": "stream",
     "text": [
      "Done!\n"
     ]
    }
   ],
   "source": [
    "plot_loss_accu(model.history)\n",
    "plot_loss(model.history)\n",
    "print(\"Done!\")"
   ]
  },
  {
   "cell_type": "code",
   "execution_count": 15,
   "metadata": {
    "colab": {
     "base_uri": "https://localhost:8080/",
     "height": 70
    },
    "colab_type": "code",
    "id": "n6z-ycnmqUbv",
    "outputId": "59ebf6b0-54f6-4013-ff85-d30f936d822b"
   },
   "outputs": [
    {
     "name": "stdout",
     "output_type": "stream",
     "text": [
      "2756/2756 [==============================] - 14s 5ms/step\n",
      "Test loss: 0.11443580676097266\n",
      "Test accuracy: 0.9615384615384616\n"
     ]
    }
   ],
   "source": [
    "score = model.evaluate(x_test, y_test, verbose=1)\n",
    "print('Test loss:', score[0])\n",
    "print('Test accuracy:', score[1])"
   ]
  },
  {
   "cell_type": "code",
   "execution_count": 16,
   "metadata": {
    "colab": {},
    "colab_type": "code",
    "id": "S79QTd_svvU-"
   },
   "outputs": [],
   "source": [
    "y_pred = model.predict(x_test)\n",
    "# get labels from predictions\n",
    "pred_labels = np.array([np.argmax(pred) for pred in y_pred])\n",
    "\n",
    "#convert ground truths to column values\n",
    "y_test = np.argmax(y_test, axis=1)\n",
    "accuracy = np.mean((y_test==pred_labels))\n"
   ]
  },
  {
   "cell_type": "code",
   "execution_count": 17,
   "metadata": {},
   "outputs": [
    {
     "data": {
      "text/plain": [
       "(2756, 2)"
      ]
     },
     "execution_count": 17,
     "metadata": {},
     "output_type": "execute_result"
    }
   ],
   "source": [
    "y_pred.shape"
   ]
  },
  {
   "cell_type": "code",
   "execution_count": 18,
   "metadata": {
    "colab": {
     "base_uri": "https://localhost:8080/",
     "height": 34
    },
    "colab_type": "code",
    "id": "zuf1y-PSv9Na",
    "outputId": "ab03ea07-8b0f-4d26-b196-7ebd82a5f1c7"
   },
   "outputs": [
    {
     "data": {
      "text/plain": [
       "0.9615384615384616"
      ]
     },
     "execution_count": 18,
     "metadata": {},
     "output_type": "execute_result"
    }
   ],
   "source": [
    "accuracy"
   ]
  },
  {
   "cell_type": "code",
   "execution_count": 19,
   "metadata": {
    "colab": {},
    "colab_type": "code",
    "id": "GaMhno3vrbry"
   },
   "outputs": [],
   "source": [
    "np.save(\"y_pred_raja_exp1.npy\", y_pred)"
   ]
  },
  {
   "cell_type": "code",
   "execution_count": null,
   "metadata": {
    "colab": {},
    "colab_type": "code",
    "id": "WNtFKE4ihjzq"
   },
   "outputs": [],
   "source": []
  }
 ],
 "metadata": {
  "accelerator": "GPU",
  "colab": {
   "collapsed_sections": [],
   "name": "vgg-2b.ipynb",
   "provenance": [],
   "version": "0.3.2"
  },
  "kernelspec": {
   "display_name": "Python 3",
   "language": "python",
   "name": "python3"
  },
  "language_info": {
   "codemirror_mode": {
    "name": "ipython",
    "version": 3
   },
   "file_extension": ".py",
   "mimetype": "text/x-python",
   "name": "python",
   "nbconvert_exporter": "python",
   "pygments_lexer": "ipython3",
   "version": "3.6.7"
  }
 },
 "nbformat": 4,
 "nbformat_minor": 1
}
